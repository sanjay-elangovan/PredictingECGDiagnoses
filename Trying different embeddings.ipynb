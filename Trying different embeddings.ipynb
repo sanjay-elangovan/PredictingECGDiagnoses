{
 "cells": [
  {
   "cell_type": "markdown",
   "id": "9ed6517a",
   "metadata": {},
   "source": [
    "## Reading in Data"
   ]
  },
  {
   "cell_type": "code",
   "execution_count": 2,
   "id": "79661e2a",
   "metadata": {},
   "outputs": [],
   "source": [
    "import pandas as pd"
   ]
  },
  {
   "cell_type": "code",
   "execution_count": 1,
   "id": "a2d8f4b2",
   "metadata": {},
   "outputs": [
    {
     "ename": "NameError",
     "evalue": "name 'pd' is not defined",
     "output_type": "error",
     "traceback": [
      "\u001b[0;31m---------------------------------------------------------------------------\u001b[0m",
      "\u001b[0;31mNameError\u001b[0m                                 Traceback (most recent call last)",
      "\u001b[0;32m<ipython-input-1-c22395abd541>\u001b[0m in \u001b[0;36m<module>\u001b[0;34m\u001b[0m\n\u001b[0;32m----> 1\u001b[0;31m \u001b[0mnotes_database\u001b[0m \u001b[0;34m=\u001b[0m \u001b[0mpd\u001b[0m\u001b[0;34m.\u001b[0m\u001b[0mread_csv\u001b[0m\u001b[0;34m(\u001b[0m\u001b[0;34m\"/home/sanjaycollege15/ekg_notes.csv\"\u001b[0m\u001b[0;34m)\u001b[0m\u001b[0;34m\u001b[0m\u001b[0;34m\u001b[0m\u001b[0m\n\u001b[0m",
      "\u001b[0;31mNameError\u001b[0m: name 'pd' is not defined"
     ]
    }
   ],
   "source": [
    "notes_database = pd.read_csv(\"/home/sanjaycollege15/ekg_notes.csv\")"
   ]
  },
  {
   "cell_type": "code",
   "execution_count": 3,
   "id": "5da327a5",
   "metadata": {},
   "outputs": [
    {
     "data": {
      "text/html": [
       "<div>\n",
       "<style scoped>\n",
       "    .dataframe tbody tr th:only-of-type {\n",
       "        vertical-align: middle;\n",
       "    }\n",
       "\n",
       "    .dataframe tbody tr th {\n",
       "        vertical-align: top;\n",
       "    }\n",
       "\n",
       "    .dataframe thead th {\n",
       "        text-align: right;\n",
       "    }\n",
       "</style>\n",
       "<table border=\"1\" class=\"dataframe\">\n",
       "  <thead>\n",
       "    <tr style=\"text-align: right;\">\n",
       "      <th></th>\n",
       "      <th>SUBJECT_ID</th>\n",
       "      <th>ICD9_CODE</th>\n",
       "      <th>TEXT</th>\n",
       "    </tr>\n",
       "  </thead>\n",
       "  <tbody>\n",
       "    <tr>\n",
       "      <th>0</th>\n",
       "      <td>87424</td>\n",
       "      <td>4019</td>\n",
       "      <td>Sinus rhythm with 2:1 A-V block.  Right bundle...</td>\n",
       "    </tr>\n",
       "    <tr>\n",
       "      <th>1</th>\n",
       "      <td>14211</td>\n",
       "      <td>4019</td>\n",
       "      <td>Sinus tachycardia\\nConsider old septal myocard...</td>\n",
       "    </tr>\n",
       "    <tr>\n",
       "      <th>2</th>\n",
       "      <td>88174</td>\n",
       "      <td>4019</td>\n",
       "      <td>Sinus rhythm.  Low limb lead voltage.  Compare...</td>\n",
       "    </tr>\n",
       "    <tr>\n",
       "      <th>3</th>\n",
       "      <td>30927</td>\n",
       "      <td>4019</td>\n",
       "      <td>Sinus rhythm.  Early precordial QRS transition...</td>\n",
       "    </tr>\n",
       "    <tr>\n",
       "      <th>4</th>\n",
       "      <td>30927</td>\n",
       "      <td>4019</td>\n",
       "      <td>Sinus rhythm.  Early precordial QRS transition...</td>\n",
       "    </tr>\n",
       "  </tbody>\n",
       "</table>\n",
       "</div>"
      ],
      "text/plain": [
       "   SUBJECT_ID  ICD9_CODE                                               TEXT\n",
       "0       87424       4019  Sinus rhythm with 2:1 A-V block.  Right bundle...\n",
       "1       14211       4019  Sinus tachycardia\\nConsider old septal myocard...\n",
       "2       88174       4019  Sinus rhythm.  Low limb lead voltage.  Compare...\n",
       "3       30927       4019  Sinus rhythm.  Early precordial QRS transition...\n",
       "4       30927       4019  Sinus rhythm.  Early precordial QRS transition..."
      ]
     },
     "execution_count": 3,
     "metadata": {},
     "output_type": "execute_result"
    }
   ],
   "source": [
    "notes_database.head()"
   ]
  },
  {
   "cell_type": "code",
   "execution_count": 4,
   "id": "268f604a",
   "metadata": {},
   "outputs": [],
   "source": [
    "notes_database.drop(columns='SUBJECT_ID', inplace=True)"
   ]
  },
  {
   "cell_type": "markdown",
   "id": "28639a0f",
   "metadata": {},
   "source": [
    "## BioSentVec Model - FAILED: sent2vec is no longer supported"
   ]
  },
  {
   "cell_type": "code",
   "execution_count": 8,
   "id": "ea1b8fdc",
   "metadata": {},
   "outputs": [],
   "source": [
    "import sent2vec\n",
    "from nltk import word_tokenize\n",
    "from nltk.corpus import stopwords\n",
    "from string import punctuation\n",
    "from scipy.spatial import distance"
   ]
  },
  {
   "cell_type": "code",
   "execution_count": 9,
   "id": "7104b56f",
   "metadata": {
    "scrolled": true
   },
   "outputs": [
    {
     "ename": "AttributeError",
     "evalue": "module 'sent2vec' has no attribute 'Sent2vecModel'",
     "output_type": "error",
     "traceback": [
      "\u001b[0;31m---------------------------------------------------------------------------\u001b[0m",
      "\u001b[0;31mAttributeError\u001b[0m                            Traceback (most recent call last)",
      "\u001b[0;32m<ipython-input-9-81db1ee23886>\u001b[0m in \u001b[0;36m<module>\u001b[0;34m\u001b[0m\n\u001b[1;32m      1\u001b[0m \u001b[0mmodel_path\u001b[0m \u001b[0;34m=\u001b[0m \u001b[0;34m'./BioSentVecModel.bin'\u001b[0m\u001b[0;34m\u001b[0m\u001b[0;34m\u001b[0m\u001b[0m\n\u001b[0;32m----> 2\u001b[0;31m \u001b[0mmodel\u001b[0m \u001b[0;34m=\u001b[0m \u001b[0msent2vec\u001b[0m\u001b[0;34m.\u001b[0m\u001b[0mSent2vecModel\u001b[0m\u001b[0;34m(\u001b[0m\u001b[0;34m)\u001b[0m\u001b[0;34m\u001b[0m\u001b[0;34m\u001b[0m\u001b[0m\n\u001b[0m\u001b[1;32m      3\u001b[0m \u001b[0;32mtry\u001b[0m\u001b[0;34m:\u001b[0m\u001b[0;34m\u001b[0m\u001b[0;34m\u001b[0m\u001b[0m\n\u001b[1;32m      4\u001b[0m     \u001b[0mmodel\u001b[0m\u001b[0;34m.\u001b[0m\u001b[0mload_model\u001b[0m\u001b[0;34m(\u001b[0m\u001b[0mmodel_path\u001b[0m\u001b[0;34m)\u001b[0m\u001b[0;34m\u001b[0m\u001b[0;34m\u001b[0m\u001b[0m\n\u001b[1;32m      5\u001b[0m \u001b[0;32mexcept\u001b[0m \u001b[0mException\u001b[0m \u001b[0;32mas\u001b[0m \u001b[0me\u001b[0m\u001b[0;34m:\u001b[0m\u001b[0;34m\u001b[0m\u001b[0;34m\u001b[0m\u001b[0m\n",
      "\u001b[0;31mAttributeError\u001b[0m: module 'sent2vec' has no attribute 'Sent2vecModel'"
     ]
    }
   ],
   "source": [
    "model_path = './BioSentVecModel.bin'\n",
    "model = sent2vec.Sent2vecModel()\n",
    "try:\n",
    "    model.load_model(model_path)\n",
    "except Exception as e:\n",
    "    print(e)\n",
    "print('model successfully loaded')"
   ]
  },
  {
   "cell_type": "markdown",
   "id": "309a759b",
   "metadata": {},
   "source": [
    "## Doc2Vec"
   ]
  },
  {
   "cell_type": "code",
   "execution_count": 6,
   "id": "a0ca0526",
   "metadata": {},
   "outputs": [
    {
     "name": "stderr",
     "output_type": "stream",
     "text": [
      "[nltk_data] Downloading package punkt to\n",
      "[nltk_data]     /home/sanjaycollege15/nltk_data...\n",
      "[nltk_data]   Unzipping tokenizers/punkt.zip.\n"
     ]
    }
   ],
   "source": [
    "import nltk\n",
    "nltk.download('punkt')\n",
    "from nltk.tokenize import word_tokenize\n",
    "import numpy as np"
   ]
  },
  {
   "cell_type": "code",
   "execution_count": 31,
   "id": "7f50e9bd",
   "metadata": {},
   "outputs": [],
   "source": [
    "sentences = notes_database.head().TEXT"
   ]
  },
  {
   "cell_type": "code",
   "execution_count": 33,
   "id": "7ab021e6",
   "metadata": {},
   "outputs": [
    {
     "data": {
      "text/plain": [
       "[['sinus',\n",
       "  'rhythm',\n",
       "  'with',\n",
       "  '2:1',\n",
       "  'a-v',\n",
       "  'block',\n",
       "  '.',\n",
       "  'right',\n",
       "  'bundle-branch',\n",
       "  'block',\n",
       "  '.',\n",
       "  'inferolateral',\n",
       "  'st-t',\n",
       "  'wave',\n",
       "  'abnormalities',\n",
       "  '.',\n",
       "  'compared',\n",
       "  'to',\n",
       "  'the',\n",
       "  'previous',\n",
       "  'tracing',\n",
       "  'of',\n",
       "  '[',\n",
       "  '*',\n",
       "  '*',\n",
       "  '2157-1-7',\n",
       "  '*',\n",
       "  '*',\n",
       "  ']',\n",
       "  '2:1',\n",
       "  'a-v',\n",
       "  'block',\n",
       "  'is',\n",
       "  'new',\n",
       "  '.',\n",
       "  'inferolateral',\n",
       "  'st-t',\n",
       "  'wave',\n",
       "  'abnormalities',\n",
       "  'are',\n",
       "  'more',\n",
       "  'marked',\n",
       "  '.',\n",
       "  'can',\n",
       "  'not',\n",
       "  'rule',\n",
       "  'out',\n",
       "  'myocardial',\n",
       "  'ischemia',\n",
       "  'or',\n",
       "  'subendocardial',\n",
       "  'infarction',\n",
       "  '.',\n",
       "  'suggest',\n",
       "  'clinical',\n",
       "  'correlation',\n",
       "  'and',\n",
       "  'repeat',\n",
       "  'tracing',\n",
       "  '.'],\n",
       " ['sinus',\n",
       "  'tachycardia',\n",
       "  'consider',\n",
       "  'old',\n",
       "  'septal',\n",
       "  'myocardial',\n",
       "  'infarction',\n",
       "  'nondiagnostic',\n",
       "  'lateral',\n",
       "  'st-t',\n",
       "  'wave',\n",
       "  'changes',\n",
       "  'since',\n",
       "  'previous',\n",
       "  'tracing',\n",
       "  ',',\n",
       "  't',\n",
       "  'wave',\n",
       "  'flattening',\n",
       "  'in',\n",
       "  'lateral',\n",
       "  'leads',\n",
       "  'more',\n",
       "  'apparent'],\n",
       " ['sinus',\n",
       "  'rhythm',\n",
       "  '.',\n",
       "  'low',\n",
       "  'limb',\n",
       "  'lead',\n",
       "  'voltage',\n",
       "  '.',\n",
       "  'compared',\n",
       "  'to',\n",
       "  'the',\n",
       "  'previous',\n",
       "  'tracing',\n",
       "  'of',\n",
       "  '[',\n",
       "  '*',\n",
       "  '*',\n",
       "  '2180-11-24',\n",
       "  '*',\n",
       "  '*',\n",
       "  ']',\n",
       "  'no',\n",
       "  'diagnostic',\n",
       "  'interim',\n",
       "  'change',\n",
       "  '.'],\n",
       " ['sinus',\n",
       "  'rhythm',\n",
       "  '.',\n",
       "  'early',\n",
       "  'precordial',\n",
       "  'qrs',\n",
       "  'transition',\n",
       "  'is',\n",
       "  'non-specific',\n",
       "  'and',\n",
       "  'may',\n",
       "  'be',\n",
       "  'a',\n",
       "  'normal',\n",
       "  'variant',\n",
       "  '.',\n",
       "  'since',\n",
       "  'previous',\n",
       "  'tracing',\n",
       "  'of',\n",
       "  '[',\n",
       "  '*',\n",
       "  '*',\n",
       "  '2199-8-26',\n",
       "  '*',\n",
       "  '*',\n",
       "  ']',\n",
       "  'no',\n",
       "  'significant',\n",
       "  'change',\n",
       "  '.'],\n",
       " ['sinus',\n",
       "  'rhythm',\n",
       "  '.',\n",
       "  'early',\n",
       "  'precordial',\n",
       "  'qrs',\n",
       "  'transition',\n",
       "  'is',\n",
       "  'non-specific',\n",
       "  'and',\n",
       "  'may',\n",
       "  'be',\n",
       "  'a',\n",
       "  'normal',\n",
       "  'variant',\n",
       "  '.',\n",
       "  'since',\n",
       "  'previous',\n",
       "  'tracing',\n",
       "  'of',\n",
       "  '[',\n",
       "  '*',\n",
       "  '*',\n",
       "  '2199-8-26',\n",
       "  '*',\n",
       "  '*',\n",
       "  ']',\n",
       "  'no',\n",
       "  'significant',\n",
       "  'change',\n",
       "  '.']]"
      ]
     },
     "execution_count": 33,
     "metadata": {},
     "output_type": "execute_result"
    }
   ],
   "source": [
    "tokenized_sent = []\n",
    "for s in sentences:\n",
    "    tokenized_sent.append(word_tokenize(s.lower()))\n",
    "tokenized_sent"
   ]
  },
  {
   "cell_type": "code",
   "execution_count": 34,
   "id": "ecd35a59",
   "metadata": {},
   "outputs": [],
   "source": [
    "def cosine(u, v):\n",
    "    return np.dot(u, v) / (np.linalg.norm(u) * np.linalg.norm(v))"
   ]
  },
  {
   "cell_type": "code",
   "execution_count": 35,
   "id": "b1ca4994",
   "metadata": {},
   "outputs": [
    {
     "data": {
      "text/plain": [
       "[TaggedDocument(words=['sinus', 'rhythm', 'with', '2:1', 'a-v', 'block', '.', 'right', 'bundle-branch', 'block', '.', 'inferolateral', 'st-t', 'wave', 'abnormalities', '.', 'compared', 'to', 'the', 'previous', 'tracing', 'of', '[', '*', '*', '2157-1-7', '*', '*', ']', '2:1', 'a-v', 'block', 'is', 'new', '.', 'inferolateral', 'st-t', 'wave', 'abnormalities', 'are', 'more', 'marked', '.', 'can', 'not', 'rule', 'out', 'myocardial', 'ischemia', 'or', 'subendocardial', 'infarction', '.', 'suggest', 'clinical', 'correlation', 'and', 'repeat', 'tracing', '.'], tags=[0]),\n",
       " TaggedDocument(words=['sinus', 'tachycardia', 'consider', 'old', 'septal', 'myocardial', 'infarction', 'nondiagnostic', 'lateral', 'st-t', 'wave', 'changes', 'since', 'previous', 'tracing', ',', 't', 'wave', 'flattening', 'in', 'lateral', 'leads', 'more', 'apparent'], tags=[1]),\n",
       " TaggedDocument(words=['sinus', 'rhythm', '.', 'low', 'limb', 'lead', 'voltage', '.', 'compared', 'to', 'the', 'previous', 'tracing', 'of', '[', '*', '*', '2180-11-24', '*', '*', ']', 'no', 'diagnostic', 'interim', 'change', '.'], tags=[2]),\n",
       " TaggedDocument(words=['sinus', 'rhythm', '.', 'early', 'precordial', 'qrs', 'transition', 'is', 'non-specific', 'and', 'may', 'be', 'a', 'normal', 'variant', '.', 'since', 'previous', 'tracing', 'of', '[', '*', '*', '2199-8-26', '*', '*', ']', 'no', 'significant', 'change', '.'], tags=[3]),\n",
       " TaggedDocument(words=['sinus', 'rhythm', '.', 'early', 'precordial', 'qrs', 'transition', 'is', 'non-specific', 'and', 'may', 'be', 'a', 'normal', 'variant', '.', 'since', 'previous', 'tracing', 'of', '[', '*', '*', '2199-8-26', '*', '*', ']', 'no', 'significant', 'change', '.'], tags=[4])]"
      ]
     },
     "execution_count": 35,
     "metadata": {},
     "output_type": "execute_result"
    }
   ],
   "source": [
    "from gensim.models.doc2vec import Doc2Vec, TaggedDocument\n",
    "tagged_data = [TaggedDocument(d, [i]) for i, d in enumerate(tokenized_sent)]\n",
    "tagged_data"
   ]
  },
  {
   "cell_type": "code",
   "execution_count": 39,
   "id": "22c1d7ab",
   "metadata": {
    "scrolled": true
   },
   "outputs": [
    {
     "data": {
      "text/plain": [
       "{'.': 0,\n",
       " '*': 1,\n",
       " 'tracing': 2,\n",
       " 'sinus': 3,\n",
       " 'previous': 4,\n",
       " 'rhythm': 5,\n",
       " ']': 6,\n",
       " '[': 7,\n",
       " 'wave': 8,\n",
       " 'of': 9,\n",
       " 'no': 10,\n",
       " 'since': 11,\n",
       " 'is': 12,\n",
       " 'and': 13,\n",
       " 'change': 14,\n",
       " 'st-t': 15,\n",
       " 'block': 16,\n",
       " 'lateral': 17,\n",
       " 'to': 18,\n",
       " 'compared': 19,\n",
       " 'abnormalities': 20,\n",
       " 'inferolateral': 21,\n",
       " 'a-v': 22,\n",
       " 'more': 23,\n",
       " 'myocardial': 24,\n",
       " 'infarction': 25,\n",
       " '2199-8-26': 26,\n",
       " '2:1': 27,\n",
       " 'the': 28,\n",
       " 'significant': 29,\n",
       " 'transition': 30,\n",
       " 'variant': 31,\n",
       " 'normal': 32,\n",
       " 'a': 33,\n",
       " 'be': 34,\n",
       " 'may': 35,\n",
       " 'non-specific': 36,\n",
       " 'qrs': 37,\n",
       " 'precordial': 38,\n",
       " 'early': 39,\n",
       " 'diagnostic': 40,\n",
       " 'low': 41,\n",
       " 'limb': 42,\n",
       " 'lead': 43,\n",
       " 'voltage': 44,\n",
       " '2180-11-24': 45,\n",
       " 'nondiagnostic': 46,\n",
       " 'interim': 47,\n",
       " 'apparent': 48,\n",
       " 'bundle-branch': 49,\n",
       " 'right': 50,\n",
       " 'with': 51,\n",
       " '2157-1-7': 52,\n",
       " 'leads': 53,\n",
       " 'septal': 54,\n",
       " 'subendocardial': 55,\n",
       " 'old': 56,\n",
       " 'consider': 57,\n",
       " 'tachycardia': 58,\n",
       " 'repeat': 59,\n",
       " 'changes': 60,\n",
       " 'correlation': 61,\n",
       " ',': 62,\n",
       " 'suggest': 63,\n",
       " 't': 64,\n",
       " 'or': 65,\n",
       " 'new': 66,\n",
       " 'ischemia': 67,\n",
       " 'flattening': 68,\n",
       " 'out': 69,\n",
       " 'rule': 70,\n",
       " 'not': 71,\n",
       " 'can': 72,\n",
       " 'marked': 73,\n",
       " 'in': 74,\n",
       " 'are': 75,\n",
       " 'clinical': 76}"
      ]
     },
     "execution_count": 39,
     "metadata": {},
     "output_type": "execute_result"
    }
   ],
   "source": [
    "## Train doc2vec model\n",
    "model = Doc2Vec(tagged_data, vector_size = 20, window = 2, min_count = 1, epochs = 100)\n",
    "\n",
    "'''\n",
    "vector_size = Dimensionality of the feature vectors.\n",
    "window = The maximum distance between the current and predicted word within a sentence.\n",
    "min_count = Ignores all words with total frequency lower than this.\n",
    "alpha = The initial learning rate.\n",
    "'''\n",
    "\n",
    "## Print model vocabulary\n",
    "model.wv.key_to_index"
   ]
  },
  {
   "cell_type": "code",
   "execution_count": 41,
   "id": "27e1ee36",
   "metadata": {},
   "outputs": [
    {
     "data": {
      "text/plain": [
       "[(4, 0.989480197429657),\n",
       " (0, 0.9886974692344666),\n",
       " (3, 0.9868764281272888),\n",
       " (1, 0.9868613481521606),\n",
       " (2, 0.986229658126831)]"
      ]
     },
     "execution_count": 41,
     "metadata": {},
     "output_type": "execute_result"
    }
   ],
   "source": [
    "test_doc = word_tokenize(\"Patient is healthy\".lower())\n",
    "test_doc_vector = model.infer_vector(test_doc)\n",
    "model.dv.most_similar(positive = test_doc_vector)"
   ]
  },
  {
   "cell_type": "markdown",
   "id": "2fe2a89f",
   "metadata": {},
   "source": [
    "## SentenceBERT"
   ]
  },
  {
   "cell_type": "code",
   "execution_count": 50,
   "id": "b22b7029",
   "metadata": {
    "scrolled": true
   },
   "outputs": [
    {
     "name": "stdout",
     "output_type": "stream",
     "text": [
      "Collecting sentence-transformers\n",
      "  Downloading sentence-transformers-2.1.0.tar.gz (78 kB)\n",
      "     |████████████████████████████████| 78 kB 3.6 MB/s             \n",
      "\u001b[?25h  Preparing metadata (setup.py) ... \u001b[?25ldone\n",
      "\u001b[?25hRequirement already satisfied: transformers<5.0.0,>=4.6.0 in /home/sanjaycollege15/anaconda3/lib/python3.8/site-packages (from sentence-transformers) (4.10.0)\n",
      "Requirement already satisfied: tokenizers>=0.10.3 in /home/sanjaycollege15/anaconda3/lib/python3.8/site-packages (from sentence-transformers) (0.10.3)\n",
      "Requirement already satisfied: tqdm in /home/sanjaycollege15/anaconda3/lib/python3.8/site-packages (from sentence-transformers) (4.59.0)\n",
      "Requirement already satisfied: torch>=1.6.0 in /home/sanjaycollege15/anaconda3/lib/python3.8/site-packages (from sentence-transformers) (1.10.0)\n",
      "Collecting torchvision\n",
      "  Downloading torchvision-0.11.1-cp38-cp38-manylinux1_x86_64.whl (23.3 MB)\n",
      "     |████████████████████████████████| 23.3 MB 12.8 MB/s            \n",
      "\u001b[?25hRequirement already satisfied: numpy in /home/sanjaycollege15/anaconda3/lib/python3.8/site-packages (from sentence-transformers) (1.19.5)\n",
      "Requirement already satisfied: scikit-learn in /home/sanjaycollege15/anaconda3/lib/python3.8/site-packages (from sentence-transformers) (0.24.1)\n",
      "Requirement already satisfied: scipy in /home/sanjaycollege15/anaconda3/lib/python3.8/site-packages (from sentence-transformers) (1.6.2)\n",
      "Requirement already satisfied: nltk in /home/sanjaycollege15/anaconda3/lib/python3.8/site-packages (from sentence-transformers) (3.6.1)\n",
      "Requirement already satisfied: sentencepiece in /home/sanjaycollege15/anaconda3/lib/python3.8/site-packages (from sentence-transformers) (0.1.96)\n",
      "Requirement already satisfied: huggingface-hub in /home/sanjaycollege15/anaconda3/lib/python3.8/site-packages (from sentence-transformers) (0.0.19)\n",
      "Requirement already satisfied: typing-extensions in /home/sanjaycollege15/anaconda3/lib/python3.8/site-packages (from torch>=1.6.0->sentence-transformers) (3.7.4.3)\n",
      "Requirement already satisfied: sacremoses in /home/sanjaycollege15/anaconda3/lib/python3.8/site-packages (from transformers<5.0.0,>=4.6.0->sentence-transformers) (0.0.46)\n",
      "Requirement already satisfied: packaging in /home/sanjaycollege15/anaconda3/lib/python3.8/site-packages (from transformers<5.0.0,>=4.6.0->sentence-transformers) (20.9)\n",
      "Requirement already satisfied: filelock in /home/sanjaycollege15/anaconda3/lib/python3.8/site-packages (from transformers<5.0.0,>=4.6.0->sentence-transformers) (3.0.12)\n",
      "Requirement already satisfied: pyyaml>=5.1 in /home/sanjaycollege15/anaconda3/lib/python3.8/site-packages (from transformers<5.0.0,>=4.6.0->sentence-transformers) (5.4.1)\n",
      "Requirement already satisfied: regex!=2019.12.17 in /home/sanjaycollege15/anaconda3/lib/python3.8/site-packages (from transformers<5.0.0,>=4.6.0->sentence-transformers) (2021.4.4)\n",
      "Requirement already satisfied: requests in /home/sanjaycollege15/anaconda3/lib/python3.8/site-packages (from transformers<5.0.0,>=4.6.0->sentence-transformers) (2.25.1)\n",
      "Requirement already satisfied: click in /home/sanjaycollege15/anaconda3/lib/python3.8/site-packages (from nltk->sentence-transformers) (7.1.2)\n",
      "Requirement already satisfied: joblib in /home/sanjaycollege15/anaconda3/lib/python3.8/site-packages (from nltk->sentence-transformers) (1.0.1)\n",
      "Requirement already satisfied: threadpoolctl>=2.0.0 in /home/sanjaycollege15/anaconda3/lib/python3.8/site-packages (from scikit-learn->sentence-transformers) (2.1.0)\n",
      "Requirement already satisfied: pillow!=8.3.0,>=5.3.0 in /home/sanjaycollege15/anaconda3/lib/python3.8/site-packages (from torchvision->sentence-transformers) (8.2.0)\n",
      "Requirement already satisfied: pyparsing>=2.0.2 in /home/sanjaycollege15/anaconda3/lib/python3.8/site-packages (from packaging->transformers<5.0.0,>=4.6.0->sentence-transformers) (2.4.7)\n",
      "Requirement already satisfied: certifi>=2017.4.17 in /home/sanjaycollege15/anaconda3/lib/python3.8/site-packages (from requests->transformers<5.0.0,>=4.6.0->sentence-transformers) (2020.12.5)\n",
      "Requirement already satisfied: idna<3,>=2.5 in /home/sanjaycollege15/anaconda3/lib/python3.8/site-packages (from requests->transformers<5.0.0,>=4.6.0->sentence-transformers) (2.10)\n",
      "Requirement already satisfied: chardet<5,>=3.0.2 in /home/sanjaycollege15/anaconda3/lib/python3.8/site-packages (from requests->transformers<5.0.0,>=4.6.0->sentence-transformers) (4.0.0)\n",
      "Requirement already satisfied: urllib3<1.27,>=1.21.1 in /home/sanjaycollege15/anaconda3/lib/python3.8/site-packages (from requests->transformers<5.0.0,>=4.6.0->sentence-transformers) (1.26.4)\n",
      "Requirement already satisfied: six in /home/sanjaycollege15/anaconda3/lib/python3.8/site-packages (from sacremoses->transformers<5.0.0,>=4.6.0->sentence-transformers) (1.15.0)\n",
      "Building wheels for collected packages: sentence-transformers\n",
      "  Building wheel for sentence-transformers (setup.py) ... \u001b[?25ldone\n",
      "\u001b[?25h  Created wheel for sentence-transformers: filename=sentence_transformers-2.1.0-py3-none-any.whl size=120999 sha256=5337bfc235ee51622ec356102ff9bdd6a161d131f41cd3b89d97bd87ce7a325e\n",
      "  Stored in directory: /home/sanjaycollege15/.cache/pip/wheels/52/19/88/6625593382e23a926740e6fcee0f2df0a0de25766094842a28\n",
      "Successfully built sentence-transformers\n",
      "Installing collected packages: torchvision, sentence-transformers\n",
      "Successfully installed sentence-transformers-2.1.0 torchvision-0.11.1\n"
     ]
    }
   ],
   "source": [
    "!pip install -U sentence-transformers"
   ]
  },
  {
   "cell_type": "code",
   "execution_count": 51,
   "id": "56058084",
   "metadata": {
    "scrolled": true
   },
   "outputs": [
    {
     "data": {
      "application/vnd.jupyter.widget-view+json": {
       "model_id": "462b6a1cbf7d4c8b9920f9ef5c9024c3",
       "version_major": 2,
       "version_minor": 0
      },
      "text/plain": [
       "Downloading:   0%|          | 0.00/1.18k [00:00<?, ?B/s]"
      ]
     },
     "metadata": {},
     "output_type": "display_data"
    },
    {
     "data": {
      "application/vnd.jupyter.widget-view+json": {
       "model_id": "0277fd289ca54334a32bf6d909924be6",
       "version_major": 2,
       "version_minor": 0
      },
      "text/plain": [
       "Downloading:   0%|          | 0.00/10.2k [00:00<?, ?B/s]"
      ]
     },
     "metadata": {},
     "output_type": "display_data"
    },
    {
     "data": {
      "application/vnd.jupyter.widget-view+json": {
       "model_id": "529292cd81b64fa5a997e0d4c6b1e514",
       "version_major": 2,
       "version_minor": 0
      },
      "text/plain": [
       "Downloading:   0%|          | 0.00/612 [00:00<?, ?B/s]"
      ]
     },
     "metadata": {},
     "output_type": "display_data"
    },
    {
     "data": {
      "application/vnd.jupyter.widget-view+json": {
       "model_id": "eb08e31f50f048f6b95862aa31514fae",
       "version_major": 2,
       "version_minor": 0
      },
      "text/plain": [
       "Downloading:   0%|          | 0.00/116 [00:00<?, ?B/s]"
      ]
     },
     "metadata": {},
     "output_type": "display_data"
    },
    {
     "data": {
      "application/vnd.jupyter.widget-view+json": {
       "model_id": "737a06b4695841769834915524bfeeff",
       "version_major": 2,
       "version_minor": 0
      },
      "text/plain": [
       "Downloading:   0%|          | 0.00/39.3k [00:00<?, ?B/s]"
      ]
     },
     "metadata": {},
     "output_type": "display_data"
    },
    {
     "data": {
      "application/vnd.jupyter.widget-view+json": {
       "model_id": "ef36024efb2a4b7192b7199cd63d140e",
       "version_major": 2,
       "version_minor": 0
      },
      "text/plain": [
       "Downloading:   0%|          | 0.00/349 [00:00<?, ?B/s]"
      ]
     },
     "metadata": {},
     "output_type": "display_data"
    },
    {
     "data": {
      "application/vnd.jupyter.widget-view+json": {
       "model_id": "234e747a50b2411d86a49972fab4d3dc",
       "version_major": 2,
       "version_minor": 0
      },
      "text/plain": [
       "Downloading:   0%|          | 0.00/90.9M [00:00<?, ?B/s]"
      ]
     },
     "metadata": {},
     "output_type": "display_data"
    },
    {
     "data": {
      "application/vnd.jupyter.widget-view+json": {
       "model_id": "f3bab54077464a2ab48660b99520bff8",
       "version_major": 2,
       "version_minor": 0
      },
      "text/plain": [
       "Downloading:   0%|          | 0.00/53.0 [00:00<?, ?B/s]"
      ]
     },
     "metadata": {},
     "output_type": "display_data"
    },
    {
     "data": {
      "application/vnd.jupyter.widget-view+json": {
       "model_id": "c64d92ba3f864a289c45a0bace0cd170",
       "version_major": 2,
       "version_minor": 0
      },
      "text/plain": [
       "Downloading:   0%|          | 0.00/112 [00:00<?, ?B/s]"
      ]
     },
     "metadata": {},
     "output_type": "display_data"
    },
    {
     "data": {
      "application/vnd.jupyter.widget-view+json": {
       "model_id": "a767b9b59712421d889ff7d4d3477772",
       "version_major": 2,
       "version_minor": 0
      },
      "text/plain": [
       "Downloading:   0%|          | 0.00/466k [00:00<?, ?B/s]"
      ]
     },
     "metadata": {},
     "output_type": "display_data"
    },
    {
     "data": {
      "application/vnd.jupyter.widget-view+json": {
       "model_id": "23f207b60ba0448b84e4fef2be30901b",
       "version_major": 2,
       "version_minor": 0
      },
      "text/plain": [
       "Downloading:   0%|          | 0.00/350 [00:00<?, ?B/s]"
      ]
     },
     "metadata": {},
     "output_type": "display_data"
    },
    {
     "data": {
      "application/vnd.jupyter.widget-view+json": {
       "model_id": "18cda08819844f388b970d577bed000f",
       "version_major": 2,
       "version_minor": 0
      },
      "text/plain": [
       "Downloading:   0%|          | 0.00/13.2k [00:00<?, ?B/s]"
      ]
     },
     "metadata": {},
     "output_type": "display_data"
    },
    {
     "data": {
      "application/vnd.jupyter.widget-view+json": {
       "model_id": "8f6560443f82409b9e4067ba278f2223",
       "version_major": 2,
       "version_minor": 0
      },
      "text/plain": [
       "Downloading:   0%|          | 0.00/232k [00:00<?, ?B/s]"
      ]
     },
     "metadata": {},
     "output_type": "display_data"
    },
    {
     "data": {
      "application/vnd.jupyter.widget-view+json": {
       "model_id": "ae53ea6e2d3448679a5f79815aa97085",
       "version_major": 2,
       "version_minor": 0
      },
      "text/plain": [
       "Downloading:   0%|          | 0.00/190 [00:00<?, ?B/s]"
      ]
     },
     "metadata": {},
     "output_type": "display_data"
    }
   ],
   "source": [
    "from sentence_transformers import SentenceTransformer\n",
    "model = SentenceTransformer('all-MiniLM-L6-v2')"
   ]
  },
  {
   "cell_type": "code",
   "execution_count": 54,
   "id": "a0113093",
   "metadata": {},
   "outputs": [],
   "source": [
    "sentence_embeddings = model.encode(sentences)"
   ]
  },
  {
   "cell_type": "code",
   "execution_count": 55,
   "id": "aac8e558",
   "metadata": {},
   "outputs": [
    {
     "name": "stdout",
     "output_type": "stream",
     "text": [
      "Sentence: Sinus rhythm with 2:1 A-V block.  Right bundle-branch block.  Inferolateral\n",
      "ST-T wave abnormalities.  Compared to the previous tracing of [**2157-1-7**]\n",
      "2:1 A-V block is new.  Inferolateral ST-T wave abnormalities are more\n",
      "marked.  Cannot rule out myocardial ischemia or subendocardial infarction.\n",
      "Suggest clinical correlation and repeat tracing.\n",
      "\n",
      "\n",
      "Embedding: [ 1.62332540e-03 -3.13670337e-02 -4.56586573e-03  8.92905612e-03\n",
      "  1.65629350e-02  1.42710758e-02 -1.19895384e-01  5.49559966e-02\n",
      "  6.01116382e-02 -6.02460951e-02 -7.30408356e-03 -1.38495360e-02\n",
      " -8.00732747e-02  4.19442467e-02  1.90835353e-02 -5.32848500e-02\n",
      " -1.69081520e-02 -4.95765693e-02  1.18170716e-01 -5.22224512e-03\n",
      " -9.97190084e-03  6.68343529e-02 -1.84991863e-02 -1.48555730e-03\n",
      "  7.60826690e-04  4.53828461e-02 -5.94725087e-02 -4.36650775e-02\n",
      "  2.75085811e-02 -5.81320189e-02  1.69053972e-02  7.59602934e-02\n",
      "  1.34025253e-02  4.57750745e-02 -2.07690690e-02 -8.17997905e-04\n",
      " -1.32587831e-02  5.67294359e-02 -6.52639486e-04  2.68540848e-02\n",
      "  4.17769104e-02 -7.10922852e-03 -2.13224813e-02 -2.28185412e-02\n",
      "  1.36933830e-02  4.90645692e-02 -6.74603321e-03  2.57387552e-02\n",
      " -5.89942522e-02  3.34245600e-02  1.41269173e-02 -4.72223759e-02\n",
      " -2.54673045e-02  3.62805799e-02 -4.25641537e-02  2.61578783e-02\n",
      " -8.31113905e-02  1.69300547e-05  1.64793395e-02 -6.81253001e-02\n",
      "  5.33949994e-02  6.59136921e-02 -1.36727709e-02 -2.37138048e-02\n",
      "  1.49457855e-02  4.65603694e-02 -1.37957893e-02 -5.59319230e-03\n",
      "  4.36054654e-02  2.70139370e-02  4.66870889e-02  2.52985861e-02\n",
      "  4.80518527e-02  8.67598280e-02  1.77505780e-02  5.97859547e-03\n",
      " -6.05535507e-02 -1.49529204e-02 -3.52186011e-03 -5.64227663e-02\n",
      " -3.76079082e-02  3.09213027e-02 -1.14191577e-01 -2.52945237e-02\n",
      "  5.15854619e-02  4.60132025e-02  3.49799655e-02  3.97171900e-02\n",
      " -2.03607623e-02 -6.42839354e-04  6.55808225e-02 -1.30490791e-02\n",
      "  5.24170231e-03  1.66280344e-02  5.39446920e-02 -2.48405058e-02\n",
      " -8.12735036e-03  4.32659350e-02 -1.72188226e-02 -3.72791220e-03\n",
      "  9.24540497e-03 -5.10837846e-02 -7.33738467e-02  1.28995880e-01\n",
      "  3.43314819e-02  5.05062519e-03 -5.05553279e-03 -5.35365380e-02\n",
      " -4.31285128e-02 -5.48006780e-02  8.13823789e-02  2.54615881e-02\n",
      "  6.55331239e-02 -2.67041158e-02  1.11165471e-01  5.08066826e-02\n",
      " -5.38500026e-02  1.20207958e-01  5.77765815e-02  8.79756138e-02\n",
      "  8.05930514e-03 -5.45546971e-02 -1.71298068e-02 -4.23888899e-02\n",
      " -2.72845216e-02 -6.78820014e-02 -2.79685929e-02  4.05461246e-33\n",
      "  3.02405246e-02  7.61567205e-02  1.06847854e-02  3.09582390e-02\n",
      "  2.15122383e-02  1.06487591e-02 -1.02514707e-01 -1.32559231e-02\n",
      "  8.02142024e-02  7.17413351e-02 -8.42164531e-02 -3.44993100e-02\n",
      "  4.46414016e-02  5.33085726e-02 -1.00480244e-01 -4.86445688e-02\n",
      " -3.20893303e-02 -3.60797606e-02 -7.87693039e-02 -3.68837863e-02\n",
      " -4.38363291e-02  5.66407852e-02 -1.47216534e-02  4.92762262e-03\n",
      " -8.75270963e-02  1.95465926e-02 -1.97341405e-02 -1.13346167e-02\n",
      "  3.14286500e-02  4.86829598e-03 -1.22734597e-02 -5.48235886e-03\n",
      " -4.07301821e-03 -2.49180049e-02  1.17019732e-02  5.02948463e-03\n",
      "  2.83448491e-02  8.42140708e-03  6.84884703e-03  5.79506047e-02\n",
      " -7.10721547e-03  4.85531017e-02 -4.20163348e-02 -4.62670736e-02\n",
      "  2.54975166e-02 -5.89566752e-02  4.02343012e-02 -2.36387048e-02\n",
      " -2.83056535e-02 -4.38623549e-03  8.61742534e-03  1.39485765e-03\n",
      " -1.24440184e-02 -6.11917488e-02  1.31397489e-02  4.53928895e-02\n",
      "  5.58579490e-02  6.20800033e-02 -2.05376018e-02  3.55619341e-02\n",
      "  7.88094327e-02 -3.72555293e-02  2.09648386e-02 -2.17268988e-02\n",
      " -1.71514675e-01  3.00476700e-02 -8.27843547e-02 -8.62476900e-02\n",
      " -3.78480344e-03  4.38484475e-02 -9.81424097e-03  3.47307697e-02\n",
      "  3.61068780e-03 -2.75560282e-02 -1.13549139e-02 -1.92544293e-02\n",
      " -5.86351342e-02  1.58813536e-01 -6.72662184e-02 -9.71571356e-02\n",
      " -1.22574873e-01 -3.09393983e-02  4.30264995e-02  1.00182379e-02\n",
      " -6.71035610e-03  2.36273371e-02  6.18925206e-02 -3.61278318e-02\n",
      " -1.00118108e-01  9.17525776e-03 -2.72043399e-03  1.32956401e-01\n",
      "  6.00324273e-02 -3.48527320e-02  1.20571420e-01 -5.49244372e-33\n",
      " -7.06325248e-02  3.62380482e-02  4.63794954e-02 -9.97987092e-02\n",
      " -3.52353007e-02  4.28458564e-02  1.24072418e-01  5.43566942e-02\n",
      " -7.36584421e-03 -4.44780802e-03  1.20589241e-01  2.41697244e-02\n",
      " -7.91608989e-02  5.78946434e-03  1.33003527e-03  1.73729863e-02\n",
      " -3.97174014e-03 -1.21870991e-02  5.17809168e-02  2.00457610e-02\n",
      " -1.59171540e-02 -1.65189581e-03 -1.29718166e-02  3.74926440e-02\n",
      "  2.10556127e-02  5.76807484e-02  5.06757237e-02 -2.23613773e-02\n",
      "  2.15488542e-02 -3.96516360e-02  1.90107897e-02  4.12058085e-03\n",
      " -4.55531180e-02 -7.12664332e-03  1.71226338e-02  8.25029612e-02\n",
      "  3.40604186e-02 -1.16610108e-02 -1.26792014e-01 -6.69805706e-02\n",
      " -1.78600810e-02  6.88256025e-02  8.24366733e-02 -2.24285834e-02\n",
      " -6.08727746e-02 -1.37078175e-02  5.46269007e-02  4.99979109e-02\n",
      " -2.46777795e-02  2.86501786e-03 -2.38657296e-02  5.72556257e-03\n",
      " -8.26499425e-04  5.66893108e-02 -2.99746525e-02  3.55007164e-02\n",
      " -5.07887378e-02 -1.18535096e-02 -5.13242036e-02 -2.27158586e-03\n",
      " -4.32543643e-02 -7.67544731e-02 -5.47476821e-02 -1.48563176e-01\n",
      "  1.00418225e-01 -1.07104210e-02  4.98122685e-02 -5.67981601e-02\n",
      "  1.08428918e-01  1.89913735e-02 -2.01308727e-03 -1.57299843e-02\n",
      " -1.69294506e-01 -6.66504279e-02  1.97268929e-02 -4.44021150e-02\n",
      " -3.67420577e-02 -5.94552308e-02 -6.52549192e-02 -6.00335784e-02\n",
      " -8.71256739e-02 -5.14696166e-03  7.85153918e-03 -3.48756984e-02\n",
      " -2.72200331e-02 -2.66749356e-02  6.66178577e-03 -7.57951364e-02\n",
      "  4.15363610e-02  7.95174688e-02 -3.41005088e-03  7.56874606e-02\n",
      " -8.54617208e-02 -1.50224703e-04 -2.14742925e-02 -4.23319406e-08\n",
      " -2.83396989e-02 -8.03690180e-02  1.23912981e-02 -4.28747945e-02\n",
      " -4.57811877e-02 -1.05126731e-01 -7.40027172e-04 -1.25346268e-02\n",
      " -8.72906297e-03 -2.05684397e-02 -4.97330129e-02 -5.68333035e-03\n",
      "  2.41737589e-02 -5.80795296e-02  4.73514758e-02 -3.23291123e-02\n",
      " -1.19474806e-01  8.59579071e-02 -6.00424781e-03 -2.45496351e-02\n",
      "  7.28029832e-02 -1.06263068e-02  1.23634692e-02 -1.96526367e-02\n",
      " -2.49667931e-02  9.13084149e-02  1.33450935e-02  6.71804650e-03\n",
      "  1.43270949e-02 -3.64073180e-02  9.40604806e-02  3.94014195e-02\n",
      "  9.67543125e-02 -3.86352353e-02 -3.26203927e-02 -1.80784501e-02\n",
      "  2.08706614e-02  4.93512116e-02 -2.23907419e-02  8.05325508e-02\n",
      "  3.78103405e-02 -2.10556462e-02 -4.12379345e-03  5.63917831e-02\n",
      " -3.36175226e-02 -9.16333348e-02  5.39053343e-02  8.74975603e-03\n",
      "  1.39011741e-02  2.15335866e-03 -2.05368665e-03  1.00016378e-01\n",
      "  4.95355856e-03  7.63620948e-04 -3.38046476e-02  3.76193505e-03\n",
      " -1.93737224e-02 -2.19583325e-02 -5.84285893e-02 -1.35869291e-02\n",
      "  2.93123014e-02 -5.17626405e-02  1.61967501e-02 -5.67134544e-02]\n",
      "\n",
      "Sentence: Sinus tachycardia\n",
      "Consider old septal myocardial infarction\n",
      "Nondiagnostic lateral ST-T wave changes\n",
      "Since previous tracing, T wave flattening in lateral leads more\n",
      "apparent\n",
      "\n",
      "\n",
      "Embedding: [ 7.48344406e-04 -3.76516469e-02  3.69815305e-02 -6.18410949e-03\n",
      " -1.04720630e-02 -1.94126219e-02 -1.52736053e-01  1.22248018e-02\n",
      "  2.38499641e-02 -7.20404088e-02  1.55277597e-03 -7.58716511e-03\n",
      " -6.60165101e-02  4.16981839e-02  1.08870855e-02 -7.71747530e-02\n",
      " -5.75270243e-02 -5.35784103e-02  6.80489913e-02 -3.41653377e-02\n",
      "  1.77601390e-02  4.76960503e-02 -5.57373129e-02 -7.19669387e-02\n",
      " -1.06456205e-02  4.98073474e-02  3.29507329e-03 -5.83018772e-02\n",
      "  5.50884977e-02 -1.52736939e-02 -2.82082129e-02  5.80313168e-02\n",
      "  1.75829453e-03  7.27752736e-03 -3.55349183e-02 -1.43598197e-02\n",
      "  2.34152768e-02  3.55124883e-02 -7.51072215e-03  7.50728101e-02\n",
      "  3.05265567e-04  7.91185722e-03 -7.92934597e-02 -2.69882288e-02\n",
      "  3.12363636e-02  1.09337857e-02  3.30881216e-02 -6.10853964e-03\n",
      " -8.60584751e-02 -1.60037447e-02  5.22705764e-02 -2.20089946e-02\n",
      " -9.99533236e-02  4.67427224e-02 -4.55388576e-02  4.10037935e-02\n",
      " -5.07480931e-03 -3.23279854e-03 -3.02466773e-03 -8.91981125e-02\n",
      "  2.41682995e-02  4.37425599e-02  3.88769284e-02 -6.97507709e-02\n",
      " -8.41815418e-05  2.42584571e-03 -2.57721487e-02  6.20564073e-03\n",
      "  2.57806759e-02 -3.03119887e-04  4.77484763e-02 -3.02113080e-03\n",
      " -8.59458465e-03  6.53180806e-03 -4.58878055e-02 -3.04242894e-02\n",
      "  1.04256393e-02 -1.89082809e-02 -6.29785135e-02  1.10696442e-02\n",
      " -1.30149703e-02  4.89960350e-02 -7.47000203e-02  1.75672490e-02\n",
      "  3.84428874e-02  6.66152835e-02 -9.72799957e-03 -1.52600771e-02\n",
      " -5.97725660e-02  1.48377623e-02  1.06571004e-01 -1.74582973e-02\n",
      " -1.40332999e-02  5.10854833e-02  3.31332311e-02 -7.91960433e-02\n",
      " -2.49208454e-02  2.56251544e-02 -1.32373823e-02 -2.85173934e-02\n",
      " -2.33618990e-02 -3.95716168e-02 -8.90466571e-02  1.24435268e-01\n",
      "  6.82204440e-02  7.18694404e-02  2.04326562e-03 -6.98628416e-03\n",
      "  2.58423239e-02  1.19255930e-02  4.90282662e-02  4.57380824e-02\n",
      " -1.64105352e-02 -1.23702865e-02  8.75521451e-02 -9.99776740e-03\n",
      " -5.59722446e-02  4.62966040e-02  6.83417730e-03  2.96140425e-02\n",
      "  1.54333040e-02 -4.44500186e-02 -3.13874856e-02  2.52801441e-02\n",
      "  1.15018673e-02  5.61488308e-02 -3.08760554e-02  7.32690404e-33\n",
      "  7.37234950e-02  8.28916430e-02 -8.98056824e-05 -2.96670664e-02\n",
      "  2.54524127e-02 -4.65699211e-02 -8.23432282e-02  2.09817663e-02\n",
      "  5.17834052e-02  8.42196494e-02 -6.53698966e-02  5.20746857e-02\n",
      " -1.64925959e-02 -3.48144099e-02 -1.13796681e-01 -7.46387765e-02\n",
      " -8.31988230e-02  9.30725783e-03 -1.36802688e-01 -1.06086470e-01\n",
      " -5.21469638e-02  6.46986887e-02  2.39545926e-02 -4.95502204e-02\n",
      " -3.85968126e-02 -1.00504356e-02  4.27802280e-03  1.53565770e-02\n",
      "  6.64994726e-03 -1.73314381e-02 -6.16436638e-02 -2.55145654e-02\n",
      "  2.30294727e-02 -3.91131826e-02  4.41166852e-03  3.00766919e-02\n",
      "  4.00933139e-02  2.91333757e-02  1.07876575e-02  9.22838748e-02\n",
      "  1.28316917e-02  1.30589288e-02 -2.29078513e-02 -1.55801279e-02\n",
      "  3.64049226e-02 -6.65120929e-02  1.29808262e-02  3.03612370e-02\n",
      " -5.68797765e-03 -1.01956977e-02 -4.03783610e-03 -3.03784814e-02\n",
      "  2.00605188e-02 -2.81742699e-02  2.43728189e-03  1.67449918e-02\n",
      "  5.82315288e-02  2.60611475e-02 -1.64238419e-02 -2.09057610e-02\n",
      "  5.89408465e-02 -7.26919025e-02  3.28014605e-02  4.11303975e-02\n",
      " -2.57725008e-02  4.73398641e-02 -6.78459257e-02 -3.26293930e-02\n",
      "  1.79174598e-02  5.75958937e-02  3.04288696e-03  4.59104963e-02\n",
      " -6.42649755e-02 -2.77782530e-02  2.11274512e-02 -1.61185171e-02\n",
      " -5.35347015e-02  1.70775622e-01  3.13148610e-02 -1.23224430e-01\n",
      " -3.41796391e-02 -1.37775904e-02  3.37535143e-02 -3.08617391e-02\n",
      "  5.40744588e-02  4.68289927e-02  7.04856813e-02 -4.90425006e-02\n",
      " -7.43065029e-02  2.11672019e-02 -2.82136463e-02  1.45826578e-01\n",
      "  9.09392163e-02  8.03589169e-03  2.62780748e-02 -6.90010408e-33\n",
      " -4.44864742e-02  4.09555109e-03 -2.92249788e-02 -7.51729980e-02\n",
      "  5.67451166e-03  1.89413072e-03  8.42826813e-02  1.11222923e-01\n",
      "  4.45976667e-02 -9.53967217e-03  7.75357187e-02  9.89410374e-03\n",
      " -9.51084793e-02  3.14806104e-02  2.91804392e-02  6.84137829e-03\n",
      "  2.90064607e-02 -1.48198577e-02 -4.34112512e-02 -3.69446985e-02\n",
      "  5.53410314e-03 -5.73729947e-02 -2.38752589e-02  2.69260928e-02\n",
      "  2.08649673e-02  4.24977951e-02  1.11708660e-02 -1.46497460e-02\n",
      "  1.93132851e-02 -1.00842826e-01  1.38348211e-02 -3.36329788e-02\n",
      "  4.72834595e-02 -4.44228092e-04 -5.35978656e-03  9.34293494e-02\n",
      " -2.72927601e-02  4.07198705e-02 -2.31396630e-02 -3.47022563e-02\n",
      "  1.49075771e-02  1.00050293e-01  1.60972312e-01  1.80787817e-02\n",
      " -7.18986839e-02 -1.55994454e-02 -4.80257161e-02 -2.30781715e-02\n",
      " -8.52669403e-02  7.81210698e-03 -3.57957464e-03 -7.98872579e-03\n",
      "  4.04384844e-02  2.15965174e-02 -5.27615435e-02  8.00437704e-02\n",
      " -2.56676581e-02  1.61318798e-02 -6.82200417e-02  6.67265430e-03\n",
      " -1.57431215e-02 -5.30033782e-02 -3.94378528e-02 -1.49715543e-01\n",
      "  8.70183334e-02 -5.36673795e-03  2.62942817e-02 -5.95366843e-02\n",
      "  7.07032308e-02  5.08016115e-03  2.19146851e-02  5.72346039e-02\n",
      " -1.52186081e-01 -9.13845897e-02  1.78517867e-02 -1.03496045e-01\n",
      " -4.22668383e-02  2.13378165e-02 -3.44488993e-02 -6.65936843e-02\n",
      " -4.54111509e-02  3.46755646e-02  2.31471919e-02 -5.63151427e-02\n",
      " -7.04828650e-02  2.87926826e-03  5.16072884e-02 -5.39872311e-02\n",
      "  2.41002366e-02  1.01949528e-01  3.26409191e-02  4.06453796e-02\n",
      " -5.34632504e-02  5.29258093e-03 -1.92747582e-02 -2.93929538e-08\n",
      " -2.86714137e-02 -1.77451000e-02 -2.58640945e-02  2.56568640e-02\n",
      " -4.10151631e-02 -8.78127068e-02  3.31649259e-02  2.37711109e-02\n",
      "  1.49145781e-03 -9.07128826e-02 -5.10995872e-02  8.75885971e-03\n",
      "  5.38327694e-02 -4.77634743e-02  4.29126397e-02 -3.35997269e-02\n",
      " -1.63470402e-01 -3.43552567e-02  4.12465259e-02 -2.17576940e-02\n",
      "  8.73199999e-02  3.20341736e-02  2.05729753e-02  8.91035423e-02\n",
      " -3.55012789e-02  1.01739883e-01 -1.66886870e-03  3.56332287e-02\n",
      "  1.98644213e-02  2.37123910e-02  8.33530277e-02  7.11467341e-02\n",
      "  3.10254768e-02  4.36090194e-02  5.51295374e-03  2.18642205e-02\n",
      "  4.67715487e-02 -4.86195181e-03 -2.35128831e-02  8.36723894e-02\n",
      "  8.02197307e-03 -4.71299281e-03 -7.46308453e-03  3.31683122e-02\n",
      " -2.37998981e-02 -1.17657080e-01  5.94199859e-02  1.03626940e-02\n",
      "  4.52984273e-02 -1.47618102e-02  4.82947715e-02  1.22676037e-01\n",
      " -2.83853542e-02 -2.15537827e-02  1.37343127e-02 -3.53666930e-03\n",
      " -1.66016333e-02  3.90738957e-02 -8.88378099e-02  1.63167175e-02\n",
      "  7.58472085e-02 -3.78355719e-02  2.49174219e-02  1.32774366e-02]\n",
      "\n",
      "Sentence: Sinus rhythm.  Low limb lead voltage.  Compared to the previous tracing\n",
      "of [**2180-11-24**] no diagnostic interim change.\n",
      "\n",
      "\n",
      "Embedding: [-8.05114023e-03  1.44558037e-02 -1.13565577e-02  1.85841639e-02\n",
      "  1.13265561e-02  3.09001170e-02 -7.52423182e-02  4.95602712e-02\n",
      "  2.54358407e-02 -4.24018763e-02  4.10354882e-02  8.70942604e-03\n",
      " -1.72269866e-02  5.51141798e-02 -1.99803542e-02 -9.72073302e-02\n",
      "  2.22572442e-02 -4.91185486e-02  2.14707963e-02  2.55583879e-02\n",
      "  1.65051334e-02  1.03285283e-01 -1.36978896e-02 -2.49492917e-02\n",
      " -5.16671091e-02  8.40926841e-02  1.71798095e-03 -6.49537072e-02\n",
      " -4.66292119e-03 -9.53031797e-03 -5.63040078e-02  6.08427525e-02\n",
      " -6.84329122e-03 -3.34025621e-02 -5.62521294e-02  9.30541102e-03\n",
      " -2.76135257e-03  2.44006440e-02 -1.98360756e-02  4.79229204e-02\n",
      "  8.13194811e-02 -1.53883006e-02  4.66087908e-02 -1.10162492e-03\n",
      "  3.48050729e-03  8.07318538e-02 -2.17640456e-02 -3.61442678e-02\n",
      " -4.30095717e-02  2.16934364e-02  7.83634409e-02 -3.43248285e-02\n",
      " -1.78883746e-02  2.84594744e-02 -7.78835639e-02  1.10212192e-02\n",
      " -3.34600843e-02 -4.14633602e-02 -6.87384838e-03 -3.25183794e-02\n",
      " -1.74410138e-02  4.66610268e-02 -5.95881231e-03  9.45654418e-03\n",
      " -1.44012664e-02 -2.22350731e-02  7.85667971e-02 -6.59232289e-02\n",
      "  7.02310577e-02  2.37701535e-02  3.22553329e-02  4.44263482e-04\n",
      "  6.52160263e-03 -4.84173037e-02 -2.14958470e-02  1.55462343e-02\n",
      " -3.77706923e-02 -1.28378775e-02  3.28640640e-02 -6.42103851e-02\n",
      " -3.98139609e-03  6.01191409e-02 -8.23139548e-02  7.87322447e-02\n",
      "  9.37080458e-02  6.10233322e-02  3.29261646e-02  5.71318828e-02\n",
      " -9.09707844e-02  2.17653606e-02  6.16028383e-02 -1.26361968e-02\n",
      " -1.58862770e-02  3.66855785e-02  1.00665661e-02  3.68083976e-02\n",
      " -2.98770443e-02  3.81110236e-02 -1.93184055e-02 -3.29245068e-02\n",
      "  1.26699898e-02 -3.64204049e-02  1.34478591e-03  5.83210401e-02\n",
      "  4.64565754e-02  5.35515919e-02  4.93741892e-02 -6.87680840e-02\n",
      " -4.42867950e-02  6.28712447e-03  4.11074683e-02  6.50693551e-02\n",
      " -6.30083913e-03 -2.92990524e-02  1.31102413e-01  3.61452885e-02\n",
      " -9.02440175e-02  9.49272811e-02  1.93472337e-02  6.23935945e-02\n",
      "  4.19299193e-02 -5.59557043e-02 -3.12714912e-02 -6.76735714e-02\n",
      "  5.37296990e-03  1.38144353e-02 -7.15643764e-02 -5.80114773e-34\n",
      "  4.56035286e-02 -1.45634823e-02  4.64655049e-02 -3.60439457e-02\n",
      " -1.66120436e-02  2.89555434e-02 -7.59055018e-02  2.45725587e-02\n",
      "  1.13586418e-01  1.13097005e-01 -3.15067060e-02  3.53207402e-02\n",
      "  4.37575392e-02 -1.17513333e-02 -6.11140877e-02 -3.07438616e-02\n",
      " -1.43047851e-02  1.09269749e-02 -1.98932867e-02 -5.14462218e-02\n",
      "  3.37840570e-03 -4.63761250e-03  1.39772994e-02  9.52394120e-03\n",
      " -2.41787862e-02  6.78627193e-02 -4.68168892e-02  3.64600010e-02\n",
      "  2.21441570e-03 -2.04320420e-02  1.07904617e-02  3.75427008e-02\n",
      "  4.98180836e-03 -3.65218557e-02 -3.12159117e-02 -5.70411980e-03\n",
      "  3.57900895e-02 -2.83913966e-02  1.44181754e-02  4.70057949e-02\n",
      "  3.16775888e-02  6.37170896e-02 -5.27514443e-02  3.25748622e-02\n",
      "  8.32466036e-02 -1.68554299e-02 -4.69962135e-02 -1.04163773e-02\n",
      "  4.92113922e-03  3.57842334e-02 -1.35460332e-01  5.91678033e-03\n",
      "  7.62886703e-02 -7.42933601e-02 -1.31313596e-02  5.83603866e-02\n",
      "  4.86643836e-02  8.06399714e-03 -1.03303365e-01  1.55631825e-02\n",
      "  6.42636046e-02  7.88017660e-02  1.58449057e-02 -1.19917188e-02\n",
      " -6.09941445e-02  2.07785498e-02  1.39136724e-02 -1.15336336e-01\n",
      " -4.85020690e-02 -6.22279523e-03 -6.85093319e-03 -1.05612520e-02\n",
      " -7.40332678e-02 -3.21547985e-02 -3.54244038e-02 -3.21585797e-02\n",
      " -4.47706459e-03  1.57758504e-01  6.97634416e-03 -1.43795952e-01\n",
      " -7.32180849e-02 -4.77363653e-02  7.49087855e-02  4.31215130e-02\n",
      "  6.91055954e-02  5.23576001e-03 -9.85177793e-03 -4.61957837e-03\n",
      " -1.06140822e-01 -1.78334652e-03  6.22088797e-02  3.79988775e-02\n",
      " -2.98871342e-02  3.82445604e-02 -4.00835462e-03 -1.15250322e-34\n",
      " -6.20360821e-02  3.59325148e-02  2.71196757e-02 -1.86071284e-02\n",
      " -7.70704239e-04  2.15917826e-02  1.02109812e-01  7.56633282e-02\n",
      "  1.15365423e-02  5.91960456e-03  6.44061267e-02  1.24691939e-02\n",
      " -4.63824943e-02  2.26489697e-02  7.14659169e-02  1.84224974e-02\n",
      " -4.69657406e-02 -1.17882043e-02  3.29215229e-02  3.76735292e-02\n",
      " -1.98080260e-02  8.55872184e-02 -3.30024175e-02 -2.42257193e-02\n",
      "  1.31993582e-02  2.49392074e-02  3.89601216e-02 -1.93418209e-02\n",
      " -9.11169127e-02 -5.89854568e-02 -2.16792431e-02  3.06588933e-02\n",
      " -2.60677896e-02  4.19998281e-02 -4.21498269e-02  1.38950860e-02\n",
      "  3.41161191e-02 -2.28520725e-02 -1.08882800e-01 -1.79450177e-02\n",
      "  2.67525353e-02  8.48066360e-02  1.11336984e-01  3.79031412e-02\n",
      " -4.83286008e-02  6.04715242e-05 -4.72320504e-02 -2.20356416e-02\n",
      " -4.37947959e-02  8.60197246e-02  4.93380241e-03 -3.71014513e-02\n",
      "  1.13598374e-03  7.92524815e-02 -5.24935089e-02 -2.17708163e-02\n",
      " -3.49945687e-02  9.19198059e-03 -4.73906733e-02 -2.84353481e-03\n",
      "  2.56627537e-02 -2.35975347e-02 -1.01951092e-01 -5.23964427e-02\n",
      "  6.52089417e-02  4.26738448e-02  4.06752266e-02 -8.64004251e-03\n",
      "  1.09156460e-01  5.06068021e-03  6.70884773e-02  8.21321178e-03\n",
      " -7.56330043e-02 -7.01473579e-02 -4.94207777e-02 -5.98864146e-02\n",
      " -6.94449097e-02 -9.48987976e-02 -4.91448268e-02 -1.37986958e-01\n",
      " -5.15563674e-02 -2.21691225e-02 -2.84636281e-02  2.57375161e-03\n",
      " -2.82519571e-02 -1.00784563e-02  3.91119681e-02 -1.56274326e-02\n",
      "  7.79791875e-03  5.89804910e-02 -3.08204200e-02  2.42880732e-02\n",
      " -1.28849685e-01  6.69753850e-02 -6.54360652e-02 -2.67393592e-08\n",
      " -8.28255713e-02  9.70096290e-02  1.35876555e-02  3.38204904e-04\n",
      "  3.77386734e-02 -7.27185383e-02  4.75975797e-02  2.77066547e-02\n",
      " -3.47134769e-02  4.47682105e-02 -1.67546831e-02  1.31323142e-02\n",
      "  1.29542872e-01 -4.71091308e-02  7.57775009e-02 -2.41202489e-02\n",
      " -9.25507993e-02  5.42648248e-02 -3.06416806e-02 -8.81469548e-02\n",
      "  6.72516525e-02  3.27965617e-02  2.33041756e-02 -2.82931738e-02\n",
      "  3.71898860e-02  2.52763294e-02  9.67271701e-02  7.58846179e-02\n",
      " -2.21538618e-02 -8.40774700e-02  2.24920176e-02  2.13822890e-02\n",
      "  4.06808732e-03 -1.98430419e-02 -6.51784837e-02  6.52214959e-02\n",
      "  3.42826173e-02 -1.14424143e-03  9.27357376e-03 -5.78985503e-03\n",
      " -8.07752833e-02 -6.50864542e-02 -7.76419267e-02  4.05176356e-02\n",
      " -2.00650208e-02 -1.45644516e-01  5.91831356e-02 -8.60409439e-03\n",
      "  6.29565567e-02 -3.98496762e-02 -1.68778130e-03  8.09110627e-02\n",
      " -1.10563356e-02 -6.82088658e-02 -5.69985397e-02 -1.20007750e-02\n",
      " -3.10472585e-02  4.53074053e-02 -5.85163049e-02  2.96566151e-02\n",
      "  4.77916375e-02 -9.06443298e-02 -4.19958793e-02 -3.81731614e-02]\n",
      "\n",
      "Sentence: Sinus rhythm.  Early precordial QRS transition is non-specific and may be a\n",
      "normal variant.  Since previous tracing of [**2199-8-26**] no significant change.\n",
      "\n",
      "\n",
      "Embedding: [-6.72637522e-02  1.59576233e-03 -1.55288782e-02 -3.02165318e-02\n",
      " -3.98784019e-02  3.92635353e-02 -8.65423679e-02 -1.14063621e-02\n",
      "  1.06295317e-01 -4.97022383e-02  4.92705815e-02  1.74160656e-02\n",
      " -6.04646690e-02  8.07060748e-02  4.79924418e-02 -1.20374374e-02\n",
      " -8.89074579e-02 -8.09740648e-02  5.41957989e-02 -9.84628592e-03\n",
      " -6.64091408e-02  9.36734229e-02 -6.53475709e-03 -3.39366719e-02\n",
      "  4.03420180e-02  2.69324034e-02 -1.41871609e-02  7.57738436e-03\n",
      "  9.32034031e-02 -4.08023968e-03  8.98870174e-03  1.14690304e-01\n",
      " -1.11516230e-02 -3.06420084e-02 -2.05820557e-02  1.02810943e-02\n",
      " -6.97678402e-02  5.64474054e-03  4.12661806e-02  6.08486980e-02\n",
      "  7.54523948e-02 -3.85657651e-03 -3.27725597e-02  9.07943491e-03\n",
      " -2.46787369e-02  6.99778125e-02 -6.22971281e-02  3.57535072e-02\n",
      " -6.61797598e-02 -3.59458551e-02  7.53704980e-02 -1.24165965e-02\n",
      "  8.35340563e-03  3.26489285e-03 -3.16288620e-02  7.89689273e-02\n",
      " -4.64960970e-02 -1.57352891e-02  5.72280549e-02  3.04532535e-02\n",
      " -1.02024749e-01  2.96344552e-02 -5.10706380e-02  3.64657026e-03\n",
      " -2.87204497e-02  3.09855156e-02  7.30670244e-02 -8.70874524e-02\n",
      "  6.85543567e-02  2.22597234e-02  1.19539462e-02 -7.97792245e-03\n",
      " -1.02777435e-02  9.17236879e-03 -4.62911539e-02  5.44906929e-02\n",
      " -2.24998482e-02  6.05459288e-02 -1.31224757e-02 -8.63330811e-02\n",
      "  4.58594906e-04  1.67292655e-02 -4.14448753e-02  7.69663649e-03\n",
      "  6.14894666e-02  5.13170287e-02  3.00365710e-03  5.12154773e-03\n",
      " -5.86825535e-02  9.45435464e-03  7.06446171e-02 -5.49617857e-02\n",
      " -3.06035765e-02  2.34188158e-02  1.58489719e-02 -1.46594625e-02\n",
      " -1.01969279e-02  2.14767028e-02  6.77973628e-02 -4.76627499e-02\n",
      "  2.31891982e-02 -9.43521317e-03  3.68766487e-02  8.06372240e-02\n",
      "  5.47952354e-02  4.87205246e-03  4.06945087e-02 -5.45268413e-03\n",
      " -2.30638590e-02 -2.08284892e-02  1.12474328e-02  5.15137911e-02\n",
      "  6.57211840e-02  6.87249145e-03  8.70552510e-02  3.43554355e-02\n",
      " -6.19583763e-02  1.19059481e-01  4.03219461e-02  6.37277737e-02\n",
      "  1.51331518e-02 -8.05712193e-02 -6.57896101e-02 -7.73225427e-02\n",
      " -7.10274205e-02 -1.17790215e-02 -1.36034966e-01  7.46322511e-35\n",
      "  4.21322845e-02 -2.61408724e-02 -3.94901782e-02 -3.10701728e-02\n",
      " -3.62974964e-02 -2.62128492e-03 -1.22220945e-02  4.36243275e-03\n",
      "  3.37264501e-02  3.18461508e-02 -4.39371727e-02 -3.73638906e-02\n",
      " -2.82568187e-02 -6.44032136e-02 -5.99495955e-02 -1.57953333e-02\n",
      " -6.46281913e-02 -4.86004017e-02 -5.01241684e-02 -6.84815422e-02\n",
      "  1.03667136e-02  3.50714214e-02 -3.24975885e-02 -5.72291352e-02\n",
      " -1.59301981e-02  6.07264154e-02 -2.79377541e-03 -9.22166090e-03\n",
      "  3.04754637e-03 -2.64207199e-02 -4.82467823e-02 -1.77284684e-02\n",
      " -3.60226864e-03 -7.07316324e-02 -4.42189537e-03  5.60355149e-02\n",
      "  7.30882883e-02 -2.55603492e-02  3.63143301e-03  4.68264450e-04\n",
      "  4.84097749e-02  5.49708791e-02 -3.72675024e-02 -1.50858704e-02\n",
      "  5.10725714e-02 -3.36996391e-02 -1.76437218e-02  9.55905952e-03\n",
      "  7.17957038e-03 -1.42947538e-02 -5.16055338e-02  3.15267742e-02\n",
      "  1.30999750e-02 -6.56896234e-02  7.00518582e-03 -2.35701781e-02\n",
      "  8.17492977e-02 -3.46546620e-02 -1.45231903e-01  9.67634376e-03\n",
      "  1.04778409e-01  1.20171187e-02 -7.98088592e-03 -3.02197784e-02\n",
      " -5.51389158e-02 -2.51863338e-03 -8.64134636e-03 -8.41905847e-02\n",
      " -2.19522957e-02  6.72378913e-02  4.65851985e-02  1.34559756e-03\n",
      " -1.22104203e-02 -6.39018835e-03  5.35532832e-02 -2.36707982e-02\n",
      "  2.80180890e-02  1.02604330e-01 -5.50998887e-03 -9.12583992e-02\n",
      " -1.12429401e-02  1.48962205e-02  3.63754369e-02  3.71178798e-02\n",
      "  2.98734885e-02 -3.07509508e-02  9.16170329e-02 -4.67822980e-03\n",
      " -1.03237487e-01  6.34724647e-02  1.09712824e-01  1.31586259e-02\n",
      " -6.67537039e-04  1.21265136e-01 -3.49585228e-02 -1.28466306e-33\n",
      " -4.78876084e-02  3.05871610e-02  7.41351470e-02 -5.97585067e-02\n",
      " -1.69139914e-02  3.57171409e-02  1.26164570e-01  1.07569799e-01\n",
      "  3.73291387e-03 -7.18730465e-02  9.68253985e-02  3.40890326e-02\n",
      "  6.24995399e-03 -5.32531291e-02  3.65269892e-02  8.04659724e-03\n",
      " -4.20075096e-02  4.22280543e-02  1.16204843e-02  8.89598280e-02\n",
      " -1.88314002e-02  2.24079825e-02 -6.05429485e-02 -2.19876021e-02\n",
      "  5.82475588e-02  3.61072784e-03  1.05932787e-01 -1.88983651e-03\n",
      " -2.52268203e-02 -2.99115665e-02 -5.35462946e-02 -4.31333371e-02\n",
      " -2.22050026e-02 -3.50352563e-02 -2.12428737e-02 -7.74055300e-03\n",
      " -8.89842678e-03 -2.64249723e-02 -7.12913051e-02 -6.45087212e-02\n",
      " -1.13113958e-03  7.06292167e-02  7.31423721e-02  5.71608506e-02\n",
      " -2.88014915e-02 -1.22609437e-02  2.31042299e-02 -4.38332651e-03\n",
      " -3.49832252e-02  4.69047241e-02  3.61770988e-02  1.88047835e-03\n",
      "  2.52134204e-02  8.34115371e-02 -6.62417263e-02 -3.61397630e-03\n",
      "  5.23760030e-03 -3.40149887e-02 -5.13611361e-02  9.22359154e-03\n",
      " -2.95947422e-04 -4.29218151e-02 -7.79432207e-02 -1.22671224e-01\n",
      "  1.14343323e-01  2.43597440e-02  4.34428453e-02 -7.55507033e-03\n",
      "  5.60747162e-02 -4.24268954e-02  2.85088122e-02 -5.15520051e-02\n",
      " -1.15847193e-01 -2.95232534e-02  1.59060210e-02 -7.67076612e-02\n",
      " -7.24411160e-02 -6.42627552e-02 -3.84893594e-03 -7.35060722e-02\n",
      " -7.36566782e-02  6.52989522e-02 -4.40047942e-02  1.55852037e-02\n",
      " -5.32786287e-02 -1.47678256e-02  3.73244025e-02 -1.96533296e-02\n",
      "  4.10952978e-02  7.87699819e-02  3.51437298e-03  7.07279071e-02\n",
      " -9.81757790e-03  2.19874885e-02 -2.70799175e-02 -2.93196631e-08\n",
      " -9.93607100e-04 -3.47202388e-03 -1.70023236e-02  3.19396965e-02\n",
      "  2.19447371e-02 -1.00979753e-01  3.13177630e-02 -1.36730764e-02\n",
      " -7.00431913e-02  4.16517891e-02 -4.04134281e-02  8.58637318e-02\n",
      "  1.06664069e-01 -8.27521235e-02  2.79824398e-02 -3.09998523e-02\n",
      " -5.39881773e-02  5.61485812e-02  2.26603635e-02 -9.24445391e-02\n",
      "  7.89330378e-02  5.67234233e-02  6.61876723e-02 -2.92831026e-02\n",
      " -3.43491510e-02  5.11618927e-02  3.05531248e-02  8.36155936e-02\n",
      " -6.06687414e-03 -9.40442830e-02  8.03753361e-02  4.45787720e-02\n",
      "  7.63060227e-02  1.40913751e-03 -7.37168640e-02  6.09920137e-02\n",
      " -3.42012532e-02 -1.34200286e-02  3.63459177e-02  2.33247988e-02\n",
      " -2.47631092e-02 -1.18940398e-01 -6.56449571e-02  6.23319633e-02\n",
      " -7.93475285e-02 -8.73614699e-02 -8.73609073e-03 -5.75731844e-02\n",
      "  4.84397523e-02 -2.90356595e-02  5.60217351e-03  4.37273420e-02\n",
      "  3.69234420e-02 -7.20847398e-02 -4.50705513e-02 -5.15923612e-02\n",
      " -1.15172314e-02  3.92001532e-02 -1.10580344e-02  2.38567940e-03\n",
      "  4.09197100e-02 -4.39885966e-02  1.47154396e-02 -1.28514003e-02]\n",
      "\n",
      "Sentence: Sinus rhythm.  Early precordial QRS transition is non-specific and may be a\n",
      "normal variant.  Since previous tracing of [**2199-8-26**] no significant change.\n",
      "\n",
      "\n",
      "Embedding: [-6.72637522e-02  1.59576233e-03 -1.55288782e-02 -3.02165318e-02\n",
      " -3.98784019e-02  3.92635353e-02 -8.65423679e-02 -1.14063621e-02\n",
      "  1.06295317e-01 -4.97022383e-02  4.92705815e-02  1.74160656e-02\n",
      " -6.04646690e-02  8.07060748e-02  4.79924418e-02 -1.20374374e-02\n",
      " -8.89074579e-02 -8.09740648e-02  5.41957989e-02 -9.84628592e-03\n",
      " -6.64091408e-02  9.36734229e-02 -6.53475709e-03 -3.39366719e-02\n",
      "  4.03420180e-02  2.69324034e-02 -1.41871609e-02  7.57738436e-03\n",
      "  9.32034031e-02 -4.08023968e-03  8.98870174e-03  1.14690304e-01\n",
      " -1.11516230e-02 -3.06420084e-02 -2.05820557e-02  1.02810943e-02\n",
      " -6.97678402e-02  5.64474054e-03  4.12661806e-02  6.08486980e-02\n",
      "  7.54523948e-02 -3.85657651e-03 -3.27725597e-02  9.07943491e-03\n",
      " -2.46787369e-02  6.99778125e-02 -6.22971281e-02  3.57535072e-02\n",
      " -6.61797598e-02 -3.59458551e-02  7.53704980e-02 -1.24165965e-02\n",
      "  8.35340563e-03  3.26489285e-03 -3.16288620e-02  7.89689273e-02\n",
      " -4.64960970e-02 -1.57352891e-02  5.72280549e-02  3.04532535e-02\n",
      " -1.02024749e-01  2.96344552e-02 -5.10706380e-02  3.64657026e-03\n",
      " -2.87204497e-02  3.09855156e-02  7.30670244e-02 -8.70874524e-02\n",
      "  6.85543567e-02  2.22597234e-02  1.19539462e-02 -7.97792245e-03\n",
      " -1.02777435e-02  9.17236879e-03 -4.62911539e-02  5.44906929e-02\n",
      " -2.24998482e-02  6.05459288e-02 -1.31224757e-02 -8.63330811e-02\n",
      "  4.58594906e-04  1.67292655e-02 -4.14448753e-02  7.69663649e-03\n",
      "  6.14894666e-02  5.13170287e-02  3.00365710e-03  5.12154773e-03\n",
      " -5.86825535e-02  9.45435464e-03  7.06446171e-02 -5.49617857e-02\n",
      " -3.06035765e-02  2.34188158e-02  1.58489719e-02 -1.46594625e-02\n",
      " -1.01969279e-02  2.14767028e-02  6.77973628e-02 -4.76627499e-02\n",
      "  2.31891982e-02 -9.43521317e-03  3.68766487e-02  8.06372240e-02\n",
      "  5.47952354e-02  4.87205246e-03  4.06945087e-02 -5.45268413e-03\n",
      " -2.30638590e-02 -2.08284892e-02  1.12474328e-02  5.15137911e-02\n",
      "  6.57211840e-02  6.87249145e-03  8.70552510e-02  3.43554355e-02\n",
      " -6.19583763e-02  1.19059481e-01  4.03219461e-02  6.37277737e-02\n",
      "  1.51331518e-02 -8.05712193e-02 -6.57896101e-02 -7.73225427e-02\n",
      " -7.10274205e-02 -1.17790215e-02 -1.36034966e-01  7.46322511e-35\n",
      "  4.21322845e-02 -2.61408724e-02 -3.94901782e-02 -3.10701728e-02\n",
      " -3.62974964e-02 -2.62128492e-03 -1.22220945e-02  4.36243275e-03\n",
      "  3.37264501e-02  3.18461508e-02 -4.39371727e-02 -3.73638906e-02\n",
      " -2.82568187e-02 -6.44032136e-02 -5.99495955e-02 -1.57953333e-02\n",
      " -6.46281913e-02 -4.86004017e-02 -5.01241684e-02 -6.84815422e-02\n",
      "  1.03667136e-02  3.50714214e-02 -3.24975885e-02 -5.72291352e-02\n",
      " -1.59301981e-02  6.07264154e-02 -2.79377541e-03 -9.22166090e-03\n",
      "  3.04754637e-03 -2.64207199e-02 -4.82467823e-02 -1.77284684e-02\n",
      " -3.60226864e-03 -7.07316324e-02 -4.42189537e-03  5.60355149e-02\n",
      "  7.30882883e-02 -2.55603492e-02  3.63143301e-03  4.68264450e-04\n",
      "  4.84097749e-02  5.49708791e-02 -3.72675024e-02 -1.50858704e-02\n",
      "  5.10725714e-02 -3.36996391e-02 -1.76437218e-02  9.55905952e-03\n",
      "  7.17957038e-03 -1.42947538e-02 -5.16055338e-02  3.15267742e-02\n",
      "  1.30999750e-02 -6.56896234e-02  7.00518582e-03 -2.35701781e-02\n",
      "  8.17492977e-02 -3.46546620e-02 -1.45231903e-01  9.67634376e-03\n",
      "  1.04778409e-01  1.20171187e-02 -7.98088592e-03 -3.02197784e-02\n",
      " -5.51389158e-02 -2.51863338e-03 -8.64134636e-03 -8.41905847e-02\n",
      " -2.19522957e-02  6.72378913e-02  4.65851985e-02  1.34559756e-03\n",
      " -1.22104203e-02 -6.39018835e-03  5.35532832e-02 -2.36707982e-02\n",
      "  2.80180890e-02  1.02604330e-01 -5.50998887e-03 -9.12583992e-02\n",
      " -1.12429401e-02  1.48962205e-02  3.63754369e-02  3.71178798e-02\n",
      "  2.98734885e-02 -3.07509508e-02  9.16170329e-02 -4.67822980e-03\n",
      " -1.03237487e-01  6.34724647e-02  1.09712824e-01  1.31586259e-02\n",
      " -6.67537039e-04  1.21265136e-01 -3.49585228e-02 -1.28466306e-33\n",
      " -4.78876084e-02  3.05871610e-02  7.41351470e-02 -5.97585067e-02\n",
      " -1.69139914e-02  3.57171409e-02  1.26164570e-01  1.07569799e-01\n",
      "  3.73291387e-03 -7.18730465e-02  9.68253985e-02  3.40890326e-02\n",
      "  6.24995399e-03 -5.32531291e-02  3.65269892e-02  8.04659724e-03\n",
      " -4.20075096e-02  4.22280543e-02  1.16204843e-02  8.89598280e-02\n",
      " -1.88314002e-02  2.24079825e-02 -6.05429485e-02 -2.19876021e-02\n",
      "  5.82475588e-02  3.61072784e-03  1.05932787e-01 -1.88983651e-03\n",
      " -2.52268203e-02 -2.99115665e-02 -5.35462946e-02 -4.31333371e-02\n",
      " -2.22050026e-02 -3.50352563e-02 -2.12428737e-02 -7.74055300e-03\n",
      " -8.89842678e-03 -2.64249723e-02 -7.12913051e-02 -6.45087212e-02\n",
      " -1.13113958e-03  7.06292167e-02  7.31423721e-02  5.71608506e-02\n",
      " -2.88014915e-02 -1.22609437e-02  2.31042299e-02 -4.38332651e-03\n",
      " -3.49832252e-02  4.69047241e-02  3.61770988e-02  1.88047835e-03\n",
      "  2.52134204e-02  8.34115371e-02 -6.62417263e-02 -3.61397630e-03\n",
      "  5.23760030e-03 -3.40149887e-02 -5.13611361e-02  9.22359154e-03\n",
      " -2.95947422e-04 -4.29218151e-02 -7.79432207e-02 -1.22671224e-01\n",
      "  1.14343323e-01  2.43597440e-02  4.34428453e-02 -7.55507033e-03\n",
      "  5.60747162e-02 -4.24268954e-02  2.85088122e-02 -5.15520051e-02\n",
      " -1.15847193e-01 -2.95232534e-02  1.59060210e-02 -7.67076612e-02\n",
      " -7.24411160e-02 -6.42627552e-02 -3.84893594e-03 -7.35060722e-02\n",
      " -7.36566782e-02  6.52989522e-02 -4.40047942e-02  1.55852037e-02\n",
      " -5.32786287e-02 -1.47678256e-02  3.73244025e-02 -1.96533296e-02\n",
      "  4.10952978e-02  7.87699819e-02  3.51437298e-03  7.07279071e-02\n",
      " -9.81757790e-03  2.19874885e-02 -2.70799175e-02 -2.93196631e-08\n",
      " -9.93607100e-04 -3.47202388e-03 -1.70023236e-02  3.19396965e-02\n",
      "  2.19447371e-02 -1.00979753e-01  3.13177630e-02 -1.36730764e-02\n",
      " -7.00431913e-02  4.16517891e-02 -4.04134281e-02  8.58637318e-02\n",
      "  1.06664069e-01 -8.27521235e-02  2.79824398e-02 -3.09998523e-02\n",
      " -5.39881773e-02  5.61485812e-02  2.26603635e-02 -9.24445391e-02\n",
      "  7.89330378e-02  5.67234233e-02  6.61876723e-02 -2.92831026e-02\n",
      " -3.43491510e-02  5.11618927e-02  3.05531248e-02  8.36155936e-02\n",
      " -6.06687414e-03 -9.40442830e-02  8.03753361e-02  4.45787720e-02\n",
      "  7.63060227e-02  1.40913751e-03 -7.37168640e-02  6.09920137e-02\n",
      " -3.42012532e-02 -1.34200286e-02  3.63459177e-02  2.33247988e-02\n",
      " -2.47631092e-02 -1.18940398e-01 -6.56449571e-02  6.23319633e-02\n",
      " -7.93475285e-02 -8.73614699e-02 -8.73609073e-03 -5.75731844e-02\n",
      "  4.84397523e-02 -2.90356595e-02  5.60217351e-03  4.37273420e-02\n",
      "  3.69234420e-02 -7.20847398e-02 -4.50705513e-02 -5.15923612e-02\n",
      " -1.15172314e-02  3.92001532e-02 -1.10580344e-02  2.38567940e-03\n",
      "  4.09197100e-02 -4.39885966e-02  1.47154396e-02 -1.28514003e-02]\n",
      "\n"
     ]
    }
   ],
   "source": [
    "for sentence, embedding in zip(sentences, sentence_embeddings):\n",
    "    print(\"Sentence:\", sentence)\n",
    "    print(\"Embedding:\", embedding)\n",
    "    print(\"\")"
   ]
  },
  {
   "cell_type": "markdown",
   "id": "6225066b",
   "metadata": {},
   "source": [
    "## Universal Sentence Encoder"
   ]
  },
  {
   "cell_type": "code",
   "execution_count": 56,
   "id": "8f8b9a63",
   "metadata": {
    "scrolled": true
   },
   "outputs": [
    {
     "name": "stdout",
     "output_type": "stream",
     "text": [
      "Collecting tensorflow-gpu\n",
      "  Downloading tensorflow_gpu-2.7.0-cp38-cp38-manylinux2010_x86_64.whl (489.6 MB)\n",
      "     |████████████████████████████████| 489.6 MB 14 kB/s              \n",
      "\u001b[?25hRequirement already satisfied: astunparse>=1.6.0 in /home/sanjaycollege15/anaconda3/lib/python3.8/site-packages (from tensorflow-gpu) (1.6.3)\n",
      "Requirement already satisfied: gast<0.5.0,>=0.2.1 in /home/sanjaycollege15/anaconda3/lib/python3.8/site-packages (from tensorflow-gpu) (0.3.3)\n",
      "Requirement already satisfied: flatbuffers<3.0,>=1.12 in /home/sanjaycollege15/anaconda3/lib/python3.8/site-packages (from tensorflow-gpu) (1.12)\n",
      "Requirement already satisfied: wrapt>=1.11.0 in /home/sanjaycollege15/anaconda3/lib/python3.8/site-packages (from tensorflow-gpu) (1.12.1)\n",
      "Collecting libclang>=9.0.1\n",
      "  Downloading libclang-12.0.0-py2.py3-none-manylinux1_x86_64.whl (13.4 MB)\n",
      "     |████████████████████████████████| 13.4 MB 27.7 MB/s            \n",
      "\u001b[?25hRequirement already satisfied: six>=1.12.0 in /home/sanjaycollege15/anaconda3/lib/python3.8/site-packages (from tensorflow-gpu) (1.15.0)\n",
      "Requirement already satisfied: tensorboard~=2.6 in /home/sanjaycollege15/anaconda3/lib/python3.8/site-packages (from tensorflow-gpu) (2.6.0)\n",
      "Requirement already satisfied: opt-einsum>=2.3.2 in /home/sanjaycollege15/anaconda3/lib/python3.8/site-packages (from tensorflow-gpu) (3.3.0)\n",
      "Requirement already satisfied: termcolor>=1.1.0 in /home/sanjaycollege15/anaconda3/lib/python3.8/site-packages (from tensorflow-gpu) (1.1.0)\n",
      "Requirement already satisfied: keras-preprocessing>=1.1.1 in /home/sanjaycollege15/anaconda3/lib/python3.8/site-packages (from tensorflow-gpu) (1.1.2)\n",
      "Requirement already satisfied: wheel<1.0,>=0.32.0 in /home/sanjaycollege15/anaconda3/lib/python3.8/site-packages (from tensorflow-gpu) (0.36.2)\n",
      "Collecting keras<2.8,>=2.7.0rc0\n",
      "  Downloading keras-2.7.0-py2.py3-none-any.whl (1.3 MB)\n",
      "     |████████████████████████████████| 1.3 MB 34.3 MB/s            \n",
      "\u001b[?25hCollecting tensorflow-io-gcs-filesystem>=0.21.0\n",
      "  Downloading tensorflow_io_gcs_filesystem-0.21.0-cp38-cp38-manylinux_2_12_x86_64.manylinux2010_x86_64.whl (2.1 MB)\n",
      "     |████████████████████████████████| 2.1 MB 16.9 MB/s            \n",
      "\u001b[?25hRequirement already satisfied: grpcio<2.0,>=1.24.3 in /home/sanjaycollege15/anaconda3/lib/python3.8/site-packages (from tensorflow-gpu) (1.41.1)\n",
      "Requirement already satisfied: google-pasta>=0.1.1 in /home/sanjaycollege15/anaconda3/lib/python3.8/site-packages (from tensorflow-gpu) (0.2.0)\n",
      "Requirement already satisfied: numpy>=1.14.5 in /home/sanjaycollege15/anaconda3/lib/python3.8/site-packages (from tensorflow-gpu) (1.19.5)\n",
      "Requirement already satisfied: h5py>=2.9.0 in /home/sanjaycollege15/anaconda3/lib/python3.8/site-packages (from tensorflow-gpu) (2.10.0)\n",
      "Requirement already satisfied: typing-extensions>=3.6.6 in /home/sanjaycollege15/anaconda3/lib/python3.8/site-packages (from tensorflow-gpu) (3.7.4.3)\n",
      "Collecting tensorflow-estimator<2.8,~=2.7.0rc0\n",
      "  Downloading tensorflow_estimator-2.7.0-py2.py3-none-any.whl (463 kB)\n",
      "     |████████████████████████████████| 463 kB 34.3 MB/s            \n",
      "\u001b[?25hRequirement already satisfied: absl-py>=0.4.0 in /home/sanjaycollege15/anaconda3/lib/python3.8/site-packages (from tensorflow-gpu) (0.14.0)\n",
      "Requirement already satisfied: protobuf>=3.9.2 in /home/sanjaycollege15/anaconda3/lib/python3.8/site-packages (from tensorflow-gpu) (3.19.1)\n",
      "Requirement already satisfied: google-auth-oauthlib<0.5,>=0.4.1 in /home/sanjaycollege15/anaconda3/lib/python3.8/site-packages (from tensorboard~=2.6->tensorflow-gpu) (0.4.6)\n",
      "Requirement already satisfied: setuptools>=41.0.0 in /home/sanjaycollege15/anaconda3/lib/python3.8/site-packages (from tensorboard~=2.6->tensorflow-gpu) (52.0.0.post20210125)\n",
      "Requirement already satisfied: markdown>=2.6.8 in /home/sanjaycollege15/anaconda3/lib/python3.8/site-packages (from tensorboard~=2.6->tensorflow-gpu) (3.3.4)\n",
      "Requirement already satisfied: tensorboard-plugin-wit>=1.6.0 in /home/sanjaycollege15/anaconda3/lib/python3.8/site-packages (from tensorboard~=2.6->tensorflow-gpu) (1.8.0)\n",
      "Requirement already satisfied: tensorboard-data-server<0.7.0,>=0.6.0 in /home/sanjaycollege15/anaconda3/lib/python3.8/site-packages (from tensorboard~=2.6->tensorflow-gpu) (0.6.1)\n",
      "Requirement already satisfied: requests<3,>=2.21.0 in /home/sanjaycollege15/anaconda3/lib/python3.8/site-packages (from tensorboard~=2.6->tensorflow-gpu) (2.25.1)\n",
      "Requirement already satisfied: google-auth<2,>=1.6.3 in /home/sanjaycollege15/anaconda3/lib/python3.8/site-packages (from tensorboard~=2.6->tensorflow-gpu) (1.35.0)\n",
      "Requirement already satisfied: werkzeug>=0.11.15 in /home/sanjaycollege15/anaconda3/lib/python3.8/site-packages (from tensorboard~=2.6->tensorflow-gpu) (1.0.1)\n",
      "Requirement already satisfied: rsa<5,>=3.1.4 in /home/sanjaycollege15/anaconda3/lib/python3.8/site-packages (from google-auth<2,>=1.6.3->tensorboard~=2.6->tensorflow-gpu) (4.7.2)\n",
      "Requirement already satisfied: pyasn1-modules>=0.2.1 in /home/sanjaycollege15/anaconda3/lib/python3.8/site-packages (from google-auth<2,>=1.6.3->tensorboard~=2.6->tensorflow-gpu) (0.2.8)\n",
      "Requirement already satisfied: cachetools<5.0,>=2.0.0 in /home/sanjaycollege15/anaconda3/lib/python3.8/site-packages (from google-auth<2,>=1.6.3->tensorboard~=2.6->tensorflow-gpu) (4.2.2)\n",
      "Requirement already satisfied: requests-oauthlib>=0.7.0 in /home/sanjaycollege15/anaconda3/lib/python3.8/site-packages (from google-auth-oauthlib<0.5,>=0.4.1->tensorboard~=2.6->tensorflow-gpu) (1.3.0)\n",
      "Requirement already satisfied: chardet<5,>=3.0.2 in /home/sanjaycollege15/anaconda3/lib/python3.8/site-packages (from requests<3,>=2.21.0->tensorboard~=2.6->tensorflow-gpu) (4.0.0)\n",
      "Requirement already satisfied: certifi>=2017.4.17 in /home/sanjaycollege15/anaconda3/lib/python3.8/site-packages (from requests<3,>=2.21.0->tensorboard~=2.6->tensorflow-gpu) (2020.12.5)\n",
      "Requirement already satisfied: urllib3<1.27,>=1.21.1 in /home/sanjaycollege15/anaconda3/lib/python3.8/site-packages (from requests<3,>=2.21.0->tensorboard~=2.6->tensorflow-gpu) (1.26.4)\n",
      "Requirement already satisfied: idna<3,>=2.5 in /home/sanjaycollege15/anaconda3/lib/python3.8/site-packages (from requests<3,>=2.21.0->tensorboard~=2.6->tensorflow-gpu) (2.10)\n",
      "Requirement already satisfied: pyasn1<0.5.0,>=0.4.6 in /home/sanjaycollege15/anaconda3/lib/python3.8/site-packages (from pyasn1-modules>=0.2.1->google-auth<2,>=1.6.3->tensorboard~=2.6->tensorflow-gpu) (0.4.8)\n",
      "Requirement already satisfied: oauthlib>=3.0.0 in /home/sanjaycollege15/anaconda3/lib/python3.8/site-packages (from requests-oauthlib>=0.7.0->google-auth-oauthlib<0.5,>=0.4.1->tensorboard~=2.6->tensorflow-gpu) (3.1.1)\n",
      "Installing collected packages: tensorflow-io-gcs-filesystem, tensorflow-estimator, libclang, keras, tensorflow-gpu\n",
      "  Attempting uninstall: tensorflow-estimator\n",
      "    Found existing installation: tensorflow-estimator 2.4.0\n",
      "    Uninstalling tensorflow-estimator-2.4.0:\n",
      "      Successfully uninstalled tensorflow-estimator-2.4.0\n",
      "\u001b[31mERROR: pip's dependency resolver does not currently take into account all the packages that are installed. This behaviour is the source of the following dependency conflicts.\n",
      "tensorflow 2.4.1 requires grpcio~=1.32.0, but you have grpcio 1.41.1 which is incompatible.\n",
      "tensorflow 2.4.1 requires tensorflow-estimator<2.5.0,>=2.4.0, but you have tensorflow-estimator 2.7.0 which is incompatible.\u001b[0m\n",
      "Successfully installed keras-2.7.0 libclang-12.0.0 tensorflow-estimator-2.7.0 tensorflow-gpu-2.7.0 tensorflow-io-gcs-filesystem-0.21.0\n",
      "Collecting tensorflow-hub\n",
      "  Downloading tensorflow_hub-0.12.0-py2.py3-none-any.whl (108 kB)\n",
      "     |████████████████████████████████| 108 kB 5.4 MB/s            \n",
      "\u001b[?25hRequirement already satisfied: numpy>=1.12.0 in /home/sanjaycollege15/anaconda3/lib/python3.8/site-packages (from tensorflow-hub) (1.19.5)\n",
      "Requirement already satisfied: protobuf>=3.8.0 in /home/sanjaycollege15/anaconda3/lib/python3.8/site-packages (from tensorflow-hub) (3.19.1)\n",
      "Installing collected packages: tensorflow-hub\n",
      "Successfully installed tensorflow-hub-0.12.0\n"
     ]
    }
   ],
   "source": [
    "!pip3 install --upgrade tensorflow-gpu\n",
    "# Install TF-Hub.\n",
    "!pip3 install tensorflow-hub"
   ]
  },
  {
   "cell_type": "code",
   "execution_count": 63,
   "id": "914fd010",
   "metadata": {},
   "outputs": [
    {
     "ename": "AlreadyExistsError",
     "evalue": "Another metric with the same name already exists.",
     "output_type": "error",
     "traceback": [
      "\u001b[0;31m---------------------------------------------------------------------------\u001b[0m",
      "\u001b[0;31mAlreadyExistsError\u001b[0m                        Traceback (most recent call last)",
      "\u001b[0;32m<ipython-input-63-ae25cc1fd345>\u001b[0m in \u001b[0;36m<module>\u001b[0;34m\u001b[0m\n\u001b[1;32m      1\u001b[0m \u001b[0;32mimport\u001b[0m \u001b[0mtensorflow\u001b[0m \u001b[0;32mas\u001b[0m \u001b[0mtf\u001b[0m\u001b[0;34m\u001b[0m\u001b[0;34m\u001b[0m\u001b[0m\n\u001b[0;32m----> 2\u001b[0;31m \u001b[0;32mimport\u001b[0m \u001b[0mtensorflow_hub\u001b[0m \u001b[0;32mas\u001b[0m \u001b[0mhub\u001b[0m\u001b[0;34m\u001b[0m\u001b[0;34m\u001b[0m\u001b[0m\n\u001b[0m",
      "\u001b[0;32m~/anaconda3/lib/python3.8/site-packages/tensorflow_hub/__init__.py\u001b[0m in \u001b[0;36m<module>\u001b[0;34m\u001b[0m\n\u001b[1;32m     86\u001b[0m \u001b[0;34m\u001b[0m\u001b[0m\n\u001b[1;32m     87\u001b[0m \u001b[0;34m\u001b[0m\u001b[0m\n\u001b[0;32m---> 88\u001b[0;31m \u001b[0;32mfrom\u001b[0m \u001b[0mtensorflow_hub\u001b[0m\u001b[0;34m.\u001b[0m\u001b[0mestimator\u001b[0m \u001b[0;32mimport\u001b[0m \u001b[0mLatestModuleExporter\u001b[0m\u001b[0;34m\u001b[0m\u001b[0;34m\u001b[0m\u001b[0m\n\u001b[0m\u001b[1;32m     89\u001b[0m \u001b[0;32mfrom\u001b[0m \u001b[0mtensorflow_hub\u001b[0m\u001b[0;34m.\u001b[0m\u001b[0mestimator\u001b[0m \u001b[0;32mimport\u001b[0m \u001b[0mregister_module_for_export\u001b[0m\u001b[0;34m\u001b[0m\u001b[0;34m\u001b[0m\u001b[0m\n\u001b[1;32m     90\u001b[0m \u001b[0;32mfrom\u001b[0m \u001b[0mtensorflow_hub\u001b[0m\u001b[0;34m.\u001b[0m\u001b[0mfeature_column\u001b[0m \u001b[0;32mimport\u001b[0m \u001b[0mimage_embedding_column\u001b[0m\u001b[0;34m\u001b[0m\u001b[0;34m\u001b[0m\u001b[0m\n",
      "\u001b[0;32m~/anaconda3/lib/python3.8/site-packages/tensorflow_hub/estimator.py\u001b[0m in \u001b[0;36m<module>\u001b[0;34m\u001b[0m\n\u001b[1;32m     60\u001b[0m \u001b[0;34m\u001b[0m\u001b[0m\n\u001b[1;32m     61\u001b[0m \u001b[0;34m\u001b[0m\u001b[0m\n\u001b[0;32m---> 62\u001b[0;31m \u001b[0;32mclass\u001b[0m \u001b[0mLatestModuleExporter\u001b[0m\u001b[0;34m(\u001b[0m\u001b[0mtf\u001b[0m\u001b[0;34m.\u001b[0m\u001b[0mcompat\u001b[0m\u001b[0;34m.\u001b[0m\u001b[0mv1\u001b[0m\u001b[0;34m.\u001b[0m\u001b[0mestimator\u001b[0m\u001b[0;34m.\u001b[0m\u001b[0mExporter\u001b[0m\u001b[0;34m)\u001b[0m\u001b[0;34m:\u001b[0m\u001b[0;34m\u001b[0m\u001b[0;34m\u001b[0m\u001b[0m\n\u001b[0m\u001b[1;32m     63\u001b[0m   \"\"\"Regularly exports registered modules into timestamped directories.\n\u001b[1;32m     64\u001b[0m \u001b[0;34m\u001b[0m\u001b[0m\n",
      "\u001b[0;32m~/anaconda3/lib/python3.8/site-packages/tensorflow/python/util/lazy_loader.py\u001b[0m in \u001b[0;36m__getattr__\u001b[0;34m(self, item)\u001b[0m\n\u001b[1;32m     60\u001b[0m \u001b[0;34m\u001b[0m\u001b[0m\n\u001b[1;32m     61\u001b[0m   \u001b[0;32mdef\u001b[0m \u001b[0m__getattr__\u001b[0m\u001b[0;34m(\u001b[0m\u001b[0mself\u001b[0m\u001b[0;34m,\u001b[0m \u001b[0mitem\u001b[0m\u001b[0;34m)\u001b[0m\u001b[0;34m:\u001b[0m\u001b[0;34m\u001b[0m\u001b[0;34m\u001b[0m\u001b[0m\n\u001b[0;32m---> 62\u001b[0;31m     \u001b[0mmodule\u001b[0m \u001b[0;34m=\u001b[0m \u001b[0mself\u001b[0m\u001b[0;34m.\u001b[0m\u001b[0m_load\u001b[0m\u001b[0;34m(\u001b[0m\u001b[0;34m)\u001b[0m\u001b[0;34m\u001b[0m\u001b[0;34m\u001b[0m\u001b[0m\n\u001b[0m\u001b[1;32m     63\u001b[0m     \u001b[0;32mreturn\u001b[0m \u001b[0mgetattr\u001b[0m\u001b[0;34m(\u001b[0m\u001b[0mmodule\u001b[0m\u001b[0;34m,\u001b[0m \u001b[0mitem\u001b[0m\u001b[0;34m)\u001b[0m\u001b[0;34m\u001b[0m\u001b[0;34m\u001b[0m\u001b[0m\n\u001b[1;32m     64\u001b[0m \u001b[0;34m\u001b[0m\u001b[0m\n",
      "\u001b[0;32m~/anaconda3/lib/python3.8/site-packages/tensorflow/python/util/lazy_loader.py\u001b[0m in \u001b[0;36m_load\u001b[0;34m(self)\u001b[0m\n\u001b[1;32m     43\u001b[0m     \u001b[0;34m\"\"\"Load the module and insert it into the parent's globals.\"\"\"\u001b[0m\u001b[0;34m\u001b[0m\u001b[0;34m\u001b[0m\u001b[0m\n\u001b[1;32m     44\u001b[0m     \u001b[0;31m# Import the target module and insert it into the parent's namespace\u001b[0m\u001b[0;34m\u001b[0m\u001b[0;34m\u001b[0m\u001b[0;34m\u001b[0m\u001b[0m\n\u001b[0;32m---> 45\u001b[0;31m     \u001b[0mmodule\u001b[0m \u001b[0;34m=\u001b[0m \u001b[0mimportlib\u001b[0m\u001b[0;34m.\u001b[0m\u001b[0mimport_module\u001b[0m\u001b[0;34m(\u001b[0m\u001b[0mself\u001b[0m\u001b[0;34m.\u001b[0m\u001b[0m__name__\u001b[0m\u001b[0;34m)\u001b[0m\u001b[0;34m\u001b[0m\u001b[0;34m\u001b[0m\u001b[0m\n\u001b[0m\u001b[1;32m     46\u001b[0m     \u001b[0mself\u001b[0m\u001b[0;34m.\u001b[0m\u001b[0m_parent_module_globals\u001b[0m\u001b[0;34m[\u001b[0m\u001b[0mself\u001b[0m\u001b[0;34m.\u001b[0m\u001b[0m_local_name\u001b[0m\u001b[0;34m]\u001b[0m \u001b[0;34m=\u001b[0m \u001b[0mmodule\u001b[0m\u001b[0;34m\u001b[0m\u001b[0;34m\u001b[0m\u001b[0m\n\u001b[1;32m     47\u001b[0m \u001b[0;34m\u001b[0m\u001b[0m\n",
      "\u001b[0;32m~/anaconda3/lib/python3.8/importlib/__init__.py\u001b[0m in \u001b[0;36mimport_module\u001b[0;34m(name, package)\u001b[0m\n\u001b[1;32m    125\u001b[0m                 \u001b[0;32mbreak\u001b[0m\u001b[0;34m\u001b[0m\u001b[0;34m\u001b[0m\u001b[0m\n\u001b[1;32m    126\u001b[0m             \u001b[0mlevel\u001b[0m \u001b[0;34m+=\u001b[0m \u001b[0;36m1\u001b[0m\u001b[0;34m\u001b[0m\u001b[0;34m\u001b[0m\u001b[0m\n\u001b[0;32m--> 127\u001b[0;31m     \u001b[0;32mreturn\u001b[0m \u001b[0m_bootstrap\u001b[0m\u001b[0;34m.\u001b[0m\u001b[0m_gcd_import\u001b[0m\u001b[0;34m(\u001b[0m\u001b[0mname\u001b[0m\u001b[0;34m[\u001b[0m\u001b[0mlevel\u001b[0m\u001b[0;34m:\u001b[0m\u001b[0;34m]\u001b[0m\u001b[0;34m,\u001b[0m \u001b[0mpackage\u001b[0m\u001b[0;34m,\u001b[0m \u001b[0mlevel\u001b[0m\u001b[0;34m)\u001b[0m\u001b[0;34m\u001b[0m\u001b[0;34m\u001b[0m\u001b[0m\n\u001b[0m\u001b[1;32m    128\u001b[0m \u001b[0;34m\u001b[0m\u001b[0m\n\u001b[1;32m    129\u001b[0m \u001b[0;34m\u001b[0m\u001b[0m\n",
      "\u001b[0;32m~/anaconda3/lib/python3.8/site-packages/tensorflow_estimator/python/estimator/api/_v1/estimator/__init__.py\u001b[0m in \u001b[0;36m<module>\u001b[0;34m\u001b[0m\n\u001b[1;32m      8\u001b[0m \u001b[0;32mimport\u001b[0m \u001b[0msys\u001b[0m \u001b[0;32mas\u001b[0m \u001b[0m_sys\u001b[0m\u001b[0;34m\u001b[0m\u001b[0;34m\u001b[0m\u001b[0m\n\u001b[1;32m      9\u001b[0m \u001b[0;34m\u001b[0m\u001b[0m\n\u001b[0;32m---> 10\u001b[0;31m \u001b[0;32mfrom\u001b[0m \u001b[0mtensorflow_estimator\u001b[0m\u001b[0;34m.\u001b[0m\u001b[0mpython\u001b[0m\u001b[0;34m.\u001b[0m\u001b[0mestimator\u001b[0m\u001b[0;34m.\u001b[0m\u001b[0mapi\u001b[0m\u001b[0;34m.\u001b[0m\u001b[0m_v1\u001b[0m\u001b[0;34m.\u001b[0m\u001b[0mestimator\u001b[0m \u001b[0;32mimport\u001b[0m \u001b[0mexperimental\u001b[0m\u001b[0;34m\u001b[0m\u001b[0;34m\u001b[0m\u001b[0m\n\u001b[0m\u001b[1;32m     11\u001b[0m \u001b[0;32mfrom\u001b[0m \u001b[0mtensorflow_estimator\u001b[0m\u001b[0;34m.\u001b[0m\u001b[0mpython\u001b[0m\u001b[0;34m.\u001b[0m\u001b[0mestimator\u001b[0m\u001b[0;34m.\u001b[0m\u001b[0mapi\u001b[0m\u001b[0;34m.\u001b[0m\u001b[0m_v1\u001b[0m\u001b[0;34m.\u001b[0m\u001b[0mestimator\u001b[0m \u001b[0;32mimport\u001b[0m \u001b[0mexport\u001b[0m\u001b[0;34m\u001b[0m\u001b[0;34m\u001b[0m\u001b[0m\n\u001b[1;32m     12\u001b[0m \u001b[0;32mfrom\u001b[0m \u001b[0mtensorflow_estimator\u001b[0m\u001b[0;34m.\u001b[0m\u001b[0mpython\u001b[0m\u001b[0;34m.\u001b[0m\u001b[0mestimator\u001b[0m\u001b[0;34m.\u001b[0m\u001b[0mapi\u001b[0m\u001b[0;34m.\u001b[0m\u001b[0m_v1\u001b[0m\u001b[0;34m.\u001b[0m\u001b[0mestimator\u001b[0m \u001b[0;32mimport\u001b[0m \u001b[0minputs\u001b[0m\u001b[0;34m\u001b[0m\u001b[0;34m\u001b[0m\u001b[0m\n",
      "\u001b[0;32m~/anaconda3/lib/python3.8/site-packages/tensorflow_estimator/python/estimator/api/_v1/estimator/experimental/__init__.py\u001b[0m in \u001b[0;36m<module>\u001b[0;34m\u001b[0m\n\u001b[1;32m      8\u001b[0m \u001b[0;32mimport\u001b[0m \u001b[0msys\u001b[0m \u001b[0;32mas\u001b[0m \u001b[0m_sys\u001b[0m\u001b[0;34m\u001b[0m\u001b[0;34m\u001b[0m\u001b[0m\n\u001b[1;32m      9\u001b[0m \u001b[0;34m\u001b[0m\u001b[0m\n\u001b[0;32m---> 10\u001b[0;31m \u001b[0;32mfrom\u001b[0m \u001b[0mtensorflow_estimator\u001b[0m\u001b[0;34m.\u001b[0m\u001b[0mpython\u001b[0m\u001b[0;34m.\u001b[0m\u001b[0mestimator\u001b[0m\u001b[0;34m.\u001b[0m\u001b[0mcanned\u001b[0m\u001b[0;34m.\u001b[0m\u001b[0mdnn\u001b[0m \u001b[0;32mimport\u001b[0m \u001b[0mdnn_logit_fn_builder\u001b[0m\u001b[0;34m\u001b[0m\u001b[0;34m\u001b[0m\u001b[0m\n\u001b[0m\u001b[1;32m     11\u001b[0m \u001b[0;32mfrom\u001b[0m \u001b[0mtensorflow_estimator\u001b[0m\u001b[0;34m.\u001b[0m\u001b[0mpython\u001b[0m\u001b[0;34m.\u001b[0m\u001b[0mestimator\u001b[0m\u001b[0;34m.\u001b[0m\u001b[0mcanned\u001b[0m\u001b[0;34m.\u001b[0m\u001b[0mkmeans\u001b[0m \u001b[0;32mimport\u001b[0m \u001b[0mKMeansClustering\u001b[0m \u001b[0;32mas\u001b[0m \u001b[0mKMeans\u001b[0m\u001b[0;34m\u001b[0m\u001b[0;34m\u001b[0m\u001b[0m\n\u001b[1;32m     12\u001b[0m \u001b[0;32mfrom\u001b[0m \u001b[0mtensorflow_estimator\u001b[0m\u001b[0;34m.\u001b[0m\u001b[0mpython\u001b[0m\u001b[0;34m.\u001b[0m\u001b[0mestimator\u001b[0m\u001b[0;34m.\u001b[0m\u001b[0mcanned\u001b[0m\u001b[0;34m.\u001b[0m\u001b[0mlinear\u001b[0m \u001b[0;32mimport\u001b[0m \u001b[0mLinearSDCA\u001b[0m\u001b[0;34m\u001b[0m\u001b[0;34m\u001b[0m\u001b[0m\n",
      "\u001b[0;32m~/anaconda3/lib/python3.8/site-packages/tensorflow_estimator/python/estimator/canned/dnn.py\u001b[0m in \u001b[0;36m<module>\u001b[0;34m\u001b[0m\n\u001b[1;32m     25\u001b[0m \u001b[0;32mfrom\u001b[0m \u001b[0mtensorflow\u001b[0m\u001b[0;34m.\u001b[0m\u001b[0mpython\u001b[0m\u001b[0;34m.\u001b[0m\u001b[0mframework\u001b[0m \u001b[0;32mimport\u001b[0m \u001b[0mops\u001b[0m\u001b[0;34m\u001b[0m\u001b[0;34m\u001b[0m\u001b[0m\n\u001b[1;32m     26\u001b[0m \u001b[0;32mfrom\u001b[0m \u001b[0mtensorflow\u001b[0m\u001b[0;34m.\u001b[0m\u001b[0mpython\u001b[0m\u001b[0;34m.\u001b[0m\u001b[0mutil\u001b[0m\u001b[0;34m.\u001b[0m\u001b[0mtf_export\u001b[0m \u001b[0;32mimport\u001b[0m \u001b[0mestimator_export\u001b[0m\u001b[0;34m\u001b[0m\u001b[0;34m\u001b[0m\u001b[0m\n\u001b[0;32m---> 27\u001b[0;31m \u001b[0;32mfrom\u001b[0m \u001b[0mtensorflow_estimator\u001b[0m\u001b[0;34m.\u001b[0m\u001b[0mpython\u001b[0m\u001b[0;34m.\u001b[0m\u001b[0mestimator\u001b[0m \u001b[0;32mimport\u001b[0m \u001b[0mestimator\u001b[0m\u001b[0;34m\u001b[0m\u001b[0;34m\u001b[0m\u001b[0m\n\u001b[0m\u001b[1;32m     28\u001b[0m \u001b[0;32mfrom\u001b[0m \u001b[0mtensorflow_estimator\u001b[0m\u001b[0;34m.\u001b[0m\u001b[0mpython\u001b[0m\u001b[0;34m.\u001b[0m\u001b[0mestimator\u001b[0m\u001b[0;34m.\u001b[0m\u001b[0mcanned\u001b[0m \u001b[0;32mimport\u001b[0m \u001b[0mhead\u001b[0m \u001b[0;32mas\u001b[0m \u001b[0mhead_lib\u001b[0m\u001b[0;34m\u001b[0m\u001b[0;34m\u001b[0m\u001b[0m\n\u001b[1;32m     29\u001b[0m \u001b[0;32mfrom\u001b[0m \u001b[0mtensorflow_estimator\u001b[0m\u001b[0;34m.\u001b[0m\u001b[0mpython\u001b[0m\u001b[0;34m.\u001b[0m\u001b[0mestimator\u001b[0m\u001b[0;34m.\u001b[0m\u001b[0mcanned\u001b[0m \u001b[0;32mimport\u001b[0m \u001b[0moptimizers\u001b[0m\u001b[0;34m\u001b[0m\u001b[0;34m\u001b[0m\u001b[0m\n",
      "\u001b[0;32m~/anaconda3/lib/python3.8/site-packages/tensorflow_estimator/python/estimator/estimator.py\u001b[0m in \u001b[0;36m<module>\u001b[0;34m\u001b[0m\n\u001b[1;32m     59\u001b[0m _VALID_MODEL_FN_ARGS = set(\n\u001b[1;32m     60\u001b[0m     ['features', 'labels', 'mode', 'params', 'self', 'config'])\n\u001b[0;32m---> 61\u001b[0;31m _estimator_api_gauge = monitoring.BoolGauge('/tensorflow/api/estimator',\n\u001b[0m\u001b[1;32m     62\u001b[0m                                             'estimator api usage', 'method')\n\u001b[1;32m     63\u001b[0m \u001b[0;34m\u001b[0m\u001b[0m\n",
      "\u001b[0;32m~/anaconda3/lib/python3.8/site-packages/tensorflow/python/eager/monitoring.py\u001b[0m in \u001b[0;36m__init__\u001b[0;34m(self, name, description, *labels)\u001b[0m\n\u001b[1;32m    348\u001b[0m   \"\"\"\n\u001b[1;32m    349\u001b[0m \u001b[0;34m\u001b[0m\u001b[0m\n\u001b[0;32m--> 350\u001b[0;31m   \u001b[0m__slots__\u001b[0m \u001b[0;34m=\u001b[0m \u001b[0;34m[\u001b[0m\u001b[0;34m]\u001b[0m\u001b[0;34m\u001b[0m\u001b[0;34m\u001b[0m\u001b[0m\n\u001b[0m\u001b[1;32m    351\u001b[0m \u001b[0;34m\u001b[0m\u001b[0m\n\u001b[1;32m    352\u001b[0m   \u001b[0;32mdef\u001b[0m \u001b[0m__init__\u001b[0m\u001b[0;34m(\u001b[0m\u001b[0mself\u001b[0m\u001b[0;34m,\u001b[0m \u001b[0mname\u001b[0m\u001b[0;34m,\u001b[0m \u001b[0mdescription\u001b[0m\u001b[0;34m,\u001b[0m \u001b[0;34m*\u001b[0m\u001b[0mlabels\u001b[0m\u001b[0;34m)\u001b[0m\u001b[0;34m:\u001b[0m\u001b[0;34m\u001b[0m\u001b[0;34m\u001b[0m\u001b[0m\n",
      "\u001b[0;32m~/anaconda3/lib/python3.8/site-packages/tensorflow/python/eager/monitoring.py\u001b[0m in \u001b[0;36m__init__\u001b[0;34m(self, metric_name, metric_methods, label_length, *args)\u001b[0m\n\u001b[1;32m    124\u001b[0m       \u001b[0mlabel_length\u001b[0m\u001b[0;34m:\u001b[0m \u001b[0mlength\u001b[0m \u001b[0mof\u001b[0m \u001b[0mlabel\u001b[0m \u001b[0margs\u001b[0m\u001b[0;34m.\u001b[0m\u001b[0;34m\u001b[0m\u001b[0;34m\u001b[0m\u001b[0m\n\u001b[1;32m    125\u001b[0m       \u001b[0;34m*\u001b[0m\u001b[0margs\u001b[0m\u001b[0;34m:\u001b[0m \u001b[0mthe\u001b[0m \u001b[0marguments\u001b[0m \u001b[0mto\u001b[0m \u001b[0mcall\u001b[0m \u001b[0mcreate\u001b[0m \u001b[0mmethod\u001b[0m\u001b[0;34m.\u001b[0m\u001b[0;34m\u001b[0m\u001b[0;34m\u001b[0m\u001b[0m\n\u001b[0;32m--> 126\u001b[0;31m     \"\"\"\n\u001b[0m\u001b[1;32m    127\u001b[0m     \u001b[0mself\u001b[0m\u001b[0;34m.\u001b[0m\u001b[0m_metric_name\u001b[0m \u001b[0;34m=\u001b[0m \u001b[0mmetric_name\u001b[0m\u001b[0;34m\u001b[0m\u001b[0;34m\u001b[0m\u001b[0m\n\u001b[1;32m    128\u001b[0m     \u001b[0mself\u001b[0m\u001b[0;34m.\u001b[0m\u001b[0m_metric_methods\u001b[0m \u001b[0;34m=\u001b[0m \u001b[0mmetric_methods\u001b[0m\u001b[0;34m\u001b[0m\u001b[0;34m\u001b[0m\u001b[0m\n",
      "\u001b[0;31mAlreadyExistsError\u001b[0m: Another metric with the same name already exists."
     ]
    }
   ],
   "source": [
    "import tensorflow as tf\n",
    "import tensorflow_hub as hub"
   ]
  },
  {
   "cell_type": "code",
   "execution_count": 64,
   "id": "79b9c11b",
   "metadata": {},
   "outputs": [
    {
     "ename": "NameError",
     "evalue": "name 'hub' is not defined",
     "output_type": "error",
     "traceback": [
      "\u001b[0;31m---------------------------------------------------------------------------\u001b[0m",
      "\u001b[0;31mNameError\u001b[0m                                 Traceback (most recent call last)",
      "\u001b[0;32m<ipython-input-64-5c9403094420>\u001b[0m in \u001b[0;36m<module>\u001b[0;34m\u001b[0m\n\u001b[1;32m      1\u001b[0m \u001b[0mmodule_url\u001b[0m \u001b[0;34m=\u001b[0m \u001b[0;34m\"https://tfhub.dev/google/universal-sentence-encoder/4\"\u001b[0m\u001b[0;34m\u001b[0m\u001b[0;34m\u001b[0m\u001b[0m\n\u001b[0;32m----> 2\u001b[0;31m \u001b[0mmodel\u001b[0m \u001b[0;34m=\u001b[0m \u001b[0mhub\u001b[0m\u001b[0;34m.\u001b[0m\u001b[0mload\u001b[0m\u001b[0;34m(\u001b[0m\u001b[0mmodule_url\u001b[0m\u001b[0;34m)\u001b[0m\u001b[0;34m\u001b[0m\u001b[0;34m\u001b[0m\u001b[0m\n\u001b[0m\u001b[1;32m      3\u001b[0m \u001b[0mprint\u001b[0m \u001b[0;34m(\u001b[0m\u001b[0;34m\"module %s loaded\"\u001b[0m \u001b[0;34m%\u001b[0m \u001b[0mmodule_url\u001b[0m\u001b[0;34m)\u001b[0m\u001b[0;34m\u001b[0m\u001b[0;34m\u001b[0m\u001b[0m\n",
      "\u001b[0;31mNameError\u001b[0m: name 'hub' is not defined"
     ]
    }
   ],
   "source": [
    "module_url = \"https://tfhub.dev/google/universal-sentence-encoder/4\" \n",
    "model = hub.load(module_url)\n",
    "print (\"module %s loaded\" % module_url)"
   ]
  },
  {
   "cell_type": "code",
   "execution_count": null,
   "id": "bc79604b",
   "metadata": {},
   "outputs": [],
   "source": []
  }
 ],
 "metadata": {
  "kernelspec": {
   "display_name": "Python 3",
   "language": "python",
   "name": "python3"
  },
  "language_info": {
   "codemirror_mode": {
    "name": "ipython",
    "version": 3
   },
   "file_extension": ".py",
   "mimetype": "text/x-python",
   "name": "python",
   "nbconvert_exporter": "python",
   "pygments_lexer": "ipython3",
   "version": "3.8.8"
  }
 },
 "nbformat": 4,
 "nbformat_minor": 5
}
