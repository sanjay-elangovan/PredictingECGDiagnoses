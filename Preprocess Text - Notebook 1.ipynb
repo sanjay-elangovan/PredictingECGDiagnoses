{
 "cells": [
  {
   "cell_type": "markdown",
   "id": "408dbaf5",
   "metadata": {},
   "source": [
    "## Import Data"
   ]
  },
  {
   "cell_type": "code",
   "execution_count": 1,
   "id": "9f8472a4",
   "metadata": {},
   "outputs": [],
   "source": [
    "import pandas as pd\n",
    "from keras.preprocessing.text import Tokenizer\n",
    "import nltk\n",
    "from nltk.tokenize import sent_tokenize\n",
    "from nltk.corpus import stopwords\n",
    "import pickle"
   ]
  },
  {
   "cell_type": "code",
   "execution_count": 2,
   "id": "0e6df07f",
   "metadata": {},
   "outputs": [],
   "source": [
    "notes_database = pd.read_csv(\"/home/sanjaycollege15/ekg_notes.csv\")"
   ]
  },
  {
   "cell_type": "code",
   "execution_count": 3,
   "id": "ba0ce47b",
   "metadata": {},
   "outputs": [
    {
     "data": {
      "text/html": [
       "<div>\n",
       "<style scoped>\n",
       "    .dataframe tbody tr th:only-of-type {\n",
       "        vertical-align: middle;\n",
       "    }\n",
       "\n",
       "    .dataframe tbody tr th {\n",
       "        vertical-align: top;\n",
       "    }\n",
       "\n",
       "    .dataframe thead th {\n",
       "        text-align: right;\n",
       "    }\n",
       "</style>\n",
       "<table border=\"1\" class=\"dataframe\">\n",
       "  <thead>\n",
       "    <tr style=\"text-align: right;\">\n",
       "      <th></th>\n",
       "      <th>SUBJECT_ID</th>\n",
       "      <th>ICD9_CODE</th>\n",
       "      <th>TEXT</th>\n",
       "    </tr>\n",
       "  </thead>\n",
       "  <tbody>\n",
       "    <tr>\n",
       "      <th>0</th>\n",
       "      <td>87424</td>\n",
       "      <td>4019</td>\n",
       "      <td>Sinus rhythm with 2:1 A-V block.  Right bundle...</td>\n",
       "    </tr>\n",
       "    <tr>\n",
       "      <th>1</th>\n",
       "      <td>14211</td>\n",
       "      <td>4019</td>\n",
       "      <td>Sinus tachycardia\\nConsider old septal myocard...</td>\n",
       "    </tr>\n",
       "    <tr>\n",
       "      <th>2</th>\n",
       "      <td>88174</td>\n",
       "      <td>4019</td>\n",
       "      <td>Sinus rhythm.  Low limb lead voltage.  Compare...</td>\n",
       "    </tr>\n",
       "    <tr>\n",
       "      <th>3</th>\n",
       "      <td>30927</td>\n",
       "      <td>4019</td>\n",
       "      <td>Sinus rhythm.  Early precordial QRS transition...</td>\n",
       "    </tr>\n",
       "    <tr>\n",
       "      <th>4</th>\n",
       "      <td>30927</td>\n",
       "      <td>4019</td>\n",
       "      <td>Sinus rhythm.  Early precordial QRS transition...</td>\n",
       "    </tr>\n",
       "  </tbody>\n",
       "</table>\n",
       "</div>"
      ],
      "text/plain": [
       "   SUBJECT_ID  ICD9_CODE                                               TEXT\n",
       "0       87424       4019  Sinus rhythm with 2:1 A-V block.  Right bundle...\n",
       "1       14211       4019  Sinus tachycardia\\nConsider old septal myocard...\n",
       "2       88174       4019  Sinus rhythm.  Low limb lead voltage.  Compare...\n",
       "3       30927       4019  Sinus rhythm.  Early precordial QRS transition...\n",
       "4       30927       4019  Sinus rhythm.  Early precordial QRS transition..."
      ]
     },
     "execution_count": 3,
     "metadata": {},
     "output_type": "execute_result"
    }
   ],
   "source": [
    "notes_database.head()"
   ]
  },
  {
   "cell_type": "markdown",
   "id": "6ffaf6d5",
   "metadata": {},
   "source": [
    "---"
   ]
  },
  {
   "cell_type": "markdown",
   "id": "81187e35",
   "metadata": {},
   "source": [
    "## Pre-process Text"
   ]
  },
  {
   "cell_type": "markdown",
   "id": "d047f5ec",
   "metadata": {},
   "source": [
    "### Drop Duplicates"
   ]
  },
  {
   "cell_type": "code",
   "execution_count": 4,
   "id": "c004b1a9",
   "metadata": {},
   "outputs": [],
   "source": [
    "notes_database.drop_duplicates(inplace=True)"
   ]
  },
  {
   "cell_type": "code",
   "execution_count": 5,
   "id": "90c49b44",
   "metadata": {},
   "outputs": [],
   "source": [
    "notes_database.drop(columns=\"SUBJECT_ID\", inplace=True)"
   ]
  },
  {
   "cell_type": "markdown",
   "id": "ad2cdac1",
   "metadata": {},
   "source": [
    "### Lowercase text"
   ]
  },
  {
   "cell_type": "code",
   "execution_count": 6,
   "id": "11f78546",
   "metadata": {},
   "outputs": [],
   "source": [
    "notes_database['lower_text']=notes_database.TEXT.str.lower()"
   ]
  },
  {
   "cell_type": "code",
   "execution_count": 7,
   "id": "ded76ba0",
   "metadata": {},
   "outputs": [],
   "source": [
    "notes_database.drop(columns='TEXT', inplace=True)"
   ]
  },
  {
   "cell_type": "markdown",
   "id": "52d11865",
   "metadata": {},
   "source": [
    "### Remove Identifiers"
   ]
  },
  {
   "cell_type": "markdown",
   "id": "61894e84",
   "metadata": {},
   "source": [
    "Privacy identifiers are in the form [\\*\\*2157-1-7\\*\\*], as shown in the example below. We can remove them with a simple regex."
   ]
  },
  {
   "cell_type": "code",
   "execution_count": 8,
   "id": "6b927a6f",
   "metadata": {},
   "outputs": [
    {
     "data": {
      "text/plain": [
       "'sinus rhythm with 2:1 a-v block.  right bundle-branch block.  inferolateral\\nst-t wave abnormalities.  compared to the previous tracing of [**2157-1-7**]\\n2:1 a-v block is new.  inferolateral st-t wave abnormalities are more\\nmarked.  cannot rule out myocardial ischemia or subendocardial infarction.\\nsuggest clinical correlation and repeat tracing.\\n\\n'"
      ]
     },
     "execution_count": 8,
     "metadata": {},
     "output_type": "execute_result"
    }
   ],
   "source": [
    "notes_database.lower_text[0]"
   ]
  },
  {
   "cell_type": "code",
   "execution_count": 9,
   "id": "b15d43ee",
   "metadata": {},
   "outputs": [
    {
     "data": {
      "text/plain": [
       "'sinus rhythm with 2:1 a-v block.  right bundle-branch block.  inferolateral\\nst-t wave abnormalities.  compared to the previous tracing of \\n2:1 a-v block is new.  inferolateral st-t wave abnormalities are more\\nmarked.  cannot rule out myocardial ischemia or subendocardial infarction.\\nsuggest clinical correlation and repeat tracing.\\n\\n'"
      ]
     },
     "execution_count": 9,
     "metadata": {},
     "output_type": "execute_result"
    }
   ],
   "source": [
    "notes_database.lower_text.replace('(\\[\\*\\*)(.*)(\\*\\*\\])', '', regex=True)[0]"
   ]
  },
  {
   "cell_type": "code",
   "execution_count": 10,
   "id": "c79411f0",
   "metadata": {},
   "outputs": [],
   "source": [
    "notes_database['removedIdentifiers']=notes_database.lower_text.replace('(\\[\\*\\*)(.*)(\\*\\*\\])', '', regex=True)"
   ]
  },
  {
   "cell_type": "code",
   "execution_count": 11,
   "id": "f9916fca",
   "metadata": {},
   "outputs": [],
   "source": [
    "notes_database.drop(columns=\"lower_text\", inplace=True)"
   ]
  },
  {
   "cell_type": "code",
   "execution_count": 12,
   "id": "c664a733",
   "metadata": {},
   "outputs": [],
   "source": [
    "notes_database.to_pickle('intermediate_ekg.pkl')"
   ]
  },
  {
   "cell_type": "markdown",
   "id": "000867c9",
   "metadata": {},
   "source": [
    "### Dropping stop words"
   ]
  },
  {
   "cell_type": "markdown",
   "id": "0cff63fc",
   "metadata": {},
   "source": [
    "Did not end up dropping stop words because they seemed important in interpreting the notes. Unlike sentiment analysis, negations like \"not\" or \"nor\" could be important in clinical notes. The models I'm going to be using will need to leverage the context from stop words."
   ]
  },
  {
   "cell_type": "code",
   "execution_count": 13,
   "id": "3c44d89c",
   "metadata": {},
   "outputs": [],
   "source": [
    "# nltk.download('stopwords')\n",
    "# stop_words = stopwords.words('english')"
   ]
  },
  {
   "cell_type": "code",
   "execution_count": 14,
   "id": "159a1e6c",
   "metadata": {},
   "outputs": [],
   "source": [
    "#notes_database['notes_without_stopwords'] = notes_database['removedIdentifiers'].apply(lambda x: ' '.join([word for word in x.split() if word not in (stop_words)]))"
   ]
  },
  {
   "cell_type": "code",
   "execution_count": 15,
   "id": "96bf1c37",
   "metadata": {},
   "outputs": [],
   "source": [
    "#notes_database.notes_without_stopwords[0]"
   ]
  },
  {
   "cell_type": "markdown",
   "id": "3ebcc57d",
   "metadata": {},
   "source": [
    "### Noise removal, sentence splitting"
   ]
  },
  {
   "cell_type": "markdown",
   "id": "f3d13772",
   "metadata": {},
   "source": [
    "Removed most punctuation, but leaving in '-' and ':' since they're commonly used medical terms."
   ]
  },
  {
   "cell_type": "code",
   "execution_count": 16,
   "id": "b46952ee",
   "metadata": {},
   "outputs": [
    {
     "data": {
      "text/plain": [
       "'sinus rhythm with 2:1 a-v block.  right bundle-branch block.  inferolateral\\nst-t wave abnormalities.  compared to the previous tracing of \\n2:1 a-v block is new.  inferolateral st-t wave abnormalities are more\\nmarked.  cannot rule out myocardial ischemia or subendocardial infarction.\\nsuggest clinical correlation and repeat tracing.\\n\\n'"
      ]
     },
     "execution_count": 16,
     "metadata": {},
     "output_type": "execute_result"
    }
   ],
   "source": [
    "notes_database['removedIdentifiers'][0]"
   ]
  },
  {
   "cell_type": "code",
   "execution_count": 17,
   "id": "7aaa28e4",
   "metadata": {},
   "outputs": [],
   "source": [
    "tokenizer = Tokenizer(\n",
    "    #num_words = 150,\n",
    "    filters='!\"#$%&()*+/<=>@[\\\\]^_`{|}~\\t\\n',\n",
    "    split = ' ', \n",
    "    char_level = False)"
   ]
  },
  {
   "cell_type": "code",
   "execution_count": 18,
   "id": "1bac4415",
   "metadata": {},
   "outputs": [],
   "source": [
    "tokenizer.fit_on_texts(notes_database['removedIdentifiers'])"
   ]
  },
  {
   "cell_type": "code",
   "execution_count": 19,
   "id": "5ed5cf0f",
   "metadata": {},
   "outputs": [],
   "source": [
    "sequences = tokenizer.texts_to_sequences(notes_database['removedIdentifiers'])\n"
   ]
  },
  {
   "cell_type": "code",
   "execution_count": 20,
   "id": "80e006dc",
   "metadata": {},
   "outputs": [],
   "source": [
    "denoised_sentences = []\n",
    "\n",
    "for i in sequences:\n",
    "    denoised_sentences.append(' '.join(tokenizer.index_word[w] for w in i))"
   ]
  },
  {
   "cell_type": "code",
   "execution_count": 21,
   "id": "61098a5c",
   "metadata": {},
   "outputs": [],
   "source": [
    "with open(\"denoised_sentences.txt\", \"wb\") as fp:\n",
    "    pickle.dump(denoised_sentences, fp)"
   ]
  },
  {
   "cell_type": "markdown",
   "id": "be062d67",
   "metadata": {},
   "source": [
    "Switch to Preprocess Text - Notebook 2 in order to continue constructing the dataframe. Ran out of memory in this notebook."
   ]
  },
  {
   "cell_type": "markdown",
   "id": "1b356978",
   "metadata": {},
   "source": [
    "---"
   ]
  },
  {
   "cell_type": "markdown",
   "id": "28cbfba3",
   "metadata": {},
   "source": [
    "### Tokenize into Sentences"
   ]
  },
  {
   "cell_type": "code",
   "execution_count": 25,
   "id": "e002796d",
   "metadata": {},
   "outputs": [],
   "source": [
    "tokenized_sentences = []\n",
    "\n",
    "for i in denoised_sentences:\n",
    "    tokenized_sentences.append(sent_tokenize(i))"
   ]
  },
  {
   "cell_type": "code",
   "execution_count": 26,
   "id": "3b9ce5d8",
   "metadata": {},
   "outputs": [],
   "source": [
    "with open(\"tokenized_sentences.txt\", \"wb\") as fp:\n",
    "    pickle.dump(tokenized_sentences, fp)"
   ]
  },
  {
   "cell_type": "markdown",
   "id": "ae1982a5",
   "metadata": {},
   "source": [
    "Switch to Preprocess Text - Notebook 2 in order to continue constructing the dataframe. Ran out of memory in this notebook."
   ]
  },
  {
   "cell_type": "markdown",
   "id": "f100e0bd",
   "metadata": {},
   "source": [
    "### Stemming"
   ]
  },
  {
   "cell_type": "code",
   "execution_count": null,
   "id": "2d14e203",
   "metadata": {},
   "outputs": [],
   "source": []
  }
 ],
 "metadata": {
  "kernelspec": {
   "display_name": "Python 3",
   "language": "python",
   "name": "python3"
  },
  "language_info": {
   "codemirror_mode": {
    "name": "ipython",
    "version": 3
   },
   "file_extension": ".py",
   "mimetype": "text/x-python",
   "name": "python",
   "nbconvert_exporter": "python",
   "pygments_lexer": "ipython3",
   "version": "3.8.8"
  }
 },
 "nbformat": 4,
 "nbformat_minor": 5
}
