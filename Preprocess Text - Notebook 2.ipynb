{
 "cells": [
  {
   "cell_type": "markdown",
   "id": "51f03159",
   "metadata": {},
   "source": [
    "### Imports"
   ]
  },
  {
   "cell_type": "code",
   "execution_count": 1,
   "id": "72dc7dab",
   "metadata": {},
   "outputs": [],
   "source": [
    "import pandas as pd\n",
    "import pickle"
   ]
  },
  {
   "cell_type": "markdown",
   "id": "c7fea45f",
   "metadata": {},
   "source": [
    "### Loading Data to Construct Denoised Dataframe"
   ]
  },
  {
   "cell_type": "code",
   "execution_count": 2,
   "id": "caf572eb",
   "metadata": {},
   "outputs": [],
   "source": [
    "with open(\"denoised_sentences.txt\", \"rb\") as fp:\n",
    "    denoised_sentences = pickle.load(fp)"
   ]
  },
  {
   "cell_type": "code",
   "execution_count": 3,
   "id": "a7f8dbb1",
   "metadata": {},
   "outputs": [],
   "source": [
    "intermediate_ekg = pd.read_pickle('intermediate_ekg.pkl')\n",
    "intermediate_ekg.drop(columns='removedIdentifiers', inplace=True)"
   ]
  },
  {
   "cell_type": "code",
   "execution_count": 4,
   "id": "3739f9bf",
   "metadata": {},
   "outputs": [],
   "source": [
    "intermediate_ekg['TEXT'] = denoised_sentences"
   ]
  },
  {
   "cell_type": "code",
   "execution_count": 5,
   "id": "6d21d101",
   "metadata": {},
   "outputs": [
    {
     "data": {
      "text/html": [
       "<div>\n",
       "<style scoped>\n",
       "    .dataframe tbody tr th:only-of-type {\n",
       "        vertical-align: middle;\n",
       "    }\n",
       "\n",
       "    .dataframe tbody tr th {\n",
       "        vertical-align: top;\n",
       "    }\n",
       "\n",
       "    .dataframe thead th {\n",
       "        text-align: right;\n",
       "    }\n",
       "</style>\n",
       "<table border=\"1\" class=\"dataframe\">\n",
       "  <thead>\n",
       "    <tr style=\"text-align: right;\">\n",
       "      <th></th>\n",
       "      <th>ICD9_CODE</th>\n",
       "      <th>TEXT</th>\n",
       "    </tr>\n",
       "  </thead>\n",
       "  <tbody>\n",
       "    <tr>\n",
       "      <th>0</th>\n",
       "      <td>4019</td>\n",
       "      <td>sinus rhythm. compared to tracing 1 no diagnos...</td>\n",
       "    </tr>\n",
       "    <tr>\n",
       "      <th>1</th>\n",
       "      <td>4019</td>\n",
       "      <td>sinus rhythm. consider left ventricular hypert...</td>\n",
       "    </tr>\n",
       "    <tr>\n",
       "      <th>2</th>\n",
       "      <td>4019</td>\n",
       "      <td>sinus rhythm - first degree a-v block marked l...</td>\n",
       "    </tr>\n",
       "    <tr>\n",
       "      <th>3</th>\n",
       "      <td>4019</td>\n",
       "      <td>sinus rhythm. prolonged qtc interval. modest n...</td>\n",
       "    </tr>\n",
       "    <tr>\n",
       "      <th>4</th>\n",
       "      <td>4019</td>\n",
       "      <td>baseline artifact. irregular rhythm. atrial fi...</td>\n",
       "    </tr>\n",
       "  </tbody>\n",
       "</table>\n",
       "</div>"
      ],
      "text/plain": [
       "   ICD9_CODE                                               TEXT\n",
       "0       4019  sinus rhythm. compared to tracing 1 no diagnos...\n",
       "1       4019  sinus rhythm. consider left ventricular hypert...\n",
       "2       4019  sinus rhythm - first degree a-v block marked l...\n",
       "3       4019  sinus rhythm. prolonged qtc interval. modest n...\n",
       "4       4019  baseline artifact. irregular rhythm. atrial fi..."
      ]
     },
     "execution_count": 5,
     "metadata": {},
     "output_type": "execute_result"
    }
   ],
   "source": [
    "intermediate_ekg.head()"
   ]
  },
  {
   "cell_type": "code",
   "execution_count": 6,
   "id": "7382edb7",
   "metadata": {},
   "outputs": [],
   "source": [
    "intermediate_ekg.to_pickle('ekg_denoised.pkl')"
   ]
  },
  {
   "cell_type": "markdown",
   "id": "308cb0bf",
   "metadata": {},
   "source": [
    "---"
   ]
  },
  {
   "cell_type": "markdown",
   "id": "5333aa18",
   "metadata": {},
   "source": [
    "### Loading data once again to create tokenized sentence dataframe"
   ]
  },
  {
   "cell_type": "code",
   "execution_count": 7,
   "id": "57501801",
   "metadata": {},
   "outputs": [],
   "source": [
    "with open(\"tokenized_sentences.txt\", \"rb\") as fp:\n",
    "    tokenized_sentences = pickle.load(fp)"
   ]
  },
  {
   "cell_type": "code",
   "execution_count": 8,
   "id": "d90627eb",
   "metadata": {},
   "outputs": [],
   "source": [
    "intermediate_ekg = pd.read_pickle('intermediate_ekg.pkl')\n",
    "intermediate_ekg.drop(columns='removedIdentifiers', inplace=True)"
   ]
  },
  {
   "cell_type": "code",
   "execution_count": 9,
   "id": "7b842bdb",
   "metadata": {},
   "outputs": [],
   "source": [
    "intermediate_ekg['TEXT'] = tokenized_sentences"
   ]
  },
  {
   "cell_type": "code",
   "execution_count": 10,
   "id": "fa3b512c",
   "metadata": {},
   "outputs": [
    {
     "data": {
      "text/html": [
       "<div>\n",
       "<style scoped>\n",
       "    .dataframe tbody tr th:only-of-type {\n",
       "        vertical-align: middle;\n",
       "    }\n",
       "\n",
       "    .dataframe tbody tr th {\n",
       "        vertical-align: top;\n",
       "    }\n",
       "\n",
       "    .dataframe thead th {\n",
       "        text-align: right;\n",
       "    }\n",
       "</style>\n",
       "<table border=\"1\" class=\"dataframe\">\n",
       "  <thead>\n",
       "    <tr style=\"text-align: right;\">\n",
       "      <th></th>\n",
       "      <th>ICD9_CODE</th>\n",
       "      <th>TEXT</th>\n",
       "    </tr>\n",
       "  </thead>\n",
       "  <tbody>\n",
       "    <tr>\n",
       "      <th>0</th>\n",
       "      <td>4019</td>\n",
       "      <td>[sinus rhythm., compared to tracing 1 no diagn...</td>\n",
       "    </tr>\n",
       "    <tr>\n",
       "      <th>1</th>\n",
       "      <td>4019</td>\n",
       "      <td>[sinus rhythm., consider left ventricular hype...</td>\n",
       "    </tr>\n",
       "    <tr>\n",
       "      <th>2</th>\n",
       "      <td>4019</td>\n",
       "      <td>[sinus rhythm - first degree a-v block marked ...</td>\n",
       "    </tr>\n",
       "    <tr>\n",
       "      <th>3</th>\n",
       "      <td>4019</td>\n",
       "      <td>[sinus rhythm., prolonged qtc interval., modes...</td>\n",
       "    </tr>\n",
       "    <tr>\n",
       "      <th>4</th>\n",
       "      <td>4019</td>\n",
       "      <td>[baseline artifact., irregular rhythm., atrial...</td>\n",
       "    </tr>\n",
       "  </tbody>\n",
       "</table>\n",
       "</div>"
      ],
      "text/plain": [
       "   ICD9_CODE                                               TEXT\n",
       "0       4019  [sinus rhythm., compared to tracing 1 no diagn...\n",
       "1       4019  [sinus rhythm., consider left ventricular hype...\n",
       "2       4019  [sinus rhythm - first degree a-v block marked ...\n",
       "3       4019  [sinus rhythm., prolonged qtc interval., modes...\n",
       "4       4019  [baseline artifact., irregular rhythm., atrial..."
      ]
     },
     "execution_count": 10,
     "metadata": {},
     "output_type": "execute_result"
    }
   ],
   "source": [
    "intermediate_ekg.head()"
   ]
  },
  {
   "cell_type": "code",
   "execution_count": 11,
   "id": "d72d300c",
   "metadata": {},
   "outputs": [],
   "source": [
    "intermediate_ekg.to_pickle('ekg_denoised_tokenized_sents.pkl')"
   ]
  }
 ],
 "metadata": {
  "kernelspec": {
   "display_name": "Python 3",
   "language": "python",
   "name": "python3"
  },
  "language_info": {
   "codemirror_mode": {
    "name": "ipython",
    "version": 3
   },
   "file_extension": ".py",
   "mimetype": "text/x-python",
   "name": "python",
   "nbconvert_exporter": "python",
   "pygments_lexer": "ipython3",
   "version": "3.8.8"
  }
 },
 "nbformat": 4,
 "nbformat_minor": 5
}
