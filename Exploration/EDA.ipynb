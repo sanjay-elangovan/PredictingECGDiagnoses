{
 "cells": [
  {
   "cell_type": "code",
   "execution_count": 9,
   "id": "bcbfb519",
   "metadata": {},
   "outputs": [],
   "source": [
    "import pandas as pd\n",
    "import pickle\n",
    "import matplotlib as pyplot"
   ]
  },
  {
   "cell_type": "code",
   "execution_count": 3,
   "id": "b4709420",
   "metadata": {},
   "outputs": [],
   "source": [
    "ekg_denoised = pd.read_pickle('/home/sanjaycollege15/PredictingDiagnoses/Data/ekg_denoised_v2.pkl')"
   ]
  },
  {
   "cell_type": "code",
   "execution_count": 4,
   "id": "88e93fe1",
   "metadata": {},
   "outputs": [
    {
     "data": {
      "text/plain": [
       "0    17045\n",
       "1    17045\n",
       "2    17045\n",
       "3    17045\n",
       "Name: ICD9_CODE, dtype: int64"
      ]
     },
     "execution_count": 4,
     "metadata": {},
     "output_type": "execute_result"
    }
   ],
   "source": [
    "ekg_denoised.ICD9_CODE.value_counts()"
   ]
  },
  {
   "cell_type": "code",
   "execution_count": 13,
   "id": "53edf7ee",
   "metadata": {},
   "outputs": [
    {
     "data": {
      "text/plain": [
       "'probable junctional rhythm late precordial qrs transition - is nonspecific nonspecific st-t wave changes since previous tracing of , junctional rhythm suggested'"
      ]
     },
     "execution_count": 13,
     "metadata": {},
     "output_type": "execute_result"
    }
   ],
   "source": [
    "ekg_denoised.loc[508662].TEXT"
   ]
  },
  {
   "cell_type": "code",
   "execution_count": 5,
   "id": "493527c7",
   "metadata": {},
   "outputs": [],
   "source": [
    "ekg_denoised['lengths'] = ekg_denoised.TEXT.str.len()"
   ]
  },
  {
   "cell_type": "code",
   "execution_count": 8,
   "id": "bab3a3df",
   "metadata": {},
   "outputs": [
    {
     "data": {
      "text/plain": [
       "count    68180.000000\n",
       "mean       209.004576\n",
       "std        101.165786\n",
       "min          1.000000\n",
       "25%        134.000000\n",
       "50%        190.000000\n",
       "75%        264.000000\n",
       "max       1149.000000\n",
       "Name: lengths, dtype: float64"
      ]
     },
     "execution_count": 8,
     "metadata": {},
     "output_type": "execute_result"
    }
   ],
   "source": [
    "ekg_denoised['lengths'].describe()"
   ]
  },
  {
   "cell_type": "code",
   "execution_count": 15,
   "id": "d94e84f3",
   "metadata": {},
   "outputs": [
    {
     "data": {
      "text/plain": [
       "<AxesSubplot:ylabel='Frequency'>"
      ]
     },
     "execution_count": 15,
     "metadata": {},
     "output_type": "execute_result"
    },
    {
     "data": {
      "image/png": "[encoded data removed]",
      "text/plain": [
       "<Figure size 432x288 with 1 Axes>"
      ]
     },
     "metadata": {
      "needs_background": "light"
     },
     "output_type": "display_data"
    }
   ],
   "source": [
    "ekg_denoised['lengths'].plot.hist(bins=25)"
   ]
  },
  {
   "cell_type": "code",
   "execution_count": null,
   "id": "9be2e11a",
   "metadata": {},
   "outputs": [],
   "source": []
  }
 ],
 "metadata": {
  "kernelspec": {
   "display_name": "Python 3",
   "language": "python",
   "name": "python3"
  },
  "language_info": {
   "codemirror_mode": {
    "name": "ipython",
    "version": 3
   },
   "file_extension": ".py",
   "mimetype": "text/x-python",
   "name": "python",
   "nbconvert_exporter": "python",
   "pygments_lexer": "ipython3",
   "version": "3.8.8"
  }
 },
 "nbformat": 4,
 "nbformat_minor": 5
}
