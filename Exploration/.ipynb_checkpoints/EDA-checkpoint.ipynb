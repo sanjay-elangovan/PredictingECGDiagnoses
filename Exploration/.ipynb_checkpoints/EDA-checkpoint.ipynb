{
 "cells": [
  {
   "cell_type": "code",
   "execution_count": 2,
   "id": "bcbfb519",
   "metadata": {},
   "outputs": [],
   "source": [
    "import pandas as pd\n",
    "import pickle"
   ]
  },
  {
   "cell_type": "code",
   "execution_count": 3,
   "id": "b4709420",
   "metadata": {},
   "outputs": [],
   "source": [
    "ekg_denoised = pd.read_pickle('ekg_denoised.pkl')"
   ]
  },
  {
   "cell_type": "code",
   "execution_count": 4,
   "id": "88e93fe1",
   "metadata": {},
   "outputs": [
    {
     "data": {
      "text/plain": [
       "4019     103664\n",
       "4280      94885\n",
       "41401     84312\n",
       "42731     80599\n",
       "Name: ICD9_CODE, dtype: int64"
      ]
     },
     "execution_count": 4,
     "metadata": {},
     "output_type": "execute_result"
    }
   ],
   "source": [
    "ekg_denoised.ICD9_CODE.value_counts()"
   ]
  },
  {
   "cell_type": "code",
   "execution_count": 5,
   "id": "dc305179",
   "metadata": {},
   "outputs": [
    {
     "data": {
      "text/html": [
       "<div>\n",
       "<style scoped>\n",
       "    .dataframe tbody tr th:only-of-type {\n",
       "        vertical-align: middle;\n",
       "    }\n",
       "\n",
       "    .dataframe tbody tr th {\n",
       "        vertical-align: top;\n",
       "    }\n",
       "\n",
       "    .dataframe thead th {\n",
       "        text-align: right;\n",
       "    }\n",
       "</style>\n",
       "<table border=\"1\" class=\"dataframe\">\n",
       "  <thead>\n",
       "    <tr style=\"text-align: right;\">\n",
       "      <th></th>\n",
       "      <th>ICD9_CODE</th>\n",
       "      <th>TEXT</th>\n",
       "    </tr>\n",
       "  </thead>\n",
       "  <tbody>\n",
       "    <tr>\n",
       "      <th>0</th>\n",
       "      <td>4019</td>\n",
       "      <td>sinus rhythm with 2:1 a-v block. right bundle-...</td>\n",
       "    </tr>\n",
       "    <tr>\n",
       "      <th>1</th>\n",
       "      <td>4019</td>\n",
       "      <td>sinus tachycardia consider old septal myocardi...</td>\n",
       "    </tr>\n",
       "    <tr>\n",
       "      <th>2</th>\n",
       "      <td>4019</td>\n",
       "      <td>sinus rhythm. low limb lead voltage. compared ...</td>\n",
       "    </tr>\n",
       "    <tr>\n",
       "      <th>3</th>\n",
       "      <td>4019</td>\n",
       "      <td>sinus rhythm. early precordial qrs transition ...</td>\n",
       "    </tr>\n",
       "    <tr>\n",
       "      <th>5</th>\n",
       "      <td>4019</td>\n",
       "      <td>sinus bradycardia. non-specific inferior t wav...</td>\n",
       "    </tr>\n",
       "  </tbody>\n",
       "</table>\n",
       "</div>"
      ],
      "text/plain": [
       "   ICD9_CODE                                               TEXT\n",
       "0       4019  sinus rhythm with 2:1 a-v block. right bundle-...\n",
       "1       4019  sinus tachycardia consider old septal myocardi...\n",
       "2       4019  sinus rhythm. low limb lead voltage. compared ...\n",
       "3       4019  sinus rhythm. early precordial qrs transition ...\n",
       "5       4019  sinus bradycardia. non-specific inferior t wav..."
      ]
     },
     "execution_count": 5,
     "metadata": {},
     "output_type": "execute_result"
    }
   ],
   "source": [
    "ekg_denoised[ekg_denoised['ICD9_CODE']==4019].head()"
   ]
  },
  {
   "cell_type": "code",
   "execution_count": 6,
   "id": "7439eba6",
   "metadata": {},
   "outputs": [
    {
     "data": {
      "text/html": [
       "<div>\n",
       "<style scoped>\n",
       "    .dataframe tbody tr th:only-of-type {\n",
       "        vertical-align: middle;\n",
       "    }\n",
       "\n",
       "    .dataframe tbody tr th {\n",
       "        vertical-align: top;\n",
       "    }\n",
       "\n",
       "    .dataframe thead th {\n",
       "        text-align: right;\n",
       "    }\n",
       "</style>\n",
       "<table border=\"1\" class=\"dataframe\">\n",
       "  <thead>\n",
       "    <tr style=\"text-align: right;\">\n",
       "      <th></th>\n",
       "      <th>ICD9_CODE</th>\n",
       "      <th>TEXT</th>\n",
       "    </tr>\n",
       "  </thead>\n",
       "  <tbody>\n",
       "    <tr>\n",
       "      <th>163151</th>\n",
       "      <td>4280</td>\n",
       "      <td>sinus rhythm with 2:1 a-v block. right bundle-...</td>\n",
       "    </tr>\n",
       "    <tr>\n",
       "      <th>163152</th>\n",
       "      <td>4280</td>\n",
       "      <td>atrial fibrillation low precordial lead qrs vo...</td>\n",
       "    </tr>\n",
       "    <tr>\n",
       "      <th>163156</th>\n",
       "      <td>4280</td>\n",
       "      <td>sinus rhythm. occasional ventricular premature...</td>\n",
       "    </tr>\n",
       "    <tr>\n",
       "      <th>163164</th>\n",
       "      <td>4280</td>\n",
       "      <td>normal sinus rhythm. left atrial abnormality. ...</td>\n",
       "    </tr>\n",
       "    <tr>\n",
       "      <th>163165</th>\n",
       "      <td>4280</td>\n",
       "      <td>probable junctional rhythm late precordial qrs...</td>\n",
       "    </tr>\n",
       "  </tbody>\n",
       "</table>\n",
       "</div>"
      ],
      "text/plain": [
       "        ICD9_CODE                                               TEXT\n",
       "163151       4280  sinus rhythm with 2:1 a-v block. right bundle-...\n",
       "163152       4280  atrial fibrillation low precordial lead qrs vo...\n",
       "163156       4280  sinus rhythm. occasional ventricular premature...\n",
       "163164       4280  normal sinus rhythm. left atrial abnormality. ...\n",
       "163165       4280  probable junctional rhythm late precordial qrs..."
      ]
     },
     "execution_count": 6,
     "metadata": {},
     "output_type": "execute_result"
    }
   ],
   "source": [
    "ekg_denoised[ekg_denoised['ICD9_CODE']==4280].head()"
   ]
  },
  {
   "cell_type": "code",
   "execution_count": 7,
   "id": "3d6a662d",
   "metadata": {},
   "outputs": [
    {
     "data": {
      "text/html": [
       "<div>\n",
       "<style scoped>\n",
       "    .dataframe tbody tr th:only-of-type {\n",
       "        vertical-align: middle;\n",
       "    }\n",
       "\n",
       "    .dataframe tbody tr th {\n",
       "        vertical-align: top;\n",
       "    }\n",
       "\n",
       "    .dataframe thead th {\n",
       "        text-align: right;\n",
       "    }\n",
       "</style>\n",
       "<table border=\"1\" class=\"dataframe\">\n",
       "  <thead>\n",
       "    <tr style=\"text-align: right;\">\n",
       "      <th></th>\n",
       "      <th>ICD9_CODE</th>\n",
       "      <th>TEXT</th>\n",
       "    </tr>\n",
       "  </thead>\n",
       "  <tbody>\n",
       "    <tr>\n",
       "      <th>364575</th>\n",
       "      <td>41401</td>\n",
       "      <td>sinus rhythm. low limb lead voltage. compared ...</td>\n",
       "    </tr>\n",
       "    <tr>\n",
       "      <th>364576</th>\n",
       "      <td>41401</td>\n",
       "      <td>normal sinus rhythm with atrial premature depo...</td>\n",
       "    </tr>\n",
       "    <tr>\n",
       "      <th>364577</th>\n",
       "      <td>41401</td>\n",
       "      <td>sinus bradycardia. non-specific inferior t wav...</td>\n",
       "    </tr>\n",
       "    <tr>\n",
       "      <th>364578</th>\n",
       "      <td>41401</td>\n",
       "      <td>sinus rhythm. occasional ventricular premature...</td>\n",
       "    </tr>\n",
       "    <tr>\n",
       "      <th>364579</th>\n",
       "      <td>41401</td>\n",
       "      <td>probable junctional rhythm late precordial qrs...</td>\n",
       "    </tr>\n",
       "  </tbody>\n",
       "</table>\n",
       "</div>"
      ],
      "text/plain": [
       "        ICD9_CODE                                               TEXT\n",
       "364575      41401  sinus rhythm. low limb lead voltage. compared ...\n",
       "364576      41401  normal sinus rhythm with atrial premature depo...\n",
       "364577      41401  sinus bradycardia. non-specific inferior t wav...\n",
       "364578      41401  sinus rhythm. occasional ventricular premature...\n",
       "364579      41401  probable junctional rhythm late precordial qrs..."
      ]
     },
     "execution_count": 7,
     "metadata": {},
     "output_type": "execute_result"
    }
   ],
   "source": [
    "ekg_denoised[ekg_denoised['ICD9_CODE']==41401].head()"
   ]
  },
  {
   "cell_type": "code",
   "execution_count": null,
   "id": "38d23d6d",
   "metadata": {},
   "outputs": [],
   "source": []
  },
  {
   "cell_type": "code",
   "execution_count": 8,
   "id": "0582ae97",
   "metadata": {},
   "outputs": [
    {
     "data": {
      "text/html": [
       "<div>\n",
       "<style scoped>\n",
       "    .dataframe tbody tr th:only-of-type {\n",
       "        vertical-align: middle;\n",
       "    }\n",
       "\n",
       "    .dataframe tbody tr th {\n",
       "        vertical-align: top;\n",
       "    }\n",
       "\n",
       "    .dataframe thead th {\n",
       "        text-align: right;\n",
       "    }\n",
       "</style>\n",
       "<table border=\"1\" class=\"dataframe\">\n",
       "  <thead>\n",
       "    <tr style=\"text-align: right;\">\n",
       "      <th></th>\n",
       "      <th>ICD9_CODE</th>\n",
       "      <th>TEXT</th>\n",
       "    </tr>\n",
       "  </thead>\n",
       "  <tbody>\n",
       "    <tr>\n",
       "      <th>508656</th>\n",
       "      <td>42731</td>\n",
       "      <td>sinus rhythm. low limb lead voltage. compared ...</td>\n",
       "    </tr>\n",
       "    <tr>\n",
       "      <th>508657</th>\n",
       "      <td>42731</td>\n",
       "      <td>atrial fibrillation low precordial lead qrs vo...</td>\n",
       "    </tr>\n",
       "    <tr>\n",
       "      <th>508661</th>\n",
       "      <td>42731</td>\n",
       "      <td>normal sinus rhythm. left atrial abnormality. ...</td>\n",
       "    </tr>\n",
       "    <tr>\n",
       "      <th>508662</th>\n",
       "      <td>42731</td>\n",
       "      <td>probable junctional rhythm late precordial qrs...</td>\n",
       "    </tr>\n",
       "    <tr>\n",
       "      <th>508663</th>\n",
       "      <td>42731</td>\n",
       "      <td>sinus rhythm. atrial sensing with ventricular ...</td>\n",
       "    </tr>\n",
       "  </tbody>\n",
       "</table>\n",
       "</div>"
      ],
      "text/plain": [
       "        ICD9_CODE                                               TEXT\n",
       "508656      42731  sinus rhythm. low limb lead voltage. compared ...\n",
       "508657      42731  atrial fibrillation low precordial lead qrs vo...\n",
       "508661      42731  normal sinus rhythm. left atrial abnormality. ...\n",
       "508662      42731  probable junctional rhythm late precordial qrs...\n",
       "508663      42731  sinus rhythm. atrial sensing with ventricular ..."
      ]
     },
     "execution_count": 8,
     "metadata": {},
     "output_type": "execute_result"
    }
   ],
   "source": [
    "ekg_denoised[ekg_denoised['ICD9_CODE']==42731].head()"
   ]
  },
  {
   "cell_type": "code",
   "execution_count": 13,
   "id": "53edf7ee",
   "metadata": {},
   "outputs": [
    {
     "data": {
      "text/plain": [
       "'probable junctional rhythm late precordial qrs transition - is nonspecific nonspecific st-t wave changes since previous tracing of , junctional rhythm suggested'"
      ]
     },
     "execution_count": 13,
     "metadata": {},
     "output_type": "execute_result"
    }
   ],
   "source": [
    "ekg_denoised.loc[508662].TEXT"
   ]
  },
  {
   "cell_type": "code",
   "execution_count": 14,
   "id": "54d10d90",
   "metadata": {},
   "outputs": [
    {
     "data": {
      "text/plain": [
       "'probable junctional rhythm late precordial qrs transition - is nonspecific nonspecific st-t wave changes since previous tracing of , junctional rhythm suggested'"
      ]
     },
     "execution_count": 14,
     "metadata": {},
     "output_type": "execute_result"
    }
   ],
   "source": [
    "ekg_denoised.loc[364579].TEXT"
   ]
  },
  {
   "cell_type": "code",
   "execution_count": null,
   "id": "493527c7",
   "metadata": {},
   "outputs": [],
   "source": []
  }
 ],
 "metadata": {
  "kernelspec": {
   "display_name": "Python 3",
   "language": "python",
   "name": "python3"
  },
  "language_info": {
   "codemirror_mode": {
    "name": "ipython",
    "version": 3
   },
   "file_extension": ".py",
   "mimetype": "text/x-python",
   "name": "python",
   "nbconvert_exporter": "python",
   "pygments_lexer": "ipython3",
   "version": "3.8.8"
  }
 },
 "nbformat": 4,
 "nbformat_minor": 5
}
