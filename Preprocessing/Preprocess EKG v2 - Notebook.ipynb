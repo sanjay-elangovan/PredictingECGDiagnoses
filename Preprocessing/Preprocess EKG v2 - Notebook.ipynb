{
 "cells": [
  {
   "cell_type": "markdown",
   "id": "408dbaf5",
   "metadata": {},
   "source": [
    "## Import Data"
   ]
  },
  {
   "cell_type": "code",
   "execution_count": 1,
   "id": "9f8472a4",
   "metadata": {},
   "outputs": [],
   "source": [
    "import pandas as pd\n",
    "from keras.preprocessing.text import Tokenizer\n",
    "from tensorflow.keras.preprocessing.sequence import pad_sequences\n",
    "import nltk\n",
    "from nltk.tokenize import sent_tokenize\n",
    "from nltk.corpus import stopwords\n",
    "import pickle\n",
    "from sklearn.utils import resample\n",
    "import matplotlib as plt\n",
    "from matplotlib.pyplot import hist"
   ]
  },
  {
   "cell_type": "code",
   "execution_count": 2,
   "id": "0e6df07f",
   "metadata": {},
   "outputs": [],
   "source": [
    "notes_database = pd.read_csv(\"/home/sanjaycollege15/ekg_notes_v2.csv\")"
   ]
  },
  {
   "cell_type": "code",
   "execution_count": 3,
   "id": "ba0ce47b",
   "metadata": {},
   "outputs": [
    {
     "data": {
      "text/html": [
       "<div>\n",
       "<style scoped>\n",
       "    .dataframe tbody tr th:only-of-type {\n",
       "        vertical-align: middle;\n",
       "    }\n",
       "\n",
       "    .dataframe tbody tr th {\n",
       "        vertical-align: top;\n",
       "    }\n",
       "\n",
       "    .dataframe thead th {\n",
       "        text-align: right;\n",
       "    }\n",
       "</style>\n",
       "<table border=\"1\" class=\"dataframe\">\n",
       "  <thead>\n",
       "    <tr style=\"text-align: right;\">\n",
       "      <th></th>\n",
       "      <th>SUBJECT_ID</th>\n",
       "      <th>DIAGNOSIS_CODE</th>\n",
       "      <th>TEXT</th>\n",
       "    </tr>\n",
       "  </thead>\n",
       "  <tbody>\n",
       "    <tr>\n",
       "      <th>0</th>\n",
       "      <td>22043</td>\n",
       "      <td>4</td>\n",
       "      <td>Sinus tachycardia. Occasional interpolated ven...</td>\n",
       "    </tr>\n",
       "    <tr>\n",
       "      <th>1</th>\n",
       "      <td>96284</td>\n",
       "      <td>4</td>\n",
       "      <td>Sinus rhythm.  Compared to the previous tracin...</td>\n",
       "    </tr>\n",
       "    <tr>\n",
       "      <th>2</th>\n",
       "      <td>11877</td>\n",
       "      <td>4</td>\n",
       "      <td>Atrial fibrillation with ventricular premature...</td>\n",
       "    </tr>\n",
       "    <tr>\n",
       "      <th>3</th>\n",
       "      <td>21312</td>\n",
       "      <td>4</td>\n",
       "      <td>Baseline artifact makes accurate interpretatio...</td>\n",
       "    </tr>\n",
       "    <tr>\n",
       "      <th>4</th>\n",
       "      <td>22285</td>\n",
       "      <td>4</td>\n",
       "      <td>Sinus rhythm with atrial sensed ventricular pa...</td>\n",
       "    </tr>\n",
       "  </tbody>\n",
       "</table>\n",
       "</div>"
      ],
      "text/plain": [
       "   SUBJECT_ID  DIAGNOSIS_CODE  \\\n",
       "0       22043               4   \n",
       "1       96284               4   \n",
       "2       11877               4   \n",
       "3       21312               4   \n",
       "4       22285               4   \n",
       "\n",
       "                                                TEXT  \n",
       "0  Sinus tachycardia. Occasional interpolated ven...  \n",
       "1  Sinus rhythm.  Compared to the previous tracin...  \n",
       "2  Atrial fibrillation with ventricular premature...  \n",
       "3  Baseline artifact makes accurate interpretatio...  \n",
       "4  Sinus rhythm with atrial sensed ventricular pa...  "
      ]
     },
     "execution_count": 3,
     "metadata": {},
     "output_type": "execute_result"
    }
   ],
   "source": [
    "notes_database.head()"
   ]
  },
  {
   "cell_type": "markdown",
   "id": "6ffaf6d5",
   "metadata": {},
   "source": [
    "---"
   ]
  },
  {
   "cell_type": "markdown",
   "id": "81187e35",
   "metadata": {},
   "source": [
    "## Pre-process Text"
   ]
  },
  {
   "cell_type": "markdown",
   "id": "c93d2f6e",
   "metadata": {},
   "source": [
    "### Change all labels of 4 to a 3 (typo in the data extraction)"
   ]
  },
  {
   "cell_type": "code",
   "execution_count": 4,
   "id": "1c81d464",
   "metadata": {},
   "outputs": [],
   "source": [
    "notes_database['DIAGNOSIS_CODE']=notes_database['DIAGNOSIS_CODE'].replace(4,3)"
   ]
  },
  {
   "cell_type": "markdown",
   "id": "d047f5ec",
   "metadata": {},
   "source": [
    "### Drop Duplicates"
   ]
  },
  {
   "cell_type": "code",
   "execution_count": 7,
   "id": "c004b1a9",
   "metadata": {},
   "outputs": [
    {
     "name": "stdout",
     "output_type": "stream",
     "text": [
      "0 rows removed. 34843 rows remain.\n"
     ]
    }
   ],
   "source": [
    "before = len(notes_database)\n",
    "notes_database.drop_duplicates(inplace=True)\n",
    "print(f\"{before-len(notes_database)} rows removed. {len(notes_database)} rows remain.\")\n"
   ]
  },
  {
   "cell_type": "markdown",
   "id": "ad2cdac1",
   "metadata": {},
   "source": [
    "### Lowercase text"
   ]
  },
  {
   "cell_type": "code",
   "execution_count": 8,
   "id": "11f78546",
   "metadata": {},
   "outputs": [],
   "source": [
    "notes_database['lower_text']=notes_database.TEXT.str.lower()"
   ]
  },
  {
   "cell_type": "code",
   "execution_count": 9,
   "id": "ded76ba0",
   "metadata": {},
   "outputs": [],
   "source": [
    "notes_database.drop(columns='TEXT', inplace=True)"
   ]
  },
  {
   "cell_type": "markdown",
   "id": "52d11865",
   "metadata": {},
   "source": [
    "### Remove Identifiers"
   ]
  },
  {
   "cell_type": "markdown",
   "id": "61894e84",
   "metadata": {},
   "source": [
    "Privacy identifiers are in the form [\\*\\*2157-1-7\\*\\*], as shown in the example below. We can remove them with a simple regex."
   ]
  },
  {
   "cell_type": "code",
   "execution_count": 8,
   "id": "6b927a6f",
   "metadata": {},
   "outputs": [
    {
     "data": {
      "text/plain": [
       "'sinus tachycardia. occasional interpolated ventricular premature beats.\\nprobable incomplete right bundle-branch block and left anterior fascicular\\nblock. possible prior inferior wall myocardial infarction. compared to the\\nprevious tracing of [**2135-5-4**] the frequent interpolated ventricular premature\\nbeats are new.\\ntracing #1\\n\\n'"
      ]
     },
     "execution_count": 8,
     "metadata": {},
     "output_type": "execute_result"
    }
   ],
   "source": [
    "notes_database.lower_text[0]"
   ]
  },
  {
   "cell_type": "code",
   "execution_count": 9,
   "id": "b15d43ee",
   "metadata": {},
   "outputs": [
    {
     "data": {
      "text/plain": [
       "'sinus tachycardia. occasional interpolated ventricular premature beats.\\nprobable incomplete right bundle-branch block and left anterior fascicular\\nblock. possible prior inferior wall myocardial infarction. compared to the\\nprevious tracing of  the frequent interpolated ventricular premature\\nbeats are new.\\ntracing #1\\n\\n'"
      ]
     },
     "execution_count": 9,
     "metadata": {},
     "output_type": "execute_result"
    }
   ],
   "source": [
    "notes_database.lower_text.replace('(\\[\\*\\*)(.*)(\\*\\*\\])', '', regex=True)[0]"
   ]
  },
  {
   "cell_type": "code",
   "execution_count": 10,
   "id": "c79411f0",
   "metadata": {},
   "outputs": [],
   "source": [
    "notes_database['removedIdentifiers']=notes_database.lower_text.replace('(\\[\\*\\*)(.*)(\\*\\*\\])', '', regex=True)"
   ]
  },
  {
   "cell_type": "code",
   "execution_count": 11,
   "id": "f9916fca",
   "metadata": {},
   "outputs": [],
   "source": [
    "notes_database.drop(columns=\"lower_text\", inplace=True)"
   ]
  },
  {
   "cell_type": "markdown",
   "id": "000867c9",
   "metadata": {},
   "source": [
    "### Dropping stop words"
   ]
  },
  {
   "cell_type": "markdown",
   "id": "0cff63fc",
   "metadata": {},
   "source": [
    "Did not end up dropping stop words because they seemed important in interpreting the notes. Unlike sentiment analysis, negations like \"not\" or \"nor\" could be important in clinical notes. The models I'm going to be using will need to leverage the context from stop words."
   ]
  },
  {
   "cell_type": "code",
   "execution_count": 13,
   "id": "3c44d89c",
   "metadata": {},
   "outputs": [],
   "source": [
    "# nltk.download('stopwords')\n",
    "# stop_words = stopwords.words('english')"
   ]
  },
  {
   "cell_type": "code",
   "execution_count": 14,
   "id": "159a1e6c",
   "metadata": {},
   "outputs": [],
   "source": [
    "#notes_database['notes_without_stopwords'] = notes_database['removedIdentifiers'].apply(lambda x: ' '.join([word for word in x.split() if word not in (stop_words)]))"
   ]
  },
  {
   "cell_type": "code",
   "execution_count": 15,
   "id": "96bf1c37",
   "metadata": {},
   "outputs": [],
   "source": [
    "#notes_database.notes_without_stopwords[0]"
   ]
  },
  {
   "cell_type": "markdown",
   "id": "3ebcc57d",
   "metadata": {},
   "source": [
    "### Noise removal, sentence splitting"
   ]
  },
  {
   "cell_type": "markdown",
   "id": "f3d13772",
   "metadata": {},
   "source": [
    "Removed most punctuation, but leaving in '-' and ':' since they're commonly used medical terms."
   ]
  },
  {
   "cell_type": "code",
   "execution_count": 12,
   "id": "b46952ee",
   "metadata": {},
   "outputs": [
    {
     "data": {
      "text/plain": [
       "'sinus tachycardia. occasional interpolated ventricular premature beats.\\nprobable incomplete right bundle-branch block and left anterior fascicular\\nblock. possible prior inferior wall myocardial infarction. compared to the\\nprevious tracing of  the frequent interpolated ventricular premature\\nbeats are new.\\ntracing #1\\n\\n'"
      ]
     },
     "execution_count": 12,
     "metadata": {},
     "output_type": "execute_result"
    }
   ],
   "source": [
    "notes_database['removedIdentifiers'][0]"
   ]
  },
  {
   "cell_type": "code",
   "execution_count": 12,
   "id": "7aaa28e4",
   "metadata": {},
   "outputs": [],
   "source": [
    "tokenizer = Tokenizer(\n",
    "    #num_words = 150,\n",
    "    filters='!\"#$%&()*+/<=>@[\\\\]^_`{|}~\\t\\n',\n",
    "    split = ' ', \n",
    "    char_level = False)"
   ]
  },
  {
   "cell_type": "code",
   "execution_count": 13,
   "id": "1bac4415",
   "metadata": {},
   "outputs": [],
   "source": [
    "tokenizer.fit_on_texts(notes_database['removedIdentifiers'])"
   ]
  },
  {
   "cell_type": "code",
   "execution_count": 14,
   "id": "5ed5cf0f",
   "metadata": {},
   "outputs": [],
   "source": [
    "sequences = tokenizer.texts_to_sequences(notes_database['removedIdentifiers'])\n"
   ]
  },
  {
   "cell_type": "code",
   "execution_count": 15,
   "id": "80e006dc",
   "metadata": {},
   "outputs": [],
   "source": [
    "denoised_sentences = []\n",
    "\n",
    "for i in sequences:\n",
    "    denoised_sentences.append(' '.join(tokenizer.index_word[w] for w in i))"
   ]
  },
  {
   "cell_type": "code",
   "execution_count": 16,
   "id": "abeafab3",
   "metadata": {},
   "outputs": [],
   "source": [
    "notes_database['DENOISED_TEXT'] = denoised_sentences\n",
    "notes_database.drop(columns='removedIdentifiers', inplace = True)"
   ]
  },
  {
   "cell_type": "code",
   "execution_count": 17,
   "id": "7697ab9e",
   "metadata": {},
   "outputs": [
    {
     "data": {
      "text/html": [
       "<div>\n",
       "<style scoped>\n",
       "    .dataframe tbody tr th:only-of-type {\n",
       "        vertical-align: middle;\n",
       "    }\n",
       "\n",
       "    .dataframe tbody tr th {\n",
       "        vertical-align: top;\n",
       "    }\n",
       "\n",
       "    .dataframe thead th {\n",
       "        text-align: right;\n",
       "    }\n",
       "</style>\n",
       "<table border=\"1\" class=\"dataframe\">\n",
       "  <thead>\n",
       "    <tr style=\"text-align: right;\">\n",
       "      <th></th>\n",
       "      <th>SUBJECT_ID</th>\n",
       "      <th>DIAGNOSIS_CODE</th>\n",
       "      <th>DENOISED_TEXT</th>\n",
       "    </tr>\n",
       "  </thead>\n",
       "  <tbody>\n",
       "    <tr>\n",
       "      <th>178417</th>\n",
       "      <td>19326</td>\n",
       "      <td>2</td>\n",
       "      <td>sinus rhythm marked left axis deviation - left...</td>\n",
       "    </tr>\n",
       "    <tr>\n",
       "      <th>178418</th>\n",
       "      <td>18179</td>\n",
       "      <td>2</td>\n",
       "      <td>sinus rhythm. since earlier this date the rhyt...</td>\n",
       "    </tr>\n",
       "    <tr>\n",
       "      <th>178419</th>\n",
       "      <td>21734</td>\n",
       "      <td>2</td>\n",
       "      <td>sinus bradycardia first degree a-v block poor ...</td>\n",
       "    </tr>\n",
       "    <tr>\n",
       "      <th>178420</th>\n",
       "      <td>12694</td>\n",
       "      <td>2</td>\n",
       "      <td>baseline artifact probable ectopic atrial rhyt...</td>\n",
       "    </tr>\n",
       "    <tr>\n",
       "      <th>178421</th>\n",
       "      <td>10928</td>\n",
       "      <td>2</td>\n",
       "      <td>sinus rhythm left axis deviation old inferior ...</td>\n",
       "    </tr>\n",
       "  </tbody>\n",
       "</table>\n",
       "</div>"
      ],
      "text/plain": [
       "        SUBJECT_ID  DIAGNOSIS_CODE  \\\n",
       "178417       19326               2   \n",
       "178418       18179               2   \n",
       "178419       21734               2   \n",
       "178420       12694               2   \n",
       "178421       10928               2   \n",
       "\n",
       "                                            DENOISED_TEXT  \n",
       "178417  sinus rhythm marked left axis deviation - left...  \n",
       "178418  sinus rhythm. since earlier this date the rhyt...  \n",
       "178419  sinus bradycardia first degree a-v block poor ...  \n",
       "178420  baseline artifact probable ectopic atrial rhyt...  \n",
       "178421  sinus rhythm left axis deviation old inferior ...  "
      ]
     },
     "execution_count": 17,
     "metadata": {},
     "output_type": "execute_result"
    }
   ],
   "source": [
    "notes_database.head()"
   ]
  },
  {
   "cell_type": "markdown",
   "id": "65bfe1c3",
   "metadata": {},
   "source": [
    "### Removing Length 0 Notes"
   ]
  },
  {
   "cell_type": "markdown",
   "id": "da777e5d",
   "metadata": {},
   "source": [
    "Now that we've denoised the data, some of the notes will be 0 characters long. Let's remove them from the dataset. "
   ]
  },
  {
   "cell_type": "code",
   "execution_count": 18,
   "id": "ef972ae2",
   "metadata": {},
   "outputs": [],
   "source": [
    "notes_database['TEXT_LENGTHS'] = notes_database['DENOISED_TEXT'].str.len()"
   ]
  },
  {
   "cell_type": "code",
   "execution_count": 19,
   "id": "32fe5c15",
   "metadata": {},
   "outputs": [
    {
     "name": "stdout",
     "output_type": "stream",
     "text": [
      "Removed 8 rows.\n"
     ]
    }
   ],
   "source": [
    "before = len(notes_database)\n",
    "notes_database = notes_database[notes_database['TEXT_LENGTHS']>0]\n",
    "print(f\"Removed {before-len(notes_database)} rows.\")"
   ]
  },
  {
   "cell_type": "markdown",
   "id": "e874ba16",
   "metadata": {},
   "source": [
    "### Balance the Dataset"
   ]
  },
  {
   "cell_type": "markdown",
   "id": "7d4fd034",
   "metadata": {},
   "source": [
    "Now that we've dropped duplicate subjects, we have a very imbalanced dataset. We'll downsample the more common values in order to get a more balanced dataset. "
   ]
  },
  {
   "cell_type": "code",
   "execution_count": 20,
   "id": "b2285b6a",
   "metadata": {},
   "outputs": [
    {
     "data": {
      "text/plain": [
       "1    17790\n",
       "2    17045\n",
       "Name: DIAGNOSIS_CODE, dtype: int64"
      ]
     },
     "execution_count": 20,
     "metadata": {},
     "output_type": "execute_result"
    }
   ],
   "source": [
    "notes_database['DIAGNOSIS_CODE'].value_counts()"
   ]
  },
  {
   "cell_type": "code",
   "execution_count": 22,
   "id": "104d26d2",
   "metadata": {},
   "outputs": [],
   "source": [
    "df_3_downsampled = resample(notes_database[notes_database.DIAGNOSIS_CODE == 3], \n",
    "                                 replace=False,    \n",
    "                                 n_samples=17045,     \n",
    "                                 random_state=123)\n",
    "\n",
    "df_0_downsampled = resample(notes_database[notes_database.DIAGNOSIS_CODE == 0], \n",
    "                                 replace=False,    \n",
    "                                 n_samples=17045,     \n",
    "                                 random_state=123)\n",
    "\n",
    "df_1_downsampled = resample(notes_database[notes_database.DIAGNOSIS_CODE == 1], \n",
    "                                 replace=False,    \n",
    "                                 n_samples= 17045,     \n",
    "                                 random_state=123)\n",
    "\n",
    "df_downsampled = pd.concat([df_3_downsampled, \n",
    "                            df_0_downsampled, \n",
    "                            df_1_downsampled, \n",
    "                            notes_database[notes_database.DIAGNOSIS_CODE == 2]],\n",
    "                            ignore_index=True)\n"
   ]
  },
  {
   "cell_type": "markdown",
   "id": "1a470977",
   "metadata": {},
   "source": [
    "df_downsampled['DIAGNOSIS_CODE'].value_counts()"
   ]
  },
  {
   "cell_type": "code",
   "execution_count": 24,
   "id": "631d2505",
   "metadata": {},
   "outputs": [],
   "source": [
    "notes_database = df_downsampled"
   ]
  },
  {
   "cell_type": "markdown",
   "id": "3b35361b",
   "metadata": {},
   "source": [
    "## Save off dataframe"
   ]
  },
  {
   "cell_type": "code",
   "execution_count": 21,
   "id": "7252f524",
   "metadata": {},
   "outputs": [],
   "source": [
    "notes_database.drop(columns=['SUBJECT_ID', 'TEXT_LENGTHS'], inplace=True)\n",
    "notes_database.rename(columns={'DENOISED_TEXT':'TEXT', 'DIAGNOSIS_CODE':'ICD9_CODE'}, inplace=True)"
   ]
  },
  {
   "cell_type": "code",
   "execution_count": 22,
   "id": "e1a586d1",
   "metadata": {},
   "outputs": [
    {
     "data": {
      "text/html": [
       "<div>\n",
       "<style scoped>\n",
       "    .dataframe tbody tr th:only-of-type {\n",
       "        vertical-align: middle;\n",
       "    }\n",
       "\n",
       "    .dataframe tbody tr th {\n",
       "        vertical-align: top;\n",
       "    }\n",
       "\n",
       "    .dataframe thead th {\n",
       "        text-align: right;\n",
       "    }\n",
       "</style>\n",
       "<table border=\"1\" class=\"dataframe\">\n",
       "  <thead>\n",
       "    <tr style=\"text-align: right;\">\n",
       "      <th></th>\n",
       "      <th>ICD9_CODE</th>\n",
       "      <th>TEXT</th>\n",
       "    </tr>\n",
       "  </thead>\n",
       "  <tbody>\n",
       "    <tr>\n",
       "      <th>178417</th>\n",
       "      <td>2</td>\n",
       "      <td>sinus rhythm marked left axis deviation - left...</td>\n",
       "    </tr>\n",
       "    <tr>\n",
       "      <th>178418</th>\n",
       "      <td>2</td>\n",
       "      <td>sinus rhythm. since earlier this date the rhyt...</td>\n",
       "    </tr>\n",
       "    <tr>\n",
       "      <th>178419</th>\n",
       "      <td>2</td>\n",
       "      <td>sinus bradycardia first degree a-v block poor ...</td>\n",
       "    </tr>\n",
       "    <tr>\n",
       "      <th>178420</th>\n",
       "      <td>2</td>\n",
       "      <td>baseline artifact probable ectopic atrial rhyt...</td>\n",
       "    </tr>\n",
       "    <tr>\n",
       "      <th>178421</th>\n",
       "      <td>2</td>\n",
       "      <td>sinus rhythm left axis deviation old inferior ...</td>\n",
       "    </tr>\n",
       "  </tbody>\n",
       "</table>\n",
       "</div>"
      ],
      "text/plain": [
       "        ICD9_CODE                                               TEXT\n",
       "178417          2  sinus rhythm marked left axis deviation - left...\n",
       "178418          2  sinus rhythm. since earlier this date the rhyt...\n",
       "178419          2  sinus bradycardia first degree a-v block poor ...\n",
       "178420          2  baseline artifact probable ectopic atrial rhyt...\n",
       "178421          2  sinus rhythm left axis deviation old inferior ..."
      ]
     },
     "execution_count": 22,
     "metadata": {},
     "output_type": "execute_result"
    }
   ],
   "source": [
    "notes_database.head()"
   ]
  },
  {
   "cell_type": "code",
   "execution_count": 23,
   "id": "61098a5c",
   "metadata": {},
   "outputs": [],
   "source": [
    "notes_database.to_pickle('/home/sanjaycollege15/PredictingDiagnoses/Data/ekg_denoised_v3.pkl')"
   ]
  },
  {
   "cell_type": "markdown",
   "id": "1b356978",
   "metadata": {},
   "source": [
    "---"
   ]
  }
 ],
 "metadata": {
  "kernelspec": {
   "display_name": "Python 3",
   "language": "python",
   "name": "python3"
  },
  "language_info": {
   "codemirror_mode": {
    "name": "ipython",
    "version": 3
   },
   "file_extension": ".py",
   "mimetype": "text/x-python",
   "name": "python",
   "nbconvert_exporter": "python",
   "pygments_lexer": "ipython3",
   "version": "3.8.8"
  }
 },
 "nbformat": 4,
 "nbformat_minor": 5
}
