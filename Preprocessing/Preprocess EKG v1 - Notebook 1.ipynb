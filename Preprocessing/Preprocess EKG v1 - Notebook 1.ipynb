{
 "cells": [
  {
   "cell_type": "markdown",
   "id": "408dbaf5",
   "metadata": {},
   "source": [
    "## Import Data"
   ]
  },
  {
   "cell_type": "code",
   "execution_count": 1,
   "id": "9f8472a4",
   "metadata": {},
   "outputs": [],
   "source": [
    "import pandas as pd\n",
    "from keras.preprocessing.text import Tokenizer\n",
    "from tensorflow.keras.preprocessing.sequence import pad_sequences\n",
    "import nltk\n",
    "from nltk.tokenize import sent_tokenize\n",
    "from nltk.corpus import stopwords\n",
    "import pickle\n",
    "from sklearn.utils import resample\n",
    "import matplotlib as plt\n",
    "from matplotlib.pyplot import hist"
   ]
  },
  {
   "cell_type": "code",
   "execution_count": 4,
   "id": "0e6df07f",
   "metadata": {},
   "outputs": [],
   "source": [
    "notes_database = pd.read_csv(\"/home/sanjaycollege15/ekg_notes.csv\")"
   ]
  },
  {
   "cell_type": "code",
   "execution_count": 5,
   "id": "ba0ce47b",
   "metadata": {},
   "outputs": [
    {
     "data": {
      "text/html": [
       "<div>\n",
       "<style scoped>\n",
       "    .dataframe tbody tr th:only-of-type {\n",
       "        vertical-align: middle;\n",
       "    }\n",
       "\n",
       "    .dataframe tbody tr th {\n",
       "        vertical-align: top;\n",
       "    }\n",
       "\n",
       "    .dataframe thead th {\n",
       "        text-align: right;\n",
       "    }\n",
       "</style>\n",
       "<table border=\"1\" class=\"dataframe\">\n",
       "  <thead>\n",
       "    <tr style=\"text-align: right;\">\n",
       "      <th></th>\n",
       "      <th>SUBJECT_ID</th>\n",
       "      <th>ICD9_CODE</th>\n",
       "      <th>TEXT</th>\n",
       "    </tr>\n",
       "  </thead>\n",
       "  <tbody>\n",
       "    <tr>\n",
       "      <th>0</th>\n",
       "      <td>87424</td>\n",
       "      <td>4019</td>\n",
       "      <td>Sinus rhythm with 2:1 A-V block.  Right bundle...</td>\n",
       "    </tr>\n",
       "    <tr>\n",
       "      <th>1</th>\n",
       "      <td>14211</td>\n",
       "      <td>4019</td>\n",
       "      <td>Sinus tachycardia\\nConsider old septal myocard...</td>\n",
       "    </tr>\n",
       "    <tr>\n",
       "      <th>2</th>\n",
       "      <td>88174</td>\n",
       "      <td>4019</td>\n",
       "      <td>Sinus rhythm.  Low limb lead voltage.  Compare...</td>\n",
       "    </tr>\n",
       "    <tr>\n",
       "      <th>3</th>\n",
       "      <td>30927</td>\n",
       "      <td>4019</td>\n",
       "      <td>Sinus rhythm.  Early precordial QRS transition...</td>\n",
       "    </tr>\n",
       "    <tr>\n",
       "      <th>4</th>\n",
       "      <td>30927</td>\n",
       "      <td>4019</td>\n",
       "      <td>Sinus rhythm.  Early precordial QRS transition...</td>\n",
       "    </tr>\n",
       "  </tbody>\n",
       "</table>\n",
       "</div>"
      ],
      "text/plain": [
       "   SUBJECT_ID  ICD9_CODE                                               TEXT\n",
       "0       87424       4019  Sinus rhythm with 2:1 A-V block.  Right bundle...\n",
       "1       14211       4019  Sinus tachycardia\\nConsider old septal myocard...\n",
       "2       88174       4019  Sinus rhythm.  Low limb lead voltage.  Compare...\n",
       "3       30927       4019  Sinus rhythm.  Early precordial QRS transition...\n",
       "4       30927       4019  Sinus rhythm.  Early precordial QRS transition..."
      ]
     },
     "execution_count": 5,
     "metadata": {},
     "output_type": "execute_result"
    }
   ],
   "source": [
    "notes_database.head()"
   ]
  },
  {
   "cell_type": "markdown",
   "id": "6ffaf6d5",
   "metadata": {},
   "source": [
    "---"
   ]
  },
  {
   "cell_type": "markdown",
   "id": "81187e35",
   "metadata": {},
   "source": [
    "## Pre-process Text"
   ]
  },
  {
   "cell_type": "markdown",
   "id": "cae05946",
   "metadata": {},
   "source": [
    "### Convert ICD9_CODE to 0-5"
   ]
  },
  {
   "cell_type": "code",
   "execution_count": 6,
   "id": "bf1680d9",
   "metadata": {},
   "outputs": [],
   "source": [
    "notes_database['ICD9_CODE']=notes_database['ICD9_CODE'].map({4019: 0, 4280: 1, 41401: 2,  42731: 3})"
   ]
  },
  {
   "cell_type": "markdown",
   "id": "d047f5ec",
   "metadata": {},
   "source": [
    "### Drop Duplicates"
   ]
  },
  {
   "cell_type": "code",
   "execution_count": 7,
   "id": "c004b1a9",
   "metadata": {},
   "outputs": [
    {
     "name": "stdout",
     "output_type": "stream",
     "text": [
      "293583 rows removed. 363460 rows remain.\n"
     ]
    }
   ],
   "source": [
    "before = len(notes_database)\n",
    "notes_database.drop_duplicates(inplace=True)\n",
    "print(f\"{before-len(notes_database)} rows removed. {len(notes_database)} rows remain.\")\n"
   ]
  },
  {
   "cell_type": "markdown",
   "id": "0f79442f",
   "metadata": {},
   "source": [
    "### Drop duplicate subjects"
   ]
  },
  {
   "cell_type": "markdown",
   "id": "61424c77",
   "metadata": {},
   "source": [
    "Subjects can be classified in two different categories with very similar notes. We drop duplicate subjects to mitigate this effect."
   ]
  },
  {
   "cell_type": "code",
   "execution_count": 8,
   "id": "a3317523",
   "metadata": {},
   "outputs": [
    {
     "name": "stdout",
     "output_type": "stream",
     "text": [
      "337966 rows removed. 25494 rows remain.\n"
     ]
    }
   ],
   "source": [
    "before = len(notes_database)\n",
    "notes_database.drop_duplicates(subset='SUBJECT_ID', inplace=True)\n",
    "print(f\"{before-len(notes_database)} rows removed. {len(notes_database)} rows remain.\")"
   ]
  },
  {
   "cell_type": "code",
   "execution_count": 9,
   "id": "90c49b44",
   "metadata": {},
   "outputs": [],
   "source": [
    "notes_database.drop(columns=\"SUBJECT_ID\", inplace=True)"
   ]
  },
  {
   "cell_type": "markdown",
   "id": "e874ba16",
   "metadata": {},
   "source": [
    "### Balance the Dataset"
   ]
  },
  {
   "cell_type": "markdown",
   "id": "7d4fd034",
   "metadata": {},
   "source": [
    "Now that we've dropped duplicate subjects, we have a very imbalanced dataset. We'll downsample the more common values in order to get a more balanced dataset. "
   ]
  },
  {
   "cell_type": "code",
   "execution_count": 10,
   "id": "b2285b6a",
   "metadata": {},
   "outputs": [
    {
     "data": {
      "text/plain": [
       "0    16518\n",
       "1     5183\n",
       "2     2159\n",
       "3     1634\n",
       "Name: ICD9_CODE, dtype: int64"
      ]
     },
     "execution_count": 10,
     "metadata": {},
     "output_type": "execute_result"
    }
   ],
   "source": [
    "notes_database['ICD9_CODE'].value_counts()"
   ]
  },
  {
   "cell_type": "code",
   "execution_count": 11,
   "id": "104d26d2",
   "metadata": {},
   "outputs": [],
   "source": [
    "df_4019_downsampled = resample(notes_database[notes_database.ICD9_CODE == 0], \n",
    "                                 replace=False,    \n",
    "                                 n_samples=1634,     \n",
    "                                 random_state=123)\n",
    "\n",
    "df_4280_downsampled = resample(notes_database[notes_database.ICD9_CODE == 1], \n",
    "                                 replace=False,    \n",
    "                                 n_samples=1634,     \n",
    "                                 random_state=123)\n",
    "\n",
    "df_41401_downsampled = resample(notes_database[notes_database.ICD9_CODE == 2], \n",
    "                                 replace=False,    \n",
    "                                 n_samples=1634,     \n",
    "                                 random_state=123)\n",
    "\n",
    "df_downsampled = pd.concat([df_4019_downsampled, \n",
    "                            df_4280_downsampled, \n",
    "                            df_41401_downsampled, \n",
    "                            notes_database[notes_database.ICD9_CODE == 3]],\n",
    "                            ignore_index=True)\n"
   ]
  },
  {
   "cell_type": "code",
   "execution_count": 12,
   "id": "f31a2926",
   "metadata": {},
   "outputs": [
    {
     "data": {
      "text/plain": [
       "0    1634\n",
       "1    1634\n",
       "2    1634\n",
       "3    1634\n",
       "Name: ICD9_CODE, dtype: int64"
      ]
     },
     "execution_count": 12,
     "metadata": {},
     "output_type": "execute_result"
    }
   ],
   "source": [
    "df_downsampled['ICD9_CODE'].value_counts()"
   ]
  },
  {
   "cell_type": "code",
   "execution_count": 13,
   "id": "631d2505",
   "metadata": {},
   "outputs": [],
   "source": [
    "notes_database = df_downsampled"
   ]
  },
  {
   "cell_type": "markdown",
   "id": "ad2cdac1",
   "metadata": {},
   "source": [
    "### Lowercase text"
   ]
  },
  {
   "cell_type": "code",
   "execution_count": 14,
   "id": "11f78546",
   "metadata": {},
   "outputs": [],
   "source": [
    "notes_database['lower_text']=notes_database.TEXT.str.lower()"
   ]
  },
  {
   "cell_type": "code",
   "execution_count": 15,
   "id": "ded76ba0",
   "metadata": {},
   "outputs": [],
   "source": [
    "notes_database.drop(columns='TEXT', inplace=True)"
   ]
  },
  {
   "cell_type": "markdown",
   "id": "52d11865",
   "metadata": {},
   "source": [
    "### Remove Identifiers"
   ]
  },
  {
   "cell_type": "markdown",
   "id": "61894e84",
   "metadata": {},
   "source": [
    "Privacy identifiers are in the form [\\*\\*2157-1-7\\*\\*], as shown in the example below. We can remove them with a simple regex."
   ]
  },
  {
   "cell_type": "code",
   "execution_count": 16,
   "id": "6b927a6f",
   "metadata": {},
   "outputs": [
    {
     "data": {
      "text/plain": [
       "'sinus rhythm.  compared to tracing #1 no diagnostic interim change.\\ntracing #2\\n\\n'"
      ]
     },
     "execution_count": 16,
     "metadata": {},
     "output_type": "execute_result"
    }
   ],
   "source": [
    "notes_database.lower_text[0]"
   ]
  },
  {
   "cell_type": "code",
   "execution_count": 17,
   "id": "b15d43ee",
   "metadata": {},
   "outputs": [
    {
     "data": {
      "text/plain": [
       "'sinus rhythm.  compared to tracing #1 no diagnostic interim change.\\ntracing #2\\n\\n'"
      ]
     },
     "execution_count": 17,
     "metadata": {},
     "output_type": "execute_result"
    }
   ],
   "source": [
    "notes_database.lower_text.replace('(\\[\\*\\*)(.*)(\\*\\*\\])', '', regex=True)[0]"
   ]
  },
  {
   "cell_type": "code",
   "execution_count": 18,
   "id": "c79411f0",
   "metadata": {},
   "outputs": [],
   "source": [
    "notes_database['removedIdentifiers']=notes_database.lower_text.replace('(\\[\\*\\*)(.*)(\\*\\*\\])', '', regex=True)"
   ]
  },
  {
   "cell_type": "code",
   "execution_count": 19,
   "id": "f9916fca",
   "metadata": {},
   "outputs": [],
   "source": [
    "notes_database.drop(columns=\"lower_text\", inplace=True)"
   ]
  },
  {
   "cell_type": "code",
   "execution_count": 20,
   "id": "c664a733",
   "metadata": {},
   "outputs": [],
   "source": [
    "notes_database.to_pickle('/home/sanjaycollege15/PredictingDiagnoses/Data/intermediate_ekg.pkl')"
   ]
  },
  {
   "cell_type": "markdown",
   "id": "000867c9",
   "metadata": {},
   "source": [
    "### Dropping stop words"
   ]
  },
  {
   "cell_type": "markdown",
   "id": "0cff63fc",
   "metadata": {},
   "source": [
    "Did not end up dropping stop words because they seemed important in interpreting the notes. Unlike sentiment analysis, negations like \"not\" or \"nor\" could be important in clinical notes. The models I'm going to be using will need to leverage the context from stop words."
   ]
  },
  {
   "cell_type": "code",
   "execution_count": 13,
   "id": "3c44d89c",
   "metadata": {},
   "outputs": [],
   "source": [
    "# nltk.download('stopwords')\n",
    "# stop_words = stopwords.words('english')"
   ]
  },
  {
   "cell_type": "code",
   "execution_count": 14,
   "id": "159a1e6c",
   "metadata": {},
   "outputs": [],
   "source": [
    "#notes_database['notes_without_stopwords'] = notes_database['removedIdentifiers'].apply(lambda x: ' '.join([word for word in x.split() if word not in (stop_words)]))"
   ]
  },
  {
   "cell_type": "code",
   "execution_count": 15,
   "id": "96bf1c37",
   "metadata": {},
   "outputs": [],
   "source": [
    "#notes_database.notes_without_stopwords[0]"
   ]
  },
  {
   "cell_type": "markdown",
   "id": "3ebcc57d",
   "metadata": {},
   "source": [
    "### Noise removal, sentence splitting"
   ]
  },
  {
   "cell_type": "markdown",
   "id": "f3d13772",
   "metadata": {},
   "source": [
    "Removed most punctuation, but leaving in '-' and ':' since they're commonly used medical terms."
   ]
  },
  {
   "cell_type": "code",
   "execution_count": 21,
   "id": "b46952ee",
   "metadata": {},
   "outputs": [
    {
     "data": {
      "text/plain": [
       "'sinus rhythm.  compared to tracing #1 no diagnostic interim change.\\ntracing #2\\n\\n'"
      ]
     },
     "execution_count": 21,
     "metadata": {},
     "output_type": "execute_result"
    }
   ],
   "source": [
    "notes_database['removedIdentifiers'][0]"
   ]
  },
  {
   "cell_type": "code",
   "execution_count": 22,
   "id": "7aaa28e4",
   "metadata": {},
   "outputs": [],
   "source": [
    "tokenizer = Tokenizer(\n",
    "    #num_words = 150,\n",
    "    filters='!\"#$%&()*+/<=>@[\\\\]^_`{|}~\\t\\n',\n",
    "    split = ' ', \n",
    "    char_level = False)"
   ]
  },
  {
   "cell_type": "code",
   "execution_count": 23,
   "id": "1bac4415",
   "metadata": {},
   "outputs": [],
   "source": [
    "tokenizer.fit_on_texts(notes_database['removedIdentifiers'])"
   ]
  },
  {
   "cell_type": "code",
   "execution_count": 24,
   "id": "5ed5cf0f",
   "metadata": {},
   "outputs": [],
   "source": [
    "sequences = tokenizer.texts_to_sequences(notes_database['removedIdentifiers'])\n"
   ]
  },
  {
   "cell_type": "code",
   "execution_count": 25,
   "id": "80e006dc",
   "metadata": {},
   "outputs": [],
   "source": [
    "denoised_sentences = []\n",
    "\n",
    "for i in sequences:\n",
    "    denoised_sentences.append(' '.join(tokenizer.index_word[w] for w in i))"
   ]
  },
  {
   "cell_type": "markdown",
   "id": "109f397b",
   "metadata": {},
   "source": [
    "### Paddings"
   ]
  },
  {
   "cell_type": "code",
   "execution_count": 33,
   "id": "a1c6aed7",
   "metadata": {},
   "outputs": [
    {
     "name": "stdout",
     "output_type": "stream",
     "text": [
      "Average sentence length: 201.8235924112607\n",
      "Max sentence length: 832\n",
      "Min sentence length: 0\n"
     ]
    }
   ],
   "source": [
    "lengths = []\n",
    "for i in denoised_sentences:\n",
    "    lengths.append(len(i))\n",
    "    \n",
    "print(f\"Average sentence length: {sum(lengths)/len(lengths)}\")\n",
    "print(f\"Max sentence length: {max(lengths)}\")\n",
    "print(f\"Min sentence length: {min(lengths)}\")"
   ]
  },
  {
   "cell_type": "code",
   "execution_count": 38,
   "id": "28178a5f",
   "metadata": {},
   "outputs": [
    {
     "data": {
      "text/plain": [
       "(array([4.150e+02, 2.320e+03, 2.099e+03, 1.042e+03, 4.320e+02, 1.660e+02,\n",
       "        4.500e+01, 9.000e+00, 6.000e+00, 2.000e+00]),\n",
       " array([  0. ,  83.2, 166.4, 249.6, 332.8, 416. , 499.2, 582.4, 665.6,\n",
       "        748.8, 832. ]),\n",
       " <BarContainer object of 10 artists>)"
      ]
     },
     "execution_count": 38,
     "metadata": {},
     "output_type": "execute_result"
    },
    {
     "data": {
      "image/png": "[encoded data removed]",
      "text/plain": [
       "<Figure size 432x288 with 1 Axes>"
      ]
     },
     "metadata": {
      "needs_background": "light"
     },
     "output_type": "display_data"
    }
   ],
   "source": [
    "hist(lengths)"
   ]
  },
  {
   "cell_type": "code",
   "execution_count": 62,
   "id": "61098a5c",
   "metadata": {},
   "outputs": [],
   "source": [
    "with open(\"/home/sanjaycollege15/PredictingDiagnoses/Data/denoised_sentences.txt\", \"wb\") as fp:\n",
    "    pickle.dump(denoised_sentences, fp)"
   ]
  },
  {
   "cell_type": "markdown",
   "id": "be062d67",
   "metadata": {},
   "source": [
    "Switch to Preprocess Text - Notebook 2 in order to continue constructing the dataframe. Ran out of memory in this notebook."
   ]
  },
  {
   "cell_type": "markdown",
   "id": "1b356978",
   "metadata": {},
   "source": [
    "---"
   ]
  },
  {
   "cell_type": "markdown",
   "id": "28cbfba3",
   "metadata": {},
   "source": [
    "### Tokenize into Sentences"
   ]
  },
  {
   "cell_type": "code",
   "execution_count": 65,
   "id": "e002796d",
   "metadata": {},
   "outputs": [],
   "source": [
    "tokenized_sentences = []\n",
    "\n",
    "for i in denoised_sentences:\n",
    "    tokenized_sentences.append(sent_tokenize(i))"
   ]
  },
  {
   "cell_type": "code",
   "execution_count": 66,
   "id": "3b9ce5d8",
   "metadata": {},
   "outputs": [],
   "source": [
    "with open(\"/home/sanjaycollege15/PredictingDiagnoses/Data/tokenized_sentences.txt\", \"wb\") as fp:\n",
    "    pickle.dump(tokenized_sentences, fp)"
   ]
  },
  {
   "cell_type": "markdown",
   "id": "ae1982a5",
   "metadata": {},
   "source": [
    "Switch to Preprocess Text - Notebook 2 in order to continue constructing the dataframe. Ran out of memory in this notebook."
   ]
  },
  {
   "cell_type": "markdown",
   "id": "f100e0bd",
   "metadata": {},
   "source": [
    "### Stemming"
   ]
  },
  {
   "cell_type": "code",
   "execution_count": null,
   "id": "2d14e203",
   "metadata": {},
   "outputs": [],
   "source": []
  }
 ],
 "metadata": {
  "kernelspec": {
   "display_name": "Python 3",
   "language": "python",
   "name": "python3"
  },
  "language_info": {
   "codemirror_mode": {
    "name": "ipython",
    "version": 3
   },
   "file_extension": ".py",
   "mimetype": "text/x-python",
   "name": "python",
   "nbconvert_exporter": "python",
   "pygments_lexer": "ipython3",
   "version": "3.8.8"
  }
 },
 "nbformat": 4,
 "nbformat_minor": 5
}
