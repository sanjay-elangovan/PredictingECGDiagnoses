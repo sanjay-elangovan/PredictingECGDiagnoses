{
 "cells": [
  {
   "cell_type": "markdown",
   "id": "408dbaf5",
   "metadata": {},
   "source": [
    "## Import Data"
   ]
  },
  {
   "cell_type": "code",
   "execution_count": 2,
   "id": "9f8472a4",
   "metadata": {},
   "outputs": [],
   "source": [
    "import pandas as pd\n",
    "from keras.preprocessing.text import Tokenizer\n",
    "import nltk\n",
    "import string"
   ]
  },
  {
   "cell_type": "code",
   "execution_count": 3,
   "id": "0e6df07f",
   "metadata": {},
   "outputs": [],
   "source": [
    "notes_database = pd.read_csv(\"/home/sanjaycollege15/ekg_notes.csv\")"
   ]
  },
  {
   "cell_type": "code",
   "execution_count": 4,
   "id": "ba0ce47b",
   "metadata": {},
   "outputs": [
    {
     "data": {
      "text/html": [
       "<div>\n",
       "<style scoped>\n",
       "    .dataframe tbody tr th:only-of-type {\n",
       "        vertical-align: middle;\n",
       "    }\n",
       "\n",
       "    .dataframe tbody tr th {\n",
       "        vertical-align: top;\n",
       "    }\n",
       "\n",
       "    .dataframe thead th {\n",
       "        text-align: right;\n",
       "    }\n",
       "</style>\n",
       "<table border=\"1\" class=\"dataframe\">\n",
       "  <thead>\n",
       "    <tr style=\"text-align: right;\">\n",
       "      <th></th>\n",
       "      <th>SUBJECT_ID</th>\n",
       "      <th>ICD9_CODE</th>\n",
       "      <th>TEXT</th>\n",
       "    </tr>\n",
       "  </thead>\n",
       "  <tbody>\n",
       "    <tr>\n",
       "      <th>0</th>\n",
       "      <td>87424</td>\n",
       "      <td>4019</td>\n",
       "      <td>Sinus rhythm with 2:1 A-V block.  Right bundle...</td>\n",
       "    </tr>\n",
       "    <tr>\n",
       "      <th>1</th>\n",
       "      <td>14211</td>\n",
       "      <td>4019</td>\n",
       "      <td>Sinus tachycardia\\nConsider old septal myocard...</td>\n",
       "    </tr>\n",
       "    <tr>\n",
       "      <th>2</th>\n",
       "      <td>88174</td>\n",
       "      <td>4019</td>\n",
       "      <td>Sinus rhythm.  Low limb lead voltage.  Compare...</td>\n",
       "    </tr>\n",
       "    <tr>\n",
       "      <th>3</th>\n",
       "      <td>30927</td>\n",
       "      <td>4019</td>\n",
       "      <td>Sinus rhythm.  Early precordial QRS transition...</td>\n",
       "    </tr>\n",
       "    <tr>\n",
       "      <th>4</th>\n",
       "      <td>30927</td>\n",
       "      <td>4019</td>\n",
       "      <td>Sinus rhythm.  Early precordial QRS transition...</td>\n",
       "    </tr>\n",
       "  </tbody>\n",
       "</table>\n",
       "</div>"
      ],
      "text/plain": [
       "   SUBJECT_ID  ICD9_CODE                                               TEXT\n",
       "0       87424       4019  Sinus rhythm with 2:1 A-V block.  Right bundle...\n",
       "1       14211       4019  Sinus tachycardia\\nConsider old septal myocard...\n",
       "2       88174       4019  Sinus rhythm.  Low limb lead voltage.  Compare...\n",
       "3       30927       4019  Sinus rhythm.  Early precordial QRS transition...\n",
       "4       30927       4019  Sinus rhythm.  Early precordial QRS transition..."
      ]
     },
     "execution_count": 4,
     "metadata": {},
     "output_type": "execute_result"
    }
   ],
   "source": [
    "notes_database.head()"
   ]
  },
  {
   "cell_type": "markdown",
   "id": "81187e35",
   "metadata": {},
   "source": [
    "## Pre-process Text"
   ]
  },
  {
   "cell_type": "markdown",
   "id": "d047f5ec",
   "metadata": {},
   "source": [
    "### Drop Duplicates"
   ]
  },
  {
   "cell_type": "code",
   "execution_count": 8,
   "id": "c004b1a9",
   "metadata": {},
   "outputs": [],
   "source": [
    "notes_database.drop_duplicates(inplace=True)"
   ]
  },
  {
   "cell_type": "markdown",
   "id": "ad2cdac1",
   "metadata": {},
   "source": [
    "### Lowercase text"
   ]
  },
  {
   "cell_type": "code",
   "execution_count": 13,
   "id": "11f78546",
   "metadata": {},
   "outputs": [],
   "source": [
    "notes_database['lower_text']=notes_database.TEXT.str.lower()"
   ]
  },
  {
   "cell_type": "code",
   "execution_count": 16,
   "id": "ded76ba0",
   "metadata": {},
   "outputs": [],
   "source": [
    "notes_database.drop(columns='TEXT', inplace=True)"
   ]
  },
  {
   "cell_type": "markdown",
   "id": "52d11865",
   "metadata": {},
   "source": [
    "### Remove Identifiers"
   ]
  },
  {
   "cell_type": "code",
   "execution_count": 20,
   "id": "6b927a6f",
   "metadata": {},
   "outputs": [
    {
     "data": {
      "text/plain": [
       "'sinus rhythm with 2:1 a-v block.  right bundle-branch block.  inferolateral\\nst-t wave abnormalities.  compared to the previous tracing of [**2157-1-7**]\\n2:1 a-v block is new.  inferolateral st-t wave abnormalities are more\\nmarked.  cannot rule out myocardial ischemia or subendocardial infarction.\\nsuggest clinical correlation and repeat tracing.\\n\\n'"
      ]
     },
     "execution_count": 20,
     "metadata": {},
     "output_type": "execute_result"
    }
   ],
   "source": [
    "notes_database.lower_text[0]"
   ]
  },
  {
   "cell_type": "code",
   "execution_count": 24,
   "id": "b15d43ee",
   "metadata": {},
   "outputs": [
    {
     "data": {
      "text/plain": [
       "'sinus rhythm with 2:1 a-v block.  right bundle-branch block.  inferolateral\\nst-t wave abnormalities.  compared to the previous tracing of \\n2:1 a-v block is new.  inferolateral st-t wave abnormalities are more\\nmarked.  cannot rule out myocardial ischemia or subendocardial infarction.\\nsuggest clinical correlation and repeat tracing.\\n\\n'"
      ]
     },
     "execution_count": 24,
     "metadata": {},
     "output_type": "execute_result"
    }
   ],
   "source": [
    "notes_database.lower_text.replace('(\\[\\*\\*)(.*)(\\*\\*\\])', '', regex=True)[0]"
   ]
  },
  {
   "cell_type": "code",
   "execution_count": 25,
   "id": "c79411f0",
   "metadata": {},
   "outputs": [],
   "source": [
    "notes_database['removedIdentifiers']=notes_database.lower_text.replace('(\\[\\*\\*)(.*)(\\*\\*\\])', '', regex=True)"
   ]
  },
  {
   "cell_type": "code",
   "execution_count": 27,
   "id": "eb28b138",
   "metadata": {},
   "outputs": [],
   "source": [
    "notes_database.drop(columns='lower_text', inplace=True)"
   ]
  },
  {
   "cell_type": "markdown",
   "id": "3ebcc57d",
   "metadata": {},
   "source": [
    "### Remove other punctuation"
   ]
  },
  {
   "cell_type": "markdown",
   "id": "f3d13772",
   "metadata": {},
   "source": [
    "Removed most punctuation, but leaving in '-' so that shortened words like A-V and St-t can remain toegether."
   ]
  },
  {
   "cell_type": "code",
   "execution_count": 34,
   "id": "1c62bf5b",
   "metadata": {},
   "outputs": [],
   "source": [
    "tokenizer = Tokenizer(filters='\"#$%&*+/:;<=>?@[\\\\]^_`{|}\\t\\n')"
   ]
  },
  {
   "cell_type": "code",
   "execution_count": 35,
   "id": "1bac4415",
   "metadata": {},
   "outputs": [
    {
     "data": {
      "text/plain": [
       "dict_keys(['2', '1', 'a-v', 'block.', 'inferolateral', 'st-t', 'wave', 'sinus', 'rhythm', 'with', 'right', 'bundle-branch', 'abnormalities.', 'compared', 'to', 'the', 'previous', 'tracing', 'of', 'block', 'is', 'new.', 'abnormalities', 'are', 'more', 'marked.', 'cannot', 'rule', 'out', 'myocardial', 'ischemia', 'or', 'subendocardial', 'infarction.', 'suggest', 'clinical', 'correlation', 'and', 'repeat', 'tracing.'])"
      ]
     },
     "execution_count": 35,
     "metadata": {},
     "output_type": "execute_result"
    }
   ],
   "source": [
    "tokenizer.fit_on_texts([notes_database['removedIdentifiers'][0]])\n",
    "tokenizer.word_index.keys()\n"
   ]
  },
  {
   "cell_type": "code",
   "execution_count": 31,
   "id": "b46952ee",
   "metadata": {},
   "outputs": [
    {
     "data": {
      "text/plain": [
       "'sinus rhythm with 2:1 a-v block.  right bundle-branch block.  inferolateral\\nst-t wave abnormalities.  compared to the previous tracing of \\n2:1 a-v block is new.  inferolateral st-t wave abnormalities are more\\nmarked.  cannot rule out myocardial ischemia or subendocardial infarction.\\nsuggest clinical correlation and repeat tracing.\\n\\n'"
      ]
     },
     "execution_count": 31,
     "metadata": {},
     "output_type": "execute_result"
    }
   ],
   "source": [
    "notes_database['removedIdentifiers'][0]"
   ]
  },
  {
   "cell_type": "code",
   "execution_count": null,
   "id": "612a0d2c",
   "metadata": {},
   "outputs": [],
   "source": []
  }
 ],
 "metadata": {
  "kernelspec": {
   "display_name": "Python 3",
   "language": "python",
   "name": "python3"
  },
  "language_info": {
   "codemirror_mode": {
    "name": "ipython",
    "version": 3
   },
   "file_extension": ".py",
   "mimetype": "text/x-python",
   "name": "python",
   "nbconvert_exporter": "python",
   "pygments_lexer": "ipython3",
   "version": "3.8.8"
  }
 },
 "nbformat": 4,
 "nbformat_minor": 5
}
