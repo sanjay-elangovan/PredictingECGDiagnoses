{
 "cells": [
  {
   "cell_type": "code",
   "execution_count": 34,
   "id": "7a89dc50",
   "metadata": {},
   "outputs": [],
   "source": [
    "import tensorflow_hub as hub\n",
    "import tensorflow_text as text\n",
    "import pandas as pd\n",
    "from tensorflow import keras\n",
    "from tensorflow.keras import layers, regularizers\n",
    "from transformers import BertTokenizer, TFBertModel, BertConfig\n",
    "import tensorflow as tf\n",
    "import numpy as np\n",
    "import pickle"
   ]
  },
  {
   "cell_type": "markdown",
   "id": "461d1a45",
   "metadata": {},
   "source": [
    "## Import Data"
   ]
  },
  {
   "cell_type": "code",
   "execution_count": 2,
   "id": "357519d9",
   "metadata": {},
   "outputs": [],
   "source": [
    "ekg_denoised = pd.read_pickle('/home/sanjaycollege15/PredictingDiagnoses/Data/ekg_denoised_v2.pkl')\n",
    "ekg_denoised = ekg_denoised.sample(frac=1)"
   ]
  },
  {
   "cell_type": "code",
   "execution_count": 3,
   "id": "ba1fdea6",
   "metadata": {},
   "outputs": [
    {
     "data": {
      "text/html": [
       "<div>\n",
       "<style scoped>\n",
       "    .dataframe tbody tr th:only-of-type {\n",
       "        vertical-align: middle;\n",
       "    }\n",
       "\n",
       "    .dataframe tbody tr th {\n",
       "        vertical-align: top;\n",
       "    }\n",
       "\n",
       "    .dataframe thead th {\n",
       "        text-align: right;\n",
       "    }\n",
       "</style>\n",
       "<table border=\"1\" class=\"dataframe\">\n",
       "  <thead>\n",
       "    <tr style=\"text-align: right;\">\n",
       "      <th></th>\n",
       "      <th>ICD9_CODE</th>\n",
       "      <th>TEXT</th>\n",
       "    </tr>\n",
       "  </thead>\n",
       "  <tbody>\n",
       "    <tr>\n",
       "      <th>11614</th>\n",
       "      <td>3</td>\n",
       "      <td>sinus rhythm right bundle branch block since p...</td>\n",
       "    </tr>\n",
       "    <tr>\n",
       "      <th>21324</th>\n",
       "      <td>0</td>\n",
       "      <td>sinus rhythm. low limb lead voltage. complete ...</td>\n",
       "    </tr>\n",
       "    <tr>\n",
       "      <th>37593</th>\n",
       "      <td>1</td>\n",
       "      <td>atrial fibrillation. low limb lead voltage is ...</td>\n",
       "    </tr>\n",
       "    <tr>\n",
       "      <th>35194</th>\n",
       "      <td>1</td>\n",
       "      <td>wide complex tachycardia with right bundle-bra...</td>\n",
       "    </tr>\n",
       "    <tr>\n",
       "      <th>38909</th>\n",
       "      <td>1</td>\n",
       "      <td>sinus tachycardia. indeterminate axis. right v...</td>\n",
       "    </tr>\n",
       "  </tbody>\n",
       "</table>\n",
       "</div>"
      ],
      "text/plain": [
       "       ICD9_CODE                                               TEXT\n",
       "11614          3  sinus rhythm right bundle branch block since p...\n",
       "21324          0  sinus rhythm. low limb lead voltage. complete ...\n",
       "37593          1  atrial fibrillation. low limb lead voltage is ...\n",
       "35194          1  wide complex tachycardia with right bundle-bra...\n",
       "38909          1  sinus tachycardia. indeterminate axis. right v..."
      ]
     },
     "execution_count": 3,
     "metadata": {},
     "output_type": "execute_result"
    }
   ],
   "source": [
    "ekg_denoised.head()"
   ]
  },
  {
   "cell_type": "markdown",
   "id": "3a2d4df6",
   "metadata": {},
   "source": [
    "## Tokenize Data"
   ]
  },
  {
   "cell_type": "code",
   "execution_count": 4,
   "id": "fded0fd2",
   "metadata": {},
   "outputs": [
    {
     "name": "stderr",
     "output_type": "stream",
     "text": [
      "INFO:absl:Using /tmp/tfhub_modules to cache modules.\n"
     ]
    }
   ],
   "source": [
    "tokenizer = hub.KerasLayer(\n",
    "    'https://tfhub.dev/tensorflow/bert_en_uncased_preprocess/3')"
   ]
  },
  {
   "cell_type": "code",
   "execution_count": 5,
   "id": "9db89828",
   "metadata": {},
   "outputs": [],
   "source": [
    "encoder = hub.KerasLayer(\n",
    "    'https://tfhub.dev/tensorflow/small_bert/bert_en_uncased_L-4_H-512_A-8/1')"
   ]
  },
  {
   "cell_type": "code",
   "execution_count": 6,
   "id": "be1703e0",
   "metadata": {},
   "outputs": [],
   "source": [
    "batched = np.array_split(ekg_denoised, 5)"
   ]
  },
  {
   "cell_type": "code",
   "execution_count": 35,
   "id": "653cb099",
   "metadata": {},
   "outputs": [],
   "source": [
    "with open('/home/sanjaycollege15/PredictingDiagnoses/Data/smallBERT_dataset.pkl', 'wb') as f:\n",
    "    pickle.dump(batched, f)"
   ]
  },
  {
   "cell_type": "code",
   "execution_count": 8,
   "id": "1c6d9910",
   "metadata": {},
   "outputs": [],
   "source": [
    "tokens = tokenizer(batched[0].TEXT)\n",
    "encoded_inputs = encoder(tokens)"
   ]
  },
  {
   "cell_type": "code",
   "execution_count": 10,
   "id": "d705890c",
   "metadata": {},
   "outputs": [
    {
     "data": {
      "text/plain": [
       "list"
      ]
     },
     "execution_count": 10,
     "metadata": {},
     "output_type": "execute_result"
    }
   ],
   "source": [
    "encoded_inputs['encoder_outputs']"
   ]
  },
  {
   "cell_type": "code",
   "execution_count": 30,
   "id": "269cd5a2",
   "metadata": {},
   "outputs": [
    {
     "data": {
      "text/plain": [
       "dict_keys(['pooled_output', 'encoder_outputs', 'default', 'sequence_output'])"
      ]
     },
     "execution_count": 30,
     "metadata": {},
     "output_type": "execute_result"
    }
   ],
   "source": [
    "encoded_inputs.keys()"
   ]
  },
  {
   "cell_type": "code",
   "execution_count": 11,
   "id": "f5a4e602",
   "metadata": {},
   "outputs": [],
   "source": [
    "from keras.models import Sequential\n",
    "from keras.layers import Dense, SimpleRNN, LSTM"
   ]
  },
  {
   "cell_type": "code",
   "execution_count": 12,
   "id": "0f4bffae",
   "metadata": {},
   "outputs": [],
   "source": [
    "inputs = encoded_inputs['encoder_outputs']"
   ]
  },
  {
   "cell_type": "code",
   "execution_count": 36,
   "id": "de1cf726",
   "metadata": {},
   "outputs": [
    {
     "ename": "OSError",
     "evalue": "[Errno 28] No space left on device",
     "output_type": "error",
     "traceback": [
      "\u001b[0;31m---------------------------------------------------------------------------\u001b[0m",
      "\u001b[0;31mOSError\u001b[0m                                   Traceback (most recent call last)",
      "\u001b[0;32m<ipython-input-36-97e8594a5111>\u001b[0m in \u001b[0;36m<module>\u001b[0;34m\u001b[0m\n\u001b[1;32m      1\u001b[0m \u001b[0;32mwith\u001b[0m \u001b[0mopen\u001b[0m\u001b[0;34m(\u001b[0m\u001b[0;34m'/home/sanjaycollege15/PredictingDiagnoses/Data/smallBERT_encoder_outputs1.pkl'\u001b[0m\u001b[0;34m,\u001b[0m \u001b[0;34m'wb'\u001b[0m\u001b[0;34m)\u001b[0m \u001b[0;32mas\u001b[0m \u001b[0mf\u001b[0m\u001b[0;34m:\u001b[0m\u001b[0;34m\u001b[0m\u001b[0;34m\u001b[0m\u001b[0m\n\u001b[0;32m----> 2\u001b[0;31m     \u001b[0mpickle\u001b[0m\u001b[0;34m.\u001b[0m\u001b[0mdump\u001b[0m\u001b[0;34m(\u001b[0m\u001b[0minputs\u001b[0m\u001b[0;34m,\u001b[0m \u001b[0mf\u001b[0m\u001b[0;34m)\u001b[0m\u001b[0;34m\u001b[0m\u001b[0;34m\u001b[0m\u001b[0m\n\u001b[0m",
      "\u001b[0;31mOSError\u001b[0m: [Errno 28] No space left on device"
     ]
    }
   ],
   "source": [
    "with open('/home/sanjaycollege15/PredictingDiagnoses/Data/smallBERT_encoder_outputs1.pkl', 'wb') as f:\n",
    "    pickle.dump(inputs, f)"
   ]
  },
  {
   "cell_type": "code",
   "execution_count": null,
   "id": "bc04cec4",
   "metadata": {},
   "outputs": [],
   "source": [
    "pickle.dump()"
   ]
  },
  {
   "cell_type": "code",
   "execution_count": 24,
   "id": "bfd6c4f9",
   "metadata": {},
   "outputs": [],
   "source": [
    "embeddings = inputs[0]"
   ]
  },
  {
   "cell_type": "code",
   "execution_count": 21,
   "id": "5033f3cd",
   "metadata": {},
   "outputs": [],
   "source": [
    "labels=np.array(batched[0].ICD9_CODE)"
   ]
  },
  {
   "cell_type": "code",
   "execution_count": 18,
   "id": "5c1a545c",
   "metadata": {},
   "outputs": [
    {
     "data": {
      "text/plain": [
       "dict_keys(['default', 'sequence_output', 'pooled_output', 'encoder_outputs'])"
      ]
     },
     "execution_count": 18,
     "metadata": {},
     "output_type": "execute_result"
    }
   ],
   "source": [
    "encoded_inputs.keys()"
   ]
  },
  {
   "cell_type": "code",
   "execution_count": 31,
   "id": "10ad4c97",
   "metadata": {},
   "outputs": [
    {
     "name": "stdout",
     "output_type": "stream",
     "text": [
      "Model: \"sequential_2\"\n",
      "_________________________________________________________________\n",
      " Layer (type)                Output Shape              Param #   \n",
      "=================================================================\n",
      " simple_rnn_2 (SimpleRNN)    (None, 128)               82048     \n",
      "                                                                 \n",
      " dense_2 (Dense)             (None, 4)                 516       \n",
      "                                                                 \n",
      "=================================================================\n",
      "Total params: 82,564\n",
      "Trainable params: 82,564\n",
      "Non-trainable params: 0\n",
      "_________________________________________________________________\n"
     ]
    }
   ],
   "source": [
    "xmodel= Sequential()\n",
    "xmodel.add(SimpleRNN(128, input_shape=(128,512)))\n",
    "xmodel.add(Dense(4, activation='relu'))\n",
    "xmodel.build()\n",
    "xmodel.summary()\n",
    "\n",
    "xmodel.compile(optimizer='adam', \n",
    "               loss=tf.keras.losses.SparseCategoricalCrossentropy(from_logits=True), \n",
    "               metrics=['accuracy'])\n"
   ]
  },
  {
   "cell_type": "code",
   "execution_count": 32,
   "id": "9e80f08a",
   "metadata": {},
   "outputs": [
    {
     "name": "stdout",
     "output_type": "stream",
     "text": [
      "Epoch 1/2\n",
      "27/27 [==============================] - 8s 232ms/step - loss: 1.4176 - accuracy: 0.2526\n",
      "Epoch 2/2\n",
      "27/27 [==============================] - 6s 213ms/step - loss: 1.3863 - accuracy: 0.2501\n"
     ]
    },
    {
     "data": {
      "text/plain": [
       "<keras.callbacks.History at 0x7fc0a03d3130>"
      ]
     },
     "execution_count": 32,
     "metadata": {},
     "output_type": "execute_result"
    }
   ],
   "source": [
    "xmodel.fit(embeddings, labels, epochs=2, batch_size=512)"
   ]
  },
  {
   "cell_type": "code",
   "execution_count": 7,
   "id": "5f3f1b56",
   "metadata": {},
   "outputs": [],
   "source": [
    "labels = np.array(ekg_denoised.ICD9_CODE[:1000])"
   ]
  },
  {
   "cell_type": "code",
   "execution_count": 13,
   "id": "b3d9f7eb",
   "metadata": {},
   "outputs": [
    {
     "data": {
      "text/plain": [
       "dict_keys(['pooled_output', 'encoder_outputs', 'default', 'sequence_output'])"
      ]
     },
     "execution_count": 13,
     "metadata": {},
     "output_type": "execute_result"
    }
   ],
   "source": [
    "encoded_inputs.keys()"
   ]
  },
  {
   "cell_type": "code",
   "execution_count": 14,
   "id": "c59e95f4",
   "metadata": {
    "scrolled": true
   },
   "outputs": [
    {
     "data": {
      "text/plain": [
       "<tf.Tensor: shape=(1000, 512), dtype=float32, numpy=\n",
       "array([[ 0.99166214,  0.1197574 , -0.06184475, ...,  0.5502014 ,\n",
       "        -0.6442353 , -0.85817146],\n",
       "       [ 0.9976368 ,  0.17481573, -0.19261858, ...,  0.5003145 ,\n",
       "        -0.5349502 , -0.1832304 ],\n",
       "       [ 0.64804137, -0.44555837,  0.02937316, ...,  0.56327635,\n",
       "        -0.11237483, -0.92120934],\n",
       "       ...,\n",
       "       [ 0.9978899 , -0.42364314, -0.20901826, ...,  0.47847232,\n",
       "        -0.6196047 , -0.04929641],\n",
       "       [ 0.9972557 , -0.8440902 , -0.31961453, ...,  0.28505862,\n",
       "        -0.2737933 , -0.04500105],\n",
       "       [ 0.9970064 , -0.759793  ,  0.05473077, ...,  0.4079414 ,\n",
       "        -0.3602471 , -0.35015243]], dtype=float32)>"
      ]
     },
     "execution_count": 14,
     "metadata": {},
     "output_type": "execute_result"
    }
   ],
   "source": [
    "test_encodings = encoded_inputs['pooled_output']"
   ]
  },
  {
   "cell_type": "markdown",
   "id": "8c2c3003",
   "metadata": {},
   "source": [
    "### Test Set"
   ]
  },
  {
   "cell_type": "code",
   "execution_count": 23,
   "id": "59de03ae",
   "metadata": {},
   "outputs": [],
   "source": [
    "test_tokens = tokenizer(ekg_denoised.TEXT[1000:1100])\n",
    "test_encodings = encoder(test_tokens)"
   ]
  },
  {
   "cell_type": "code",
   "execution_count": 19,
   "id": "e20fb45a",
   "metadata": {},
   "outputs": [],
   "source": [
    "test_labels = np.array(ekg_denoised.ICD9_CODE[1000:1100])"
   ]
  },
  {
   "cell_type": "code",
   "execution_count": 15,
   "id": "30ed3e6f",
   "metadata": {},
   "outputs": [],
   "source": [
    "inputs = tf.keras.layers.Input(shape=(encoded_inputs['pooled_output'].shape[1],))\n",
    "hidden_1_out = tf.keras.layers.Dense(512, activation='relu', kernel_regularizer=regularizers.l1_l2(l1=1e-5, l2=1e-4))(inputs)\n",
    "dropout = tf.keras.layers.Dropout(0.2)(hidden_1_out)\n",
    "hidden_2_out = tf.keras.layers.Dense(200, activation='relu', kernel_regularizer=regularizers.l1_l2(l1=1e-5, l2=1e-4))(dropout)\n",
    "classification_out = tf.keras.layers.Dense(4, activation='softmax')(hidden_2_out)\n",
    "\n",
    "model_functional = tf.keras.models.Model(inputs=inputs, outputs = classification_out)\n",
    "model_functional.compile(loss='SparseCategoricalCrossentropy', optimizer='adam', metrics=['accuracy'])"
   ]
  },
  {
   "cell_type": "code",
   "execution_count": 16,
   "id": "524d17d4",
   "metadata": {
    "scrolled": true
   },
   "outputs": [
    {
     "name": "stdout",
     "output_type": "stream",
     "text": [
      "Epoch 1/15\n",
      "2/2 [==============================] - 1s 11ms/step - loss: 1.8573 - accuracy: 0.2590\n",
      "Epoch 2/15\n",
      "2/2 [==============================] - 0s 10ms/step - loss: 1.7130 - accuracy: 0.2670\n",
      "Epoch 3/15\n",
      "2/2 [==============================] - 0s 9ms/step - loss: 1.6672 - accuracy: 0.2410\n",
      "Epoch 4/15\n",
      "2/2 [==============================] - 0s 9ms/step - loss: 1.6256 - accuracy: 0.2610\n",
      "Epoch 5/15\n",
      "2/2 [==============================] - 0s 9ms/step - loss: 1.5825 - accuracy: 0.3100\n",
      "Epoch 6/15\n",
      "2/2 [==============================] - 0s 10ms/step - loss: 1.6065 - accuracy: 0.3210\n",
      "Epoch 7/15\n",
      "2/2 [==============================] - 0s 9ms/step - loss: 1.5823 - accuracy: 0.3250\n",
      "Epoch 8/15\n",
      "2/2 [==============================] - 0s 9ms/step - loss: 1.5519 - accuracy: 0.3450\n",
      "Epoch 9/15\n",
      "2/2 [==============================] - 0s 9ms/step - loss: 1.5554 - accuracy: 0.3350\n",
      "Epoch 10/15\n",
      "2/2 [==============================] - 0s 10ms/step - loss: 1.5476 - accuracy: 0.3420\n",
      "Epoch 11/15\n",
      "2/2 [==============================] - 0s 9ms/step - loss: 1.5434 - accuracy: 0.3570\n",
      "Epoch 12/15\n",
      "2/2 [==============================] - 0s 9ms/step - loss: 1.5313 - accuracy: 0.3700\n",
      "Epoch 13/15\n",
      "2/2 [==============================] - 0s 9ms/step - loss: 1.5221 - accuracy: 0.3740\n",
      "Epoch 14/15\n",
      "2/2 [==============================] - 0s 10ms/step - loss: 1.5160 - accuracy: 0.3760\n",
      "Epoch 15/15\n",
      "2/2 [==============================] - 0s 9ms/step - loss: 1.5038 - accuracy: 0.4070\n"
     ]
    },
    {
     "data": {
      "text/plain": [
       "<keras.callbacks.History at 0x7fe34e6207f0>"
      ]
     },
     "execution_count": 16,
     "metadata": {},
     "output_type": "execute_result"
    }
   ],
   "source": [
    "model_functional.fit(encoded_inputs['pooled_output'], labels, epochs=15, batch_size=512)\n"
   ]
  },
  {
   "cell_type": "code",
   "execution_count": 26,
   "id": "ed4836e1",
   "metadata": {},
   "outputs": [
    {
     "name": "stdout",
     "output_type": "stream",
     "text": [
      "4/4 [==============================] - 0s 3ms/step - loss: 1.5750 - accuracy: 0.2600\n"
     ]
    },
    {
     "data": {
      "text/plain": [
       "[1.5749602317810059, 0.25999999046325684]"
      ]
     },
     "execution_count": 26,
     "metadata": {},
     "output_type": "execute_result"
    }
   ],
   "source": [
    "model_functional.evaluate(test_encodings['pooled_output'], test_labels)\n"
   ]
  },
  {
   "cell_type": "markdown",
   "id": "ac72d905",
   "metadata": {},
   "source": [
    "## Saving Pooled Outputs"
   ]
  },
  {
   "cell_type": "code",
   "execution_count": null,
   "id": "c1674c78",
   "metadata": {},
   "outputs": [],
   "source": [
    "tokens = tokenizer(ekg_denoised.TEXT)\n",
    "encoded_inputs = encoder(tokens)"
   ]
  },
  {
   "cell_type": "code",
   "execution_count": null,
   "id": "d3f9ba86",
   "metadata": {},
   "outputs": [],
   "source": []
  }
 ],
 "metadata": {
  "kernelspec": {
   "display_name": "Python 3",
   "language": "python",
   "name": "python3"
  },
  "language_info": {
   "codemirror_mode": {
    "name": "ipython",
    "version": 3
   },
   "file_extension": ".py",
   "mimetype": "text/x-python",
   "name": "python",
   "nbconvert_exporter": "python",
   "pygments_lexer": "ipython3",
   "version": "3.8.8"
  }
 },
 "nbformat": 4,
 "nbformat_minor": 5
}
