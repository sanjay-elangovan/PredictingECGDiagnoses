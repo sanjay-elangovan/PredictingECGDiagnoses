{
 "cells": [
  {
   "cell_type": "markdown",
   "id": "752cce0f",
   "metadata": {},
   "source": [
    "## Loading Data"
   ]
  },
  {
   "cell_type": "code",
   "execution_count": 1,
   "id": "0a5ff289",
   "metadata": {},
   "outputs": [],
   "source": [
    "import numpy as np\n",
    "import pandas as pd\n",
    "import pickle\n",
    "import tensorflow as tf\n",
    "import tensorflow_hub as hub\n",
    "import tensorflow_text as text\n",
    "import pydot\n",
    "import graphviz\n",
    "\n",
    "import matplotlib.pyplot as plt\n",
    "\n",
    "tf.get_logger().setLevel('ERROR')"
   ]
  },
  {
   "cell_type": "code",
   "execution_count": 2,
   "id": "6790f478",
   "metadata": {},
   "outputs": [],
   "source": [
    "ekg_denoised = pd.read_pickle('/home/sanjaycollege15/PredictingDiagnoses/Data/ekg_denoised_v2.pkl')\n",
    "ekg_denoised = ekg_denoised.sample(frac=1)"
   ]
  },
  {
   "cell_type": "code",
   "execution_count": 3,
   "id": "5058b8ce",
   "metadata": {},
   "outputs": [
    {
     "data": {
      "text/html": [
       "<div>\n",
       "<style scoped>\n",
       "    .dataframe tbody tr th:only-of-type {\n",
       "        vertical-align: middle;\n",
       "    }\n",
       "\n",
       "    .dataframe tbody tr th {\n",
       "        vertical-align: top;\n",
       "    }\n",
       "\n",
       "    .dataframe thead th {\n",
       "        text-align: right;\n",
       "    }\n",
       "</style>\n",
       "<table border=\"1\" class=\"dataframe\">\n",
       "  <thead>\n",
       "    <tr style=\"text-align: right;\">\n",
       "      <th></th>\n",
       "      <th>ICD9_CODE</th>\n",
       "      <th>TEXT</th>\n",
       "    </tr>\n",
       "  </thead>\n",
       "  <tbody>\n",
       "    <tr>\n",
       "      <th>18174</th>\n",
       "      <td>0</td>\n",
       "      <td>sinus rhythm atrial premature complexes possib...</td>\n",
       "    </tr>\n",
       "    <tr>\n",
       "      <th>20919</th>\n",
       "      <td>0</td>\n",
       "      <td>sinus bradycardia, rate 53. non-diagnostic q w...</td>\n",
       "    </tr>\n",
       "    <tr>\n",
       "      <th>7614</th>\n",
       "      <td>3</td>\n",
       "      <td>sinus rhythm. compared to the previous tracing...</td>\n",
       "    </tr>\n",
       "    <tr>\n",
       "      <th>57370</th>\n",
       "      <td>2</td>\n",
       "      <td>sinus rhythm. since the previous tracing of se...</td>\n",
       "    </tr>\n",
       "    <tr>\n",
       "      <th>25264</th>\n",
       "      <td>0</td>\n",
       "      <td>sinus rhythm. delayed precordial r wave progre...</td>\n",
       "    </tr>\n",
       "  </tbody>\n",
       "</table>\n",
       "</div>"
      ],
      "text/plain": [
       "       ICD9_CODE                                               TEXT\n",
       "18174          0  sinus rhythm atrial premature complexes possib...\n",
       "20919          0  sinus bradycardia, rate 53. non-diagnostic q w...\n",
       "7614           3  sinus rhythm. compared to the previous tracing...\n",
       "57370          2  sinus rhythm. since the previous tracing of se...\n",
       "25264          0  sinus rhythm. delayed precordial r wave progre..."
      ]
     },
     "execution_count": 3,
     "metadata": {},
     "output_type": "execute_result"
    }
   ],
   "source": [
    "ekg_denoised.head()"
   ]
  },
  {
   "cell_type": "markdown",
   "id": "de6bb537",
   "metadata": {},
   "source": [
    "### Converting to Tensorflow dataset"
   ]
  },
  {
   "cell_type": "code",
   "execution_count": 4,
   "id": "cac929e4",
   "metadata": {},
   "outputs": [],
   "source": [
    "training_dataset = (\n",
    "    tf.data.Dataset.from_tensor_slices(\n",
    "        (\n",
    "            tf.cast(ekg_denoised['TEXT'].values, tf.string),\n",
    "            tf.cast(ekg_denoised['ICD9_CODE'].values, tf.int32)\n",
    "        )\n",
    "    )\n",
    ")"
   ]
  },
  {
   "cell_type": "code",
   "execution_count": 5,
   "id": "e7c36d02",
   "metadata": {},
   "outputs": [
    {
     "data": {
      "text/plain": [
       "<TensorSliceDataset shapes: ((), ()), types: (tf.string, tf.int32)>"
      ]
     },
     "execution_count": 5,
     "metadata": {},
     "output_type": "execute_result"
    }
   ],
   "source": [
    "training_dataset"
   ]
  },
  {
   "cell_type": "code",
   "execution_count": 6,
   "id": "922b969f",
   "metadata": {},
   "outputs": [],
   "source": [
    "train_text = ekg_denoised['TEXT'].to_numpy()"
   ]
  },
  {
   "cell_type": "code",
   "execution_count": 7,
   "id": "1b9ad93e",
   "metadata": {},
   "outputs": [
    {
     "data": {
      "text/plain": [
       "<tf.Tensor: shape=(68180,), dtype=string, numpy=\n",
       "array([b'sinus rhythm atrial premature complexes possible baseline artifact versus atrial pacer spikes right bundle branch block since previous tracing of , right bundle branch block present',\n",
       "       b'sinus bradycardia, rate 53. non-diagnostic q waves in leads ii, iii and avf with j point elevation and concave upward st segment elevations in leads i, ii iii, avf and v1-v6. there is subtle pr segment depression in most leads with pr segment elevation in lead avr. the tracing suggest pericarditis possibly related to acute inferior myocardial infarction. compared to the previous tracing of atrial fibrillation with a rapid ventricular response has give way to sinus bradycardia. generalized st segment elevation, most marked anteriorly and inferolaterally, persist. the tracings are compatible with acute inferior myocardial infarction in evolution with supra added pericardial effusion and or pericardial process.',\n",
       "       b'sinus rhythm. compared to the previous tracing of no significant change.',\n",
       "       ...,\n",
       "       b'sinus bradycardia. compared to tracing 1 new anterolateral t wave inversions are present. cannot exclude ischemia. clinical correlation is suggested. tracing 2',\n",
       "       b'sinus rhythm. occasional ventricular premature complexes. borderline low limb lead voltage. compared to previous tracing of , no significant change',\n",
       "       b'sinus rhythm. compared to tracing 1 precordial st-t wave changes persist but are less prominent. tracing 2'],\n",
       "      dtype=object)>"
      ]
     },
     "execution_count": 7,
     "metadata": {},
     "output_type": "execute_result"
    }
   ],
   "source": [
    "tf.convert_to_tensor(train_text)"
   ]
  },
  {
   "cell_type": "markdown",
   "id": "cc6124c4",
   "metadata": {},
   "source": [
    "### Setting up train, dev, and test datasets "
   ]
  },
  {
   "cell_type": "code",
   "execution_count": 8,
   "id": "cdfbdf75",
   "metadata": {},
   "outputs": [],
   "source": [
    "AUTOTUNE = tf.data.AUTOTUNE\n",
    "DATASET_SIZE = len(training_dataset)\n",
    "\n",
    "train_size = int(0.8 * DATASET_SIZE)\n",
    "val_size = int(0.1 * DATASET_SIZE)\n",
    "test_size = int(0.1 * DATASET_SIZE)\n",
    "\n",
    "full_dataset = training_dataset\n",
    "train_dataset = full_dataset.take(train_size).cache().prefetch(buffer_size=AUTOTUNE)\n",
    "test_dataset = full_dataset.skip(train_size)\n",
    "val_dataset = test_dataset.skip(test_size).cache().prefetch(buffer_size=AUTOTUNE)\n",
    "test_dataset = test_dataset.take(test_size).cache().prefetch(buffer_size=AUTOTUNE)\n"
   ]
  },
  {
   "cell_type": "code",
   "execution_count": 9,
   "id": "40a8d0a5",
   "metadata": {},
   "outputs": [
    {
     "data": {
      "text/plain": [
       "<TensorSliceDataset shapes: ((), ()), types: (tf.string, tf.int32)>"
      ]
     },
     "execution_count": 9,
     "metadata": {},
     "output_type": "execute_result"
    }
   ],
   "source": [
    "training_dataset"
   ]
  },
  {
   "cell_type": "code",
   "execution_count": 10,
   "id": "6cff61c8",
   "metadata": {
    "scrolled": false
   },
   "outputs": [
    {
     "name": "stdout",
     "output_type": "stream",
     "text": [
      "EKG reading: b'sinus rhythm atrial premature complexes possible baseline artifact versus atrial pacer spikes right bundle branch block since previous tracing of , right bundle branch block present'\n",
      "label: 0\n",
      "\n",
      "EKG reading: b'sinus bradycardia, rate 53. non-diagnostic q waves in leads ii, iii and avf with j point elevation and concave upward st segment elevations in leads i, ii iii, avf and v1-v6. there is subtle pr segment depression in most leads with pr segment elevation in lead avr. the tracing suggest pericarditis possibly related to acute inferior myocardial infarction. compared to the previous tracing of atrial fibrillation with a rapid ventricular response has give way to sinus bradycardia. generalized st segment elevation, most marked anteriorly and inferolaterally, persist. the tracings are compatible with acute inferior myocardial infarction in evolution with supra added pericardial effusion and or pericardial process.'\n",
      "label: 0\n",
      "\n",
      "EKG reading: b'sinus rhythm. compared to the previous tracing of no significant change.'\n",
      "label: 3\n",
      "\n"
     ]
    }
   ],
   "source": [
    "for text_batch, label_batch in train_dataset.take(3):\n",
    "    print(f'EKG reading: {text_batch.numpy()}')\n",
    "    print(f'label: {label_batch}\\n')"
   ]
  },
  {
   "cell_type": "code",
   "execution_count": 11,
   "id": "5477c32a",
   "metadata": {},
   "outputs": [
    {
     "name": "stdout",
     "output_type": "stream",
     "text": [
      "EKG reading: b\"sinus rhythm. leftward axis. rsr' pattern in leads v1-v2. predominately lateral t wave abnormalities. since the previous tracing of no significant change.\"\n",
      "label: 0\n",
      "\n",
      "EKG reading: b'a-v paced rhythm with an atrial premature beat. since the previous tracing atrial premature beat is again seen. tracing 2'\n",
      "label: 0\n",
      "\n",
      "EKG reading: b'ectopic atrial bradycardia. compared to tracing 1 there is no significant diagnostic change. tracing 2'\n",
      "label: 3\n",
      "\n"
     ]
    }
   ],
   "source": [
    "for text_batch, label_batch in val_dataset.take(3):\n",
    "    print(f'EKG reading: {text_batch.numpy()}')\n",
    "    print(f'label: {label_batch}\\n')"
   ]
  },
  {
   "cell_type": "code",
   "execution_count": 12,
   "id": "48ad3259",
   "metadata": {},
   "outputs": [
    {
     "name": "stdout",
     "output_type": "stream",
     "text": [
      "EKG reading: b'sinus rhythm. left bundle-branch block. compared to the previous tracing of no change.'\n",
      "label: 3\n",
      "\n",
      "EKG reading: b'sinus tachycardia, rate 109. delayed precordial r wave progression, possibly a normal variant, possibly old anterior myocardial infarction. possible inferior myocardial infarction of indeterminate age. generalized non-specific repolarization changes. q-t interval prolongation. compared to the previous tracing of anterior repolarization changes are less striking.'\n",
      "label: 0\n",
      "\n",
      "EKG reading: b'sinus rhythm with occasional atrial premature beat. left atrial abnormality. left axis deviation. intraventricular conduction defect. left ventricular hypertrophy with secondary repolarization abnormality. compared to the previous tracing of frequency of atrial premature beats has decreased. otherwise, anteroseptal st-t wave abnormality appears more prominent. clinical correlation is suggested.'\n",
      "label: 1\n",
      "\n"
     ]
    }
   ],
   "source": [
    "for text_batch, label_batch in test_dataset.take(3):\n",
    "    print(f'EKG reading: {text_batch.numpy()}')\n",
    "    print(f'label: {label_batch}\\n')"
   ]
  },
  {
   "cell_type": "markdown",
   "id": "abd4a047",
   "metadata": {},
   "source": [
    "## Modeling "
   ]
  },
  {
   "cell_type": "markdown",
   "id": "e362038a",
   "metadata": {},
   "source": [
    "### Setting up BERT Pre-Process Model and SmallBERT"
   ]
  },
  {
   "cell_type": "code",
   "execution_count": 25,
   "id": "d5b162f9",
   "metadata": {},
   "outputs": [],
   "source": [
    "bert_preprocess_model = hub.KerasLayer(\n",
    "    'https://tfhub.dev/tensorflow/bert_en_uncased_preprocess/3')"
   ]
  },
  {
   "cell_type": "code",
   "execution_count": 26,
   "id": "963742d6",
   "metadata": {},
   "outputs": [],
   "source": [
    "bert_model = hub.KerasLayer(\n",
    "    'https://tfhub.dev/tensorflow/small_bert/bert_en_uncased_L-4_H-512_A-8/1')"
   ]
  },
  {
   "cell_type": "markdown",
   "id": "0162a206",
   "metadata": {},
   "source": [
    "### Running sample text"
   ]
  },
  {
   "cell_type": "code",
   "execution_count": 15,
   "id": "fc50d44a",
   "metadata": {},
   "outputs": [
    {
     "name": "stdout",
     "output_type": "stream",
     "text": [
      "Keys       : ['input_mask', 'input_word_ids', 'input_type_ids']\n",
      "Shape      : (1, 128)\n",
      "Word Ids   : [  101  8254  2271  6348  1012 15330  1037  1011  1058  6204  3258  1012\n",
      "  2187 14012  1011  3589  3796  1012  4102  2000  1996  3025 16907  1997\n",
      "  9099 16069  2140 14092  2813  2026 24755 25070  1999 14971  7542  2001\n",
      "  3130  2556  2065  2187 14012  1011  3589  3796  5418  2075  2003  9962\n",
      "  1010  2348  1996  5418  2075  4510 12950  2187 14012  1011  3589  3796\n",
      "  1012  1996  2783 16907  2038  1037  7289  1053  2869 13483  1012   102\n",
      "     0     0     0     0     0     0     0     0     0     0     0     0\n",
      "     0     0     0     0     0     0     0     0     0     0     0     0\n",
      "     0     0     0     0     0     0     0     0     0     0     0     0\n",
      "     0     0     0     0     0     0     0     0     0     0     0     0\n",
      "     0     0     0     0     0     0     0     0]\n",
      "Input Mask : [1 1 1 1 1 1 1 1 1 1 1 1]\n",
      "Type Ids   : [0 0 0 0 0 0 0 0 0 0 0 0]\n"
     ]
    }
   ],
   "source": [
    "test_text = ['sinus rhythm. prolonged a-v conduction. left bundle-branch block. compared to the previous tracing of transmural inferior wall myocardial infarction was previously present if left bundle-branch block patterning is absent, although the patterning barely resembles left bundle-branch block. the current tracing has a wider qrs interval.']\n",
    "text_preprocessed = bert_preprocess_model(test_text)\n",
    "\n",
    "print(f'Keys       : {list(text_preprocessed.keys())}')\n",
    "print(f'Shape      : {text_preprocessed[\"input_word_ids\"].shape}')\n",
    "print(f'Word Ids   : {text_preprocessed[\"input_word_ids\"][0, :128]}')\n",
    "print(f'Input Mask : {text_preprocessed[\"input_mask\"][0, :12]}')\n",
    "print(f'Type Ids   : {text_preprocessed[\"input_type_ids\"][0, :12]}')\n"
   ]
  },
  {
   "cell_type": "markdown",
   "id": "a459a75b",
   "metadata": {},
   "source": [
    "#### Notes:\n",
    "- Increasing the number of sentences changes the shape of the input word IDs (2 sentences becomes (2,128)).\n",
    "- The input is limited to 128 words\n",
    "- Start and stop of sentences is encoded with 101 and 102"
   ]
  },
  {
   "cell_type": "code",
   "execution_count": 16,
   "id": "a3cd2974",
   "metadata": {},
   "outputs": [
    {
     "name": "stdout",
     "output_type": "stream",
     "text": [
      "Pooled Outputs Shape:(1, 512)\n",
      "Pooled Outputs Values:[ 0.9887249  -0.7988825  -0.32717526  0.10474511 -0.29970285  0.99474674\n",
      "  0.98696184 -0.98571074 -0.5750031  -0.32717916 -0.57857615 -0.97410107]\n",
      "Sequence Outputs Shape:(1, 128, 512)\n",
      "Sequence Outputs Values:[[ 0.4081876   0.28475899 -0.7222308  ... -0.54963666 -0.17958543\n",
      "   0.05423299]\n",
      " [ 0.2108407   0.48801696  0.15987705 ...  0.63800824  0.01293866\n",
      "  -1.1388142 ]\n",
      " [ 0.5426497   0.87804437 -1.1415874  ...  0.867369   -0.52439797\n",
      "   0.10186939]\n",
      " ...\n",
      " [-0.20698738 -0.00587239 -1.0680933  ...  0.8720527   0.3271039\n",
      "  -0.5672984 ]\n",
      " [ 0.02397693 -0.26796004 -0.3877494  ... -1.0148929   0.0331724\n",
      "  -0.7092347 ]\n",
      " [ 0.07354864 -0.2509057  -0.44517717 ... -1.1513165  -0.33980703\n",
      "   0.78608596]]\n"
     ]
    }
   ],
   "source": [
    "bert_results = bert_model(text_preprocessed)\n",
    "\n",
    "print(f'Pooled Outputs Shape:{bert_results[\"pooled_output\"].shape}')\n",
    "print(f'Pooled Outputs Values:{bert_results[\"pooled_output\"][0, :12]}')\n",
    "print(f'Sequence Outputs Shape:{bert_results[\"sequence_output\"].shape}')\n",
    "print(f'Sequence Outputs Values:{bert_results[\"sequence_output\"][0, :12]}')"
   ]
  },
  {
   "cell_type": "markdown",
   "id": "ca1ab12b",
   "metadata": {},
   "source": [
    "#### Notes:\n",
    "- Bert model outputs a 512 valued vector"
   ]
  },
  {
   "cell_type": "markdown",
   "id": "637363bd",
   "metadata": {},
   "source": [
    "### Defining Model Pipeline"
   ]
  },
  {
   "cell_type": "code",
   "execution_count": 18,
   "id": "ac187269",
   "metadata": {},
   "outputs": [],
   "source": [
    "def build_classifier_model():\n",
    "  text_input = tf.keras.layers.Input(shape=(), dtype=tf.string, name='text')\n",
    "  preprocessing_layer = hub.KerasLayer('https://tfhub.dev/tensorflow/bert_en_uncased_preprocess/3', name='preprocessing')\n",
    "  encoder_inputs = preprocessing_layer(text_input)\n",
    "  encoder = hub.KerasLayer('https://tfhub.dev/tensorflow/small_bert/bert_en_uncased_L-4_H-512_A-8/1', trainable=True, name='BERT_encoder')\n",
    "  outputs = encoder(encoder_inputs)\n",
    "  net = outputs['pooled_output']\n",
    "  net = tf.keras.layers.Dropout(0.1)(net)\n",
    "  net = tf.keras.layers.Dense(4, activation=None, name='classifier')(net)\n",
    "  return tf.keras.Model(text_input, net)\n",
    "\n",
    "classifier_model = build_classifier_model()\n"
   ]
  },
  {
   "cell_type": "code",
   "execution_count": 19,
   "id": "21750229",
   "metadata": {},
   "outputs": [
    {
     "name": "stdout",
     "output_type": "stream",
     "text": [
      "tf.Tensor([[0.30737662 0.25915897 0.44741687 0.6134175 ]], shape=(1, 4), dtype=float32)\n"
     ]
    }
   ],
   "source": [
    "bert_raw_result = classifier_model(tf.constant(test_text))\n",
    "print(tf.sigmoid(bert_raw_result))"
   ]
  },
  {
   "cell_type": "markdown",
   "id": "04f3d572",
   "metadata": {},
   "source": [
    "### Loss Metrics"
   ]
  },
  {
   "cell_type": "code",
   "execution_count": 20,
   "id": "6b8b409b",
   "metadata": {},
   "outputs": [],
   "source": [
    "loss = tf.keras.losses.SparseCategoricalCrossentropy(from_logits=True)\n",
    "metrics = tf.metrics.BinaryAccuracy()"
   ]
  },
  {
   "cell_type": "code",
   "execution_count": 21,
   "id": "ddba9f44",
   "metadata": {},
   "outputs": [],
   "source": [
    "epochs = 5\n",
    "steps_per_epoch = tf.data.experimental.cardinality(train_dataset).numpy()\n",
    "num_train_steps = steps_per_epoch * epochs\n",
    "num_warmup_steps = int(0.1*num_train_steps)\n",
    "init_lr = 3e-5"
   ]
  },
  {
   "cell_type": "code",
   "execution_count": 22,
   "id": "6d372cf4",
   "metadata": {},
   "outputs": [],
   "source": [
    "classifier_model.compile(loss=loss, metrics=metrics)"
   ]
  },
  {
   "cell_type": "code",
   "execution_count": 23,
   "id": "06532ce5",
   "metadata": {},
   "outputs": [
    {
     "data": {
      "text/plain": [
       "<tf.Tensor: shape=(1,), dtype=string, numpy=\n",
       "array([b'sinus rhythm. prolonged a-v conduction. left bundle-branch block. compared to the previous tracing of transmural inferior wall myocardial infarction was previously present if left bundle-branch block patterning is absent, although the patterning barely resembles left bundle-branch block. the current tracing has a wider qrs interval.'],\n",
       "      dtype=object)>"
      ]
     },
     "execution_count": 23,
     "metadata": {},
     "output_type": "execute_result"
    }
   ],
   "source": [
    "tf.constant(test_text)"
   ]
  },
  {
   "cell_type": "code",
   "execution_count": 24,
   "id": "f72d41be",
   "metadata": {},
   "outputs": [
    {
     "name": "stdout",
     "output_type": "stream",
     "text": [
      "Epoch 1/5\n"
     ]
    },
    {
     "ename": "ValueError",
     "evalue": "in user code:\n\n    File \"/home/sanjaycollege15/anaconda3/lib/python3.8/site-packages/keras/engine/training.py\", line 878, in train_function  *\n        return step_function(self, iterator)\n    File \"/home/sanjaycollege15/anaconda3/lib/python3.8/site-packages/keras/engine/training.py\", line 867, in step_function  **\n        outputs = model.distribute_strategy.run(run_step, args=(data,))\n    File \"/home/sanjaycollege15/anaconda3/lib/python3.8/site-packages/keras/engine/training.py\", line 860, in run_step  **\n        outputs = model.train_step(data)\n    File \"/home/sanjaycollege15/anaconda3/lib/python3.8/site-packages/keras/engine/training.py\", line 808, in train_step\n        y_pred = self(x, training=True)\n    File \"/home/sanjaycollege15/anaconda3/lib/python3.8/site-packages/keras/utils/traceback_utils.py\", line 67, in error_handler\n        raise e.with_traceback(filtered_tb) from None\n\n    ValueError: Exception encountered when calling layer \"preprocessing\" (type KerasLayer).\n    \n    in user code:\n    \n        File \"/home/sanjaycollege15/anaconda3/lib/python3.8/site-packages/tensorflow_hub/keras_layer.py\", line 237, in call  *\n            result = smart_cond.smart_cond(training,\n    \n        ValueError: Could not find matching concrete function to call loaded from the SavedModel. Got:\n          Positional arguments (3 total):\n            * Tensor(\"inputs:0\", shape=(), dtype=string)\n            * False\n            * None\n          Keyword arguments: {}\n        \n         Expected these arguments to match one of the following 4 option(s):\n        \n        Option 1:\n          Positional arguments (3 total):\n            * TensorSpec(shape=(None,), dtype=tf.string, name='sentences')\n            * False\n            * None\n          Keyword arguments: {}\n        \n        Option 2:\n          Positional arguments (3 total):\n            * TensorSpec(shape=(None,), dtype=tf.string, name='sentences')\n            * True\n            * None\n          Keyword arguments: {}\n        \n        Option 3:\n          Positional arguments (3 total):\n            * TensorSpec(shape=(None,), dtype=tf.string, name='inputs')\n            * False\n            * None\n          Keyword arguments: {}\n        \n        Option 4:\n          Positional arguments (3 total):\n            * TensorSpec(shape=(None,), dtype=tf.string, name='inputs')\n            * True\n            * None\n          Keyword arguments: {}\n    \n    \n    Call arguments received:\n      • inputs=tf.Tensor(shape=(), dtype=string)\n      • training=True\n",
     "output_type": "error",
     "traceback": [
      "\u001b[0;31m---------------------------------------------------------------------------\u001b[0m",
      "\u001b[0;31mValueError\u001b[0m                                Traceback (most recent call last)",
      "\u001b[0;32m<ipython-input-24-3f9af29f6967>\u001b[0m in \u001b[0;36m<module>\u001b[0;34m\u001b[0m\n\u001b[0;32m----> 1\u001b[0;31m history = classifier_model.fit(x=test_dataset,\n\u001b[0m\u001b[1;32m      2\u001b[0m                                \u001b[0mvalidation_data\u001b[0m\u001b[0;34m=\u001b[0m\u001b[0mval_dataset\u001b[0m\u001b[0;34m,\u001b[0m\u001b[0;34m\u001b[0m\u001b[0;34m\u001b[0m\u001b[0m\n\u001b[1;32m      3\u001b[0m                                \u001b[0mepochs\u001b[0m\u001b[0;34m=\u001b[0m\u001b[0mepochs\u001b[0m\u001b[0;34m,\u001b[0m\u001b[0;34m\u001b[0m\u001b[0;34m\u001b[0m\u001b[0m\n\u001b[1;32m      4\u001b[0m                                )\n",
      "\u001b[0;32m~/anaconda3/lib/python3.8/site-packages/keras/utils/traceback_utils.py\u001b[0m in \u001b[0;36merror_handler\u001b[0;34m(*args, **kwargs)\u001b[0m\n\u001b[1;32m     65\u001b[0m     \u001b[0;32mexcept\u001b[0m \u001b[0mException\u001b[0m \u001b[0;32mas\u001b[0m \u001b[0me\u001b[0m\u001b[0;34m:\u001b[0m  \u001b[0;31m# pylint: disable=broad-except\u001b[0m\u001b[0;34m\u001b[0m\u001b[0;34m\u001b[0m\u001b[0m\n\u001b[1;32m     66\u001b[0m       \u001b[0mfiltered_tb\u001b[0m \u001b[0;34m=\u001b[0m \u001b[0m_process_traceback_frames\u001b[0m\u001b[0;34m(\u001b[0m\u001b[0me\u001b[0m\u001b[0;34m.\u001b[0m\u001b[0m__traceback__\u001b[0m\u001b[0;34m)\u001b[0m\u001b[0;34m\u001b[0m\u001b[0;34m\u001b[0m\u001b[0m\n\u001b[0;32m---> 67\u001b[0;31m       \u001b[0;32mraise\u001b[0m \u001b[0me\u001b[0m\u001b[0;34m.\u001b[0m\u001b[0mwith_traceback\u001b[0m\u001b[0;34m(\u001b[0m\u001b[0mfiltered_tb\u001b[0m\u001b[0;34m)\u001b[0m \u001b[0;32mfrom\u001b[0m \u001b[0;32mNone\u001b[0m\u001b[0;34m\u001b[0m\u001b[0;34m\u001b[0m\u001b[0m\n\u001b[0m\u001b[1;32m     68\u001b[0m     \u001b[0;32mfinally\u001b[0m\u001b[0;34m:\u001b[0m\u001b[0;34m\u001b[0m\u001b[0;34m\u001b[0m\u001b[0m\n\u001b[1;32m     69\u001b[0m       \u001b[0;32mdel\u001b[0m \u001b[0mfiltered_tb\u001b[0m\u001b[0;34m\u001b[0m\u001b[0;34m\u001b[0m\u001b[0m\n",
      "\u001b[0;32m~/anaconda3/lib/python3.8/site-packages/tensorflow/python/framework/func_graph.py\u001b[0m in \u001b[0;36mautograph_handler\u001b[0;34m(*args, **kwargs)\u001b[0m\n\u001b[1;32m   1127\u001b[0m           \u001b[0;32mexcept\u001b[0m \u001b[0mException\u001b[0m \u001b[0;32mas\u001b[0m \u001b[0me\u001b[0m\u001b[0;34m:\u001b[0m  \u001b[0;31m# pylint:disable=broad-except\u001b[0m\u001b[0;34m\u001b[0m\u001b[0;34m\u001b[0m\u001b[0m\n\u001b[1;32m   1128\u001b[0m             \u001b[0;32mif\u001b[0m \u001b[0mhasattr\u001b[0m\u001b[0;34m(\u001b[0m\u001b[0me\u001b[0m\u001b[0;34m,\u001b[0m \u001b[0;34m\"ag_error_metadata\"\u001b[0m\u001b[0;34m)\u001b[0m\u001b[0;34m:\u001b[0m\u001b[0;34m\u001b[0m\u001b[0;34m\u001b[0m\u001b[0m\n\u001b[0;32m-> 1129\u001b[0;31m               \u001b[0;32mraise\u001b[0m \u001b[0me\u001b[0m\u001b[0;34m.\u001b[0m\u001b[0mag_error_metadata\u001b[0m\u001b[0;34m.\u001b[0m\u001b[0mto_exception\u001b[0m\u001b[0;34m(\u001b[0m\u001b[0me\u001b[0m\u001b[0;34m)\u001b[0m\u001b[0;34m\u001b[0m\u001b[0;34m\u001b[0m\u001b[0m\n\u001b[0m\u001b[1;32m   1130\u001b[0m             \u001b[0;32melse\u001b[0m\u001b[0;34m:\u001b[0m\u001b[0;34m\u001b[0m\u001b[0;34m\u001b[0m\u001b[0m\n\u001b[1;32m   1131\u001b[0m               \u001b[0;32mraise\u001b[0m\u001b[0;34m\u001b[0m\u001b[0;34m\u001b[0m\u001b[0m\n",
      "\u001b[0;31mValueError\u001b[0m: in user code:\n\n    File \"/home/sanjaycollege15/anaconda3/lib/python3.8/site-packages/keras/engine/training.py\", line 878, in train_function  *\n        return step_function(self, iterator)\n    File \"/home/sanjaycollege15/anaconda3/lib/python3.8/site-packages/keras/engine/training.py\", line 867, in step_function  **\n        outputs = model.distribute_strategy.run(run_step, args=(data,))\n    File \"/home/sanjaycollege15/anaconda3/lib/python3.8/site-packages/keras/engine/training.py\", line 860, in run_step  **\n        outputs = model.train_step(data)\n    File \"/home/sanjaycollege15/anaconda3/lib/python3.8/site-packages/keras/engine/training.py\", line 808, in train_step\n        y_pred = self(x, training=True)\n    File \"/home/sanjaycollege15/anaconda3/lib/python3.8/site-packages/keras/utils/traceback_utils.py\", line 67, in error_handler\n        raise e.with_traceback(filtered_tb) from None\n\n    ValueError: Exception encountered when calling layer \"preprocessing\" (type KerasLayer).\n    \n    in user code:\n    \n        File \"/home/sanjaycollege15/anaconda3/lib/python3.8/site-packages/tensorflow_hub/keras_layer.py\", line 237, in call  *\n            result = smart_cond.smart_cond(training,\n    \n        ValueError: Could not find matching concrete function to call loaded from the SavedModel. Got:\n          Positional arguments (3 total):\n            * Tensor(\"inputs:0\", shape=(), dtype=string)\n            * False\n            * None\n          Keyword arguments: {}\n        \n         Expected these arguments to match one of the following 4 option(s):\n        \n        Option 1:\n          Positional arguments (3 total):\n            * TensorSpec(shape=(None,), dtype=tf.string, name='sentences')\n            * False\n            * None\n          Keyword arguments: {}\n        \n        Option 2:\n          Positional arguments (3 total):\n            * TensorSpec(shape=(None,), dtype=tf.string, name='sentences')\n            * True\n            * None\n          Keyword arguments: {}\n        \n        Option 3:\n          Positional arguments (3 total):\n            * TensorSpec(shape=(None,), dtype=tf.string, name='inputs')\n            * False\n            * None\n          Keyword arguments: {}\n        \n        Option 4:\n          Positional arguments (3 total):\n            * TensorSpec(shape=(None,), dtype=tf.string, name='inputs')\n            * True\n            * None\n          Keyword arguments: {}\n    \n    \n    Call arguments received:\n      • inputs=tf.Tensor(shape=(), dtype=string)\n      • training=True\n"
     ]
    }
   ],
   "source": [
    "history = classifier_model.fit(x=test_dataset,\n",
    "                               validation_data=val_dataset,\n",
    "                               epochs=epochs,\n",
    "                               )"
   ]
  },
  {
   "cell_type": "code",
   "execution_count": null,
   "id": "f28def46",
   "metadata": {},
   "outputs": [],
   "source": []
  }
 ],
 "metadata": {
  "kernelspec": {
   "display_name": "Python 3",
   "language": "python",
   "name": "python3"
  },
  "language_info": {
   "codemirror_mode": {
    "name": "ipython",
    "version": 3
   },
   "file_extension": ".py",
   "mimetype": "text/x-python",
   "name": "python",
   "nbconvert_exporter": "python",
   "pygments_lexer": "ipython3",
   "version": "3.8.8"
  }
 },
 "nbformat": 4,
 "nbformat_minor": 5
}
