{
 "cells": [
  {
   "cell_type": "code",
   "execution_count": 1,
   "id": "fc322fbc",
   "metadata": {},
   "outputs": [],
   "source": [
    "import tensorflow_hub as hub\n",
    "import tensorflow_text as text\n",
    "import pandas as pd"
   ]
  },
  {
   "cell_type": "code",
   "execution_count": 2,
   "id": "34017eb6",
   "metadata": {},
   "outputs": [],
   "source": [
    "preprocess_layer = hub.KerasLayer(\n",
    "    'https://tfhub.dev/tensorflow/bert_en_uncased_preprocess/3')\n",
    "encoder_layer = hub.KerasLayer(\n",
    "    'https://tfhub.dev/tensorflow/small_bert/bert_en_uncased_L-4_H-512_A-8/1')"
   ]
  },
  {
   "cell_type": "code",
   "execution_count": 7,
   "id": "a5edad2c",
   "metadata": {},
   "outputs": [],
   "source": [
    "def get_sentence_embedding(text):\n",
    "    preprocessed_text = bert_preprocess_model(text)\n",
    "    encoded_text = bert_encoder(preprocessed_text)"
   ]
  },
  {
   "cell_type": "code",
   "execution_count": 4,
   "id": "280006c3",
   "metadata": {},
   "outputs": [],
   "source": [
    "a = pd.Series(['hello', 'hello_again'])"
   ]
  },
  {
   "cell_type": "code",
   "execution_count": 5,
   "id": "7aa77361",
   "metadata": {},
   "outputs": [],
   "source": [
    "test_text = ['hello', 'hello again']\n",
    "preprocessed_text = preprocess_layer(a)"
   ]
  },
  {
   "cell_type": "code",
   "execution_count": 6,
   "id": "32d7dd14",
   "metadata": {},
   "outputs": [
    {
     "data": {
      "text/plain": [
       "dict_keys(['input_mask', 'input_word_ids', 'input_type_ids'])"
      ]
     },
     "execution_count": 6,
     "metadata": {},
     "output_type": "execute_result"
    }
   ],
   "source": [
    "preprocessed_text.keys()"
   ]
  },
  {
   "cell_type": "code",
   "execution_count": 7,
   "id": "ebb328da",
   "metadata": {},
   "outputs": [],
   "source": [
    "bert_results = encoder_layer(preprocessed_text)"
   ]
  },
  {
   "cell_type": "code",
   "execution_count": null,
   "id": "24fd8de3",
   "metadata": {},
   "outputs": [],
   "source": [
    "input_ids = layers.Input(shape=(max_len,), dtype=tf.int32)\n",
    "token_type_ids = layers.Input(shape=(max_len,), dtype=tf.int32)\n",
    "attention_mask = layers.Input(shape=(max_len,), dtype=tf.int32)\n",
    "embedding = encoder(\n",
    "    input_ids, token_type_ids=token_type_ids, attention_mask=attention_mask\n",
    ")[0]\n",
    "\n",
    "inputs = tf.keras.layers.Input(shape=(tfidf_embeddings_train[0].shape[1],))\n",
    "hidden_1_out = tf.keras.layers.Dense(2000, activation='relu', kernel_regularizer=regularizers.l1_l2(l1=1e-5, l2=1e-4))(inputs)\n",
    "dropout = tf.keras.layers.Dropout(0.2)(hidden_1_out)\n",
    "hidden_2_out = tf.keras.layers.Dense(1000, activation='relu', kernel_regularizer=regularizers.l1_l2(l1=1e-5, l2=1e-4))(dropout)\n",
    "classification_out = tf.keras.layers.Dense(4, activation='softmax')(hidden_2_out)\n",
    "\n",
    "model_functional = tf.keras.models.Model(inputs=inputs, outputs = classification_out)\n",
    "model_functional.compile(loss='SparseCategoricalCrossentropy', optimizer='adam', metrics=['accuracy'])"
   ]
  }
 ],
 "metadata": {
  "kernelspec": {
   "display_name": "Python 3",
   "language": "python",
   "name": "python3"
  },
  "language_info": {
   "codemirror_mode": {
    "name": "ipython",
    "version": 3
   },
   "file_extension": ".py",
   "mimetype": "text/x-python",
   "name": "python",
   "nbconvert_exporter": "python",
   "pygments_lexer": "ipython3",
   "version": "3.8.8"
  }
 },
 "nbformat": 4,
 "nbformat_minor": 5
}
