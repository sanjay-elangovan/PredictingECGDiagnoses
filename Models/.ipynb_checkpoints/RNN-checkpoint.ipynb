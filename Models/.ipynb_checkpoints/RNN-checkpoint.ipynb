{
 "cells": [
  {
   "cell_type": "markdown",
   "id": "d07e651a",
   "metadata": {},
   "source": [
    "## Loading Data"
   ]
  },
  {
   "cell_type": "code",
   "execution_count": 3,
   "id": "7a3a7766",
   "metadata": {},
   "outputs": [],
   "source": [
    "from keras.models import Sequential\n",
    "from keras.layers import Dense\n",
    "import pickle\n",
    "import pandas as pd\n",
    "import numpy as np\n",
    "import tensorflow as tf"
   ]
  },
  {
   "cell_type": "markdown",
   "id": "6e81bc4d",
   "metadata": {},
   "source": [
    "### Spacy Embeddings"
   ]
  },
  {
   "cell_type": "code",
   "execution_count": 4,
   "id": "55a1f159",
   "metadata": {},
   "outputs": [],
   "source": [
    "ekg_denoised = pd.read_pickle('/home/sanjaycollege15/PredictingDiagnoses/Data/ekg_denoised_spacy.pkl')\n",
    "ekg_denoised = ekg_denoised.sample(frac=1)\n"
   ]
  },
  {
   "cell_type": "code",
   "execution_count": 5,
   "id": "a614c456",
   "metadata": {},
   "outputs": [
    {
     "data": {
      "text/html": [
       "<div>\n",
       "<style scoped>\n",
       "    .dataframe tbody tr th:only-of-type {\n",
       "        vertical-align: middle;\n",
       "    }\n",
       "\n",
       "    .dataframe tbody tr th {\n",
       "        vertical-align: top;\n",
       "    }\n",
       "\n",
       "    .dataframe thead th {\n",
       "        text-align: right;\n",
       "    }\n",
       "</style>\n",
       "<table border=\"1\" class=\"dataframe\">\n",
       "  <thead>\n",
       "    <tr style=\"text-align: right;\">\n",
       "      <th></th>\n",
       "      <th>ICD9_CODE</th>\n",
       "      <th>spacy_embeddings</th>\n",
       "    </tr>\n",
       "  </thead>\n",
       "  <tbody>\n",
       "    <tr>\n",
       "      <th>696</th>\n",
       "      <td>0</td>\n",
       "      <td>[-0.07936183, 0.27024016, -0.15811957, -0.0519...</td>\n",
       "    </tr>\n",
       "    <tr>\n",
       "      <th>3404</th>\n",
       "      <td>2</td>\n",
       "      <td>[-0.11360335, 0.19411947, -0.20573227, -0.0379...</td>\n",
       "    </tr>\n",
       "    <tr>\n",
       "      <th>2285</th>\n",
       "      <td>1</td>\n",
       "      <td>[-0.09637926, 0.1485467, -0.123320304, -0.0160...</td>\n",
       "    </tr>\n",
       "    <tr>\n",
       "      <th>2055</th>\n",
       "      <td>1</td>\n",
       "      <td>[-0.07524645, 0.31128493, -0.2364742, 0.069527...</td>\n",
       "    </tr>\n",
       "    <tr>\n",
       "      <th>5752</th>\n",
       "      <td>3</td>\n",
       "      <td>[-0.08324135, 0.2770619, -0.20336129, 0.001105...</td>\n",
       "    </tr>\n",
       "  </tbody>\n",
       "</table>\n",
       "</div>"
      ],
      "text/plain": [
       "      ICD9_CODE                                   spacy_embeddings\n",
       "696           0  [-0.07936183, 0.27024016, -0.15811957, -0.0519...\n",
       "3404          2  [-0.11360335, 0.19411947, -0.20573227, -0.0379...\n",
       "2285          1  [-0.09637926, 0.1485467, -0.123320304, -0.0160...\n",
       "2055          1  [-0.07524645, 0.31128493, -0.2364742, 0.069527...\n",
       "5752          3  [-0.08324135, 0.2770619, -0.20336129, 0.001105..."
      ]
     },
     "execution_count": 5,
     "metadata": {},
     "output_type": "execute_result"
    }
   ],
   "source": [
    "ekg_denoised.head()"
   ]
  },
  {
   "cell_type": "code",
   "execution_count": 6,
   "id": "621d88e9",
   "metadata": {},
   "outputs": [
    {
     "data": {
      "text/plain": [
       "(300,)"
      ]
     },
     "execution_count": 6,
     "metadata": {},
     "output_type": "execute_result"
    }
   ],
   "source": [
    "ekg_denoised['spacy_embeddings'][4603].shape"
   ]
  },
  {
   "cell_type": "markdown",
   "id": "7f6b9142",
   "metadata": {},
   "source": [
    "### Train/Dev/Test/Split"
   ]
  },
  {
   "cell_type": "code",
   "execution_count": 8,
   "id": "9db78f38",
   "metadata": {},
   "outputs": [],
   "source": [
    "X = ekg_denoised['spacy_embeddings']\n",
    "y = ekg_denoised['ICD9_CODE']"
   ]
  },
  {
   "cell_type": "code",
   "execution_count": 9,
   "id": "15cb40cf",
   "metadata": {},
   "outputs": [],
   "source": [
    "train_X, validate_X, test_X = np.split(X.sample(frac=1), \n",
    "                                       [int(.6*len(X)), \n",
    "                                        int(.8*len(X))])\n",
    "\n",
    "train_y, validate_y, test_y = np.split(y.sample(frac=1), \n",
    "                                       [int(.6*len(y)), \n",
    "                                        int(.8*len(y))])"
   ]
  },
  {
   "cell_type": "code",
   "execution_count": 10,
   "id": "429b1635",
   "metadata": {},
   "outputs": [],
   "source": [
    "train_X = np.array(train_X)\n",
    "train_y = np.array(train_y)"
   ]
  },
  {
   "cell_type": "code",
   "execution_count": 11,
   "id": "c0b0dace",
   "metadata": {},
   "outputs": [],
   "source": [
    "new_train_X = []\n",
    "for i in train_X:\n",
    "    new_train_X.append(list(i))\n",
    "train_X = np.array(new_train_X)\n",
    "    \n",
    "new_validate_X = []\n",
    "for i in validate_X:\n",
    "    new_validate_X.append(list(i))\n",
    "validate_X = np.array(new_validate_X)\n",
    "    \n",
    "new_test_X = []\n",
    "for i in test_X:\n",
    "    new_test_X.append(list(i))\n",
    "test_X = np.array(new_test_X)"
   ]
  },
  {
   "cell_type": "markdown",
   "id": "b49b7ea4",
   "metadata": {},
   "source": [
    "## Define Keras Model"
   ]
  },
  {
   "cell_type": "code",
   "execution_count": 22,
   "id": "17f3c917",
   "metadata": {},
   "outputs": [],
   "source": [
    "small_train_X = train_X[50:]\n",
    "small_train_y = train_y[50:]"
   ]
  },
  {
   "cell_type": "code",
   "execution_count": 25,
   "id": "20100077",
   "metadata": {},
   "outputs": [],
   "source": [
    "inputs = tf.keras.layers.Input(shape=(300,))\n",
    "hidden_1_out = tf.keras.layers.Dense(150, activation='relu')(inputs)\n",
    "classification_out = tf.keras.layers.Dense(4, activation='relu')(hidden_1_out)\n",
    "\n",
    "model_functional = tf.keras.models.Model(inputs=inputs, outputs = classification_out)\n",
    "model_functional.compile(loss='SparseCategoricalCrossentropy', optimizer='adam', metrics=['accuracy'])"
   ]
  },
  {
   "cell_type": "code",
   "execution_count": 26,
   "id": "91064fe8",
   "metadata": {},
   "outputs": [
    {
     "data": {
      "image/png": "[encoded data removed]",
      "text/plain": [
       "<IPython.core.display.Image object>"
      ]
     },
     "execution_count": 26,
     "metadata": {},
     "output_type": "execute_result"
    }
   ],
   "source": [
    "tf.keras.utils.plot_model(model_functional, \"my_first_model_with_shape_info.png\", show_shapes=True)\n"
   ]
  },
  {
   "cell_type": "code",
   "execution_count": 27,
   "id": "4f5d1c35",
   "metadata": {
    "scrolled": true
   },
   "outputs": [
    {
     "name": "stdout",
     "output_type": "stream",
     "text": [
      "Epoch 1/15\n",
      "39/39 [==============================] - 0s 2ms/step - loss: 5.1085 - accuracy: 0.2524\n",
      "Epoch 2/15\n",
      "39/39 [==============================] - 0s 2ms/step - loss: 4.7639 - accuracy: 0.2586\n",
      "Epoch 3/15\n",
      "39/39 [==============================] - 0s 2ms/step - loss: 4.7877 - accuracy: 0.2516\n",
      "Epoch 4/15\n",
      "39/39 [==============================] - 0s 2ms/step - loss: 4.6630 - accuracy: 0.2604\n",
      "Epoch 5/15\n",
      "39/39 [==============================] - 0s 2ms/step - loss: 4.8301 - accuracy: 0.2578\n",
      "Epoch 6/15\n",
      "39/39 [==============================] - 0s 2ms/step - loss: 4.6844 - accuracy: 0.2643\n",
      "Epoch 7/15\n",
      "39/39 [==============================] - 0s 2ms/step - loss: 4.8891 - accuracy: 0.2619\n",
      "Epoch 8/15\n",
      "39/39 [==============================] - 0s 2ms/step - loss: 4.8025 - accuracy: 0.2601\n",
      "Epoch 9/15\n",
      "39/39 [==============================] - 0s 2ms/step - loss: 4.9196 - accuracy: 0.2555\n",
      "Epoch 10/15\n",
      "39/39 [==============================] - 0s 2ms/step - loss: 4.8482 - accuracy: 0.2599\n",
      "Epoch 11/15\n",
      "39/39 [==============================] - 0s 2ms/step - loss: 4.9452 - accuracy: 0.2529\n",
      "Epoch 12/15\n",
      "39/39 [==============================] - 0s 2ms/step - loss: 4.8945 - accuracy: 0.2614\n",
      "Epoch 13/15\n",
      "39/39 [==============================] - 0s 2ms/step - loss: 5.3665 - accuracy: 0.2669\n",
      "Epoch 14/15\n",
      "39/39 [==============================] - 0s 2ms/step - loss: 1.4484 - accuracy: 0.2503\n",
      "Epoch 15/15\n",
      "39/39 [==============================] - 0s 2ms/step - loss: 1.3863 - accuracy: 0.2501\n"
     ]
    },
    {
     "data": {
      "text/plain": [
       "<keras.callbacks.History at 0x7f2bc32ec220>"
      ]
     },
     "execution_count": 27,
     "metadata": {},
     "output_type": "execute_result"
    }
   ],
   "source": [
    "model_functional.fit(small_train_X, small_train_y, epochs=15, batch_size=100)\n"
   ]
  },
  {
   "cell_type": "code",
   "execution_count": 13,
   "id": "ef6d3463",
   "metadata": {},
   "outputs": [
    {
     "name": "stdout",
     "output_type": "stream",
     "text": [
      "41/41 [==============================] - 0s 1ms/step - loss: 1.3863 - accuracy: 0.2408\n"
     ]
    },
    {
     "data": {
      "text/plain": [
       "[1.3862950801849365, 0.24082568287849426]"
      ]
     },
     "execution_count": 13,
     "metadata": {},
     "output_type": "execute_result"
    }
   ],
   "source": [
    "model_functional.evaluate(test_X, test_y)"
   ]
  },
  {
   "cell_type": "markdown",
   "id": "8f680f65",
   "metadata": {},
   "source": [
    "#Subset to just 10 or 50 clear examples - If loss is the same, the the issue is probably with the data (how it's vectorized + fed into the model)\n"
   ]
  },
  {
   "cell_type": "code",
   "execution_count": null,
   "id": "421e97b4",
   "metadata": {},
   "outputs": [],
   "source": []
  }
 ],
 "metadata": {
  "kernelspec": {
   "display_name": "Python 3",
   "language": "python",
   "name": "python3"
  },
  "language_info": {
   "codemirror_mode": {
    "name": "ipython",
    "version": 3
   },
   "file_extension": ".py",
   "mimetype": "text/x-python",
   "name": "python",
   "nbconvert_exporter": "python",
   "pygments_lexer": "ipython3",
   "version": "3.8.8"
  }
 },
 "nbformat": 4,
 "nbformat_minor": 5
}
