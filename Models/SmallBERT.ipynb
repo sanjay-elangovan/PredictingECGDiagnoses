{
 "cells": [
  {
   "cell_type": "markdown",
   "id": "752cce0f",
   "metadata": {},
   "source": [
    "## Loading Data"
   ]
  },
  {
   "cell_type": "code",
   "execution_count": 98,
   "id": "0a5ff289",
   "metadata": {},
   "outputs": [],
   "source": [
    "import numpy as np\n",
    "import pandas as pd\n",
    "import pickle\n",
    "import tensorflow as tf\n",
    "import tensorflow_hub as hub\n",
    "import tensorflow_text as text\n",
    "import pydot\n",
    "import graphviz\n",
    "\n",
    "import matplotlib.pyplot as plt\n",
    "\n",
    "tf.get_logger().setLevel('ERROR')"
   ]
  },
  {
   "cell_type": "code",
   "execution_count": 2,
   "id": "6790f478",
   "metadata": {},
   "outputs": [],
   "source": [
    "ekg_denoised = pd.read_pickle('/home/sanjaycollege15/PredictingDiagnoses/Data/ekg_denoised.pkl')\n",
    "ekg_denoised = ekg_denoised.sample(frac=1)"
   ]
  },
  {
   "cell_type": "code",
   "execution_count": 3,
   "id": "5058b8ce",
   "metadata": {},
   "outputs": [
    {
     "data": {
      "text/html": [
       "<div>\n",
       "<style scoped>\n",
       "    .dataframe tbody tr th:only-of-type {\n",
       "        vertical-align: middle;\n",
       "    }\n",
       "\n",
       "    .dataframe tbody tr th {\n",
       "        vertical-align: top;\n",
       "    }\n",
       "\n",
       "    .dataframe thead th {\n",
       "        text-align: right;\n",
       "    }\n",
       "</style>\n",
       "<table border=\"1\" class=\"dataframe\">\n",
       "  <thead>\n",
       "    <tr style=\"text-align: right;\">\n",
       "      <th></th>\n",
       "      <th>ICD9_CODE</th>\n",
       "      <th>TEXT</th>\n",
       "    </tr>\n",
       "  </thead>\n",
       "  <tbody>\n",
       "    <tr>\n",
       "      <th>815</th>\n",
       "      <td>4019</td>\n",
       "      <td>atrial fibrillation probable prior inferior my...</td>\n",
       "    </tr>\n",
       "    <tr>\n",
       "      <th>1661</th>\n",
       "      <td>4280</td>\n",
       "      <td>sinus rhythm first degree a-v delay prior ante...</td>\n",
       "    </tr>\n",
       "    <tr>\n",
       "      <th>2541</th>\n",
       "      <td>4280</td>\n",
       "      <td>atrial fibrillation with a rapid ventricular r...</td>\n",
       "    </tr>\n",
       "    <tr>\n",
       "      <th>563</th>\n",
       "      <td>4019</td>\n",
       "      <td>sinus bradycardia. leftward precordial r wave ...</td>\n",
       "    </tr>\n",
       "    <tr>\n",
       "      <th>1378</th>\n",
       "      <td>4019</td>\n",
       "      <td>baseline artifact sinus tachycardia low limb l...</td>\n",
       "    </tr>\n",
       "  </tbody>\n",
       "</table>\n",
       "</div>"
      ],
      "text/plain": [
       "      ICD9_CODE                                               TEXT\n",
       "815        4019  atrial fibrillation probable prior inferior my...\n",
       "1661       4280  sinus rhythm first degree a-v delay prior ante...\n",
       "2541       4280  atrial fibrillation with a rapid ventricular r...\n",
       "563        4019  sinus bradycardia. leftward precordial r wave ...\n",
       "1378       4019  baseline artifact sinus tachycardia low limb l..."
      ]
     },
     "execution_count": 3,
     "metadata": {},
     "output_type": "execute_result"
    }
   ],
   "source": [
    "ekg_denoised.head()"
   ]
  },
  {
   "cell_type": "markdown",
   "id": "de6bb537",
   "metadata": {},
   "source": [
    "### Converting to Tensorflow dataset"
   ]
  },
  {
   "cell_type": "code",
   "execution_count": 4,
   "id": "cac929e4",
   "metadata": {},
   "outputs": [],
   "source": [
    "training_dataset = (\n",
    "    tf.data.Dataset.from_tensor_slices(\n",
    "        (\n",
    "            tf.cast(ekg_denoised['TEXT'].values, tf.string),\n",
    "            tf.cast(ekg_denoised['ICD9_CODE'].values, tf.int32)\n",
    "        )\n",
    "    )\n",
    ")"
   ]
  },
  {
   "cell_type": "markdown",
   "id": "cc6124c4",
   "metadata": {},
   "source": [
    "### Setting up train, dev, and test datasets "
   ]
  },
  {
   "cell_type": "code",
   "execution_count": 48,
   "id": "cdfbdf75",
   "metadata": {},
   "outputs": [],
   "source": [
    "AUTOTUNE = tf.data.AUTOTUNE\n",
    "DATASET_SIZE = len(training_dataset)\n",
    "\n",
    "train_size = int(0.8 * DATASET_SIZE)\n",
    "val_size = int(0.1 * DATASET_SIZE)\n",
    "test_size = int(0.1 * DATASET_SIZE)\n",
    "\n",
    "full_dataset = training_dataset\n",
    "train_dataset = full_dataset.take(train_size).cache().prefetch(buffer_size=AUTOTUNE)\n",
    "test_dataset = full_dataset.skip(train_size)\n",
    "val_dataset = test_dataset.skip(test_size).cache().prefetch(buffer_size=AUTOTUNE)\n",
    "test_dataset = test_dataset.take(test_size).cache().prefetch(buffer_size=AUTOTUNE)\n"
   ]
  },
  {
   "cell_type": "code",
   "execution_count": 66,
   "id": "6cff61c8",
   "metadata": {
    "scrolled": false
   },
   "outputs": [
    {
     "name": "stdout",
     "output_type": "stream",
     "text": [
      "EKG reading: b'atrial fibrillation probable prior inferior myocardial infarctionand consider also left anterior fascicular block prior anterior myocardial infarction nonspecific anterolateral st-t wave abnormalities consider left ventricular hypertrophy since previous tracing of same date, no significant change'\n",
      "label: 4019\n",
      "\n",
      "EKG reading: b'sinus rhythm first degree a-v delay prior anteroseptal myocardial infarction no previous tracing available for comparison'\n",
      "label: 4280\n",
      "\n",
      "EKG reading: b'atrial fibrillation with a rapid ventricular response at approximately 120. right bundle-branch block left anterior hemiblock. occasional ventricular premature beat. non-specific repolarization changes. compared to the previous tracing of ventricular ectopic activity is new. otherwise, no significant change.'\n",
      "label: 4280\n",
      "\n"
     ]
    }
   ],
   "source": [
    "for text_batch, label_batch in train_dataset.take(3):\n",
    "    print(f'EKG reading: {text_batch.numpy()}')\n",
    "    print(f'label: {label_batch}\\n')"
   ]
  },
  {
   "cell_type": "code",
   "execution_count": 67,
   "id": "5477c32a",
   "metadata": {},
   "outputs": [
    {
     "name": "stdout",
     "output_type": "stream",
     "text": [
      "EKG reading: b'sinus rhythm lateral t wave changes are nonspecific slight inferior st segment elevation, consider inferior myocardial infarction clinical correlation is advised'\n",
      "label: 41401\n",
      "\n",
      "EKG reading: b'atrial fibrillation. marked right axis deviation. left bundle-branch block. late precordial qrs transition. clinical correlation is suggested for possible prior anterolateral myocardial infarction, although not diagnostic. since the previous tracing of ventricular ectopy is not seen. tracing 2'\n",
      "label: 4280\n",
      "\n",
      "EKG reading: b'sinus rhythm. borderline low qrs voltage is non-specific and may be within normal limits. since the previous tracing of atrial fibrillation is now absent. tracing 2'\n",
      "label: 4280\n",
      "\n"
     ]
    }
   ],
   "source": [
    "for text_batch, label_batch in val_dataset.take(3):\n",
    "    print(f'EKG reading: {text_batch.numpy()}')\n",
    "    print(f'label: {label_batch}\\n')"
   ]
  },
  {
   "cell_type": "code",
   "execution_count": 68,
   "id": "48ad3259",
   "metadata": {},
   "outputs": [
    {
     "name": "stdout",
     "output_type": "stream",
     "text": [
      "EKG reading: b'sinus rhythm. prolonged a-v conduction. left bundle-branch block. compared to the previous tracing of transmural inferior wall myocardial infarction was previously present if left bundle-branch block patterning is absent, although the patterning barely resembles left bundle-branch block. the current tracing has a wider qrs interval.'\n",
      "label: 4019\n",
      "\n",
      "EKG reading: b'sinus rhythm lateral st-t changes may be due to myocardial ischemia since previous tracing, atrial fibrillation resolved'\n",
      "label: 42731\n",
      "\n",
      "EKG reading: b'sinus tachycardia. left atrial abnormality. diffuse non-diagnostic repolarization abnormalities. compared to the previous tracing of no definite change.'\n",
      "label: 4280\n",
      "\n"
     ]
    }
   ],
   "source": [
    "for text_batch, label_batch in test_dataset.take(3):\n",
    "    print(f'EKG reading: {text_batch.numpy()}')\n",
    "    print(f'label: {label_batch}\\n')"
   ]
  },
  {
   "cell_type": "markdown",
   "id": "abd4a047",
   "metadata": {},
   "source": [
    "## Modeling "
   ]
  },
  {
   "cell_type": "markdown",
   "id": "e362038a",
   "metadata": {},
   "source": [
    "### Setting up BERT Pre-Process Model and SmallBERT"
   ]
  },
  {
   "cell_type": "code",
   "execution_count": 64,
   "id": "d5b162f9",
   "metadata": {},
   "outputs": [],
   "source": [
    "bert_preprocess_model = hub.KerasLayer(\n",
    "    'https://tfhub.dev/tensorflow/bert_en_uncased_preprocess/3')"
   ]
  },
  {
   "cell_type": "code",
   "execution_count": 81,
   "id": "963742d6",
   "metadata": {},
   "outputs": [],
   "source": [
    "bert_model = hub.KerasLayer(\n",
    "    'https://tfhub.dev/tensorflow/small_bert/bert_en_uncased_L-4_H-512_A-8/1')"
   ]
  },
  {
   "cell_type": "markdown",
   "id": "0162a206",
   "metadata": {},
   "source": [
    "### Running sample text"
   ]
  },
  {
   "cell_type": "code",
   "execution_count": 80,
   "id": "fc50d44a",
   "metadata": {},
   "outputs": [
    {
     "name": "stdout",
     "output_type": "stream",
     "text": [
      "Keys       : ['input_mask', 'input_word_ids', 'input_type_ids']\n",
      "Shape      : (1, 128)\n",
      "Word Ids   : [  101  8254  2271  6348  1012 15330  1037  1011  1058  6204  3258  1012\n",
      "  2187 14012  1011  3589  3796  1012  4102  2000  1996  3025 16907  1997\n",
      "  9099 16069  2140 14092  2813  2026 24755 25070  1999 14971  7542  2001\n",
      "  3130  2556  2065  2187 14012  1011  3589  3796  5418  2075  2003  9962\n",
      "  1010  2348  1996  5418  2075  4510 12950  2187 14012  1011  3589  3796\n",
      "  1012  1996  2783 16907  2038  1037  7289  1053  2869 13483  1012   102\n",
      "     0     0     0     0     0     0     0     0     0     0     0     0\n",
      "     0     0     0     0     0     0     0     0     0     0     0     0\n",
      "     0     0     0     0     0     0     0     0     0     0     0     0\n",
      "     0     0     0     0     0     0     0     0     0     0     0     0\n",
      "     0     0     0     0     0     0     0     0]\n",
      "Input Mask : [1 1 1 1 1 1 1 1 1 1 1 1]\n",
      "Type Ids   : [0 0 0 0 0 0 0 0 0 0 0 0]\n"
     ]
    }
   ],
   "source": [
    "test_text = ['sinus rhythm. prolonged a-v conduction. left bundle-branch block. compared to the previous tracing of transmural inferior wall myocardial infarction was previously present if left bundle-branch block patterning is absent, although the patterning barely resembles left bundle-branch block. the current tracing has a wider qrs interval.']\n",
    "text_preprocessed = bert_preprocess_model(test_text)\n",
    "\n",
    "print(f'Keys       : {list(text_preprocessed.keys())}')\n",
    "print(f'Shape      : {text_preprocessed[\"input_word_ids\"].shape}')\n",
    "print(f'Word Ids   : {text_preprocessed[\"input_word_ids\"][0, :128]}')\n",
    "print(f'Input Mask : {text_preprocessed[\"input_mask\"][0, :12]}')\n",
    "print(f'Type Ids   : {text_preprocessed[\"input_type_ids\"][0, :12]}')\n"
   ]
  },
  {
   "cell_type": "markdown",
   "id": "a459a75b",
   "metadata": {},
   "source": [
    "#### Notes:\n",
    "- Increasing the number of sentences changes the shape of the input word IDs (2 sentences becomes (2,128)).\n",
    "- The input is limited to 128 words\n",
    "- Start and stop of sentences is encoded with 101 and 102"
   ]
  },
  {
   "cell_type": "code",
   "execution_count": 83,
   "id": "a3cd2974",
   "metadata": {},
   "outputs": [
    {
     "name": "stdout",
     "output_type": "stream",
     "text": [
      "Pooled Outputs Shape:(1, 512)\n",
      "Pooled Outputs Values:[ 0.9887249  -0.7988822  -0.32717532  0.10474525 -0.29970306  0.99474674\n",
      "  0.9869619  -0.9857107  -0.5750032  -0.32717896 -0.57857615 -0.974101  ]\n",
      "Sequence Outputs Shape:(1, 128, 512)\n",
      "Sequence Outputs Values:[[ 0.40818763  0.28475827 -0.72223073 ... -0.54963726 -0.17958531\n",
      "   0.05423336]\n",
      " [ 0.21084103  0.48801625  0.15987696 ...  0.63800764  0.01293848\n",
      "  -1.1388142 ]\n",
      " [ 0.5426493   0.87804466 -1.1415874  ...  0.86736923 -0.5243975\n",
      "   0.10186958]\n",
      " ...\n",
      " [-0.20698741 -0.00587281 -1.0680927  ...  0.8720525   0.3271055\n",
      "  -0.5672977 ]\n",
      " [ 0.02397707 -0.26795962 -0.38774925 ... -1.0148929   0.03317202\n",
      "  -0.7092347 ]\n",
      " [ 0.07354864 -0.25090563 -0.44517663 ... -1.1513164  -0.33980662\n",
      "   0.7860865 ]]\n"
     ]
    }
   ],
   "source": [
    "bert_results = bert_model(text_preprocessed)\n",
    "\n",
    "print(f'Pooled Outputs Shape:{bert_results[\"pooled_output\"].shape}')\n",
    "print(f'Pooled Outputs Values:{bert_results[\"pooled_output\"][0, :12]}')\n",
    "print(f'Sequence Outputs Shape:{bert_results[\"sequence_output\"].shape}')\n",
    "print(f'Sequence Outputs Values:{bert_results[\"sequence_output\"][0, :12]}')"
   ]
  },
  {
   "cell_type": "markdown",
   "id": "ca1ab12b",
   "metadata": {},
   "source": [
    "#### Notes:\n",
    "- Bert model outputs a 512 valued vector"
   ]
  },
  {
   "cell_type": "markdown",
   "id": "637363bd",
   "metadata": {},
   "source": [
    "### Defining Model Pipeline"
   ]
  },
  {
   "cell_type": "code",
   "execution_count": 122,
   "id": "ac187269",
   "metadata": {},
   "outputs": [],
   "source": [
    "def build_classifier_model():\n",
    "  text_input = tf.keras.layers.Input(shape=(), dtype=tf.string, name='text')\n",
    "  preprocessing_layer = hub.KerasLayer('https://tfhub.dev/tensorflow/bert_en_uncased_preprocess/3', name='preprocessing')\n",
    "  encoder_inputs = preprocessing_layer(text_input)\n",
    "  encoder = hub.KerasLayer('https://tfhub.dev/tensorflow/small_bert/bert_en_uncased_L-4_H-512_A-8/1', trainable=True, name='BERT_encoder')\n",
    "  outputs = encoder(encoder_inputs)\n",
    "  net = outputs['pooled_output']\n",
    "  net = tf.keras.layers.Dropout(0.1)(net)\n",
    "  net = tf.keras.layers.Dense(1, activation=None, name='classifier')(net)\n",
    "  return tf.keras.Model(text_input, net)\n",
    "\n",
    "classifier_model = build_classifier_model()\n"
   ]
  },
  {
   "cell_type": "code",
   "execution_count": 123,
   "id": "21750229",
   "metadata": {},
   "outputs": [
    {
     "name": "stdout",
     "output_type": "stream",
     "text": [
      "tf.Tensor([[0.64683807]], shape=(1, 1), dtype=float32)\n"
     ]
    }
   ],
   "source": [
    "bert_raw_result = classifier_model(tf.constant(test_text))\n",
    "print(tf.sigmoid(bert_raw_result))"
   ]
  },
  {
   "cell_type": "markdown",
   "id": "04f3d572",
   "metadata": {},
   "source": [
    "### Loss Metrics"
   ]
  },
  {
   "cell_type": "code",
   "execution_count": 124,
   "id": "6b8b409b",
   "metadata": {},
   "outputs": [],
   "source": [
    "loss = tf.keras.losses.SparseCategoricalCrossentropy(from_logits=True)\n",
    "metrics = tf.metrics.BinaryAccuracy()"
   ]
  },
  {
   "cell_type": "code",
   "execution_count": 125,
   "id": "ddba9f44",
   "metadata": {},
   "outputs": [],
   "source": [
    "epochs = 5\n",
    "steps_per_epoch = tf.data.experimental.cardinality(train_dataset).numpy()\n",
    "num_train_steps = steps_per_epoch * epochs\n",
    "num_warmup_steps = int(0.1*num_train_steps)\n",
    "init_lr = 3e-5"
   ]
  },
  {
   "cell_type": "code",
   "execution_count": 126,
   "id": "6d372cf4",
   "metadata": {},
   "outputs": [],
   "source": [
    "classifier_model.compile(loss=loss,\n",
    "                         metrics=metrics)"
   ]
  },
  {
   "cell_type": "code",
   "execution_count": 128,
   "id": "06532ce5",
   "metadata": {},
   "outputs": [
    {
     "data": {
      "text/plain": [
       "<tf.Tensor: shape=(1,), dtype=string, numpy=\n",
       "array([b'sinus rhythm. prolonged a-v conduction. left bundle-branch block. compared to the previous tracing of transmural inferior wall myocardial infarction was previously present if left bundle-branch block patterning is absent, although the patterning barely resembles left bundle-branch block. the current tracing has a wider qrs interval.'],\n",
       "      dtype=object)>"
      ]
     },
     "execution_count": 128,
     "metadata": {},
     "output_type": "execute_result"
    }
   ],
   "source": [
    "tf.constant(test_text)"
   ]
  },
  {
   "cell_type": "code",
   "execution_count": 129,
   "id": "f72d41be",
   "metadata": {},
   "outputs": [
    {
     "name": "stdout",
     "output_type": "stream",
     "text": [
      "Epoch 1/5\n"
     ]
    },
    {
     "ename": "TypeError",
     "evalue": "in user code:\n\n    File \"/home/sanjaycollege15/anaconda3/lib/python3.8/site-packages/keras/engine/training.py\", line 878, in train_function  *\n        return step_function(self, iterator)\n    File \"/home/sanjaycollege15/anaconda3/lib/python3.8/site-packages/keras/engine/training.py\", line 867, in step_function  **\n        outputs = model.distribute_strategy.run(run_step, args=(data,))\n    File \"/home/sanjaycollege15/anaconda3/lib/python3.8/site-packages/keras/engine/training.py\", line 860, in run_step  **\n        outputs = model.train_step(data)\n    File \"/home/sanjaycollege15/anaconda3/lib/python3.8/site-packages/keras/engine/training.py\", line 812, in train_step\n        raise TypeError(\n\n    TypeError: Target data is missing. Your model has `loss`: <keras.losses.SparseCategoricalCrossentropy object at 0x7f5b10df3430>, and therefore expects target data to be passed in `fit()`.\n",
     "output_type": "error",
     "traceback": [
      "\u001b[0;31m---------------------------------------------------------------------------\u001b[0m",
      "\u001b[0;31mTypeError\u001b[0m                                 Traceback (most recent call last)",
      "\u001b[0;32m<ipython-input-129-718d689b9873>\u001b[0m in \u001b[0;36m<module>\u001b[0;34m\u001b[0m\n\u001b[0;32m----> 1\u001b[0;31m history = classifier_model.fit(x=tf.constant(test_text),\n\u001b[0m\u001b[1;32m      2\u001b[0m                                \u001b[0mvalidation_data\u001b[0m\u001b[0;34m=\u001b[0m\u001b[0mval_dataset\u001b[0m\u001b[0;34m,\u001b[0m\u001b[0;34m\u001b[0m\u001b[0;34m\u001b[0m\u001b[0m\n\u001b[1;32m      3\u001b[0m                                epochs=epochs)\n",
      "\u001b[0;32m~/anaconda3/lib/python3.8/site-packages/keras/utils/traceback_utils.py\u001b[0m in \u001b[0;36merror_handler\u001b[0;34m(*args, **kwargs)\u001b[0m\n\u001b[1;32m     65\u001b[0m     \u001b[0;32mexcept\u001b[0m \u001b[0mException\u001b[0m \u001b[0;32mas\u001b[0m \u001b[0me\u001b[0m\u001b[0;34m:\u001b[0m  \u001b[0;31m# pylint: disable=broad-except\u001b[0m\u001b[0;34m\u001b[0m\u001b[0;34m\u001b[0m\u001b[0m\n\u001b[1;32m     66\u001b[0m       \u001b[0mfiltered_tb\u001b[0m \u001b[0;34m=\u001b[0m \u001b[0m_process_traceback_frames\u001b[0m\u001b[0;34m(\u001b[0m\u001b[0me\u001b[0m\u001b[0;34m.\u001b[0m\u001b[0m__traceback__\u001b[0m\u001b[0;34m)\u001b[0m\u001b[0;34m\u001b[0m\u001b[0;34m\u001b[0m\u001b[0m\n\u001b[0;32m---> 67\u001b[0;31m       \u001b[0;32mraise\u001b[0m \u001b[0me\u001b[0m\u001b[0;34m.\u001b[0m\u001b[0mwith_traceback\u001b[0m\u001b[0;34m(\u001b[0m\u001b[0mfiltered_tb\u001b[0m\u001b[0;34m)\u001b[0m \u001b[0;32mfrom\u001b[0m \u001b[0;32mNone\u001b[0m\u001b[0;34m\u001b[0m\u001b[0;34m\u001b[0m\u001b[0m\n\u001b[0m\u001b[1;32m     68\u001b[0m     \u001b[0;32mfinally\u001b[0m\u001b[0;34m:\u001b[0m\u001b[0;34m\u001b[0m\u001b[0;34m\u001b[0m\u001b[0m\n\u001b[1;32m     69\u001b[0m       \u001b[0;32mdel\u001b[0m \u001b[0mfiltered_tb\u001b[0m\u001b[0;34m\u001b[0m\u001b[0;34m\u001b[0m\u001b[0m\n",
      "\u001b[0;32m~/anaconda3/lib/python3.8/site-packages/tensorflow/python/framework/func_graph.py\u001b[0m in \u001b[0;36mautograph_handler\u001b[0;34m(*args, **kwargs)\u001b[0m\n\u001b[1;32m   1127\u001b[0m           \u001b[0;32mexcept\u001b[0m \u001b[0mException\u001b[0m \u001b[0;32mas\u001b[0m \u001b[0me\u001b[0m\u001b[0;34m:\u001b[0m  \u001b[0;31m# pylint:disable=broad-except\u001b[0m\u001b[0;34m\u001b[0m\u001b[0;34m\u001b[0m\u001b[0m\n\u001b[1;32m   1128\u001b[0m             \u001b[0;32mif\u001b[0m \u001b[0mhasattr\u001b[0m\u001b[0;34m(\u001b[0m\u001b[0me\u001b[0m\u001b[0;34m,\u001b[0m \u001b[0;34m\"ag_error_metadata\"\u001b[0m\u001b[0;34m)\u001b[0m\u001b[0;34m:\u001b[0m\u001b[0;34m\u001b[0m\u001b[0;34m\u001b[0m\u001b[0m\n\u001b[0;32m-> 1129\u001b[0;31m               \u001b[0;32mraise\u001b[0m \u001b[0me\u001b[0m\u001b[0;34m.\u001b[0m\u001b[0mag_error_metadata\u001b[0m\u001b[0;34m.\u001b[0m\u001b[0mto_exception\u001b[0m\u001b[0;34m(\u001b[0m\u001b[0me\u001b[0m\u001b[0;34m)\u001b[0m\u001b[0;34m\u001b[0m\u001b[0;34m\u001b[0m\u001b[0m\n\u001b[0m\u001b[1;32m   1130\u001b[0m             \u001b[0;32melse\u001b[0m\u001b[0;34m:\u001b[0m\u001b[0;34m\u001b[0m\u001b[0;34m\u001b[0m\u001b[0m\n\u001b[1;32m   1131\u001b[0m               \u001b[0;32mraise\u001b[0m\u001b[0;34m\u001b[0m\u001b[0;34m\u001b[0m\u001b[0m\n",
      "\u001b[0;31mTypeError\u001b[0m: in user code:\n\n    File \"/home/sanjaycollege15/anaconda3/lib/python3.8/site-packages/keras/engine/training.py\", line 878, in train_function  *\n        return step_function(self, iterator)\n    File \"/home/sanjaycollege15/anaconda3/lib/python3.8/site-packages/keras/engine/training.py\", line 867, in step_function  **\n        outputs = model.distribute_strategy.run(run_step, args=(data,))\n    File \"/home/sanjaycollege15/anaconda3/lib/python3.8/site-packages/keras/engine/training.py\", line 860, in run_step  **\n        outputs = model.train_step(data)\n    File \"/home/sanjaycollege15/anaconda3/lib/python3.8/site-packages/keras/engine/training.py\", line 812, in train_step\n        raise TypeError(\n\n    TypeError: Target data is missing. Your model has `loss`: <keras.losses.SparseCategoricalCrossentropy object at 0x7f5b10df3430>, and therefore expects target data to be passed in `fit()`.\n"
     ]
    }
   ],
   "source": [
    "history = classifier_model.fit(x=tf.constant(test_text),\n",
    "                               validation_data=val_dataset,\n",
    "                               epochs=epochs,\n",
    "                               )"
   ]
  },
  {
   "cell_type": "code",
   "execution_count": null,
   "id": "f28def46",
   "metadata": {},
   "outputs": [],
   "source": []
  }
 ],
 "metadata": {
  "kernelspec": {
   "display_name": "Python 3",
   "language": "python",
   "name": "python3"
  },
  "language_info": {
   "codemirror_mode": {
    "name": "ipython",
    "version": 3
   },
   "file_extension": ".py",
   "mimetype": "text/x-python",
   "name": "python",
   "nbconvert_exporter": "python",
   "pygments_lexer": "ipython3",
   "version": "3.8.8"
  }
 },
 "nbformat": 4,
 "nbformat_minor": 5
}
