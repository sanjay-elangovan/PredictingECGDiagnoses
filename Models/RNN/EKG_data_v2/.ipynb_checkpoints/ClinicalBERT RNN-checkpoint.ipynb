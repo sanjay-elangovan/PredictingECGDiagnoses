{
 "cells": [
  {
   "cell_type": "code",
   "execution_count": 1,
   "id": "7a3a7766",
   "metadata": {},
   "outputs": [],
   "source": [
    "from keras.layers import Dense, SimpleRNN, LSTM, Dropout\n",
    "import pickle\n",
    "import pandas as pd\n",
    "import numpy as np\n",
    "from sklearn.model_selection import train_test_split\n",
    "import tensorflow as tf\n",
    "import matplotlib.pyplot as plt\n"
   ]
  },
  {
   "cell_type": "markdown",
   "id": "d07e651a",
   "metadata": {},
   "source": [
    "## Loading Data"
   ]
  },
  {
   "cell_type": "markdown",
   "id": "6e81bc4d",
   "metadata": {},
   "source": [
    "### ClinicalBERT Embeddings"
   ]
  },
  {
   "cell_type": "code",
   "execution_count": 6,
   "id": "272f6ec1",
   "metadata": {
    "scrolled": true
   },
   "outputs": [],
   "source": [
    "embeddings = np.load('/home/sanjaycollege15/PredictingDiagnoses/Data/ekg_denoised_ClinicalBERT_embeddings_22k.npy')\n",
    "labels = np.load('/home/sanjaycollege15/PredictingDiagnoses/Data/ekg_denoised_ClinicalBERT_labels_22k.npy')\n"
   ]
  },
  {
   "cell_type": "markdown",
   "id": "7f6b9142",
   "metadata": {},
   "source": [
    "### Train/Dev/Test/Split"
   ]
  },
  {
   "cell_type": "code",
   "execution_count": 7,
   "id": "89a43048",
   "metadata": {},
   "outputs": [
    {
     "data": {
      "text/plain": [
       "(22500, 264, 768)"
      ]
     },
     "execution_count": 7,
     "metadata": {},
     "output_type": "execute_result"
    }
   ],
   "source": [
    "embeddings.shape"
   ]
  },
  {
   "cell_type": "code",
   "execution_count": 8,
   "id": "9db78f38",
   "metadata": {},
   "outputs": [],
   "source": [
    "train_X, test_X, train_y, test_y = train_test_split(embeddings, labels, test_size=0.20, random_state=42, stratify=labels)\n",
    "del embeddings\n",
    "del labels\n"
   ]
  },
  {
   "cell_type": "code",
   "execution_count": 9,
   "id": "9d1d8160",
   "metadata": {},
   "outputs": [
    {
     "data": {
      "text/plain": [
       "(18000, 264, 768)"
      ]
     },
     "execution_count": 9,
     "metadata": {},
     "output_type": "execute_result"
    }
   ],
   "source": [
    "train_X.shape"
   ]
  },
  {
   "cell_type": "code",
   "execution_count": 10,
   "id": "460b98a8",
   "metadata": {},
   "outputs": [
    {
     "data": {
      "text/plain": [
       "(4500, 264, 768)"
      ]
     },
     "execution_count": 10,
     "metadata": {},
     "output_type": "execute_result"
    }
   ],
   "source": [
    "test_X.shape"
   ]
  },
  {
   "cell_type": "markdown",
   "id": "b49b7ea4",
   "metadata": {},
   "source": [
    "## Simple RNN Model"
   ]
  },
  {
   "cell_type": "code",
   "execution_count": 15,
   "id": "652c447f",
   "metadata": {},
   "outputs": [],
   "source": [
    "inputs = tf.keras.layers.Input(shape=(264,768))\n",
    "hidden_layer_1 = tf.keras.layers.Dense(700, activation='relu')(inputs)\n",
    "dropout1 = tf.keras.layers.Dropout(0.2)(hidden_layer_1)\n",
    "RNN = tf.keras.layers.SimpleRNN(100)(dropout1)\n",
    "classification_out = tf.keras.layers.Dense(4, activation='softmax')(RNN)\n",
    "\n",
    "model = tf.keras.models.Model(inputs=inputs, outputs=classification_out)\n",
    "model.compile(loss=tf.keras.losses.SparseCategoricalCrossentropy(), \n",
    "              optimizer='adam', \n",
    "              metrics=['accuracy'])"
   ]
  },
  {
   "cell_type": "code",
   "execution_count": 16,
   "id": "48b30422",
   "metadata": {},
   "outputs": [
    {
     "name": "stdout",
     "output_type": "stream",
     "text": [
      "Model: \"model\"\n",
      "_________________________________________________________________\n",
      " Layer (type)                Output Shape              Param #   \n",
      "=================================================================\n",
      " input_1 (InputLayer)        [(None, 264, 768)]        0         \n",
      "                                                                 \n",
      " dense (Dense)               (None, 264, 700)          538300    \n",
      "                                                                 \n",
      " dropout (Dropout)           (None, 264, 700)          0         \n",
      "                                                                 \n",
      " simple_rnn (SimpleRNN)      (None, 100)               80100     \n",
      "                                                                 \n",
      " dense_1 (Dense)             (None, 4)                 404       \n",
      "                                                                 \n",
      "=================================================================\n",
      "Total params: 618,804\n",
      "Trainable params: 618,804\n",
      "Non-trainable params: 0\n",
      "_________________________________________________________________\n"
     ]
    }
   ],
   "source": [
    "model.summary()"
   ]
  },
  {
   "cell_type": "code",
   "execution_count": 17,
   "id": "4f5d1c35",
   "metadata": {
    "scrolled": true
   },
   "outputs": [
    {
     "name": "stdout",
     "output_type": "stream",
     "text": [
      "Epoch 1/20\n",
      "19/19 [==============================] - 30s 1s/step - loss: 1.5425 - accuracy: 0.2584 - val_loss: 1.3823 - val_accuracy: 0.2713\n",
      "Epoch 2/20\n",
      "19/19 [==============================] - 25s 1s/step - loss: 1.3729 - accuracy: 0.2973 - val_loss: 1.3659 - val_accuracy: 0.3017\n",
      "Epoch 3/20\n",
      "19/19 [==============================] - 25s 1s/step - loss: 1.3626 - accuracy: 0.3124 - val_loss: 1.3693 - val_accuracy: 0.3054\n",
      "Epoch 4/20\n",
      "19/19 [==============================] - 29s 2s/step - loss: 1.3452 - accuracy: 0.3364 - val_loss: 1.3699 - val_accuracy: 0.2958\n",
      "Epoch 5/20\n",
      "19/19 [==============================] - 31s 2s/step - loss: 1.3317 - accuracy: 0.3527 - val_loss: 1.3701 - val_accuracy: 0.3071\n",
      "Epoch 6/20\n",
      "19/19 [==============================] - 32s 2s/step - loss: 1.3124 - accuracy: 0.3669 - val_loss: 1.3810 - val_accuracy: 0.3171\n",
      "Epoch 7/20\n",
      "19/19 [==============================] - 32s 2s/step - loss: 1.2864 - accuracy: 0.3947 - val_loss: 1.4132 - val_accuracy: 0.2962\n",
      "Epoch 8/20\n",
      "19/19 [==============================] - 32s 2s/step - loss: 1.2676 - accuracy: 0.3992 - val_loss: 1.4184 - val_accuracy: 0.2783\n",
      "Epoch 9/20\n",
      "19/19 [==============================] - 31s 2s/step - loss: 1.2432 - accuracy: 0.4254 - val_loss: 1.4120 - val_accuracy: 0.2962\n",
      "Epoch 10/20\n",
      "19/19 [==============================] - 31s 2s/step - loss: 1.1997 - accuracy: 0.4529 - val_loss: 1.4303 - val_accuracy: 0.3017\n",
      "Epoch 11/20\n",
      "19/19 [==============================] - 31s 2s/step - loss: 1.1667 - accuracy: 0.4740 - val_loss: 1.4437 - val_accuracy: 0.3029\n",
      "Epoch 12/20\n",
      "19/19 [==============================] - 31s 2s/step - loss: 1.1280 - accuracy: 0.4984 - val_loss: 1.4899 - val_accuracy: 0.2850\n",
      "Epoch 13/20\n",
      "19/19 [==============================] - 31s 2s/step - loss: 1.0954 - accuracy: 0.5108 - val_loss: 1.5164 - val_accuracy: 0.2846\n",
      "Epoch 14/20\n",
      "19/19 [==============================] - 32s 2s/step - loss: 1.0440 - accuracy: 0.5455 - val_loss: 1.5503 - val_accuracy: 0.2804\n",
      "Epoch 15/20\n",
      "19/19 [==============================] - 30s 2s/step - loss: 0.9924 - accuracy: 0.5729 - val_loss: 1.5762 - val_accuracy: 0.2912\n",
      "Epoch 16/20\n",
      "19/19 [==============================] - 32s 2s/step - loss: 0.9497 - accuracy: 0.5930 - val_loss: 1.6310 - val_accuracy: 0.2758\n",
      "Epoch 17/20\n",
      "19/19 [==============================] - 28s 1s/step - loss: 0.9121 - accuracy: 0.6148 - val_loss: 1.6915 - val_accuracy: 0.2850\n",
      "Epoch 18/20\n",
      "19/19 [==============================] - 25s 1s/step - loss: 0.8708 - accuracy: 0.6335 - val_loss: 1.7267 - val_accuracy: 0.2871\n",
      "Epoch 19/20\n",
      "19/19 [==============================] - 25s 1s/step - loss: 0.8286 - accuracy: 0.6515 - val_loss: 1.7618 - val_accuracy: 0.2812\n",
      "Epoch 20/20\n",
      "19/19 [==============================] - 25s 1s/step - loss: 0.7819 - accuracy: 0.6752 - val_loss: 1.7929 - val_accuracy: 0.2937\n"
     ]
    }
   ],
   "source": [
    "train = model.fit(train_X, train_y, epochs=20, batch_size=512, validation_split=0.2)\n"
   ]
  },
  {
   "cell_type": "code",
   "execution_count": 67,
   "id": "ef6d3463",
   "metadata": {},
   "outputs": [
    {
     "name": "stdout",
     "output_type": "stream",
     "text": [
      "32/32 [==============================] - 1s 43ms/step - loss: 1.6077 - accuracy: 0.2530\n"
     ]
    },
    {
     "data": {
      "text/plain": [
       "[1.607657790184021, 0.2529999911785126]"
      ]
     },
     "execution_count": 67,
     "metadata": {},
     "output_type": "execute_result"
    }
   ],
   "source": [
    "model.evaluate(test_X, test_y)"
   ]
  },
  {
   "cell_type": "markdown",
   "id": "b280d442",
   "metadata": {},
   "source": [
    "Very poor accuracy (25% would be random chance). Even with the updated dataset, Spacy performs more poorly than the TF-IDF set. Could also be that the RNN model isn't very good. "
   ]
  },
  {
   "cell_type": "markdown",
   "id": "69060882",
   "metadata": {},
   "source": [
    "## Plotting"
   ]
  },
  {
   "cell_type": "code",
   "execution_count": 18,
   "id": "49a7e7b5",
   "metadata": {},
   "outputs": [
    {
     "data": {
      "image/png": "[encoded data removed]",
      "text/plain": [
       "<Figure size 432x288 with 1 Axes>"
      ]
     },
     "metadata": {
      "needs_background": "light"
     },
     "output_type": "display_data"
    }
   ],
   "source": [
    "plt.plot(train.history['accuracy'])\n",
    "plt.plot(train.history['val_accuracy'])\n",
    "plt.title('Model accuracy')\n",
    "plt.ylabel('Accuracy')\n",
    "plt.xlabel('Epoch')\n",
    "plt.legend(['train', 'validation'], loc='upper left')\n",
    "plt.show()"
   ]
  },
  {
   "cell_type": "code",
   "execution_count": 27,
   "id": "19aa0439",
   "metadata": {},
   "outputs": [
    {
     "name": "stdout",
     "output_type": "stream",
     "text": [
      "Highest model accuracy is 31.71% which occurs at 5 epochs.\n"
     ]
    }
   ],
   "source": [
    "print(f\"Highest model accuracy is {round(max(train.history['val_accuracy'])*100,2)}% \\\n",
    "which occurs at {train.history['val_accuracy'].index(max(train.history['val_accuracy']))} epochs.\")\n",
    "     "
   ]
  },
  {
   "cell_type": "markdown",
   "id": "62aea7b0",
   "metadata": {},
   "source": [
    "--- "
   ]
  },
  {
   "cell_type": "markdown",
   "id": "1093b079",
   "metadata": {},
   "source": [
    "### Plotting Models"
   ]
  },
  {
   "cell_type": "markdown",
   "id": "f1f8d2a5",
   "metadata": {},
   "source": [
    "#### 7.5k Embeddings -"
   ]
  },
  {
   "cell_type": "code",
   "execution_count": 9,
   "id": "74598a85",
   "metadata": {
    "scrolled": true
   },
   "outputs": [
    {
     "name": "stdout",
     "output_type": "stream",
     "text": [
      "Epoch 1/20\n",
      "10/10 [==============================] - 11s 802ms/step - loss: 1.4925 - accuracy: 0.2496 - val_loss: 1.4131 - val_accuracy: 0.2583\n",
      "Epoch 2/20\n",
      "10/10 [==============================] - 6s 609ms/step - loss: 1.3768 - accuracy: 0.3031 - val_loss: 1.3918 - val_accuracy: 0.2842\n",
      "Epoch 3/20\n",
      "10/10 [==============================] - 5s 550ms/step - loss: 1.3499 - accuracy: 0.3246 - val_loss: 1.3860 - val_accuracy: 0.3158\n",
      "Epoch 4/20\n",
      "10/10 [==============================] - 5s 518ms/step - loss: 1.3251 - accuracy: 0.3540 - val_loss: 1.3962 - val_accuracy: 0.2825\n",
      "Epoch 5/20\n",
      "10/10 [==============================] - 5s 497ms/step - loss: 1.3027 - accuracy: 0.3840 - val_loss: 1.4056 - val_accuracy: 0.2992\n",
      "Epoch 6/20\n",
      "10/10 [==============================] - 6s 572ms/step - loss: 1.2803 - accuracy: 0.4008 - val_loss: 1.4164 - val_accuracy: 0.2792\n",
      "Epoch 7/20\n",
      "10/10 [==============================] - 6s 589ms/step - loss: 1.2532 - accuracy: 0.4223 - val_loss: 1.4207 - val_accuracy: 0.2992\n",
      "Epoch 8/20\n",
      "10/10 [==============================] - 5s 524ms/step - loss: 1.2284 - accuracy: 0.4510 - val_loss: 1.4415 - val_accuracy: 0.2817\n",
      "Epoch 9/20\n",
      "10/10 [==============================] - 5s 537ms/step - loss: 1.2011 - accuracy: 0.4704 - val_loss: 1.4402 - val_accuracy: 0.2942\n",
      "Epoch 10/20\n",
      "10/10 [==============================] - 6s 590ms/step - loss: 1.1771 - accuracy: 0.4787 - val_loss: 1.4478 - val_accuracy: 0.2942\n",
      "Epoch 11/20\n",
      "10/10 [==============================] - 5s 485ms/step - loss: 1.1506 - accuracy: 0.5027 - val_loss: 1.4885 - val_accuracy: 0.2692\n",
      "Epoch 12/20\n",
      "10/10 [==============================] - 5s 474ms/step - loss: 1.1206 - accuracy: 0.5254 - val_loss: 1.4799 - val_accuracy: 0.2808\n",
      "Epoch 13/20\n",
      "10/10 [==============================] - 6s 566ms/step - loss: 1.0929 - accuracy: 0.5427 - val_loss: 1.5111 - val_accuracy: 0.2783\n",
      "Epoch 14/20\n",
      "10/10 [==============================] - 6s 561ms/step - loss: 1.0526 - accuracy: 0.5752 - val_loss: 1.5179 - val_accuracy: 0.2808\n",
      "Epoch 15/20\n",
      "10/10 [==============================] - 5s 544ms/step - loss: 1.0105 - accuracy: 0.6077 - val_loss: 1.5448 - val_accuracy: 0.2742\n",
      "Epoch 16/20\n",
      "10/10 [==============================] - 5s 508ms/step - loss: 0.9776 - accuracy: 0.6227 - val_loss: 1.5544 - val_accuracy: 0.2850\n",
      "Epoch 17/20\n",
      "10/10 [==============================] - 5s 526ms/step - loss: 0.9334 - accuracy: 0.6475 - val_loss: 1.6246 - val_accuracy: 0.2717\n",
      "Epoch 18/20\n",
      "10/10 [==============================] - 6s 583ms/step - loss: 0.9083 - accuracy: 0.6515 - val_loss: 1.6207 - val_accuracy: 0.2733\n",
      "Epoch 19/20\n",
      "10/10 [==============================] - 5s 506ms/step - loss: 0.8575 - accuracy: 0.6819 - val_loss: 1.6706 - val_accuracy: 0.2700\n",
      "Epoch 20/20\n",
      "10/10 [==============================] - 5s 532ms/step - loss: 0.8065 - accuracy: 0.7115 - val_loss: 1.7600 - val_accuracy: 0.2925\n"
     ]
    },
    {
     "data": {
      "image/png": "[encoded data removed]",
      "text/plain": [
       "<Figure size 432x288 with 1 Axes>"
      ]
     },
     "metadata": {
      "needs_background": "light"
     },
     "output_type": "display_data"
    }
   ],
   "source": [
    "inputs = tf.keras.layers.Input(shape=(264,768))\n",
    "RNN = tf.keras.layers.SimpleRNN(100)(inputs)\n",
    "classification_out = tf.keras.layers.Dense(4, activation='softmax')(RNN)\n",
    "\n",
    "model = tf.keras.models.Model(inputs=inputs, outputs=classification_out)\n",
    "model.compile(loss=tf.keras.losses.SparseCategoricalCrossentropy(), \n",
    "              optimizer='adam', \n",
    "              metrics=['accuracy'])\n",
    "\n",
    "train = model.fit(train_X, train_y, epochs=20, batch_size=512, validation_split=0.2)\n"
   ]
  },
  {
   "cell_type": "code",
   "execution_count": 12,
   "id": "d7a116be",
   "metadata": {},
   "outputs": [
    {
     "data": {
      "image/png": "[encoded data removed]",
      "text/plain": [
       "<Figure size 432x288 with 1 Axes>"
      ]
     },
     "metadata": {
      "needs_background": "light"
     },
     "output_type": "display_data"
    }
   ],
   "source": [
    "plt.plot(train.history['accuracy'])\n",
    "plt.plot(train.history['val_accuracy'])\n",
    "plt.title('Model accuracy')\n",
    "plt.ylabel('Accuracy')\n",
    "plt.xlabel('Epoch')\n",
    "plt.legend(['train', 'validation'], loc='upper left')\n",
    "plt.show()"
   ]
  },
  {
   "cell_type": "code",
   "execution_count": 10,
   "id": "aa65b358",
   "metadata": {},
   "outputs": [
    {
     "name": "stdout",
     "output_type": "stream",
     "text": [
      "Highest model accuracy is 31.58% which occurs at 2 epochs.\n"
     ]
    }
   ],
   "source": [
    "print(f\"Highest model accuracy is {round(max(train.history['val_accuracy'])*100,2)}% \\\n",
    "which occurs at {train.history['val_accuracy'].index(max(train.history['val_accuracy']))} epochs.\")\n",
    "     "
   ]
  },
  {
   "cell_type": "markdown",
   "id": "ca3d5e99",
   "metadata": {},
   "source": [
    "---"
   ]
  },
  {
   "cell_type": "code",
   "execution_count": 14,
   "id": "e0c1faa6",
   "metadata": {
    "scrolled": true
   },
   "outputs": [
    {
     "name": "stdout",
     "output_type": "stream",
     "text": [
      "Epoch 1/20\n",
      "10/10 [==============================] - 10s 862ms/step - loss: 1.4876 - accuracy: 0.2692 - val_loss: 1.4196 - val_accuracy: 0.2642\n",
      "Epoch 2/20\n",
      "10/10 [==============================] - 8s 765ms/step - loss: 1.3922 - accuracy: 0.2904 - val_loss: 1.3843 - val_accuracy: 0.2750\n",
      "Epoch 3/20\n",
      "10/10 [==============================] - 7s 678ms/step - loss: 1.3678 - accuracy: 0.3092 - val_loss: 1.3764 - val_accuracy: 0.2983\n",
      "Epoch 4/20\n",
      "10/10 [==============================] - 7s 706ms/step - loss: 1.3496 - accuracy: 0.3321 - val_loss: 1.3880 - val_accuracy: 0.3058\n",
      "Epoch 5/20\n",
      "10/10 [==============================] - 7s 719ms/step - loss: 1.3306 - accuracy: 0.3552 - val_loss: 1.3866 - val_accuracy: 0.3017\n",
      "Epoch 6/20\n",
      "10/10 [==============================] - 7s 736ms/step - loss: 1.3026 - accuracy: 0.3796 - val_loss: 1.3887 - val_accuracy: 0.3083\n",
      "Epoch 7/20\n",
      "10/10 [==============================] - 9s 894ms/step - loss: 1.2854 - accuracy: 0.3927 - val_loss: 1.3987 - val_accuracy: 0.2875\n",
      "Epoch 8/20\n",
      "10/10 [==============================] - 8s 788ms/step - loss: 1.2670 - accuracy: 0.4038 - val_loss: 1.4079 - val_accuracy: 0.2817\n",
      "Epoch 9/20\n",
      "10/10 [==============================] - 8s 783ms/step - loss: 1.2383 - accuracy: 0.4319 - val_loss: 1.4123 - val_accuracy: 0.3008\n",
      "Epoch 10/20\n",
      "10/10 [==============================] - 7s 710ms/step - loss: 1.2095 - accuracy: 0.4527 - val_loss: 1.4293 - val_accuracy: 0.2858\n",
      "Epoch 11/20\n",
      "10/10 [==============================] - 8s 763ms/step - loss: 1.1630 - accuracy: 0.4881 - val_loss: 1.4452 - val_accuracy: 0.2958\n",
      "Epoch 12/20\n",
      "10/10 [==============================] - 8s 764ms/step - loss: 1.1356 - accuracy: 0.5025 - val_loss: 1.4518 - val_accuracy: 0.2858\n",
      "Epoch 13/20\n",
      "10/10 [==============================] - 8s 843ms/step - loss: 1.0971 - accuracy: 0.5315 - val_loss: 1.4759 - val_accuracy: 0.2958\n",
      "Epoch 14/20\n",
      "10/10 [==============================] - 7s 721ms/step - loss: 1.0542 - accuracy: 0.5515 - val_loss: 1.5116 - val_accuracy: 0.2975\n",
      "Epoch 15/20\n",
      "10/10 [==============================] - 7s 669ms/step - loss: 1.0211 - accuracy: 0.5704 - val_loss: 1.5265 - val_accuracy: 0.2783\n",
      "Epoch 16/20\n",
      "10/10 [==============================] - 7s 683ms/step - loss: 0.9742 - accuracy: 0.5938 - val_loss: 1.5553 - val_accuracy: 0.2892\n",
      "Epoch 17/20\n",
      "10/10 [==============================] - 8s 778ms/step - loss: 0.9347 - accuracy: 0.6148 - val_loss: 1.5679 - val_accuracy: 0.2992\n",
      "Epoch 18/20\n",
      "10/10 [==============================] - 8s 772ms/step - loss: 0.8877 - accuracy: 0.6440 - val_loss: 1.6192 - val_accuracy: 0.2942\n",
      "Epoch 19/20\n",
      "10/10 [==============================] - 8s 779ms/step - loss: 0.8794 - accuracy: 0.6421 - val_loss: 1.6510 - val_accuracy: 0.2800\n",
      "Epoch 20/20\n",
      "10/10 [==============================] - 7s 650ms/step - loss: 0.8195 - accuracy: 0.6710 - val_loss: 1.6895 - val_accuracy: 0.2775\n"
     ]
    }
   ],
   "source": [
    "inputs = tf.keras.layers.Input(shape=(264,768))\n",
    "hidden_layer_1 = tf.keras.layers.Dense(200, activation='relu')(inputs)\n",
    "dropout1 = tf.keras.layers.Dropout(0.2)(hidden_layer_1)\n",
    "RNN = tf.keras.layers.SimpleRNN(100)(dropout1)\n",
    "classification_out = tf.keras.layers.Dense(4, activation='softmax')(RNN)\n",
    "\n",
    "model = tf.keras.models.Model(inputs=inputs, outputs=classification_out)\n",
    "model.compile(loss=tf.keras.losses.SparseCategoricalCrossentropy(), \n",
    "              optimizer='adam', \n",
    "              metrics=['accuracy'])\n",
    "\n",
    "train = model.fit(train_X, train_y, epochs=20, batch_size=512, validation_split=0.2)\n"
   ]
  },
  {
   "cell_type": "code",
   "execution_count": 15,
   "id": "13acf68f",
   "metadata": {},
   "outputs": [
    {
     "data": {
      "image/png": "[encoded data removed]",
      "text/plain": [
       "<Figure size 432x288 with 1 Axes>"
      ]
     },
     "metadata": {
      "needs_background": "light"
     },
     "output_type": "display_data"
    }
   ],
   "source": [
    "plt.plot(train.history['accuracy'])\n",
    "plt.plot(train.history['val_accuracy'])\n",
    "plt.title('Model accuracy')\n",
    "plt.ylabel('Accuracy')\n",
    "plt.xlabel('Epoch')\n",
    "plt.legend(['train', 'validation'], loc='upper left')\n",
    "plt.show()"
   ]
  },
  {
   "cell_type": "code",
   "execution_count": 16,
   "id": "32ab3d45",
   "metadata": {},
   "outputs": [
    {
     "name": "stdout",
     "output_type": "stream",
     "text": [
      "Highest model accuracy is 30.83% which occurs at 5 epochs.\n"
     ]
    }
   ],
   "source": [
    "print(f\"Highest model accuracy is {round(max(train.history['val_accuracy'])*100,2)}% \\\n",
    "which occurs at {train.history['val_accuracy'].index(max(train.history['val_accuracy']))} epochs.\")\n",
    "     "
   ]
  },
  {
   "cell_type": "markdown",
   "id": "4149dd15",
   "metadata": {},
   "source": [
    "---"
   ]
  },
  {
   "cell_type": "code",
   "execution_count": 18,
   "id": "12755e8c",
   "metadata": {
    "scrolled": true
   },
   "outputs": [
    {
     "name": "stdout",
     "output_type": "stream",
     "text": [
      "Epoch 1/20\n",
      "10/10 [==============================] - 7s 565ms/step - loss: 1.5514 - accuracy: 0.2508 - val_loss: 1.4518 - val_accuracy: 0.2608\n",
      "Epoch 2/20\n",
      "10/10 [==============================] - 4s 364ms/step - loss: 1.4230 - accuracy: 0.2681 - val_loss: 1.4095 - val_accuracy: 0.2708\n",
      "Epoch 3/20\n",
      "10/10 [==============================] - 4s 371ms/step - loss: 1.3911 - accuracy: 0.2806 - val_loss: 1.3985 - val_accuracy: 0.2642\n",
      "Epoch 4/20\n",
      "10/10 [==============================] - 3s 340ms/step - loss: 1.3794 - accuracy: 0.2906 - val_loss: 1.3942 - val_accuracy: 0.2767\n",
      "Epoch 5/20\n",
      "10/10 [==============================] - 3s 322ms/step - loss: 1.3735 - accuracy: 0.2935 - val_loss: 1.3920 - val_accuracy: 0.2725\n",
      "Epoch 6/20\n",
      "10/10 [==============================] - 3s 323ms/step - loss: 1.3672 - accuracy: 0.3054 - val_loss: 1.3916 - val_accuracy: 0.2867\n",
      "Epoch 7/20\n",
      "10/10 [==============================] - 3s 327ms/step - loss: 1.3618 - accuracy: 0.3108 - val_loss: 1.3923 - val_accuracy: 0.2817\n",
      "Epoch 8/20\n",
      "10/10 [==============================] - 3s 309ms/step - loss: 1.3560 - accuracy: 0.3179 - val_loss: 1.3934 - val_accuracy: 0.2783\n",
      "Epoch 9/20\n",
      "10/10 [==============================] - 3s 358ms/step - loss: 1.3502 - accuracy: 0.3275 - val_loss: 1.3952 - val_accuracy: 0.2825\n",
      "Epoch 10/20\n",
      "10/10 [==============================] - 4s 373ms/step - loss: 1.3449 - accuracy: 0.3313 - val_loss: 1.3965 - val_accuracy: 0.2933\n",
      "Epoch 11/20\n",
      "10/10 [==============================] - 3s 343ms/step - loss: 1.3391 - accuracy: 0.3469 - val_loss: 1.3985 - val_accuracy: 0.2775\n",
      "Epoch 12/20\n",
      "10/10 [==============================] - 4s 369ms/step - loss: 1.3334 - accuracy: 0.3515 - val_loss: 1.3993 - val_accuracy: 0.2867\n",
      "Epoch 13/20\n",
      "10/10 [==============================] - 4s 387ms/step - loss: 1.3268 - accuracy: 0.3550 - val_loss: 1.4020 - val_accuracy: 0.2900\n",
      "Epoch 14/20\n",
      "10/10 [==============================] - 4s 378ms/step - loss: 1.3201 - accuracy: 0.3625 - val_loss: 1.4031 - val_accuracy: 0.2842\n",
      "Epoch 15/20\n",
      "10/10 [==============================] - 3s 317ms/step - loss: 1.3139 - accuracy: 0.3669 - val_loss: 1.4046 - val_accuracy: 0.2858\n",
      "Epoch 16/20\n",
      "10/10 [==============================] - 3s 313ms/step - loss: 1.3076 - accuracy: 0.3790 - val_loss: 1.4060 - val_accuracy: 0.2792\n",
      "Epoch 17/20\n",
      "10/10 [==============================] - 3s 324ms/step - loss: 1.3009 - accuracy: 0.3790 - val_loss: 1.4080 - val_accuracy: 0.2850\n",
      "Epoch 18/20\n",
      "10/10 [==============================] - 3s 332ms/step - loss: 1.2947 - accuracy: 0.3871 - val_loss: 1.4100 - val_accuracy: 0.2875\n",
      "Epoch 19/20\n",
      "10/10 [==============================] - 3s 324ms/step - loss: 1.2867 - accuracy: 0.3981 - val_loss: 1.4154 - val_accuracy: 0.2783\n",
      "Epoch 20/20\n",
      "10/10 [==============================] - 3s 318ms/step - loss: 1.2818 - accuracy: 0.3981 - val_loss: 1.4114 - val_accuracy: 0.2758\n"
     ]
    }
   ],
   "source": [
    "inputs = tf.keras.layers.Input(shape=(264,768))\n",
    "RNN = tf.keras.layers.SimpleRNN(10)(inputs)\n",
    "classification_out = tf.keras.layers.Dense(4, activation='softmax')(RNN)\n",
    "\n",
    "model = tf.keras.models.Model(inputs=inputs, outputs=classification_out)\n",
    "model.compile(loss=tf.keras.losses.SparseCategoricalCrossentropy(), \n",
    "              optimizer='adam', \n",
    "              metrics=['accuracy'])\n",
    "\n",
    "train = model.fit(train_X, train_y, epochs=20, batch_size=512, validation_split=0.2)\n"
   ]
  },
  {
   "cell_type": "code",
   "execution_count": 19,
   "id": "9bc620e3",
   "metadata": {},
   "outputs": [
    {
     "data": {
      "image/png": "[encoded data removed]",
      "text/plain": [
       "<Figure size 432x288 with 1 Axes>"
      ]
     },
     "metadata": {
      "needs_background": "light"
     },
     "output_type": "display_data"
    }
   ],
   "source": [
    "plt.plot(train.history['accuracy'])\n",
    "plt.plot(train.history['val_accuracy'])\n",
    "plt.title('Model accuracy')\n",
    "plt.ylabel('Accuracy')\n",
    "plt.xlabel('Epoch')\n",
    "plt.legend(['train', 'validation'], loc='upper left')\n",
    "plt.show()"
   ]
  },
  {
   "cell_type": "code",
   "execution_count": 20,
   "id": "75280f5e",
   "metadata": {},
   "outputs": [
    {
     "name": "stdout",
     "output_type": "stream",
     "text": [
      "Highest model accuracy is 29.33% which occurs at 9 epochs.\n"
     ]
    }
   ],
   "source": [
    "print(f\"Highest model accuracy is {round(max(train.history['val_accuracy'])*100,2)}% \\\n",
    "which occurs at {train.history['val_accuracy'].index(max(train.history['val_accuracy']))} epochs.\")\n",
    "     "
   ]
  },
  {
   "cell_type": "markdown",
   "id": "98b6deda",
   "metadata": {},
   "source": [
    "---"
   ]
  },
  {
   "cell_type": "markdown",
   "id": "48fef395",
   "metadata": {},
   "source": [
    "#### 22k Embeddings"
   ]
  },
  {
   "cell_type": "code",
   "execution_count": 11,
   "id": "7cf95ec6",
   "metadata": {
    "scrolled": true
   },
   "outputs": [
    {
     "name": "stdout",
     "output_type": "stream",
     "text": [
      "Epoch 1/20\n",
      "29/29 [==============================] - 45s 1s/step - loss: 1.4875 - accuracy: 0.2656 - val_loss: 1.3851 - val_accuracy: 0.2897\n",
      "Epoch 2/20\n",
      "29/29 [==============================] - 38s 1s/step - loss: 1.3727 - accuracy: 0.2958 - val_loss: 1.3760 - val_accuracy: 0.2933\n",
      "Epoch 3/20\n",
      "29/29 [==============================] - 38s 1s/step - loss: 1.3610 - accuracy: 0.3101 - val_loss: 1.3657 - val_accuracy: 0.3069\n",
      "Epoch 4/20\n",
      "29/29 [==============================] - 38s 1s/step - loss: 1.3507 - accuracy: 0.3281 - val_loss: 1.3696 - val_accuracy: 0.3064\n",
      "Epoch 5/20\n",
      "29/29 [==============================] - 38s 1s/step - loss: 1.3313 - accuracy: 0.3562 - val_loss: 1.3712 - val_accuracy: 0.3203\n",
      "Epoch 6/20\n",
      "29/29 [==============================] - 38s 1s/step - loss: 1.3179 - accuracy: 0.3665 - val_loss: 1.3739 - val_accuracy: 0.3164\n",
      "Epoch 7/20\n",
      "29/29 [==============================] - 39s 1s/step - loss: 1.3043 - accuracy: 0.3762 - val_loss: 1.3895 - val_accuracy: 0.3014\n",
      "Epoch 8/20\n",
      "29/29 [==============================] - 38s 1s/step - loss: 1.2815 - accuracy: 0.3944 - val_loss: 1.4350 - val_accuracy: 0.2944\n",
      "Epoch 9/20\n",
      "29/29 [==============================] - 37s 1s/step - loss: 1.2614 - accuracy: 0.4022 - val_loss: 1.4072 - val_accuracy: 0.3039\n",
      "Epoch 10/20\n",
      "29/29 [==============================] - 37s 1s/step - loss: 1.2360 - accuracy: 0.4238 - val_loss: 1.4093 - val_accuracy: 0.3119\n",
      "Epoch 11/20\n",
      "29/29 [==============================] - 38s 1s/step - loss: 1.2011 - accuracy: 0.4524 - val_loss: 1.4382 - val_accuracy: 0.2919\n",
      "Epoch 12/20\n",
      "29/29 [==============================] - 38s 1s/step - loss: 1.1694 - accuracy: 0.4670 - val_loss: 1.4637 - val_accuracy: 0.3000\n",
      "Epoch 13/20\n",
      "29/29 [==============================] - 38s 1s/step - loss: 1.1382 - accuracy: 0.4853 - val_loss: 1.4770 - val_accuracy: 0.3050\n",
      "Epoch 14/20\n",
      "29/29 [==============================] - 38s 1s/step - loss: 1.0975 - accuracy: 0.5121 - val_loss: 1.4990 - val_accuracy: 0.2981\n",
      "Epoch 15/20\n",
      "29/29 [==============================] - 38s 1s/step - loss: 1.0679 - accuracy: 0.5252 - val_loss: 1.5852 - val_accuracy: 0.2869\n",
      "Epoch 16/20\n",
      "29/29 [==============================] - 37s 1s/step - loss: 1.0444 - accuracy: 0.5328 - val_loss: 1.5933 - val_accuracy: 0.2947\n",
      "Epoch 17/20\n",
      "29/29 [==============================] - 37s 1s/step - loss: 1.0101 - accuracy: 0.5511 - val_loss: 1.6032 - val_accuracy: 0.2933\n",
      "Epoch 18/20\n",
      "29/29 [==============================] - 37s 1s/step - loss: 0.9713 - accuracy: 0.5774 - val_loss: 1.6439 - val_accuracy: 0.2842\n",
      "Epoch 19/20\n",
      "29/29 [==============================] - 37s 1s/step - loss: 0.9447 - accuracy: 0.5815 - val_loss: 1.6655 - val_accuracy: 0.2908\n",
      "Epoch 20/20\n",
      "29/29 [==============================] - 37s 1s/step - loss: 0.9139 - accuracy: 0.6009 - val_loss: 1.7265 - val_accuracy: 0.2861\n"
     ]
    }
   ],
   "source": [
    "inputs = tf.keras.layers.Input(shape=(264,768))\n",
    "hidden_layer_1 = tf.keras.layers.Dense(700, activation='relu')(inputs)\n",
    "dropout1 = tf.keras.layers.Dropout(0.2)(hidden_layer_1)\n",
    "RNN = tf.keras.layers.SimpleRNN(100)(dropout1)\n",
    "classification_out = tf.keras.layers.Dense(4, activation='softmax')(RNN)\n",
    "\n",
    "model = tf.keras.models.Model(inputs=inputs, outputs=classification_out)\n",
    "model.compile(loss=tf.keras.losses.SparseCategoricalCrossentropy(), \n",
    "              optimizer='adam', \n",
    "              metrics=['accuracy'])\n",
    "\n",
    "train = model.fit(train_X, train_y, epochs=20, batch_size=512, validation_split=0.2)\n"
   ]
  },
  {
   "cell_type": "code",
   "execution_count": 12,
   "id": "7f576b0f",
   "metadata": {},
   "outputs": [
    {
     "data": {
      "image/png": "[encoded data removed]",
      "text/plain": [
       "<Figure size 432x288 with 1 Axes>"
      ]
     },
     "metadata": {
      "needs_background": "light"
     },
     "output_type": "display_data"
    }
   ],
   "source": [
    "plt.plot(train.history['accuracy'])\n",
    "plt.plot(train.history['val_accuracy'])\n",
    "plt.title('Model accuracy')\n",
    "plt.ylabel('Accuracy')\n",
    "plt.xlabel('Epoch')\n",
    "plt.legend(['train', 'validation'], loc='upper left')\n",
    "plt.show()"
   ]
  },
  {
   "cell_type": "code",
   "execution_count": 13,
   "id": "3822db43",
   "metadata": {},
   "outputs": [
    {
     "name": "stdout",
     "output_type": "stream",
     "text": [
      "Highest model accuracy is 32.03% which occurs at 4 epochs.\n"
     ]
    }
   ],
   "source": [
    "print(f\"Highest model accuracy is {round(max(train.history['val_accuracy'])*100,2)}% \\\n",
    "which occurs at {train.history['val_accuracy'].index(max(train.history['val_accuracy']))} epochs.\")\n",
    "     "
   ]
  },
  {
   "cell_type": "markdown",
   "id": "92de3529",
   "metadata": {},
   "source": [
    "---"
   ]
  },
  {
   "cell_type": "code",
   "execution_count": 15,
   "id": "f4ab5243",
   "metadata": {
    "scrolled": true
   },
   "outputs": [
    {
     "name": "stdout",
     "output_type": "stream",
     "text": [
      "Epoch 1/20\n",
      "29/29 [==============================] - 18s 578ms/step - loss: 1.4447 - accuracy: 0.2699 - val_loss: 1.3920 - val_accuracy: 0.2892\n",
      "Epoch 2/20\n",
      "29/29 [==============================] - 12s 425ms/step - loss: 1.3690 - accuracy: 0.3066 - val_loss: 1.3826 - val_accuracy: 0.2858\n",
      "Epoch 3/20\n",
      "29/29 [==============================] - 12s 429ms/step - loss: 1.3499 - accuracy: 0.3335 - val_loss: 1.3729 - val_accuracy: 0.2928\n",
      "Epoch 4/20\n",
      "29/29 [==============================] - 12s 415ms/step - loss: 1.3354 - accuracy: 0.3454 - val_loss: 1.3762 - val_accuracy: 0.3006\n",
      "Epoch 5/20\n",
      "29/29 [==============================] - 12s 419ms/step - loss: 1.3182 - accuracy: 0.3665 - val_loss: 1.3893 - val_accuracy: 0.2947\n",
      "Epoch 6/20\n",
      "29/29 [==============================] - 12s 420ms/step - loss: 1.3055 - accuracy: 0.3753 - val_loss: 1.3990 - val_accuracy: 0.2825\n",
      "Epoch 7/20\n",
      "29/29 [==============================] - 12s 424ms/step - loss: 1.2861 - accuracy: 0.3968 - val_loss: 1.3861 - val_accuracy: 0.3003\n",
      "Epoch 8/20\n",
      "29/29 [==============================] - 12s 424ms/step - loss: 1.2688 - accuracy: 0.4084 - val_loss: 1.3920 - val_accuracy: 0.2928\n",
      "Epoch 9/20\n",
      "29/29 [==============================] - 12s 423ms/step - loss: 1.2478 - accuracy: 0.4272 - val_loss: 1.4044 - val_accuracy: 0.2944\n",
      "Epoch 10/20\n",
      "29/29 [==============================] - 16s 561ms/step - loss: 1.2244 - accuracy: 0.4449 - val_loss: 1.4101 - val_accuracy: 0.2944\n",
      "Epoch 11/20\n",
      "29/29 [==============================] - 12s 427ms/step - loss: 1.2088 - accuracy: 0.4532 - val_loss: 1.4253 - val_accuracy: 0.2950\n",
      "Epoch 12/20\n",
      "29/29 [==============================] - 12s 424ms/step - loss: 1.1818 - accuracy: 0.4755 - val_loss: 1.4284 - val_accuracy: 0.3003\n",
      "Epoch 13/20\n",
      "29/29 [==============================] - 12s 425ms/step - loss: 1.1535 - accuracy: 0.4935 - val_loss: 1.4516 - val_accuracy: 0.2933\n",
      "Epoch 14/20\n",
      "29/29 [==============================] - 12s 424ms/step - loss: 1.1275 - accuracy: 0.5120 - val_loss: 1.4687 - val_accuracy: 0.3039\n",
      "Epoch 15/20\n",
      "29/29 [==============================] - 12s 429ms/step - loss: 1.0997 - accuracy: 0.5274 - val_loss: 1.4934 - val_accuracy: 0.2961\n",
      "Epoch 16/20\n",
      "29/29 [==============================] - 12s 423ms/step - loss: 1.0657 - accuracy: 0.5472 - val_loss: 1.5109 - val_accuracy: 0.2928\n",
      "Epoch 17/20\n",
      "29/29 [==============================] - 12s 429ms/step - loss: 1.0316 - accuracy: 0.5626 - val_loss: 1.5525 - val_accuracy: 0.2856\n",
      "Epoch 18/20\n",
      "29/29 [==============================] - 12s 431ms/step - loss: 0.9987 - accuracy: 0.5837 - val_loss: 1.5797 - val_accuracy: 0.2911\n",
      "Epoch 19/20\n",
      "29/29 [==============================] - 12s 429ms/step - loss: 0.9692 - accuracy: 0.5917 - val_loss: 1.6080 - val_accuracy: 0.2875\n",
      "Epoch 20/20\n",
      "29/29 [==============================] - 12s 418ms/step - loss: 0.9328 - accuracy: 0.6105 - val_loss: 1.6437 - val_accuracy: 0.2986\n"
     ]
    }
   ],
   "source": [
    "inputs = tf.keras.layers.Input(shape=(264,768))\n",
    "RNN = tf.keras.layers.SimpleRNN(100)(inputs)\n",
    "classification_out = tf.keras.layers.Dense(4, activation='softmax')(RNN)\n",
    "\n",
    "model = tf.keras.models.Model(inputs=inputs, outputs=classification_out)\n",
    "model.compile(loss=tf.keras.losses.SparseCategoricalCrossentropy(), \n",
    "              optimizer='adam', \n",
    "              metrics=['accuracy'])\n",
    "\n",
    "train = model.fit(train_X, train_y, epochs=20, batch_size=512, validation_split=0.2)\n"
   ]
  },
  {
   "cell_type": "code",
   "execution_count": 16,
   "id": "5957fb8d",
   "metadata": {},
   "outputs": [
    {
     "data": {
      "image/png": "[encoded data removed]",
      "text/plain": [
       "<Figure size 432x288 with 1 Axes>"
      ]
     },
     "metadata": {
      "needs_background": "light"
     },
     "output_type": "display_data"
    }
   ],
   "source": [
    "plt.plot(train.history['accuracy'])\n",
    "plt.plot(train.history['val_accuracy'])\n",
    "plt.title('Model accuracy')\n",
    "plt.ylabel('Accuracy')\n",
    "plt.xlabel('Epoch')\n",
    "plt.legend(['train', 'validation'], loc='upper left')\n",
    "plt.show()"
   ]
  },
  {
   "cell_type": "code",
   "execution_count": 17,
   "id": "d4495fa8",
   "metadata": {},
   "outputs": [
    {
     "name": "stdout",
     "output_type": "stream",
     "text": [
      "Highest model accuracy is 30.39% which occurs at 13 epochs.\n"
     ]
    }
   ],
   "source": [
    "print(f\"Highest model accuracy is {round(max(train.history['val_accuracy'])*100,2)}% \\\n",
    "which occurs at {train.history['val_accuracy'].index(max(train.history['val_accuracy']))} epochs.\")"
   ]
  },
  {
   "cell_type": "code",
   "execution_count": null,
   "id": "fffc03aa",
   "metadata": {},
   "outputs": [],
   "source": []
  }
 ],
 "metadata": {
  "kernelspec": {
   "display_name": "Python 3",
   "language": "python",
   "name": "python3"
  },
  "language_info": {
   "codemirror_mode": {
    "name": "ipython",
    "version": 3
   },
   "file_extension": ".py",
   "mimetype": "text/x-python",
   "name": "python",
   "nbconvert_exporter": "python",
   "pygments_lexer": "ipython3",
   "version": "3.8.8"
  }
 },
 "nbformat": 4,
 "nbformat_minor": 5
}
