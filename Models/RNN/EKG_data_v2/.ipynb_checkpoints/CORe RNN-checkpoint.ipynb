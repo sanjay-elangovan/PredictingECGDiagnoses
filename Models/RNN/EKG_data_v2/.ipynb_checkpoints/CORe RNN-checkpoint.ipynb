{
 "cells": [
  {
   "cell_type": "code",
   "execution_count": 53,
   "id": "7a3a7766",
   "metadata": {},
   "outputs": [],
   "source": [
    "from keras.models import Sequential\n",
    "from keras.layers import Dense, SimpleRNN, LSTM, Dropout\n",
    "import pickle\n",
    "import pandas as pd\n",
    "import numpy as np\n",
    "from sklearn.model_selection import train_test_split\n",
    "import tensorflow as tf\n",
    "import matplotlib.pyplot as plt\n"
   ]
  },
  {
   "cell_type": "markdown",
   "id": "d07e651a",
   "metadata": {},
   "source": [
    "## Loading Data"
   ]
  },
  {
   "cell_type": "markdown",
   "id": "6e81bc4d",
   "metadata": {},
   "source": [
    "### Spacy Embeddings"
   ]
  },
  {
   "cell_type": "code",
   "execution_count": 2,
   "id": "272f6ec1",
   "metadata": {},
   "outputs": [],
   "source": [
    "embeddings = np.load('/home/sanjaycollege15/PredictingDiagnoses/Data/ekg_denoised_CORe_embeddings.npy')\n",
    "labels = np.load('/home/sanjaycollege15/PredictingDiagnoses/Data/ekg_denoised_CORe_labels.npy')\n"
   ]
  },
  {
   "cell_type": "markdown",
   "id": "7f6b9142",
   "metadata": {},
   "source": [
    "### Train/Dev/Test/Split"
   ]
  },
  {
   "cell_type": "code",
   "execution_count": 3,
   "id": "9db78f38",
   "metadata": {},
   "outputs": [],
   "source": [
    "train_X, test_X, train_y, test_y = train_test_split(embeddings, labels, test_size=0.20, random_state=42)\n",
    "del embeddings\n",
    "del labels"
   ]
  },
  {
   "cell_type": "code",
   "execution_count": 4,
   "id": "9d1d8160",
   "metadata": {},
   "outputs": [
    {
     "data": {
      "text/plain": [
       "(4000, 264, 768)"
      ]
     },
     "execution_count": 4,
     "metadata": {},
     "output_type": "execute_result"
    }
   ],
   "source": [
    "train_X.shape"
   ]
  },
  {
   "cell_type": "code",
   "execution_count": 52,
   "id": "460b98a8",
   "metadata": {},
   "outputs": [
    {
     "data": {
      "text/plain": [
       "(1000, 264, 768)"
      ]
     },
     "execution_count": 52,
     "metadata": {},
     "output_type": "execute_result"
    }
   ],
   "source": [
    "test_X.shape"
   ]
  },
  {
   "cell_type": "markdown",
   "id": "b49b7ea4",
   "metadata": {},
   "source": [
    "## Simple RNN Model"
   ]
  },
  {
   "cell_type": "code",
   "execution_count": 64,
   "id": "652c447f",
   "metadata": {},
   "outputs": [],
   "source": [
    "inputs = tf.keras.layers.Input(shape=(264,768))\n",
    "hidden_layer_1 = tf.keras.layers.Dense(700, activation='relu')(inputs)\n",
    "dropout1 = tf.keras.layers.Dropout(0.2)(hidden_layer_1)\n",
    "RNN = tf.keras.layers.SimpleRNN(100)(dropout1)\n",
    "classification_out = tf.keras.layers.Dense(4, activation='softmax')(RNN)\n",
    "\n",
    "model = tf.keras.models.Model(inputs=inputs, outputs=classification_out)\n",
    "model.compile(loss=tf.keras.losses.SparseCategoricalCrossentropy(), \n",
    "              optimizer='adam', \n",
    "              metrics=['accuracy'])"
   ]
  },
  {
   "cell_type": "code",
   "execution_count": 65,
   "id": "48b30422",
   "metadata": {},
   "outputs": [
    {
     "name": "stdout",
     "output_type": "stream",
     "text": [
      "Model: \"model_10\"\n",
      "_________________________________________________________________\n",
      " Layer (type)                Output Shape              Param #   \n",
      "=================================================================\n",
      " input_13 (InputLayer)       [(None, 264, 768)]        0         \n",
      "                                                                 \n",
      " dense_19 (Dense)            (None, 264, 700)          538300    \n",
      "                                                                 \n",
      " dropout_7 (Dropout)         (None, 264, 700)          0         \n",
      "                                                                 \n",
      " simple_rnn_14 (SimpleRNN)   (None, 100)               80100     \n",
      "                                                                 \n",
      " dense_20 (Dense)            (None, 4)                 404       \n",
      "                                                                 \n",
      "=================================================================\n",
      "Total params: 618,804\n",
      "Trainable params: 618,804\n",
      "Non-trainable params: 0\n",
      "_________________________________________________________________\n"
     ]
    }
   ],
   "source": [
    "model.summary()"
   ]
  },
  {
   "cell_type": "code",
   "execution_count": 66,
   "id": "4f5d1c35",
   "metadata": {
    "scrolled": true
   },
   "outputs": [
    {
     "name": "stdout",
     "output_type": "stream",
     "text": [
      "Epoch 1/20\n",
      "7/7 [==============================] - 12s 1s/step - loss: 1.9141 - accuracy: 0.2653 - val_loss: 1.5233 - val_accuracy: 0.2587\n",
      "Epoch 2/20\n",
      "7/7 [==============================] - 9s 1s/step - loss: 1.4422 - accuracy: 0.2766 - val_loss: 1.4102 - val_accuracy: 0.2875\n",
      "Epoch 3/20\n",
      "7/7 [==============================] - 9s 1s/step - loss: 1.3900 - accuracy: 0.2928 - val_loss: 1.4080 - val_accuracy: 0.2475\n",
      "Epoch 4/20\n",
      "7/7 [==============================] - 9s 1s/step - loss: 1.3701 - accuracy: 0.3122 - val_loss: 1.3882 - val_accuracy: 0.3013\n",
      "Epoch 5/20\n",
      "7/7 [==============================] - 9s 1s/step - loss: 1.3521 - accuracy: 0.3300 - val_loss: 1.3851 - val_accuracy: 0.2788\n",
      "Epoch 6/20\n",
      "7/7 [==============================] - 9s 1s/step - loss: 1.3398 - accuracy: 0.3422 - val_loss: 1.3853 - val_accuracy: 0.2962\n",
      "Epoch 7/20\n",
      "7/7 [==============================] - 9s 1s/step - loss: 1.3215 - accuracy: 0.3694 - val_loss: 1.3865 - val_accuracy: 0.2612\n",
      "Epoch 8/20\n",
      "7/7 [==============================] - 9s 1s/step - loss: 1.3034 - accuracy: 0.3834 - val_loss: 1.4035 - val_accuracy: 0.2775\n",
      "Epoch 9/20\n",
      "7/7 [==============================] - 9s 1s/step - loss: 1.2894 - accuracy: 0.3953 - val_loss: 1.4015 - val_accuracy: 0.2875\n",
      "Epoch 10/20\n",
      "7/7 [==============================] - 9s 1s/step - loss: 1.2729 - accuracy: 0.4028 - val_loss: 1.4019 - val_accuracy: 0.2862\n",
      "Epoch 11/20\n",
      "7/7 [==============================] - 9s 1s/step - loss: 1.2453 - accuracy: 0.4328 - val_loss: 1.4171 - val_accuracy: 0.2862\n",
      "Epoch 12/20\n",
      "7/7 [==============================] - 9s 1s/step - loss: 1.2192 - accuracy: 0.4531 - val_loss: 1.4169 - val_accuracy: 0.3050\n",
      "Epoch 13/20\n",
      "7/7 [==============================] - 9s 1s/step - loss: 1.1950 - accuracy: 0.4709 - val_loss: 1.4299 - val_accuracy: 0.3050\n",
      "Epoch 14/20\n",
      "7/7 [==============================] - 9s 1s/step - loss: 1.1590 - accuracy: 0.4834 - val_loss: 1.4437 - val_accuracy: 0.2837\n",
      "Epoch 15/20\n",
      "7/7 [==============================] - 9s 1s/step - loss: 1.1254 - accuracy: 0.5322 - val_loss: 1.4855 - val_accuracy: 0.3000\n",
      "Epoch 16/20\n",
      "7/7 [==============================] - 9s 1s/step - loss: 1.0957 - accuracy: 0.5278 - val_loss: 1.4790 - val_accuracy: 0.3050\n",
      "Epoch 17/20\n",
      "7/7 [==============================] - 9s 1s/step - loss: 1.0533 - accuracy: 0.5512 - val_loss: 1.5060 - val_accuracy: 0.2950\n",
      "Epoch 18/20\n",
      "7/7 [==============================] - 9s 1s/step - loss: 1.0250 - accuracy: 0.5766 - val_loss: 1.5558 - val_accuracy: 0.2837\n",
      "Epoch 19/20\n",
      "7/7 [==============================] - 9s 1s/step - loss: 1.0048 - accuracy: 0.5797 - val_loss: 1.5283 - val_accuracy: 0.3137\n",
      "Epoch 20/20\n",
      "7/7 [==============================] - 9s 1s/step - loss: 0.9443 - accuracy: 0.6166 - val_loss: 1.6099 - val_accuracy: 0.2800\n"
     ]
    }
   ],
   "source": [
    "train = model.fit(train_X, train_y, epochs=20, batch_size=512, validation_split=0.2)\n"
   ]
  },
  {
   "cell_type": "code",
   "execution_count": 67,
   "id": "ef6d3463",
   "metadata": {},
   "outputs": [
    {
     "name": "stdout",
     "output_type": "stream",
     "text": [
      "32/32 [==============================] - 1s 43ms/step - loss: 1.6077 - accuracy: 0.2530\n"
     ]
    },
    {
     "data": {
      "text/plain": [
       "[1.607657790184021, 0.2529999911785126]"
      ]
     },
     "execution_count": 67,
     "metadata": {},
     "output_type": "execute_result"
    }
   ],
   "source": [
    "model.evaluate(test_X, test_y)"
   ]
  },
  {
   "cell_type": "markdown",
   "id": "b280d442",
   "metadata": {},
   "source": [
    "Very poor accuracy (25% would be random chance). Even with the updated dataset, Spacy performs more poorly than the TF-IDF set. Could also be that the RNN model isn't very good. "
   ]
  },
  {
   "cell_type": "markdown",
   "id": "69060882",
   "metadata": {},
   "source": [
    "## Plotting"
   ]
  },
  {
   "cell_type": "code",
   "execution_count": 68,
   "id": "49a7e7b5",
   "metadata": {},
   "outputs": [
    {
     "data": {
      "image/png": "[encoded data removed]",
      "text/plain": [
       "<Figure size 432x288 with 1 Axes>"
      ]
     },
     "metadata": {
      "needs_background": "light"
     },
     "output_type": "display_data"
    }
   ],
   "source": [
    "plt.plot(train.history['accuracy'])\n",
    "plt.plot(train.history['val_accuracy'])\n",
    "plt.title('Model accuracy')\n",
    "plt.ylabel('Accuracy')\n",
    "plt.xlabel('Epoch')\n",
    "plt.legend(['train', 'validation'], loc='upper left')\n",
    "plt.show()"
   ]
  },
  {
   "cell_type": "code",
   "execution_count": null,
   "id": "19aa0439",
   "metadata": {},
   "outputs": [],
   "source": []
  }
 ],
 "metadata": {
  "kernelspec": {
   "display_name": "Python 3",
   "language": "python",
   "name": "python3"
  },
  "language_info": {
   "codemirror_mode": {
    "name": "ipython",
    "version": 3
   },
   "file_extension": ".py",
   "mimetype": "text/x-python",
   "name": "python",
   "nbconvert_exporter": "python",
   "pygments_lexer": "ipython3",
   "version": "3.8.8"
  }
 },
 "nbformat": 4,
 "nbformat_minor": 5
}
