{
 "cells": [
  {
   "cell_type": "code",
   "execution_count": 1,
   "id": "7a3a7766",
   "metadata": {},
   "outputs": [],
   "source": [
    "from keras.models import Sequential\n",
    "from keras.layers import Dense, SimpleRNN, LSTM, Dropout\n",
    "import pickle\n",
    "import pandas as pd\n",
    "import numpy as np\n",
    "from sklearn.model_selection import train_test_split\n",
    "import tensorflow as tf\n",
    "import matplotlib.pyplot as plt\n"
   ]
  },
  {
   "cell_type": "markdown",
   "id": "d07e651a",
   "metadata": {},
   "source": [
    "## Loading Data"
   ]
  },
  {
   "cell_type": "markdown",
   "id": "6e81bc4d",
   "metadata": {},
   "source": [
    "### CORe Embeddings"
   ]
  },
  {
   "cell_type": "code",
   "execution_count": 3,
   "id": "272f6ec1",
   "metadata": {},
   "outputs": [],
   "source": [
    "embeddings = np.load('/home/sanjaycollege15/PredictingDiagnoses/Data/ekg_denoised_CORe_embeddings_30k.npy')\n",
    "labels = np.load('/home/sanjaycollege15/PredictingDiagnoses/Data/ekg_denoised_CORe_labels_30k.npy')\n"
   ]
  },
  {
   "cell_type": "markdown",
   "id": "7f6b9142",
   "metadata": {},
   "source": [
    "### Train/Dev/Test/Split"
   ]
  },
  {
   "cell_type": "code",
   "execution_count": 5,
   "id": "9db78f38",
   "metadata": {},
   "outputs": [],
   "source": [
    "train_X, test_X, train_y, test_y = train_test_split(embeddings, labels, test_size=0.20, random_state=42)\n",
    "del embeddings\n",
    "del labels"
   ]
  },
  {
   "cell_type": "code",
   "execution_count": 6,
   "id": "9d1d8160",
   "metadata": {},
   "outputs": [
    {
     "data": {
      "text/plain": [
       "(24000, 264, 768)"
      ]
     },
     "execution_count": 6,
     "metadata": {},
     "output_type": "execute_result"
    }
   ],
   "source": [
    "train_X.shape"
   ]
  },
  {
   "cell_type": "code",
   "execution_count": 7,
   "id": "460b98a8",
   "metadata": {},
   "outputs": [
    {
     "data": {
      "text/plain": [
       "(6000, 264, 768)"
      ]
     },
     "execution_count": 7,
     "metadata": {},
     "output_type": "execute_result"
    }
   ],
   "source": [
    "test_X.shape"
   ]
  },
  {
   "cell_type": "markdown",
   "id": "b49b7ea4",
   "metadata": {},
   "source": [
    "## Simple RNN Model"
   ]
  },
  {
   "cell_type": "code",
   "execution_count": 6,
   "id": "652c447f",
   "metadata": {},
   "outputs": [],
   "source": [
    "inputs = tf.keras.layers.Input(shape=(264,768))\n",
    "hidden_layer_1 = tf.keras.layers.Dense(700, activation='relu')(inputs)\n",
    "dropout1 = tf.keras.layers.Dropout(0.2)(hidden_layer_1)\n",
    "RNN = tf.keras.layers.SimpleRNN(100)(dropout1)\n",
    "classification_out = tf.keras.layers.Dense(4, activation='softmax')(RNN)\n",
    "\n",
    "model = tf.keras.models.Model(inputs=inputs, outputs=classification_out)\n",
    "model.compile(loss=tf.keras.losses.SparseCategoricalCrossentropy(), \n",
    "              optimizer='adam', \n",
    "              metrics=['sparse_categorical_accuracy'])"
   ]
  },
  {
   "cell_type": "code",
   "execution_count": 7,
   "id": "48b30422",
   "metadata": {},
   "outputs": [
    {
     "name": "stdout",
     "output_type": "stream",
     "text": [
      "Model: \"model\"\n",
      "_________________________________________________________________\n",
      " Layer (type)                Output Shape              Param #   \n",
      "=================================================================\n",
      " input_1 (InputLayer)        [(None, 264, 768)]        0         \n",
      "                                                                 \n",
      " dense (Dense)               (None, 264, 700)          538300    \n",
      "                                                                 \n",
      " dropout (Dropout)           (None, 264, 700)          0         \n",
      "                                                                 \n",
      " simple_rnn (SimpleRNN)      (None, 100)               80100     \n",
      "                                                                 \n",
      " dense_1 (Dense)             (None, 4)                 404       \n",
      "                                                                 \n",
      "=================================================================\n",
      "Total params: 618,804\n",
      "Trainable params: 618,804\n",
      "Non-trainable params: 0\n",
      "_________________________________________________________________\n"
     ]
    }
   ],
   "source": [
    "model.summary()"
   ]
  },
  {
   "cell_type": "code",
   "execution_count": 8,
   "id": "4f5d1c35",
   "metadata": {
    "scrolled": true
   },
   "outputs": [
    {
     "name": "stdout",
     "output_type": "stream",
     "text": [
      "Epoch 1/20\n",
      "38/38 [==============================] - 62s 2s/step - loss: 1.4248 - sparse_categorical_accuracy: 0.2698 - val_loss: 1.3727 - val_sparse_categorical_accuracy: 0.3058\n",
      "Epoch 2/20\n",
      "38/38 [==============================] - 54s 1s/step - loss: 1.3652 - sparse_categorical_accuracy: 0.3109 - val_loss: 1.3680 - val_sparse_categorical_accuracy: 0.3110\n",
      "Epoch 3/20\n",
      "38/38 [==============================] - 53s 1s/step - loss: 1.3534 - sparse_categorical_accuracy: 0.3229 - val_loss: 1.3669 - val_sparse_categorical_accuracy: 0.3127\n",
      "Epoch 4/20\n",
      "38/38 [==============================] - 53s 1s/step - loss: 1.3448 - sparse_categorical_accuracy: 0.3374 - val_loss: 1.3747 - val_sparse_categorical_accuracy: 0.2960\n",
      "Epoch 5/20\n",
      "38/38 [==============================] - 53s 1s/step - loss: 1.3321 - sparse_categorical_accuracy: 0.3494 - val_loss: 1.3749 - val_sparse_categorical_accuracy: 0.3119\n",
      "Epoch 6/20\n",
      "38/38 [==============================] - 53s 1s/step - loss: 1.3263 - sparse_categorical_accuracy: 0.3528 - val_loss: 1.3699 - val_sparse_categorical_accuracy: 0.3127\n",
      "Epoch 7/20\n",
      "38/38 [==============================] - 52s 1s/step - loss: 1.3134 - sparse_categorical_accuracy: 0.3660 - val_loss: 1.3739 - val_sparse_categorical_accuracy: 0.3067\n",
      "Epoch 8/20\n",
      "38/38 [==============================] - 53s 1s/step - loss: 1.3011 - sparse_categorical_accuracy: 0.3768 - val_loss: 1.3925 - val_sparse_categorical_accuracy: 0.2969\n",
      "Epoch 9/20\n",
      "38/38 [==============================] - 52s 1s/step - loss: 1.2856 - sparse_categorical_accuracy: 0.3896 - val_loss: 1.3887 - val_sparse_categorical_accuracy: 0.3152\n",
      "Epoch 10/20\n",
      "38/38 [==============================] - 52s 1s/step - loss: 1.2677 - sparse_categorical_accuracy: 0.4030 - val_loss: 1.3824 - val_sparse_categorical_accuracy: 0.3162\n",
      "Epoch 11/20\n",
      "38/38 [==============================] - 52s 1s/step - loss: 1.2454 - sparse_categorical_accuracy: 0.4253 - val_loss: 1.4047 - val_sparse_categorical_accuracy: 0.3106\n",
      "Epoch 12/20\n",
      "38/38 [==============================] - 52s 1s/step - loss: 1.2320 - sparse_categorical_accuracy: 0.4284 - val_loss: 1.4297 - val_sparse_categorical_accuracy: 0.3044\n",
      "Epoch 13/20\n",
      "38/38 [==============================] - 52s 1s/step - loss: 1.2112 - sparse_categorical_accuracy: 0.4453 - val_loss: 1.4483 - val_sparse_categorical_accuracy: 0.3069\n",
      "Epoch 14/20\n",
      "38/38 [==============================] - 52s 1s/step - loss: 1.2014 - sparse_categorical_accuracy: 0.4479 - val_loss: 1.4314 - val_sparse_categorical_accuracy: 0.3006\n",
      "Epoch 15/20\n",
      "38/38 [==============================] - 52s 1s/step - loss: 1.1650 - sparse_categorical_accuracy: 0.4741 - val_loss: 1.4402 - val_sparse_categorical_accuracy: 0.3158\n",
      "Epoch 16/20\n",
      "38/38 [==============================] - 51s 1s/step - loss: 1.1421 - sparse_categorical_accuracy: 0.4869 - val_loss: 1.4877 - val_sparse_categorical_accuracy: 0.3017\n",
      "Epoch 17/20\n",
      "38/38 [==============================] - 52s 1s/step - loss: 1.1227 - sparse_categorical_accuracy: 0.4968 - val_loss: 1.5205 - val_sparse_categorical_accuracy: 0.2988\n",
      "Epoch 18/20\n",
      "38/38 [==============================] - 52s 1s/step - loss: 1.0986 - sparse_categorical_accuracy: 0.5119 - val_loss: 1.5004 - val_sparse_categorical_accuracy: 0.2967\n",
      "Epoch 19/20\n",
      "38/38 [==============================] - 52s 1s/step - loss: 1.0731 - sparse_categorical_accuracy: 0.5199 - val_loss: 1.5431 - val_sparse_categorical_accuracy: 0.3000\n",
      "Epoch 20/20\n",
      "38/38 [==============================] - 52s 1s/step - loss: 1.0440 - sparse_categorical_accuracy: 0.5433 - val_loss: 1.5753 - val_sparse_categorical_accuracy: 0.3063\n"
     ]
    }
   ],
   "source": [
    "train = model.fit(train_X, train_y, epochs=20, batch_size=512, validation_split=0.2)\n"
   ]
  },
  {
   "cell_type": "code",
   "execution_count": 9,
   "id": "ef6d3463",
   "metadata": {},
   "outputs": [
    {
     "name": "stdout",
     "output_type": "stream",
     "text": [
      "188/188 [==============================] - 8s 42ms/step - loss: 1.5557 - sparse_categorical_accuracy: 0.3018\n"
     ]
    },
    {
     "data": {
      "text/plain": [
       "[1.555677056312561, 0.3018333315849304]"
      ]
     },
     "execution_count": 9,
     "metadata": {},
     "output_type": "execute_result"
    }
   ],
   "source": [
    "model.evaluate(test_X, test_y)"
   ]
  },
  {
   "cell_type": "markdown",
   "id": "69060882",
   "metadata": {},
   "source": [
    "### Plotting"
   ]
  },
  {
   "cell_type": "code",
   "execution_count": 13,
   "id": "49a7e7b5",
   "metadata": {},
   "outputs": [
    {
     "data": {
      "image/png": "[encoded data removed]",
      "text/plain": [
       "<Figure size 432x288 with 1 Axes>"
      ]
     },
     "metadata": {
      "needs_background": "light"
     },
     "output_type": "display_data"
    }
   ],
   "source": [
    "plt.plot(train.history['sparse_categorical_accuracy'])\n",
    "plt.plot(train.history['val_sparse_categorical_accuracy'])\n",
    "plt.title('Model accuracy')\n",
    "plt.ylabel('Accuracy')\n",
    "plt.xlabel('Epoch')\n",
    "plt.legend(['train', 'validation'], loc='upper left')\n",
    "plt.show()"
   ]
  },
  {
   "cell_type": "code",
   "execution_count": 14,
   "id": "19aa0439",
   "metadata": {},
   "outputs": [
    {
     "name": "stdout",
     "output_type": "stream",
     "text": [
      "Highest model accuracy is 31.62% which occurs at 9 epochs.\n"
     ]
    }
   ],
   "source": [
    "print(f\"Highest model accuracy is {round(max(train.history['val_sparse_categorical_accuracy'])*100,2)}% \\\n",
    "which occurs at {train.history['val_sparse_categorical_accuracy'].index(max(train.history['val_sparse_categorical_accuracy']))} \\\n",
    "epochs.\")\n",
    "     "
   ]
  },
  {
   "cell_type": "markdown",
   "id": "b280d442",
   "metadata": {},
   "source": [
    "Some improvement over the baseline model - Only 5% though. The accuracy of the model doesn't increase as train accuracy increases. "
   ]
  },
  {
   "cell_type": "markdown",
   "id": "092fc0dd",
   "metadata": {},
   "source": [
    "---"
   ]
  },
  {
   "cell_type": "code",
   "execution_count": 15,
   "id": "e36b5cc1",
   "metadata": {},
   "outputs": [],
   "source": [
    "inputs = tf.keras.layers.Input(shape=(264,768))\n",
    "RNN = tf.keras.layers.SimpleRNN(300)(inputs)\n",
    "classification_out = tf.keras.layers.Dense(4, activation='softmax')(RNN)\n",
    "\n",
    "model = tf.keras.models.Model(inputs=inputs, outputs=classification_out)\n",
    "model.compile(loss=tf.keras.losses.SparseCategoricalCrossentropy(), \n",
    "              optimizer='adam', \n",
    "              metrics=['sparse_categorical_accuracy'])"
   ]
  },
  {
   "cell_type": "code",
   "execution_count": 16,
   "id": "bf49d9e2",
   "metadata": {},
   "outputs": [
    {
     "name": "stdout",
     "output_type": "stream",
     "text": [
      "Model: \"model_1\"\n",
      "_________________________________________________________________\n",
      " Layer (type)                Output Shape              Param #   \n",
      "=================================================================\n",
      " input_2 (InputLayer)        [(None, 264, 768)]        0         \n",
      "                                                                 \n",
      " simple_rnn_1 (SimpleRNN)    (None, 300)               320700    \n",
      "                                                                 \n",
      " dense_2 (Dense)             (None, 4)                 1204      \n",
      "                                                                 \n",
      "=================================================================\n",
      "Total params: 321,904\n",
      "Trainable params: 321,904\n",
      "Non-trainable params: 0\n",
      "_________________________________________________________________\n"
     ]
    }
   ],
   "source": [
    "model.summary()"
   ]
  },
  {
   "cell_type": "code",
   "execution_count": 17,
   "id": "8d4238bf",
   "metadata": {
    "scrolled": true
   },
   "outputs": [
    {
     "name": "stdout",
     "output_type": "stream",
     "text": [
      "Epoch 1/20\n",
      "38/38 [==============================] - 36s 913ms/step - loss: 1.4919 - sparse_categorical_accuracy: 0.2726 - val_loss: 1.3834 - val_sparse_categorical_accuracy: 0.2894\n",
      "Epoch 2/20\n",
      "38/38 [==============================] - 29s 760ms/step - loss: 1.3639 - sparse_categorical_accuracy: 0.3156 - val_loss: 1.3770 - val_sparse_categorical_accuracy: 0.3098\n",
      "Epoch 3/20\n",
      "38/38 [==============================] - 32s 851ms/step - loss: 1.3496 - sparse_categorical_accuracy: 0.3307 - val_loss: 1.3794 - val_sparse_categorical_accuracy: 0.3081\n",
      "Epoch 4/20\n",
      "38/38 [==============================] - 29s 763ms/step - loss: 1.3313 - sparse_categorical_accuracy: 0.3546 - val_loss: 1.3940 - val_sparse_categorical_accuracy: 0.3075\n",
      "Epoch 5/20\n",
      "38/38 [==============================] - 29s 768ms/step - loss: 1.3226 - sparse_categorical_accuracy: 0.3662 - val_loss: 1.3891 - val_sparse_categorical_accuracy: 0.3071\n",
      "Epoch 6/20\n",
      "38/38 [==============================] - 29s 768ms/step - loss: 1.3037 - sparse_categorical_accuracy: 0.3840 - val_loss: 1.3863 - val_sparse_categorical_accuracy: 0.3165\n",
      "Epoch 7/20\n",
      "38/38 [==============================] - 30s 784ms/step - loss: 1.2800 - sparse_categorical_accuracy: 0.4013 - val_loss: 1.4059 - val_sparse_categorical_accuracy: 0.3044\n",
      "Epoch 8/20\n",
      "38/38 [==============================] - 29s 774ms/step - loss: 1.2637 - sparse_categorical_accuracy: 0.4114 - val_loss: 1.4038 - val_sparse_categorical_accuracy: 0.3123\n",
      "Epoch 9/20\n",
      "38/38 [==============================] - 29s 768ms/step - loss: 1.2416 - sparse_categorical_accuracy: 0.4269 - val_loss: 1.4557 - val_sparse_categorical_accuracy: 0.2877\n",
      "Epoch 10/20\n",
      "38/38 [==============================] - 30s 783ms/step - loss: 1.2067 - sparse_categorical_accuracy: 0.4545 - val_loss: 1.4447 - val_sparse_categorical_accuracy: 0.3029\n",
      "Epoch 11/20\n",
      "38/38 [==============================] - 29s 756ms/step - loss: 1.1756 - sparse_categorical_accuracy: 0.4726 - val_loss: 1.4561 - val_sparse_categorical_accuracy: 0.3033\n",
      "Epoch 12/20\n",
      "38/38 [==============================] - 29s 770ms/step - loss: 1.1374 - sparse_categorical_accuracy: 0.5006 - val_loss: 1.5112 - val_sparse_categorical_accuracy: 0.3000\n",
      "Epoch 13/20\n",
      "38/38 [==============================] - 29s 762ms/step - loss: 1.1038 - sparse_categorical_accuracy: 0.5149 - val_loss: 1.5113 - val_sparse_categorical_accuracy: 0.3025\n",
      "Epoch 14/20\n",
      "38/38 [==============================] - 29s 772ms/step - loss: 1.0593 - sparse_categorical_accuracy: 0.5422 - val_loss: 1.5633 - val_sparse_categorical_accuracy: 0.2977\n",
      "Epoch 15/20\n",
      "38/38 [==============================] - 29s 764ms/step - loss: 1.0096 - sparse_categorical_accuracy: 0.5721 - val_loss: 1.6156 - val_sparse_categorical_accuracy: 0.2915\n",
      "Epoch 16/20\n",
      "38/38 [==============================] - 29s 773ms/step - loss: 0.9435 - sparse_categorical_accuracy: 0.6051 - val_loss: 1.6708 - val_sparse_categorical_accuracy: 0.2912\n",
      "Epoch 17/20\n",
      "38/38 [==============================] - 29s 771ms/step - loss: 0.9045 - sparse_categorical_accuracy: 0.6211 - val_loss: 1.7575 - val_sparse_categorical_accuracy: 0.2833\n",
      "Epoch 18/20\n",
      "38/38 [==============================] - 29s 769ms/step - loss: 0.8485 - sparse_categorical_accuracy: 0.6489 - val_loss: 1.8304 - val_sparse_categorical_accuracy: 0.2783\n",
      "Epoch 19/20\n",
      "38/38 [==============================] - 29s 776ms/step - loss: 0.7938 - sparse_categorical_accuracy: 0.6781 - val_loss: 1.8939 - val_sparse_categorical_accuracy: 0.2792\n",
      "Epoch 20/20\n",
      "38/38 [==============================] - 29s 778ms/step - loss: 0.7452 - sparse_categorical_accuracy: 0.6999 - val_loss: 1.9791 - val_sparse_categorical_accuracy: 0.2785\n"
     ]
    }
   ],
   "source": [
    "train = model.fit(train_X, train_y, epochs=20, batch_size=512, validation_split=0.2)\n"
   ]
  },
  {
   "cell_type": "code",
   "execution_count": 18,
   "id": "db6a3b5b",
   "metadata": {},
   "outputs": [
    {
     "name": "stdout",
     "output_type": "stream",
     "text": [
      "188/188 [==============================] - 14s 73ms/step - loss: 1.9453 - sparse_categorical_accuracy: 0.2840\n"
     ]
    },
    {
     "data": {
      "text/plain": [
       "[1.945344090461731, 0.2840000092983246]"
      ]
     },
     "execution_count": 18,
     "metadata": {},
     "output_type": "execute_result"
    }
   ],
   "source": [
    "model.evaluate(test_X, test_y)"
   ]
  },
  {
   "cell_type": "code",
   "execution_count": 19,
   "id": "cb3e00e0",
   "metadata": {},
   "outputs": [
    {
     "data": {
      "image/png": "[encoded data removed]",
      "text/plain": [
       "<Figure size 432x288 with 1 Axes>"
      ]
     },
     "metadata": {
      "needs_background": "light"
     },
     "output_type": "display_data"
    }
   ],
   "source": [
    "plt.plot(train.history['sparse_categorical_accuracy'])\n",
    "plt.plot(train.history['val_sparse_categorical_accuracy'])\n",
    "plt.title('Model accuracy')\n",
    "plt.ylabel('Accuracy')\n",
    "plt.xlabel('Epoch')\n",
    "plt.legend(['train', 'validation'], loc='upper left')\n",
    "plt.show()"
   ]
  },
  {
   "cell_type": "code",
   "execution_count": 20,
   "id": "7730ba73",
   "metadata": {},
   "outputs": [
    {
     "name": "stdout",
     "output_type": "stream",
     "text": [
      "Highest model accuracy is 31.65% which occurs at 5 epochs.\n"
     ]
    }
   ],
   "source": [
    "print(f\"Highest model accuracy is {round(max(train.history['val_sparse_categorical_accuracy'])*100,2)}% \\\n",
    "which occurs at {train.history['val_sparse_categorical_accuracy'].index(max(train.history['val_sparse_categorical_accuracy']))} \\\n",
    "epochs.\")\n",
    "     "
   ]
  },
  {
   "cell_type": "markdown",
   "id": "273c5192",
   "metadata": {},
   "source": [
    "---"
   ]
  },
  {
   "cell_type": "markdown",
   "id": "3c1cf1c1",
   "metadata": {},
   "source": [
    "### Decreasing batch size to default (32)"
   ]
  },
  {
   "cell_type": "code",
   "execution_count": 15,
   "id": "ff18e6f8",
   "metadata": {},
   "outputs": [],
   "source": [
    "inputs = tf.keras.layers.Input(shape=(264,768))\n",
    "RNN = tf.keras.layers.SimpleRNN(300)(inputs)\n",
    "classification_out = tf.keras.layers.Dense(4, activation='softmax')(RNN)\n",
    "\n",
    "model = tf.keras.models.Model(inputs=inputs, outputs=classification_out)\n",
    "model.compile(loss=tf.keras.losses.SparseCategoricalCrossentropy(), \n",
    "              optimizer='adam', \n",
    "              metrics=['sparse_categorical_accuracy'])"
   ]
  },
  {
   "cell_type": "code",
   "execution_count": 9,
   "id": "65d9c1fe",
   "metadata": {
    "scrolled": true
   },
   "outputs": [
    {
     "name": "stdout",
     "output_type": "stream",
     "text": [
      "Epoch 1/20\n",
      "600/600 [==============================] - 113s 186ms/step - loss: 1.4189 - sparse_categorical_accuracy: 0.2673 - val_loss: 1.3985 - val_sparse_categorical_accuracy: 0.2677\n",
      "Epoch 2/20\n",
      "600/600 [==============================] - 103s 171ms/step - loss: 1.3937 - sparse_categorical_accuracy: 0.2831 - val_loss: 1.3947 - val_sparse_categorical_accuracy: 0.2796\n",
      "Epoch 3/20\n",
      "600/600 [==============================] - 105s 175ms/step - loss: 1.3796 - sparse_categorical_accuracy: 0.2931 - val_loss: 1.4165 - val_sparse_categorical_accuracy: 0.2704\n",
      "Epoch 4/20\n",
      "600/600 [==============================] - 104s 174ms/step - loss: 1.3779 - sparse_categorical_accuracy: 0.3017 - val_loss: 1.3698 - val_sparse_categorical_accuracy: 0.3096\n",
      "Epoch 5/20\n",
      "600/600 [==============================] - 104s 173ms/step - loss: 1.3726 - sparse_categorical_accuracy: 0.3105 - val_loss: 1.4040 - val_sparse_categorical_accuracy: 0.2992\n",
      "Epoch 6/20\n",
      "600/600 [==============================] - 113s 188ms/step - loss: 1.3714 - sparse_categorical_accuracy: 0.3090 - val_loss: 1.3879 - val_sparse_categorical_accuracy: 0.3040\n",
      "Epoch 7/20\n",
      "600/600 [==============================] - 105s 175ms/step - loss: 1.3669 - sparse_categorical_accuracy: 0.3175 - val_loss: 1.3952 - val_sparse_categorical_accuracy: 0.3106\n",
      "Epoch 8/20\n",
      "600/600 [==============================] - 104s 173ms/step - loss: 1.3721 - sparse_categorical_accuracy: 0.3128 - val_loss: 1.3747 - val_sparse_categorical_accuracy: 0.2960\n",
      "Epoch 9/20\n",
      "600/600 [==============================] - 106s 176ms/step - loss: 1.3621 - sparse_categorical_accuracy: 0.3200 - val_loss: 1.3990 - val_sparse_categorical_accuracy: 0.2733\n",
      "Epoch 10/20\n",
      "600/600 [==============================] - 104s 174ms/step - loss: 1.3618 - sparse_categorical_accuracy: 0.3215 - val_loss: 1.3716 - val_sparse_categorical_accuracy: 0.3208\n",
      "Epoch 11/20\n",
      "600/600 [==============================] - 106s 177ms/step - loss: 1.3610 - sparse_categorical_accuracy: 0.3224 - val_loss: 1.3843 - val_sparse_categorical_accuracy: 0.3006\n",
      "Epoch 12/20\n",
      "600/600 [==============================] - 106s 177ms/step - loss: 1.3576 - sparse_categorical_accuracy: 0.3284 - val_loss: 1.4124 - val_sparse_categorical_accuracy: 0.2956\n",
      "Epoch 13/20\n",
      "600/600 [==============================] - 106s 177ms/step - loss: 1.3549 - sparse_categorical_accuracy: 0.3300 - val_loss: 1.3839 - val_sparse_categorical_accuracy: 0.2944\n",
      "Epoch 14/20\n",
      "600/600 [==============================] - 105s 175ms/step - loss: 1.3480 - sparse_categorical_accuracy: 0.3374 - val_loss: 1.3757 - val_sparse_categorical_accuracy: 0.3217\n",
      "Epoch 15/20\n",
      "600/600 [==============================] - 106s 177ms/step - loss: 1.3475 - sparse_categorical_accuracy: 0.3391 - val_loss: 1.4272 - val_sparse_categorical_accuracy: 0.3085\n",
      "Epoch 16/20\n",
      "600/600 [==============================] - 104s 174ms/step - loss: 1.3485 - sparse_categorical_accuracy: 0.3342 - val_loss: 1.4072 - val_sparse_categorical_accuracy: 0.3104\n",
      "Epoch 17/20\n",
      "600/600 [==============================] - 104s 174ms/step - loss: 1.3414 - sparse_categorical_accuracy: 0.3424 - val_loss: 1.4205 - val_sparse_categorical_accuracy: 0.2873\n",
      "Epoch 18/20\n",
      "600/600 [==============================] - 105s 175ms/step - loss: 1.3395 - sparse_categorical_accuracy: 0.3395 - val_loss: 1.4225 - val_sparse_categorical_accuracy: 0.3140\n",
      "Epoch 19/20\n",
      "600/600 [==============================] - 103s 172ms/step - loss: 1.3373 - sparse_categorical_accuracy: 0.3457 - val_loss: 1.4492 - val_sparse_categorical_accuracy: 0.3013\n",
      "Epoch 20/20\n",
      "600/600 [==============================] - 105s 175ms/step - loss: 1.3365 - sparse_categorical_accuracy: 0.3489 - val_loss: 1.3983 - val_sparse_categorical_accuracy: 0.3075\n"
     ]
    }
   ],
   "source": [
    "train = model.fit(train_X, train_y, epochs=20, validation_split=0.2)\n"
   ]
  },
  {
   "cell_type": "code",
   "execution_count": 10,
   "id": "a998bc2e",
   "metadata": {},
   "outputs": [
    {
     "data": {
      "image/png": "[encoded data removed]",
      "text/plain": [
       "<Figure size 432x288 with 1 Axes>"
      ]
     },
     "metadata": {
      "needs_background": "light"
     },
     "output_type": "display_data"
    }
   ],
   "source": [
    "plt.plot(train.history['sparse_categorical_accuracy'])\n",
    "plt.plot(train.history['val_sparse_categorical_accuracy'])\n",
    "plt.title('Model accuracy')\n",
    "plt.ylabel('Accuracy')\n",
    "plt.xlabel('Epoch')\n",
    "plt.legend(['train', 'validation'], loc='upper left')\n",
    "plt.show()"
   ]
  },
  {
   "cell_type": "code",
   "execution_count": 11,
   "id": "f85d6789",
   "metadata": {},
   "outputs": [
    {
     "name": "stdout",
     "output_type": "stream",
     "text": [
      "Highest model accuracy is 32.17% which occurs at 13 epochs.\n"
     ]
    }
   ],
   "source": [
    "print(f\"Highest model accuracy is {round(max(train.history['val_sparse_categorical_accuracy'])*100,2)}% \\\n",
    "which occurs at {train.history['val_sparse_categorical_accuracy'].index(max(train.history['val_sparse_categorical_accuracy']))} \\\n",
    "epochs.\")\n"
   ]
  },
  {
   "cell_type": "markdown",
   "id": "82b5d139",
   "metadata": {},
   "source": [
    "---"
   ]
  },
  {
   "cell_type": "code",
   "execution_count": 12,
   "id": "84625c79",
   "metadata": {},
   "outputs": [],
   "source": [
    "inputs = tf.keras.layers.Input(shape=(264,768))\n",
    "RNN = tf.keras.layers.SimpleRNN(100)(inputs)\n",
    "classification_out = tf.keras.layers.Dense(4, activation='softmax')(RNN)\n",
    "\n",
    "model = tf.keras.models.Model(inputs=inputs, outputs=classification_out)\n",
    "model.compile(loss=tf.keras.losses.SparseCategoricalCrossentropy(), \n",
    "              optimizer='adam', \n",
    "              metrics=['sparse_categorical_accuracy'])"
   ]
  },
  {
   "cell_type": "code",
   "execution_count": 13,
   "id": "cee11ee8",
   "metadata": {},
   "outputs": [
    {
     "name": "stdout",
     "output_type": "stream",
     "text": [
      "Epoch 1/5\n",
      "600/600 [==============================] - 63s 104ms/step - loss: 1.3938 - sparse_categorical_accuracy: 0.2799 - val_loss: 1.3809 - val_sparse_categorical_accuracy: 0.3031\n",
      "Epoch 2/5\n",
      "600/600 [==============================] - 48s 80ms/step - loss: 1.3695 - sparse_categorical_accuracy: 0.3009 - val_loss: 1.3909 - val_sparse_categorical_accuracy: 0.2598\n",
      "Epoch 3/5\n",
      "600/600 [==============================] - 49s 81ms/step - loss: 1.3630 - sparse_categorical_accuracy: 0.3134 - val_loss: 1.3749 - val_sparse_categorical_accuracy: 0.2842\n",
      "Epoch 4/5\n",
      "600/600 [==============================] - 48s 80ms/step - loss: 1.3557 - sparse_categorical_accuracy: 0.3196 - val_loss: 1.3911 - val_sparse_categorical_accuracy: 0.2754\n",
      "Epoch 5/5\n",
      "600/600 [==============================] - 51s 85ms/step - loss: 1.3489 - sparse_categorical_accuracy: 0.3243 - val_loss: 1.3752 - val_sparse_categorical_accuracy: 0.3088\n"
     ]
    }
   ],
   "source": [
    "train = model.fit(train_X, train_y, epochs=5, validation_split=0.2)\n"
   ]
  },
  {
   "cell_type": "code",
   "execution_count": 14,
   "id": "0bc62b39",
   "metadata": {},
   "outputs": [
    {
     "data": {
      "image/png": "[encoded data removed]",
      "text/plain": [
       "<Figure size 432x288 with 1 Axes>"
      ]
     },
     "metadata": {
      "needs_background": "light"
     },
     "output_type": "display_data"
    }
   ],
   "source": [
    "plt.plot(train.history['sparse_categorical_accuracy'])\n",
    "plt.plot(train.history['val_sparse_categorical_accuracy'])\n",
    "plt.title('Model accuracy')\n",
    "plt.ylabel('Accuracy')\n",
    "plt.xlabel('Epoch')\n",
    "plt.legend(['train', 'validation'], loc='upper left')\n",
    "plt.show()"
   ]
  }
 ],
 "metadata": {
  "kernelspec": {
   "display_name": "Python 3",
   "language": "python",
   "name": "python3"
  },
  "language_info": {
   "codemirror_mode": {
    "name": "ipython",
    "version": 3
   },
   "file_extension": ".py",
   "mimetype": "text/x-python",
   "name": "python",
   "nbconvert_exporter": "python",
   "pygments_lexer": "ipython3",
   "version": "3.8.8"
  }
 },
 "nbformat": 4,
 "nbformat_minor": 5
}
