{
 "cells": [
  {
   "cell_type": "code",
   "execution_count": 1,
   "id": "7a3a7766",
   "metadata": {},
   "outputs": [],
   "source": [
    "from keras.models import Sequential\n",
    "from keras.layers import Dense, SimpleRNN, LSTM\n",
    "import pickle\n",
    "import pandas as pd\n",
    "import numpy as np\n",
    "from sklearn.model_selection import train_test_split"
   ]
  },
  {
   "cell_type": "markdown",
   "id": "d07e651a",
   "metadata": {},
   "source": [
    "## Loading Data"
   ]
  },
  {
   "cell_type": "markdown",
   "id": "6e81bc4d",
   "metadata": {},
   "source": [
    "### Spacy Embeddings"
   ]
  },
  {
   "cell_type": "code",
   "execution_count": 2,
   "id": "272f6ec1",
   "metadata": {},
   "outputs": [],
   "source": [
    "embeddings = np.load('/home/sanjaycollege15/PredictingDiagnoses/Data/ekg_denoised_spacy_RNN_embeddings_v2.npy')\n",
    "labels = np.load('/home/sanjaycollege15/PredictingDiagnoses/Data/ekg_denoised_spacy_RNN_values_v2.npy')"
   ]
  },
  {
   "cell_type": "markdown",
   "id": "7f6b9142",
   "metadata": {},
   "source": [
    "### Train/Dev/Test/Split"
   ]
  },
  {
   "cell_type": "code",
   "execution_count": 3,
   "id": "9db78f38",
   "metadata": {},
   "outputs": [],
   "source": [
    "train_X, test_X, train_y, test_y = train_test_split(embeddings, labels, test_size=0.20, random_state=42)\n",
    "del embeddings\n",
    "del labels"
   ]
  },
  {
   "cell_type": "code",
   "execution_count": 4,
   "id": "9d1d8160",
   "metadata": {},
   "outputs": [
    {
     "data": {
      "text/plain": [
       "(54544, 202, 300)"
      ]
     },
     "execution_count": 4,
     "metadata": {},
     "output_type": "execute_result"
    }
   ],
   "source": [
    "train_X.shape"
   ]
  },
  {
   "cell_type": "markdown",
   "id": "b49b7ea4",
   "metadata": {},
   "source": [
    "## Simple RNN Model"
   ]
  },
  {
   "cell_type": "code",
   "execution_count": 5,
   "id": "20100077",
   "metadata": {},
   "outputs": [
    {
     "name": "stdout",
     "output_type": "stream",
     "text": [
      "Model: \"sequential\"\n",
      "_________________________________________________________________\n",
      " Layer (type)                Output Shape              Param #   \n",
      "=================================================================\n",
      " simple_rnn (SimpleRNN)      (None, 128)               54912     \n",
      "                                                                 \n",
      " dense (Dense)               (None, 4)                 516       \n",
      "                                                                 \n",
      "=================================================================\n",
      "Total params: 55,428\n",
      "Trainable params: 55,428\n",
      "Non-trainable params: 0\n",
      "_________________________________________________________________\n"
     ]
    }
   ],
   "source": [
    "xmodel= Sequential()\n",
    "xmodel.add(SimpleRNN(128, input_shape=(202,300)))\n",
    "xmodel.add(Dense(4, activation='relu'))\n",
    "xmodel.build()\n",
    "xmodel.summary()\n",
    "\n",
    "xmodel.compile(loss='SparseCategoricalCrossentropy', optimizer='adam', metrics=['accuracy'])"
   ]
  },
  {
   "cell_type": "code",
   "execution_count": 6,
   "id": "4f5d1c35",
   "metadata": {
    "scrolled": true
   },
   "outputs": [
    {
     "name": "stdout",
     "output_type": "stream",
     "text": [
      "Epoch 1/5\n",
      "107/107 [==============================] - 33s 293ms/step - loss: 4.3026 - accuracy: 0.2489\n",
      "Epoch 2/5\n",
      "107/107 [==============================] - 30s 283ms/step - loss: 1.3863 - accuracy: 0.2468\n",
      "Epoch 3/5\n",
      "107/107 [==============================] - 29s 268ms/step - loss: 1.3864 - accuracy: 0.2477\n",
      "Epoch 4/5\n",
      "107/107 [==============================] - 29s 267ms/step - loss: 1.3864 - accuracy: 0.2477\n",
      "Epoch 5/5\n",
      "107/107 [==============================] - 29s 267ms/step - loss: 1.3865 - accuracy: 0.2482\n"
     ]
    },
    {
     "data": {
      "text/plain": [
       "<keras.callbacks.History at 0x7f3acc25cdc0>"
      ]
     },
     "execution_count": 6,
     "metadata": {},
     "output_type": "execute_result"
    }
   ],
   "source": [
    "xmodel.fit(train_X, train_y, epochs=5, batch_size=512)"
   ]
  },
  {
   "cell_type": "code",
   "execution_count": 7,
   "id": "ef6d3463",
   "metadata": {},
   "outputs": [
    {
     "name": "stdout",
     "output_type": "stream",
     "text": [
      "427/427 [==============================] - 9s 20ms/step - loss: 1.3863 - accuracy: 0.2467\n"
     ]
    },
    {
     "data": {
      "text/plain": [
       "[1.3863179683685303, 0.24669991433620453]"
      ]
     },
     "execution_count": 7,
     "metadata": {},
     "output_type": "execute_result"
    }
   ],
   "source": [
    "xmodel.evaluate(test_X, test_y)"
   ]
  },
  {
   "cell_type": "markdown",
   "id": "b280d442",
   "metadata": {},
   "source": [
    "Very poor accuracy (25% would be random chance). Even with the updated dataset, Spacy performs more poorly than the TF-IDF set. Could also be that the RNN model isn't very good. "
   ]
  },
  {
   "cell_type": "code",
   "execution_count": null,
   "id": "790772ef",
   "metadata": {},
   "outputs": [],
   "source": []
  }
 ],
 "metadata": {
  "kernelspec": {
   "display_name": "Python 3",
   "language": "python",
   "name": "python3"
  },
  "language_info": {
   "codemirror_mode": {
    "name": "ipython",
    "version": 3
   },
   "file_extension": ".py",
   "mimetype": "text/x-python",
   "name": "python",
   "nbconvert_exporter": "python",
   "pygments_lexer": "ipython3",
   "version": "3.8.8"
  }
 },
 "nbformat": 4,
 "nbformat_minor": 5
}
