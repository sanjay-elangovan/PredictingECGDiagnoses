{
 "cells": [
  {
   "cell_type": "code",
   "execution_count": 1,
   "id": "7a3a7766",
   "metadata": {},
   "outputs": [],
   "source": [
    "from keras.models import Sequential\n",
    "from keras.layers import Dense, SimpleRNN, LSTM\n",
    "import pickle\n",
    "import pandas as pd\n",
    "import numpy as np\n",
    "from sklearn.model_selection import train_test_split\n",
    "import tensorflow as tf"
   ]
  },
  {
   "cell_type": "markdown",
   "id": "d07e651a",
   "metadata": {},
   "source": [
    "## Loading Data"
   ]
  },
  {
   "cell_type": "markdown",
   "id": "6e81bc4d",
   "metadata": {},
   "source": [
    "### Spacy Embeddings"
   ]
  },
  {
   "cell_type": "code",
   "execution_count": 2,
   "id": "272f6ec1",
   "metadata": {},
   "outputs": [],
   "source": [
    "embeddings = np.load('/home/sanjaycollege15/PredictingDiagnoses/Data/ekg_denoised_spacy_RNN_embeddings_v2.npy')\n",
    "labels = np.load('/home/sanjaycollege15/PredictingDiagnoses/Data/ekg_denoised_spacy_RNN_values_v2.npy')"
   ]
  },
  {
   "cell_type": "markdown",
   "id": "7f6b9142",
   "metadata": {},
   "source": [
    "### Train/Dev/Test/Split"
   ]
  },
  {
   "cell_type": "code",
   "execution_count": 5,
   "id": "9db78f38",
   "metadata": {},
   "outputs": [],
   "source": [
    "train_X, test_X, train_y, test_y = train_test_split(embeddings, labels, test_size=0.20, random_state=42)\n",
    "del embeddings\n",
    "del labels"
   ]
  },
  {
   "cell_type": "code",
   "execution_count": 9,
   "id": "9d1d8160",
   "metadata": {},
   "outputs": [
    {
     "data": {
      "text/plain": [
       "(54544, 202, 300)"
      ]
     },
     "execution_count": 9,
     "metadata": {},
     "output_type": "execute_result"
    }
   ],
   "source": [
    "train_X.shape"
   ]
  },
  {
   "cell_type": "markdown",
   "id": "b49b7ea4",
   "metadata": {},
   "source": [
    "## Simple RNN Model"
   ]
  },
  {
   "cell_type": "code",
   "execution_count": 3,
   "id": "20100077",
   "metadata": {},
   "outputs": [
    {
     "name": "stdout",
     "output_type": "stream",
     "text": [
      "Model: \"sequential\"\n",
      "_________________________________________________________________\n",
      " Layer (type)                Output Shape              Param #   \n",
      "=================================================================\n",
      " simple_rnn (SimpleRNN)      (None, 3)                 912       \n",
      "                                                                 \n",
      " dense (Dense)               (None, 4)                 16        \n",
      "                                                                 \n",
      "=================================================================\n",
      "Total params: 928\n",
      "Trainable params: 928\n",
      "Non-trainable params: 0\n",
      "_________________________________________________________________\n"
     ]
    }
   ],
   "source": [
    "xmodel= Sequential()\n",
    "xmodel.add(SimpleRNN(3, input_shape=(202,300)))\n",
    "xmodel.add(Dense(4, activation='relu'))\n",
    "xmodel.build()\n",
    "xmodel.summary()\n",
    "\n",
    "xmodel.compile(loss=tf.keras.losses.SparseCategoricalCrossentropy(from_logits=True), \n",
    "               optimizer='adam', \n",
    "               metrics=['accuracy'])"
   ]
  },
  {
   "cell_type": "code",
   "execution_count": 7,
   "id": "4f5d1c35",
   "metadata": {
    "scrolled": true
   },
   "outputs": [
    {
     "name": "stdout",
     "output_type": "stream",
     "text": [
      "Epoch 1/5\n",
      "107/107 [==============================] - 14s 117ms/step - loss: 1.3863 - accuracy: 0.2518\n",
      "Epoch 2/5\n",
      "107/107 [==============================] - 12s 113ms/step - loss: 1.3858 - accuracy: 0.2554\n",
      "Epoch 3/5\n",
      "107/107 [==============================] - 12s 114ms/step - loss: 1.3852 - accuracy: 0.2621\n",
      "Epoch 4/5\n",
      "107/107 [==============================] - 12s 112ms/step - loss: 1.3847 - accuracy: 0.2664\n",
      "Epoch 5/5\n",
      "107/107 [==============================] - 12s 111ms/step - loss: 1.3844 - accuracy: 0.2658\n"
     ]
    },
    {
     "data": {
      "text/plain": [
       "<keras.callbacks.History at 0x7f223f39efd0>"
      ]
     },
     "execution_count": 7,
     "metadata": {},
     "output_type": "execute_result"
    }
   ],
   "source": [
    "xmodel.fit(train_X, train_y, epochs=5, batch_size=512)"
   ]
  },
  {
   "cell_type": "code",
   "execution_count": 8,
   "id": "ef6d3463",
   "metadata": {},
   "outputs": [
    {
     "name": "stdout",
     "output_type": "stream",
     "text": [
      "427/427 [==============================] - 7s 15ms/step - loss: 1.3833 - accuracy: 0.2697\n"
     ]
    },
    {
     "data": {
      "text/plain": [
       "[1.3832509517669678, 0.2697272002696991]"
      ]
     },
     "execution_count": 8,
     "metadata": {},
     "output_type": "execute_result"
    }
   ],
   "source": [
    "xmodel.evaluate(test_X, test_y)"
   ]
  },
  {
   "cell_type": "markdown",
   "id": "b280d442",
   "metadata": {},
   "source": [
    "Very poor accuracy (25% would be random chance). Even with the updated dataset, Spacy performs more poorly than the TF-IDF set. Could also be that the RNN model isn't very good. "
   ]
  }
 ],
 "metadata": {
  "kernelspec": {
   "display_name": "Python 3",
   "language": "python",
   "name": "python3"
  },
  "language_info": {
   "codemirror_mode": {
    "name": "ipython",
    "version": 3
   },
   "file_extension": ".py",
   "mimetype": "text/x-python",
   "name": "python",
   "nbconvert_exporter": "python",
   "pygments_lexer": "ipython3",
   "version": "3.8.8"
  }
 },
 "nbformat": 4,
 "nbformat_minor": 5
}
