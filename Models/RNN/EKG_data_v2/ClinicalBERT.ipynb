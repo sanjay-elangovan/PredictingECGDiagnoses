{
 "cells": [
  {
   "cell_type": "code",
   "execution_count": 2,
   "id": "7a3a7766",
   "metadata": {},
   "outputs": [],
   "source": [
    "from keras.models import Sequential\n",
    "from keras.layers import Dense, SimpleRNN, LSTM, Dropout\n",
    "import pickle\n",
    "import pandas as pd\n",
    "import numpy as np\n",
    "from sklearn.model_selection import train_test_split\n",
    "import tensorflow as tf\n",
    "import matplotlib.pyplot as plt\n"
   ]
  },
  {
   "cell_type": "markdown",
   "id": "d07e651a",
   "metadata": {},
   "source": [
    "## Loading Data"
   ]
  },
  {
   "cell_type": "markdown",
   "id": "6e81bc4d",
   "metadata": {},
   "source": [
    "### ClinicalBERT Embeddings"
   ]
  },
  {
   "cell_type": "code",
   "execution_count": 3,
   "id": "272f6ec1",
   "metadata": {
    "scrolled": true
   },
   "outputs": [
    {
     "ename": "FileNotFoundError",
     "evalue": "[Errno 2] No such file or directory: '/home/sanjaycollege15/PredictingDiagnoses/Data/ekg_denoised_ClinicalBERT_labels_10k_train_p2.npy'",
     "output_type": "error",
     "traceback": [
      "\u001b[0;31m---------------------------------------------------------------------------\u001b[0m",
      "\u001b[0;31mFileNotFoundError\u001b[0m                         Traceback (most recent call last)",
      "\u001b[0;32m<ipython-input-3-0448d7b092fd>\u001b[0m in \u001b[0;36m<module>\u001b[0;34m\u001b[0m\n\u001b[1;32m      3\u001b[0m \u001b[0;34m\u001b[0m\u001b[0m\n\u001b[1;32m      4\u001b[0m \u001b[0membeddings2\u001b[0m \u001b[0;34m=\u001b[0m \u001b[0mnp\u001b[0m\u001b[0;34m.\u001b[0m\u001b[0mload\u001b[0m\u001b[0;34m(\u001b[0m\u001b[0;34m'/home/sanjaycollege15/PredictingDiagnoses/Data/ekg_denoised_ClinicalBERT_embeddings_10k_train_pt2.npy'\u001b[0m\u001b[0;34m)\u001b[0m\u001b[0;34m\u001b[0m\u001b[0;34m\u001b[0m\u001b[0m\n\u001b[0;32m----> 5\u001b[0;31m \u001b[0mlabels2\u001b[0m \u001b[0;34m=\u001b[0m \u001b[0mnp\u001b[0m\u001b[0;34m.\u001b[0m\u001b[0mload\u001b[0m\u001b[0;34m(\u001b[0m\u001b[0;34m'/home/sanjaycollege15/PredictingDiagnoses/Data/ekg_denoised_ClinicalBERT_labels_10k_train_p2.npy'\u001b[0m\u001b[0;34m)\u001b[0m\u001b[0;34m\u001b[0m\u001b[0;34m\u001b[0m\u001b[0m\n\u001b[0m\u001b[1;32m      6\u001b[0m \u001b[0;34m\u001b[0m\u001b[0m\n",
      "\u001b[0;32m~/anaconda3/lib/python3.8/site-packages/numpy/lib/npyio.py\u001b[0m in \u001b[0;36mload\u001b[0;34m(file, mmap_mode, allow_pickle, fix_imports, encoding)\u001b[0m\n\u001b[1;32m    414\u001b[0m             \u001b[0mown_fid\u001b[0m \u001b[0;34m=\u001b[0m \u001b[0;32mFalse\u001b[0m\u001b[0;34m\u001b[0m\u001b[0;34m\u001b[0m\u001b[0m\n\u001b[1;32m    415\u001b[0m         \u001b[0;32melse\u001b[0m\u001b[0;34m:\u001b[0m\u001b[0;34m\u001b[0m\u001b[0;34m\u001b[0m\u001b[0m\n\u001b[0;32m--> 416\u001b[0;31m             \u001b[0mfid\u001b[0m \u001b[0;34m=\u001b[0m \u001b[0mstack\u001b[0m\u001b[0;34m.\u001b[0m\u001b[0menter_context\u001b[0m\u001b[0;34m(\u001b[0m\u001b[0mopen\u001b[0m\u001b[0;34m(\u001b[0m\u001b[0mos_fspath\u001b[0m\u001b[0;34m(\u001b[0m\u001b[0mfile\u001b[0m\u001b[0;34m)\u001b[0m\u001b[0;34m,\u001b[0m \u001b[0;34m\"rb\"\u001b[0m\u001b[0;34m)\u001b[0m\u001b[0;34m)\u001b[0m\u001b[0;34m\u001b[0m\u001b[0;34m\u001b[0m\u001b[0m\n\u001b[0m\u001b[1;32m    417\u001b[0m             \u001b[0mown_fid\u001b[0m \u001b[0;34m=\u001b[0m \u001b[0;32mTrue\u001b[0m\u001b[0;34m\u001b[0m\u001b[0;34m\u001b[0m\u001b[0m\n\u001b[1;32m    418\u001b[0m \u001b[0;34m\u001b[0m\u001b[0m\n",
      "\u001b[0;31mFileNotFoundError\u001b[0m: [Errno 2] No such file or directory: '/home/sanjaycollege15/PredictingDiagnoses/Data/ekg_denoised_ClinicalBERT_labels_10k_train_p2.npy'"
     ]
    }
   ],
   "source": [
    "embeddings1 = np.load('/home/sanjaycollege15/PredictingDiagnoses/Data/ekg_denoised_ClinicalBERT_embeddings_10k_train.npy')\n",
    "labels1 = np.load('/home/sanjaycollege15/PredictingDiagnoses/Data/ekg_denoised_ClinicalBERT_labels_10k_train.npy')\n",
    "\n",
    "embeddings2 = np.load('/home/sanjaycollege15/PredictingDiagnoses/Data/ekg_denoised_ClinicalBERT_embeddings_10k_train_pt2.npy')\n",
    "labels2 = np.load('/home/sanjaycollege15/PredictingDiagnoses/Data/ekg_denoised_ClinicalBERT_labels_10k_train_pt2.npy')\n",
    "\n"
   ]
  },
  {
   "cell_type": "code",
   "execution_count": 5,
   "id": "de95a6c3",
   "metadata": {},
   "outputs": [],
   "source": [
    "combined_embeddings = np.concatenate((embeddings1, embeddings2), axis=0)\n",
    "combined_labels = np.concatenate((labels1, labels2), axis=0)"
   ]
  },
  {
   "cell_type": "code",
   "execution_count": 10,
   "id": "8eb1d322",
   "metadata": {},
   "outputs": [],
   "source": [
    "del embeddings1\n",
    "del embeddings2\n",
    "del labels1\n",
    "del labels2"
   ]
  },
  {
   "cell_type": "code",
   "execution_count": 8,
   "id": "38d02e61",
   "metadata": {},
   "outputs": [],
   "source": [
    "np.save('/home/sanjaycollege15/PredictingDiagnoses/Data/ekg_denoised_ClinicalBERT_embeddings_15k',\n",
    "        combined_embeddings,\n",
    "        allow_pickle=True)\n",
    "    \n",
    "np.save('/home/sanjaycollege15/PredictingDiagnoses/Data/ekg_denoised_ClinicalBERT_labels_15k',\n",
    "        combined_labels,\n",
    "        allow_pickle=True)"
   ]
  },
  {
   "cell_type": "markdown",
   "id": "7f6b9142",
   "metadata": {},
   "source": [
    "### Train/Dev/Test/Split"
   ]
  },
  {
   "cell_type": "code",
   "execution_count": 9,
   "id": "89a43048",
   "metadata": {},
   "outputs": [
    {
     "data": {
      "text/plain": [
       "(15000, 264, 768)"
      ]
     },
     "execution_count": 9,
     "metadata": {},
     "output_type": "execute_result"
    }
   ],
   "source": [
    "combined_embeddings.shape"
   ]
  },
  {
   "cell_type": "code",
   "execution_count": 12,
   "id": "9db78f38",
   "metadata": {},
   "outputs": [],
   "source": [
    "train_X, test_X, train_y, test_y = train_test_split(combined_embeddings, combined_labels, test_size=0.20, random_state=42, stratify=combined_labels)\n",
    "del combined_embeddings\n",
    "del combined_labels"
   ]
  },
  {
   "cell_type": "code",
   "execution_count": 13,
   "id": "9d1d8160",
   "metadata": {},
   "outputs": [
    {
     "data": {
      "text/plain": [
       "(12000, 264, 768)"
      ]
     },
     "execution_count": 13,
     "metadata": {},
     "output_type": "execute_result"
    }
   ],
   "source": [
    "train_X.shape"
   ]
  },
  {
   "cell_type": "code",
   "execution_count": 14,
   "id": "460b98a8",
   "metadata": {},
   "outputs": [
    {
     "data": {
      "text/plain": [
       "(3000, 264, 768)"
      ]
     },
     "execution_count": 14,
     "metadata": {},
     "output_type": "execute_result"
    }
   ],
   "source": [
    "test_X.shape"
   ]
  },
  {
   "cell_type": "markdown",
   "id": "b49b7ea4",
   "metadata": {},
   "source": [
    "## Simple RNN Model"
   ]
  },
  {
   "cell_type": "code",
   "execution_count": 15,
   "id": "652c447f",
   "metadata": {},
   "outputs": [],
   "source": [
    "inputs = tf.keras.layers.Input(shape=(264,768))\n",
    "hidden_layer_1 = tf.keras.layers.Dense(700, activation='relu')(inputs)\n",
    "dropout1 = tf.keras.layers.Dropout(0.2)(hidden_layer_1)\n",
    "RNN = tf.keras.layers.SimpleRNN(100)(dropout1)\n",
    "classification_out = tf.keras.layers.Dense(4, activation='softmax')(RNN)\n",
    "\n",
    "model = tf.keras.models.Model(inputs=inputs, outputs=classification_out)\n",
    "model.compile(loss=tf.keras.losses.SparseCategoricalCrossentropy(), \n",
    "              optimizer='adam', \n",
    "              metrics=['accuracy'])"
   ]
  },
  {
   "cell_type": "code",
   "execution_count": 16,
   "id": "48b30422",
   "metadata": {},
   "outputs": [
    {
     "name": "stdout",
     "output_type": "stream",
     "text": [
      "Model: \"model\"\n",
      "_________________________________________________________________\n",
      " Layer (type)                Output Shape              Param #   \n",
      "=================================================================\n",
      " input_1 (InputLayer)        [(None, 264, 768)]        0         \n",
      "                                                                 \n",
      " dense (Dense)               (None, 264, 700)          538300    \n",
      "                                                                 \n",
      " dropout (Dropout)           (None, 264, 700)          0         \n",
      "                                                                 \n",
      " simple_rnn (SimpleRNN)      (None, 100)               80100     \n",
      "                                                                 \n",
      " dense_1 (Dense)             (None, 4)                 404       \n",
      "                                                                 \n",
      "=================================================================\n",
      "Total params: 618,804\n",
      "Trainable params: 618,804\n",
      "Non-trainable params: 0\n",
      "_________________________________________________________________\n"
     ]
    }
   ],
   "source": [
    "model.summary()"
   ]
  },
  {
   "cell_type": "code",
   "execution_count": 17,
   "id": "4f5d1c35",
   "metadata": {
    "scrolled": true
   },
   "outputs": [
    {
     "name": "stdout",
     "output_type": "stream",
     "text": [
      "Epoch 1/20\n",
      "19/19 [==============================] - 30s 1s/step - loss: 1.5425 - accuracy: 0.2584 - val_loss: 1.3823 - val_accuracy: 0.2713\n",
      "Epoch 2/20\n",
      "19/19 [==============================] - 25s 1s/step - loss: 1.3729 - accuracy: 0.2973 - val_loss: 1.3659 - val_accuracy: 0.3017\n",
      "Epoch 3/20\n",
      "19/19 [==============================] - 25s 1s/step - loss: 1.3626 - accuracy: 0.3124 - val_loss: 1.3693 - val_accuracy: 0.3054\n",
      "Epoch 4/20\n",
      "19/19 [==============================] - 29s 2s/step - loss: 1.3452 - accuracy: 0.3364 - val_loss: 1.3699 - val_accuracy: 0.2958\n",
      "Epoch 5/20\n",
      "19/19 [==============================] - 31s 2s/step - loss: 1.3317 - accuracy: 0.3527 - val_loss: 1.3701 - val_accuracy: 0.3071\n",
      "Epoch 6/20\n",
      "19/19 [==============================] - 32s 2s/step - loss: 1.3124 - accuracy: 0.3669 - val_loss: 1.3810 - val_accuracy: 0.3171\n",
      "Epoch 7/20\n",
      "19/19 [==============================] - 32s 2s/step - loss: 1.2864 - accuracy: 0.3947 - val_loss: 1.4132 - val_accuracy: 0.2962\n",
      "Epoch 8/20\n",
      "19/19 [==============================] - 32s 2s/step - loss: 1.2676 - accuracy: 0.3992 - val_loss: 1.4184 - val_accuracy: 0.2783\n",
      "Epoch 9/20\n",
      "19/19 [==============================] - 31s 2s/step - loss: 1.2432 - accuracy: 0.4254 - val_loss: 1.4120 - val_accuracy: 0.2962\n",
      "Epoch 10/20\n",
      "19/19 [==============================] - 31s 2s/step - loss: 1.1997 - accuracy: 0.4529 - val_loss: 1.4303 - val_accuracy: 0.3017\n",
      "Epoch 11/20\n",
      "19/19 [==============================] - 31s 2s/step - loss: 1.1667 - accuracy: 0.4740 - val_loss: 1.4437 - val_accuracy: 0.3029\n",
      "Epoch 12/20\n",
      "19/19 [==============================] - 31s 2s/step - loss: 1.1280 - accuracy: 0.4984 - val_loss: 1.4899 - val_accuracy: 0.2850\n",
      "Epoch 13/20\n",
      "19/19 [==============================] - 31s 2s/step - loss: 1.0954 - accuracy: 0.5108 - val_loss: 1.5164 - val_accuracy: 0.2846\n",
      "Epoch 14/20\n",
      "19/19 [==============================] - 32s 2s/step - loss: 1.0440 - accuracy: 0.5455 - val_loss: 1.5503 - val_accuracy: 0.2804\n",
      "Epoch 15/20\n",
      "19/19 [==============================] - 30s 2s/step - loss: 0.9924 - accuracy: 0.5729 - val_loss: 1.5762 - val_accuracy: 0.2912\n",
      "Epoch 16/20\n",
      "19/19 [==============================] - 32s 2s/step - loss: 0.9497 - accuracy: 0.5930 - val_loss: 1.6310 - val_accuracy: 0.2758\n",
      "Epoch 17/20\n",
      "19/19 [==============================] - 28s 1s/step - loss: 0.9121 - accuracy: 0.6148 - val_loss: 1.6915 - val_accuracy: 0.2850\n",
      "Epoch 18/20\n",
      "19/19 [==============================] - 25s 1s/step - loss: 0.8708 - accuracy: 0.6335 - val_loss: 1.7267 - val_accuracy: 0.2871\n",
      "Epoch 19/20\n",
      "19/19 [==============================] - 25s 1s/step - loss: 0.8286 - accuracy: 0.6515 - val_loss: 1.7618 - val_accuracy: 0.2812\n",
      "Epoch 20/20\n",
      "19/19 [==============================] - 25s 1s/step - loss: 0.7819 - accuracy: 0.6752 - val_loss: 1.7929 - val_accuracy: 0.2937\n"
     ]
    }
   ],
   "source": [
    "train = model.fit(train_X, train_y, epochs=20, batch_size=512, validation_split=0.2)\n"
   ]
  },
  {
   "cell_type": "code",
   "execution_count": 67,
   "id": "ef6d3463",
   "metadata": {},
   "outputs": [
    {
     "name": "stdout",
     "output_type": "stream",
     "text": [
      "32/32 [==============================] - 1s 43ms/step - loss: 1.6077 - accuracy: 0.2530\n"
     ]
    },
    {
     "data": {
      "text/plain": [
       "[1.607657790184021, 0.2529999911785126]"
      ]
     },
     "execution_count": 67,
     "metadata": {},
     "output_type": "execute_result"
    }
   ],
   "source": [
    "model.evaluate(test_X, test_y)"
   ]
  },
  {
   "cell_type": "markdown",
   "id": "b280d442",
   "metadata": {},
   "source": [
    "Very poor accuracy (25% would be random chance). Even with the updated dataset, Spacy performs more poorly than the TF-IDF set. Could also be that the RNN model isn't very good. "
   ]
  },
  {
   "cell_type": "markdown",
   "id": "69060882",
   "metadata": {},
   "source": [
    "## Plotting"
   ]
  },
  {
   "cell_type": "code",
   "execution_count": 18,
   "id": "49a7e7b5",
   "metadata": {},
   "outputs": [
    {
     "data": {
      "image/png": "[encoded data removed]",
      "text/plain": [
       "<Figure size 432x288 with 1 Axes>"
      ]
     },
     "metadata": {
      "needs_background": "light"
     },
     "output_type": "display_data"
    }
   ],
   "source": [
    "plt.plot(train.history['accuracy'])\n",
    "plt.plot(train.history['val_accuracy'])\n",
    "plt.title('Model accuracy')\n",
    "plt.ylabel('Accuracy')\n",
    "plt.xlabel('Epoch')\n",
    "plt.legend(['train', 'validation'], loc='upper left')\n",
    "plt.show()"
   ]
  },
  {
   "cell_type": "code",
   "execution_count": 24,
   "id": "c9d3cf67",
   "metadata": {},
   "outputs": [
    {
     "data": {
      "text/plain": [
       "dict_keys(['loss', 'accuracy', 'val_loss', 'val_accuracy'])"
      ]
     },
     "execution_count": 24,
     "metadata": {},
     "output_type": "execute_result"
    }
   ],
   "source": [
    "epochs = range('')"
   ]
  },
  {
   "cell_type": "code",
   "execution_count": 27,
   "id": "19aa0439",
   "metadata": {},
   "outputs": [
    {
     "name": "stdout",
     "output_type": "stream",
     "text": [
      "Highest model accuracy is 31.71% which occurs at 5 epochs.\n"
     ]
    }
   ],
   "source": [
    "print(f\"Highest model accuracy is {round(max(train.history['val_accuracy'])*100,2)}% \\\n",
    "which occurs at {train.history['val_accuracy'].index(max(train.history['val_accuracy']))} epochs.\")\n",
    "     "
   ]
  },
  {
   "cell_type": "code",
   "execution_count": null,
   "id": "e3999d89",
   "metadata": {},
   "outputs": [],
   "source": []
  }
 ],
 "metadata": {
  "kernelspec": {
   "display_name": "Python 3",
   "language": "python",
   "name": "python3"
  },
  "language_info": {
   "codemirror_mode": {
    "name": "ipython",
    "version": 3
   },
   "file_extension": ".py",
   "mimetype": "text/x-python",
   "name": "python",
   "nbconvert_exporter": "python",
   "pygments_lexer": "ipython3",
   "version": "3.8.8"
  }
 },
 "nbformat": 4,
 "nbformat_minor": 5
}
