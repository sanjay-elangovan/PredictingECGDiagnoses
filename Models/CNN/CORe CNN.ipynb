{
 "cells": [
  {
   "cell_type": "code",
   "execution_count": 1,
   "id": "2667e604",
   "metadata": {},
   "outputs": [],
   "source": [
    "import tensorflow as tf\n",
    "from tensorflow.keras.layers import Dense, Flatten, Conv3D, Conv2D, MaxPooling3D, MaxPooling2D\n",
    "import numpy as np\n",
    "import matplotlib.pyplot as plt\n",
    "import pickle\n",
    "import numpy as np\n",
    "from tensorflow import keras\n",
    "from sklearn.model_selection import train_test_split\n"
   ]
  },
  {
   "cell_type": "markdown",
   "id": "54cf6ce6",
   "metadata": {},
   "source": [
    "## Load CORe Embeddings"
   ]
  },
  {
   "cell_type": "markdown",
   "id": "75cd1954",
   "metadata": {},
   "source": [
    "### Load in CORe Embeddings"
   ]
  },
  {
   "cell_type": "code",
   "execution_count": 2,
   "id": "2fc6b7e3",
   "metadata": {},
   "outputs": [],
   "source": [
    "embeddings = np.load('/home/sanjaycollege15/PredictingDiagnoses/Data/ekg_denoised_CORe_embeddings_30k.npy')\n",
    "labels = np.load('/home/sanjaycollege15/PredictingDiagnoses/Data/ekg_denoised_CORe_labels_30k.npy')\n"
   ]
  },
  {
   "cell_type": "markdown",
   "id": "7c7e3b63",
   "metadata": {},
   "source": [
    "### Train/Test Split"
   ]
  },
  {
   "cell_type": "code",
   "execution_count": 3,
   "id": "5f87426d",
   "metadata": {},
   "outputs": [],
   "source": [
    "train_X, test_X, train_y, test_y = train_test_split(embeddings, labels, test_size=0.20, random_state=42, stratify=labels)\n",
    "del embeddings\n",
    "del labels\n"
   ]
  },
  {
   "cell_type": "markdown",
   "id": "46eb552a",
   "metadata": {},
   "source": [
    "## CNN Models"
   ]
  },
  {
   "cell_type": "code",
   "execution_count": 7,
   "id": "b9eb011d",
   "metadata": {},
   "outputs": [],
   "source": [
    "# Specify model hyperparameters.\n",
    "embed_dim = 5\n",
    "num_filters = [3, 5]\n",
    "kernel_sizes = [3, 5]\n",
    "dense_layer_dims = [10]\n",
    "dropout_rate = 0.7\n",
    "num_classes = 4"
   ]
  },
  {
   "cell_type": "code",
   "execution_count": 8,
   "id": "b9b06561",
   "metadata": {},
   "outputs": [],
   "source": [
    "inputs = tf.keras.layers.Input(shape=(264,768))\n",
    "conv_layers_for_all_kernel_sizes = []\n",
    "for kernel_size, filters in zip(kernel_sizes, num_filters):\n",
    "    conv_layer = keras.layers.Conv1D(filters=filters, kernel_size=kernel_size, activation='relu')(inputs)\n",
    "    conv_layer = keras.layers.GlobalMaxPooling1D()(conv_layer)\n",
    "    conv_layers_for_all_kernel_sizes.append(conv_layer)\n",
    "\n",
    "h = keras.layers.concatenate(conv_layers_for_all_kernel_sizes, axis=1)\n",
    "\n",
    "h = keras.layers.Dropout(rate=dropout_rate)(h)\n",
    "\n",
    "for i in dense_layer_dims:\n",
    "    h=keras.layers.Dense(i, activation='relu')(h)\n",
    "\n",
    "prediction = keras.layers.Dense(num_classes, activation='softmax')(h)\n",
    "\n",
    "model = keras.Model(inputs=inputs, outputs=prediction)\n",
    "model.compile(optimizer='adam',\n",
    "              loss='sparse_categorical_crossentropy', \n",
    "              metrics=['sparse_categorical_accuracy'])"
   ]
  },
  {
   "cell_type": "code",
   "execution_count": 9,
   "id": "fc023a02",
   "metadata": {
    "scrolled": true
   },
   "outputs": [
    {
     "name": "stdout",
     "output_type": "stream",
     "text": [
      "Model: \"model_1\"\n",
      "__________________________________________________________________________________________________\n",
      " Layer (type)                   Output Shape         Param #     Connected to                     \n",
      "==================================================================================================\n",
      " input_2 (InputLayer)           [(None, 264, 768)]   0           []                               \n",
      "                                                                                                  \n",
      " conv1d_1 (Conv1D)              (None, 262, 3)       6915        ['input_2[0][0]']                \n",
      "                                                                                                  \n",
      " conv1d_2 (Conv1D)              (None, 260, 5)       19205       ['input_2[0][0]']                \n",
      "                                                                                                  \n",
      " global_max_pooling1d_1 (Global  (None, 3)           0           ['conv1d_1[0][0]']               \n",
      " MaxPooling1D)                                                                                    \n",
      "                                                                                                  \n",
      " global_max_pooling1d_2 (Global  (None, 5)           0           ['conv1d_2[0][0]']               \n",
      " MaxPooling1D)                                                                                    \n",
      "                                                                                                  \n",
      " concatenate_1 (Concatenate)    (None, 8)            0           ['global_max_pooling1d_1[0][0]', \n",
      "                                                                  'global_max_pooling1d_2[0][0]'] \n",
      "                                                                                                  \n",
      " dropout_1 (Dropout)            (None, 8)            0           ['concatenate_1[0][0]']          \n",
      "                                                                                                  \n",
      " dense_3 (Dense)                (None, 10)           90          ['dropout_1[0][0]']              \n",
      "                                                                                                  \n",
      " dense_4 (Dense)                (None, 4)            44          ['dense_3[0][0]']                \n",
      "                                                                                                  \n",
      "==================================================================================================\n",
      "Total params: 26,254\n",
      "Trainable params: 26,254\n",
      "Non-trainable params: 0\n",
      "__________________________________________________________________________________________________\n"
     ]
    }
   ],
   "source": [
    "model.summary()"
   ]
  },
  {
   "cell_type": "code",
   "execution_count": 10,
   "id": "1f8472bd",
   "metadata": {
    "scrolled": true
   },
   "outputs": [
    {
     "name": "stdout",
     "output_type": "stream",
     "text": [
      "Epoch 1/10\n",
      "600/600 [==============================] - 31s 48ms/step - loss: 1.3916 - sparse_categorical_accuracy: 0.2481 - val_loss: 1.3863 - val_sparse_categorical_accuracy: 0.2483\n",
      "Epoch 2/10\n",
      "600/600 [==============================] - 22s 37ms/step - loss: 1.3864 - sparse_categorical_accuracy: 0.2444 - val_loss: 1.3864 - val_sparse_categorical_accuracy: 0.2483\n",
      "Epoch 3/10\n",
      "600/600 [==============================] - 22s 37ms/step - loss: 1.3864 - sparse_categorical_accuracy: 0.2487 - val_loss: 1.3865 - val_sparse_categorical_accuracy: 0.2477\n",
      "Epoch 4/10\n",
      "600/600 [==============================] - 23s 38ms/step - loss: 1.3864 - sparse_categorical_accuracy: 0.2459 - val_loss: 1.3866 - val_sparse_categorical_accuracy: 0.2483\n",
      "Epoch 5/10\n",
      "600/600 [==============================] - 23s 38ms/step - loss: 1.3864 - sparse_categorical_accuracy: 0.2491 - val_loss: 1.3865 - val_sparse_categorical_accuracy: 0.2483\n",
      "Epoch 6/10\n",
      "600/600 [==============================] - 23s 38ms/step - loss: 1.3864 - sparse_categorical_accuracy: 0.2429 - val_loss: 1.3865 - val_sparse_categorical_accuracy: 0.2477\n",
      "Epoch 7/10\n",
      "600/600 [==============================] - 22s 37ms/step - loss: 1.3864 - sparse_categorical_accuracy: 0.2479 - val_loss: 1.3864 - val_sparse_categorical_accuracy: 0.2477\n",
      "Epoch 8/10\n",
      "600/600 [==============================] - 23s 38ms/step - loss: 1.3864 - sparse_categorical_accuracy: 0.2447 - val_loss: 1.3865 - val_sparse_categorical_accuracy: 0.2479\n",
      "Epoch 9/10\n",
      "600/600 [==============================] - 22s 37ms/step - loss: 1.3864 - sparse_categorical_accuracy: 0.2473 - val_loss: 1.3863 - val_sparse_categorical_accuracy: 0.2477\n",
      "Epoch 10/10\n",
      "600/600 [==============================] - 22s 37ms/step - loss: 1.3864 - sparse_categorical_accuracy: 0.2496 - val_loss: 1.3863 - val_sparse_categorical_accuracy: 0.2477\n"
     ]
    }
   ],
   "source": [
    "train = model.fit(train_X, train_y, epochs=10, validation_split=0.2)\n"
   ]
  },
  {
   "cell_type": "code",
   "execution_count": 11,
   "id": "a6acfdd8",
   "metadata": {},
   "outputs": [
    {
     "name": "stdout",
     "output_type": "stream",
     "text": [
      "188/188 [==============================] - 2s 12ms/step - loss: 1.3863 - sparse_categorical_accuracy: 0.2505\n"
     ]
    },
    {
     "data": {
      "text/plain": [
       "[1.386290192604065, 0.25049999356269836]"
      ]
     },
     "execution_count": 11,
     "metadata": {},
     "output_type": "execute_result"
    }
   ],
   "source": [
    "model.evaluate(test_X, test_y)"
   ]
  },
  {
   "cell_type": "code",
   "execution_count": 12,
   "id": "a15a8464",
   "metadata": {},
   "outputs": [
    {
     "data": {
      "image/png": "[encoded data removed]",
      "text/plain": [
       "<Figure size 432x288 with 1 Axes>"
      ]
     },
     "metadata": {
      "needs_background": "light"
     },
     "output_type": "display_data"
    }
   ],
   "source": [
    "plt.plot(train.history['sparse_categorical_accuracy'])\n",
    "plt.plot(train.history['val_sparse_categorical_accuracy'])\n",
    "plt.title('Model accuracy')\n",
    "plt.ylabel('Accuracy')\n",
    "plt.xlabel('Epoch')\n",
    "plt.legend(['train', 'validation'], loc='upper left')\n",
    "plt.show()"
   ]
  },
  {
   "cell_type": "markdown",
   "id": "5bac6de1",
   "metadata": {},
   "source": [
    "---"
   ]
  },
  {
   "cell_type": "code",
   "execution_count": 4,
   "id": "058040b4",
   "metadata": {},
   "outputs": [],
   "source": [
    "# Specify model hyperparameters.\n",
    "embed_dim = 5\n",
    "num_filters = [2, 10, 20]\n",
    "kernel_sizes = [3, 4, 5]\n",
    "dense_layer_dims = [10, 4]\n",
    "dropout_rate = 0.7\n",
    "num_classes = 4"
   ]
  },
  {
   "cell_type": "code",
   "execution_count": 5,
   "id": "db3c7877",
   "metadata": {},
   "outputs": [],
   "source": [
    "inputs = tf.keras.layers.Input(shape=(264,768))\n",
    "conv_layers_for_all_kernel_sizes = []\n",
    "for kernel_size, filters in zip(kernel_sizes, num_filters):\n",
    "    conv_layer = keras.layers.Conv1D(filters=filters, kernel_size=kernel_size, activation='relu')(inputs)\n",
    "    conv_layer = keras.layers.GlobalMaxPooling1D()(conv_layer)\n",
    "    conv_layers_for_all_kernel_sizes.append(conv_layer)\n",
    "\n",
    "h = keras.layers.concatenate(conv_layers_for_all_kernel_sizes, axis=1)\n",
    "\n",
    "h = keras.layers.Dropout(rate=dropout_rate)(h)\n",
    "\n",
    "for i in dense_layer_dims:\n",
    "    h=keras.layers.Dense(i, activation='relu')(h)\n",
    "\n",
    "prediction = keras.layers.Dense(num_classes, activation='softmax')(h)\n",
    "\n",
    "model = keras.Model(inputs=inputs, outputs=prediction)\n",
    "model.compile(optimizer='adam',\n",
    "              loss='sparse_categorical_crossentropy', \n",
    "              metrics=['sparse_categorical_accuracy'])"
   ]
  },
  {
   "cell_type": "code",
   "execution_count": 6,
   "id": "ae2228b3",
   "metadata": {
    "scrolled": true
   },
   "outputs": [
    {
     "name": "stdout",
     "output_type": "stream",
     "text": [
      "Epoch 1/30\n",
      "600/600 [==============================] - 44s 71ms/step - loss: 1.3904 - sparse_categorical_accuracy: 0.2495 - val_loss: 1.3864 - val_sparse_categorical_accuracy: 0.2477\n",
      "Epoch 2/30\n",
      "600/600 [==============================] - 37s 61ms/step - loss: 1.3864 - sparse_categorical_accuracy: 0.2500 - val_loss: 1.3865 - val_sparse_categorical_accuracy: 0.2477\n",
      "Epoch 3/30\n",
      "600/600 [==============================] - 37s 62ms/step - loss: 1.3863 - sparse_categorical_accuracy: 0.2516 - val_loss: 1.3864 - val_sparse_categorical_accuracy: 0.2483\n",
      "Epoch 4/30\n",
      "600/600 [==============================] - 37s 62ms/step - loss: 1.3864 - sparse_categorical_accuracy: 0.2528 - val_loss: 1.3865 - val_sparse_categorical_accuracy: 0.2479\n",
      "Epoch 5/30\n",
      "600/600 [==============================] - 37s 62ms/step - loss: 1.3866 - sparse_categorical_accuracy: 0.2503 - val_loss: 1.3864 - val_sparse_categorical_accuracy: 0.2479\n",
      "Epoch 6/30\n",
      "600/600 [==============================] - 37s 62ms/step - loss: 1.3864 - sparse_categorical_accuracy: 0.2459 - val_loss: 1.3865 - val_sparse_categorical_accuracy: 0.2483\n",
      "Epoch 7/30\n",
      "600/600 [==============================] - 39s 65ms/step - loss: 1.3864 - sparse_categorical_accuracy: 0.2460 - val_loss: 1.3865 - val_sparse_categorical_accuracy: 0.2483\n",
      "Epoch 8/30\n",
      "600/600 [==============================] - 37s 62ms/step - loss: 1.3864 - sparse_categorical_accuracy: 0.2514 - val_loss: 1.3865 - val_sparse_categorical_accuracy: 0.2477\n",
      "Epoch 9/30\n",
      "600/600 [==============================] - 37s 62ms/step - loss: 1.3864 - sparse_categorical_accuracy: 0.2474 - val_loss: 1.3864 - val_sparse_categorical_accuracy: 0.2483\n",
      "Epoch 10/30\n",
      "600/600 [==============================] - 37s 62ms/step - loss: 1.3863 - sparse_categorical_accuracy: 0.2495 - val_loss: 1.3865 - val_sparse_categorical_accuracy: 0.2479\n",
      "Epoch 11/30\n",
      "600/600 [==============================] - 38s 63ms/step - loss: 1.3864 - sparse_categorical_accuracy: 0.2464 - val_loss: 1.3865 - val_sparse_categorical_accuracy: 0.2479\n",
      "Epoch 12/30\n",
      "600/600 [==============================] - 37s 62ms/step - loss: 1.3863 - sparse_categorical_accuracy: 0.2503 - val_loss: 1.3864 - val_sparse_categorical_accuracy: 0.2479\n",
      "Epoch 13/30\n",
      "600/600 [==============================] - 38s 63ms/step - loss: 1.3864 - sparse_categorical_accuracy: 0.2455 - val_loss: 1.3864 - val_sparse_categorical_accuracy: 0.2483\n",
      "Epoch 14/30\n",
      "600/600 [==============================] - 38s 64ms/step - loss: 1.3864 - sparse_categorical_accuracy: 0.2494 - val_loss: 1.3865 - val_sparse_categorical_accuracy: 0.2477\n",
      "Epoch 15/30\n",
      "600/600 [==============================] - 38s 64ms/step - loss: 1.3864 - sparse_categorical_accuracy: 0.2486 - val_loss: 1.3866 - val_sparse_categorical_accuracy: 0.2479\n",
      "Epoch 16/30\n",
      "600/600 [==============================] - 38s 63ms/step - loss: 1.3864 - sparse_categorical_accuracy: 0.2485 - val_loss: 1.3864 - val_sparse_categorical_accuracy: 0.2483\n",
      "Epoch 17/30\n",
      "600/600 [==============================] - 38s 64ms/step - loss: 1.3863 - sparse_categorical_accuracy: 0.2497 - val_loss: 1.3865 - val_sparse_categorical_accuracy: 0.2477\n",
      "Epoch 18/30\n",
      "600/600 [==============================] - 38s 63ms/step - loss: 1.3865 - sparse_categorical_accuracy: 0.2485 - val_loss: 1.3867 - val_sparse_categorical_accuracy: 0.2477\n",
      "Epoch 19/30\n",
      "600/600 [==============================] - 38s 63ms/step - loss: 1.3863 - sparse_categorical_accuracy: 0.2522 - val_loss: 1.3864 - val_sparse_categorical_accuracy: 0.2479\n",
      "Epoch 20/30\n",
      "600/600 [==============================] - 39s 64ms/step - loss: 1.3864 - sparse_categorical_accuracy: 0.2459 - val_loss: 1.3866 - val_sparse_categorical_accuracy: 0.2479\n",
      "Epoch 21/30\n",
      "600/600 [==============================] - 38s 64ms/step - loss: 1.3864 - sparse_categorical_accuracy: 0.2518 - val_loss: 1.3865 - val_sparse_categorical_accuracy: 0.2483\n",
      "Epoch 22/30\n",
      "600/600 [==============================] - 38s 63ms/step - loss: 1.3863 - sparse_categorical_accuracy: 0.2441 - val_loss: 1.3864 - val_sparse_categorical_accuracy: 0.2479\n",
      "Epoch 23/30\n",
      "600/600 [==============================] - 38s 64ms/step - loss: 1.3864 - sparse_categorical_accuracy: 0.2471 - val_loss: 1.3866 - val_sparse_categorical_accuracy: 0.2483\n",
      "Epoch 24/30\n",
      "600/600 [==============================] - 38s 64ms/step - loss: 1.3864 - sparse_categorical_accuracy: 0.2484 - val_loss: 1.3865 - val_sparse_categorical_accuracy: 0.2477\n",
      "Epoch 25/30\n",
      "600/600 [==============================] - 38s 64ms/step - loss: 1.3864 - sparse_categorical_accuracy: 0.2455 - val_loss: 1.3866 - val_sparse_categorical_accuracy: 0.2477\n",
      "Epoch 26/30\n",
      "600/600 [==============================] - 39s 64ms/step - loss: 1.3864 - sparse_categorical_accuracy: 0.2474 - val_loss: 1.3864 - val_sparse_categorical_accuracy: 0.2479\n",
      "Epoch 27/30\n",
      "600/600 [==============================] - 38s 64ms/step - loss: 1.3863 - sparse_categorical_accuracy: 0.2489 - val_loss: 1.3864 - val_sparse_categorical_accuracy: 0.2479\n",
      "Epoch 28/30\n",
      "600/600 [==============================] - 38s 64ms/step - loss: 1.3864 - sparse_categorical_accuracy: 0.2449 - val_loss: 1.3864 - val_sparse_categorical_accuracy: 0.2479\n",
      "Epoch 29/30\n",
      "600/600 [==============================] - 38s 63ms/step - loss: 1.3864 - sparse_categorical_accuracy: 0.2496 - val_loss: 1.3866 - val_sparse_categorical_accuracy: 0.2477\n",
      "Epoch 30/30\n",
      "600/600 [==============================] - 38s 64ms/step - loss: 1.3864 - sparse_categorical_accuracy: 0.2503 - val_loss: 1.3865 - val_sparse_categorical_accuracy: 0.2479\n"
     ]
    }
   ],
   "source": [
    "train = model.fit(train_X, train_y, epochs=30, validation_split=0.2)\n"
   ]
  },
  {
   "cell_type": "code",
   "execution_count": 7,
   "id": "a931ad69",
   "metadata": {},
   "outputs": [
    {
     "data": {
      "image/png": "[encoded data removed]",
      "text/plain": [
       "<Figure size 432x288 with 1 Axes>"
      ]
     },
     "metadata": {
      "needs_background": "light"
     },
     "output_type": "display_data"
    }
   ],
   "source": [
    "plt.plot(train.history['sparse_categorical_accuracy'])\n",
    "plt.plot(train.history['val_sparse_categorical_accuracy'])\n",
    "plt.title('Model accuracy')\n",
    "plt.ylabel('Accuracy')\n",
    "plt.xlabel('Epoch')\n",
    "plt.legend(['train', 'validation'], loc='upper left')\n",
    "plt.show()"
   ]
  },
  {
   "cell_type": "code",
   "execution_count": null,
   "id": "8d77d361",
   "metadata": {},
   "outputs": [],
   "source": []
  }
 ],
 "metadata": {
  "kernelspec": {
   "display_name": "Python 3",
   "language": "python",
   "name": "python3"
  },
  "language_info": {
   "codemirror_mode": {
    "name": "ipython",
    "version": 3
   },
   "file_extension": ".py",
   "mimetype": "text/x-python",
   "name": "python",
   "nbconvert_exporter": "python",
   "pygments_lexer": "ipython3",
   "version": "3.8.8"
  }
 },
 "nbformat": 4,
 "nbformat_minor": 5
}
