{
 "cells": [
  {
   "cell_type": "code",
   "execution_count": 1,
   "id": "2667e604",
   "metadata": {},
   "outputs": [],
   "source": [
    "import tensorflow as tf\n",
    "from tensorflow.keras.layers import Dense, Flatten, Conv3D, Conv2D, MaxPooling3D, MaxPooling2D\n",
    "import numpy as np\n",
    "import matplotlib.pyplot as plt\n",
    "import pickle\n",
    "import numpy as np\n",
    "from tensorflow import keras\n",
    "from sklearn.model_selection import train_test_split\n"
   ]
  },
  {
   "cell_type": "markdown",
   "id": "54cf6ce6",
   "metadata": {},
   "source": [
    "## Load Spacy Embeddings"
   ]
  },
  {
   "cell_type": "markdown",
   "id": "75cd1954",
   "metadata": {},
   "source": [
    "### Load in Spacy Embeddings"
   ]
  },
  {
   "cell_type": "code",
   "execution_count": 2,
   "id": "2fc6b7e3",
   "metadata": {},
   "outputs": [],
   "source": [
    "embeddings = np.load('/home/sanjaycollege15/PredictingDiagnoses/Data/ekg_denoised_spacy_RNN_embeddings_v2.npy')\n",
    "labels = np.load('/home/sanjaycollege15/PredictingDiagnoses/Data/ekg_denoised_spacy_RNN_values_v2.npy')"
   ]
  },
  {
   "cell_type": "markdown",
   "id": "7c7e3b63",
   "metadata": {},
   "source": [
    "### Train/Test Split"
   ]
  },
  {
   "cell_type": "code",
   "execution_count": 3,
   "id": "5f87426d",
   "metadata": {},
   "outputs": [],
   "source": [
    "train_X, test_X, train_y, test_y = train_test_split(embeddings, labels, test_size=0.20, random_state=42, stratify=labels)\n",
    "del embeddings\n",
    "del labels\n"
   ]
  },
  {
   "cell_type": "markdown",
   "id": "46eb552a",
   "metadata": {},
   "source": [
    "## CNN Models"
   ]
  },
  {
   "cell_type": "code",
   "execution_count": 4,
   "id": "058040b4",
   "metadata": {},
   "outputs": [],
   "source": [
    "# Specify model hyperparameters.\n",
    "embed_dim = 5\n",
    "num_filters = [2, 10, 20]\n",
    "kernel_sizes = [3, 4, 5]\n",
    "dense_layer_dims = [10, 4]\n",
    "dropout_rate = 0.7\n",
    "num_classes = 4"
   ]
  },
  {
   "cell_type": "code",
   "execution_count": 7,
   "id": "db3c7877",
   "metadata": {},
   "outputs": [],
   "source": [
    "inputs = tf.keras.layers.Input(shape=(202,300))\n",
    "conv_layers_for_all_kernel_sizes = []\n",
    "for kernel_size, filters in zip(kernel_sizes, num_filters):\n",
    "    conv_layer = keras.layers.Conv1D(filters=filters, kernel_size=kernel_size, activation='relu')(inputs)\n",
    "    conv_layer = keras.layers.GlobalMaxPooling1D()(conv_layer)\n",
    "    conv_layers_for_all_kernel_sizes.append(conv_layer)\n",
    "\n",
    "h = keras.layers.concatenate(conv_layers_for_all_kernel_sizes, axis=1)\n",
    "\n",
    "h = keras.layers.Dropout(rate=dropout_rate)(h)\n",
    "\n",
    "for i in dense_layer_dims:\n",
    "    h=keras.layers.Dense(i, activation='relu')(h)\n",
    "\n",
    "prediction = keras.layers.Dense(num_classes, activation='softmax')(h)\n",
    "\n",
    "model = keras.Model(inputs=inputs, outputs=prediction)\n",
    "model.compile(optimizer='adam',\n",
    "              loss='sparse_categorical_crossentropy', \n",
    "              metrics=['sparse_categorical_accuracy'])"
   ]
  },
  {
   "cell_type": "code",
   "execution_count": 8,
   "id": "ae2228b3",
   "metadata": {
    "scrolled": true
   },
   "outputs": [
    {
     "name": "stdout",
     "output_type": "stream",
     "text": [
      "Epoch 1/20\n",
      "1364/1364 [==============================] - 36s 26ms/step - loss: 1.3904 - sparse_categorical_accuracy: 0.2514 - val_loss: 1.3863 - val_sparse_categorical_accuracy: 0.2473\n",
      "Epoch 2/20\n",
      "1364/1364 [==============================] - 30s 22ms/step - loss: 1.3867 - sparse_categorical_accuracy: 0.2458 - val_loss: 1.3864 - val_sparse_categorical_accuracy: 0.2479\n",
      "Epoch 3/20\n",
      "1364/1364 [==============================] - 32s 24ms/step - loss: 1.3866 - sparse_categorical_accuracy: 0.2480 - val_loss: 1.3863 - val_sparse_categorical_accuracy: 0.2473\n",
      "Epoch 4/20\n",
      "1364/1364 [==============================] - 30s 22ms/step - loss: 1.3864 - sparse_categorical_accuracy: 0.2512 - val_loss: 1.3864 - val_sparse_categorical_accuracy: 0.2533\n",
      "Epoch 5/20\n",
      "1364/1364 [==============================] - 30s 22ms/step - loss: 1.3865 - sparse_categorical_accuracy: 0.2468 - val_loss: 1.3863 - val_sparse_categorical_accuracy: 0.2533\n",
      "Epoch 6/20\n",
      "1364/1364 [==============================] - 30s 22ms/step - loss: 1.3864 - sparse_categorical_accuracy: 0.2484 - val_loss: 1.3864 - val_sparse_categorical_accuracy: 0.2473\n",
      "Epoch 7/20\n",
      "1364/1364 [==============================] - 30s 22ms/step - loss: 1.3864 - sparse_categorical_accuracy: 0.2503 - val_loss: 1.3863 - val_sparse_categorical_accuracy: 0.2533\n",
      "Epoch 8/20\n",
      "1364/1364 [==============================] - 30s 22ms/step - loss: 1.3863 - sparse_categorical_accuracy: 0.2485 - val_loss: 1.3863 - val_sparse_categorical_accuracy: 0.2473\n",
      "Epoch 9/20\n",
      "1364/1364 [==============================] - 30s 22ms/step - loss: 1.3851 - sparse_categorical_accuracy: 0.2509 - val_loss: 1.3851 - val_sparse_categorical_accuracy: 0.2596\n",
      "Epoch 10/20\n",
      "1364/1364 [==============================] - 30s 22ms/step - loss: 1.3850 - sparse_categorical_accuracy: 0.2517 - val_loss: 1.3849 - val_sparse_categorical_accuracy: 0.2562\n",
      "Epoch 11/20\n",
      "1364/1364 [==============================] - 30s 22ms/step - loss: 1.3852 - sparse_categorical_accuracy: 0.2487 - val_loss: 1.3856 - val_sparse_categorical_accuracy: 0.2610\n",
      "Epoch 12/20\n",
      "1364/1364 [==============================] - 29s 21ms/step - loss: 1.3850 - sparse_categorical_accuracy: 0.2470 - val_loss: 1.3850 - val_sparse_categorical_accuracy: 0.2514\n",
      "Epoch 13/20\n",
      "1364/1364 [==============================] - 29s 22ms/step - loss: 1.3847 - sparse_categorical_accuracy: 0.2548 - val_loss: 1.3850 - val_sparse_categorical_accuracy: 0.2625\n",
      "Epoch 14/20\n",
      "1364/1364 [==============================] - 30s 22ms/step - loss: 1.3845 - sparse_categorical_accuracy: 0.2548 - val_loss: 1.3835 - val_sparse_categorical_accuracy: 0.2751\n",
      "Epoch 15/20\n",
      "1364/1364 [==============================] - 30s 22ms/step - loss: 1.3832 - sparse_categorical_accuracy: 0.2666 - val_loss: 1.3808 - val_sparse_categorical_accuracy: 0.2888\n",
      "Epoch 16/20\n",
      "1364/1364 [==============================] - 31s 22ms/step - loss: 1.3803 - sparse_categorical_accuracy: 0.2739 - val_loss: 1.3791 - val_sparse_categorical_accuracy: 0.2925\n",
      "Epoch 17/20\n",
      "1364/1364 [==============================] - 30s 22ms/step - loss: 1.3776 - sparse_categorical_accuracy: 0.2806 - val_loss: 1.3725 - val_sparse_categorical_accuracy: 0.3006\n",
      "Epoch 18/20\n",
      "1364/1364 [==============================] - 30s 22ms/step - loss: 1.3720 - sparse_categorical_accuracy: 0.2903 - val_loss: 1.3691 - val_sparse_categorical_accuracy: 0.3031\n",
      "Epoch 19/20\n",
      "1364/1364 [==============================] - 30s 22ms/step - loss: 1.3674 - sparse_categorical_accuracy: 0.2969 - val_loss: 1.3690 - val_sparse_categorical_accuracy: 0.3063\n",
      "Epoch 20/20\n",
      "1364/1364 [==============================] - 30s 22ms/step - loss: 1.3634 - sparse_categorical_accuracy: 0.3028 - val_loss: 1.3664 - val_sparse_categorical_accuracy: 0.3207\n"
     ]
    }
   ],
   "source": [
    "train = model.fit(train_X, train_y, epochs=20, validation_split=0.2)\n"
   ]
  },
  {
   "cell_type": "code",
   "execution_count": 9,
   "id": "a931ad69",
   "metadata": {},
   "outputs": [
    {
     "data": {
      "image/png": "[encoded data removed]",
      "text/plain": [
       "<Figure size 432x288 with 1 Axes>"
      ]
     },
     "metadata": {
      "needs_background": "light"
     },
     "output_type": "display_data"
    }
   ],
   "source": [
    "plt.plot(train.history['sparse_categorical_accuracy'])\n",
    "plt.plot(train.history['val_sparse_categorical_accuracy'])\n",
    "plt.title('Model accuracy')\n",
    "plt.ylabel('Accuracy')\n",
    "plt.xlabel('Epoch')\n",
    "plt.legend(['train', 'validation'], loc='upper left')\n",
    "plt.show()"
   ]
  },
  {
   "cell_type": "markdown",
   "id": "fcc25c05",
   "metadata": {},
   "source": [
    "---"
   ]
  },
  {
   "cell_type": "code",
   "execution_count": 12,
   "id": "b9eb011d",
   "metadata": {},
   "outputs": [],
   "source": [
    "# Specify model hyperparameters.\n",
    "embed_dim = 5\n",
    "num_filters = [2, 10, 20]\n",
    "kernel_sizes = [3, 4, 5]\n",
    "dense_layer_dims = [10, 4]\n",
    "dropout_rate = 0.7\n",
    "num_classes = 4"
   ]
  },
  {
   "cell_type": "code",
   "execution_count": 13,
   "id": "b9b06561",
   "metadata": {},
   "outputs": [],
   "source": [
    "inputs = tf.keras.layers.Input(shape=(202,300))\n",
    "conv_layers_for_all_kernel_sizes = []\n",
    "for kernel_size, filters in zip(kernel_sizes, num_filters):\n",
    "    conv_layer = keras.layers.Conv1D(filters=filters, kernel_size=kernel_size, activation='relu')(inputs)\n",
    "    conv_layer = keras.layers.GlobalMaxPooling1D()(conv_layer)\n",
    "    conv_layers_for_all_kernel_sizes.append(conv_layer)\n",
    "\n",
    "h = keras.layers.concatenate(conv_layers_for_all_kernel_sizes, axis=1)\n",
    "\n",
    "h = keras.layers.Dropout(rate=dropout_rate)(h)\n",
    "\n",
    "for i in dense_layer_dims:\n",
    "    h=keras.layers.Dense(i, activation='relu')(h)\n",
    "\n",
    "prediction = keras.layers.Dense(num_classes, activation='softmax')(h)\n",
    "\n",
    "model = keras.Model(inputs=inputs, outputs=prediction)\n",
    "model.compile(optimizer='adam',\n",
    "              loss='sparse_categorical_crossentropy', \n",
    "              metrics=['sparse_categorical_accuracy'])"
   ]
  },
  {
   "cell_type": "code",
   "execution_count": 14,
   "id": "1f8472bd",
   "metadata": {
    "scrolled": true
   },
   "outputs": [
    {
     "name": "stdout",
     "output_type": "stream",
     "text": [
      "Epoch 1/100\n",
      "1364/1364 [==============================] - 34s 24ms/step - loss: 1.3905 - sparse_categorical_accuracy: 0.2639 - val_loss: 1.3751 - val_sparse_categorical_accuracy: 0.2978\n",
      "Epoch 2/100\n",
      "1364/1364 [==============================] - 29s 21ms/step - loss: 1.3784 - sparse_categorical_accuracy: 0.2805 - val_loss: 1.3694 - val_sparse_categorical_accuracy: 0.3157\n",
      "Epoch 3/100\n",
      "1364/1364 [==============================] - 29s 21ms/step - loss: 1.3727 - sparse_categorical_accuracy: 0.2897 - val_loss: 1.3575 - val_sparse_categorical_accuracy: 0.3270\n",
      "Epoch 4/100\n",
      "1364/1364 [==============================] - 34s 25ms/step - loss: 1.3661 - sparse_categorical_accuracy: 0.2991 - val_loss: 1.3549 - val_sparse_categorical_accuracy: 0.3246\n",
      "Epoch 5/100\n",
      "1364/1364 [==============================] - 29s 21ms/step - loss: 1.3623 - sparse_categorical_accuracy: 0.3011 - val_loss: 1.3592 - val_sparse_categorical_accuracy: 0.3159\n",
      "Epoch 6/100\n",
      "1364/1364 [==============================] - 30s 22ms/step - loss: 1.3596 - sparse_categorical_accuracy: 0.3055 - val_loss: 1.3548 - val_sparse_categorical_accuracy: 0.3156\n",
      "Epoch 7/100\n",
      "1364/1364 [==============================] - 30s 22ms/step - loss: 1.3552 - sparse_categorical_accuracy: 0.3095 - val_loss: 1.3538 - val_sparse_categorical_accuracy: 0.3179\n",
      "Epoch 8/100\n",
      "1364/1364 [==============================] - 29s 21ms/step - loss: 1.3521 - sparse_categorical_accuracy: 0.3125 - val_loss: 1.3506 - val_sparse_categorical_accuracy: 0.3128\n",
      "Epoch 9/100\n",
      "1364/1364 [==============================] - 30s 22ms/step - loss: 1.3513 - sparse_categorical_accuracy: 0.3118 - val_loss: 1.3500 - val_sparse_categorical_accuracy: 0.3179\n",
      "Epoch 10/100\n",
      "1364/1364 [==============================] - 29s 22ms/step - loss: 1.3482 - sparse_categorical_accuracy: 0.3141 - val_loss: 1.3533 - val_sparse_categorical_accuracy: 0.3135\n",
      "Epoch 11/100\n",
      "1364/1364 [==============================] - 30s 22ms/step - loss: 1.3444 - sparse_categorical_accuracy: 0.3160 - val_loss: 1.3432 - val_sparse_categorical_accuracy: 0.3237\n",
      "Epoch 12/100\n",
      "1364/1364 [==============================] - 30s 22ms/step - loss: 1.3449 - sparse_categorical_accuracy: 0.3206 - val_loss: 1.3520 - val_sparse_categorical_accuracy: 0.3073\n",
      "Epoch 13/100\n",
      "1364/1364 [==============================] - 30s 22ms/step - loss: 1.3429 - sparse_categorical_accuracy: 0.3194 - val_loss: 1.3436 - val_sparse_categorical_accuracy: 0.3210\n",
      "Epoch 14/100\n",
      "1364/1364 [==============================] - 29s 22ms/step - loss: 1.3404 - sparse_categorical_accuracy: 0.3172 - val_loss: 1.3448 - val_sparse_categorical_accuracy: 0.3247\n",
      "Epoch 15/100\n",
      "1364/1364 [==============================] - 29s 22ms/step - loss: 1.3404 - sparse_categorical_accuracy: 0.3195 - val_loss: 1.3469 - val_sparse_categorical_accuracy: 0.3216\n",
      "Epoch 16/100\n",
      "1364/1364 [==============================] - 30s 22ms/step - loss: 1.3379 - sparse_categorical_accuracy: 0.3232 - val_loss: 1.3440 - val_sparse_categorical_accuracy: 0.3200\n",
      "Epoch 17/100\n",
      "1364/1364 [==============================] - 30s 22ms/step - loss: 1.3383 - sparse_categorical_accuracy: 0.3236 - val_loss: 1.3420 - val_sparse_categorical_accuracy: 0.3193\n",
      "Epoch 18/100\n",
      "1364/1364 [==============================] - 30s 22ms/step - loss: 1.3380 - sparse_categorical_accuracy: 0.3203 - val_loss: 1.3371 - val_sparse_categorical_accuracy: 0.3319\n",
      "Epoch 19/100\n",
      "1364/1364 [==============================] - 30s 22ms/step - loss: 1.3386 - sparse_categorical_accuracy: 0.3245 - val_loss: 1.3368 - val_sparse_categorical_accuracy: 0.3345\n",
      "Epoch 20/100\n",
      "1364/1364 [==============================] - 29s 22ms/step - loss: 1.3374 - sparse_categorical_accuracy: 0.3251 - val_loss: 1.3415 - val_sparse_categorical_accuracy: 0.3325\n",
      "Epoch 21/100\n",
      "1364/1364 [==============================] - 31s 22ms/step - loss: 1.3366 - sparse_categorical_accuracy: 0.3229 - val_loss: 1.3396 - val_sparse_categorical_accuracy: 0.3289\n",
      "Epoch 22/100\n",
      "1364/1364 [==============================] - 30s 22ms/step - loss: 1.3347 - sparse_categorical_accuracy: 0.3288 - val_loss: 1.3406 - val_sparse_categorical_accuracy: 0.3316\n",
      "Epoch 23/100\n",
      "1364/1364 [==============================] - 30s 22ms/step - loss: 1.3340 - sparse_categorical_accuracy: 0.3250 - val_loss: 1.3406 - val_sparse_categorical_accuracy: 0.3276\n",
      "Epoch 24/100\n",
      "1364/1364 [==============================] - 29s 21ms/step - loss: 1.3341 - sparse_categorical_accuracy: 0.3271 - val_loss: 1.3386 - val_sparse_categorical_accuracy: 0.3319\n",
      "Epoch 25/100\n",
      "1364/1364 [==============================] - 29s 22ms/step - loss: 1.3334 - sparse_categorical_accuracy: 0.3262 - val_loss: 1.3354 - val_sparse_categorical_accuracy: 0.3364\n",
      "Epoch 26/100\n",
      "1364/1364 [==============================] - 29s 21ms/step - loss: 1.3344 - sparse_categorical_accuracy: 0.3234 - val_loss: 1.3393 - val_sparse_categorical_accuracy: 0.3339\n",
      "Epoch 27/100\n",
      "1364/1364 [==============================] - 29s 21ms/step - loss: 1.3327 - sparse_categorical_accuracy: 0.3264 - val_loss: 1.3350 - val_sparse_categorical_accuracy: 0.3325\n",
      "Epoch 28/100\n",
      "1364/1364 [==============================] - 29s 22ms/step - loss: 1.3334 - sparse_categorical_accuracy: 0.3257 - val_loss: 1.3367 - val_sparse_categorical_accuracy: 0.3358\n",
      "Epoch 29/100\n",
      "1364/1364 [==============================] - 30s 22ms/step - loss: 1.3315 - sparse_categorical_accuracy: 0.3287 - val_loss: 1.3335 - val_sparse_categorical_accuracy: 0.3361\n",
      "Epoch 30/100\n",
      "1364/1364 [==============================] - 29s 21ms/step - loss: 1.3296 - sparse_categorical_accuracy: 0.3291 - val_loss: 1.3324 - val_sparse_categorical_accuracy: 0.3457\n",
      "Epoch 31/100\n",
      "1364/1364 [==============================] - 29s 22ms/step - loss: 1.3292 - sparse_categorical_accuracy: 0.3299 - val_loss: 1.3307 - val_sparse_categorical_accuracy: 0.3332\n",
      "Epoch 32/100\n",
      "1364/1364 [==============================] - 30s 22ms/step - loss: 1.3292 - sparse_categorical_accuracy: 0.3294 - val_loss: 1.3369 - val_sparse_categorical_accuracy: 0.3361\n",
      "Epoch 33/100\n",
      "1364/1364 [==============================] - 30s 22ms/step - loss: 1.3281 - sparse_categorical_accuracy: 0.3312 - val_loss: 1.3358 - val_sparse_categorical_accuracy: 0.3331\n",
      "Epoch 34/100\n",
      "1364/1364 [==============================] - 29s 22ms/step - loss: 1.3276 - sparse_categorical_accuracy: 0.3310 - val_loss: 1.3324 - val_sparse_categorical_accuracy: 0.3313\n",
      "Epoch 35/100\n",
      "1364/1364 [==============================] - 29s 21ms/step - loss: 1.3281 - sparse_categorical_accuracy: 0.3312 - val_loss: 1.3336 - val_sparse_categorical_accuracy: 0.3342\n",
      "Epoch 36/100\n",
      "1364/1364 [==============================] - 29s 22ms/step - loss: 1.3282 - sparse_categorical_accuracy: 0.3315 - val_loss: 1.3317 - val_sparse_categorical_accuracy: 0.3442\n",
      "Epoch 37/100\n",
      "1364/1364 [==============================] - 31s 23ms/step - loss: 1.3263 - sparse_categorical_accuracy: 0.3354 - val_loss: 1.3330 - val_sparse_categorical_accuracy: 0.3371\n",
      "Epoch 38/100\n",
      "1364/1364 [==============================] - 29s 22ms/step - loss: 1.3267 - sparse_categorical_accuracy: 0.3334 - val_loss: 1.3355 - val_sparse_categorical_accuracy: 0.3353\n",
      "Epoch 39/100\n",
      "1364/1364 [==============================] - 29s 22ms/step - loss: 1.3269 - sparse_categorical_accuracy: 0.3351 - val_loss: 1.3346 - val_sparse_categorical_accuracy: 0.3345\n",
      "Epoch 40/100\n",
      "1364/1364 [==============================] - 30s 22ms/step - loss: 1.3282 - sparse_categorical_accuracy: 0.3341 - val_loss: 1.3364 - val_sparse_categorical_accuracy: 0.3290\n",
      "Epoch 41/100\n",
      "1364/1364 [==============================] - 29s 22ms/step - loss: 1.3261 - sparse_categorical_accuracy: 0.3325 - val_loss: 1.3305 - val_sparse_categorical_accuracy: 0.3338\n",
      "Epoch 42/100\n",
      "1364/1364 [==============================] - 29s 21ms/step - loss: 1.3259 - sparse_categorical_accuracy: 0.3311 - val_loss: 1.3327 - val_sparse_categorical_accuracy: 0.3262\n",
      "Epoch 43/100\n",
      "1364/1364 [==============================] - 29s 22ms/step - loss: 1.3231 - sparse_categorical_accuracy: 0.3359 - val_loss: 1.3339 - val_sparse_categorical_accuracy: 0.3349\n",
      "Epoch 44/100\n",
      "1364/1364 [==============================] - 29s 21ms/step - loss: 1.3235 - sparse_categorical_accuracy: 0.3363 - val_loss: 1.3314 - val_sparse_categorical_accuracy: 0.3278\n",
      "Epoch 45/100\n"
     ]
    },
    {
     "name": "stdout",
     "output_type": "stream",
     "text": [
      "1364/1364 [==============================] - 29s 21ms/step - loss: 1.3225 - sparse_categorical_accuracy: 0.3354 - val_loss: 1.3309 - val_sparse_categorical_accuracy: 0.3437\n",
      "Epoch 46/100\n",
      "1364/1364 [==============================] - 29s 21ms/step - loss: 1.3248 - sparse_categorical_accuracy: 0.3354 - val_loss: 1.3292 - val_sparse_categorical_accuracy: 0.3350\n",
      "Epoch 47/100\n",
      "1364/1364 [==============================] - 29s 21ms/step - loss: 1.3250 - sparse_categorical_accuracy: 0.3340 - val_loss: 1.3304 - val_sparse_categorical_accuracy: 0.3374\n",
      "Epoch 48/100\n",
      "1364/1364 [==============================] - 29s 22ms/step - loss: 1.3250 - sparse_categorical_accuracy: 0.3356 - val_loss: 1.3347 - val_sparse_categorical_accuracy: 0.3393\n",
      "Epoch 49/100\n",
      "1364/1364 [==============================] - 29s 21ms/step - loss: 1.3230 - sparse_categorical_accuracy: 0.3349 - val_loss: 1.3294 - val_sparse_categorical_accuracy: 0.3372\n",
      "Epoch 50/100\n",
      "1364/1364 [==============================] - 29s 21ms/step - loss: 1.3235 - sparse_categorical_accuracy: 0.3337 - val_loss: 1.3302 - val_sparse_categorical_accuracy: 0.3382\n",
      "Epoch 51/100\n",
      "1364/1364 [==============================] - 29s 21ms/step - loss: 1.3227 - sparse_categorical_accuracy: 0.3383 - val_loss: 1.3336 - val_sparse_categorical_accuracy: 0.3372\n",
      "Epoch 52/100\n",
      "1364/1364 [==============================] - 29s 22ms/step - loss: 1.3228 - sparse_categorical_accuracy: 0.3376 - val_loss: 1.3350 - val_sparse_categorical_accuracy: 0.3369\n",
      "Epoch 53/100\n",
      "1364/1364 [==============================] - 29s 22ms/step - loss: 1.3207 - sparse_categorical_accuracy: 0.3418 - val_loss: 1.3322 - val_sparse_categorical_accuracy: 0.3363\n",
      "Epoch 54/100\n",
      "1364/1364 [==============================] - 30s 22ms/step - loss: 1.3221 - sparse_categorical_accuracy: 0.3369 - val_loss: 1.3311 - val_sparse_categorical_accuracy: 0.3402\n",
      "Epoch 55/100\n",
      "1364/1364 [==============================] - 30s 22ms/step - loss: 1.3220 - sparse_categorical_accuracy: 0.3342 - val_loss: 1.3317 - val_sparse_categorical_accuracy: 0.3362\n",
      "Epoch 56/100\n",
      "1364/1364 [==============================] - 30s 22ms/step - loss: 1.3205 - sparse_categorical_accuracy: 0.3380 - val_loss: 1.3308 - val_sparse_categorical_accuracy: 0.3396\n",
      "Epoch 57/100\n",
      "1364/1364 [==============================] - 29s 21ms/step - loss: 1.3211 - sparse_categorical_accuracy: 0.3404 - val_loss: 1.3321 - val_sparse_categorical_accuracy: 0.3298\n",
      "Epoch 58/100\n",
      "1364/1364 [==============================] - 30s 22ms/step - loss: 1.3190 - sparse_categorical_accuracy: 0.3389 - val_loss: 1.3269 - val_sparse_categorical_accuracy: 0.3385\n",
      "Epoch 59/100\n",
      "1364/1364 [==============================] - 30s 22ms/step - loss: 1.3216 - sparse_categorical_accuracy: 0.3399 - val_loss: 1.3304 - val_sparse_categorical_accuracy: 0.3361\n",
      "Epoch 60/100\n",
      "1364/1364 [==============================] - 30s 22ms/step - loss: 1.3205 - sparse_categorical_accuracy: 0.3383 - val_loss: 1.3324 - val_sparse_categorical_accuracy: 0.3382\n",
      "Epoch 61/100\n",
      "1364/1364 [==============================] - 30s 22ms/step - loss: 1.3175 - sparse_categorical_accuracy: 0.3424 - val_loss: 1.3299 - val_sparse_categorical_accuracy: 0.3406\n",
      "Epoch 62/100\n",
      "1364/1364 [==============================] - 31s 23ms/step - loss: 1.3207 - sparse_categorical_accuracy: 0.3387 - val_loss: 1.3256 - val_sparse_categorical_accuracy: 0.3343\n",
      "Epoch 63/100\n",
      "1364/1364 [==============================] - 29s 22ms/step - loss: 1.3166 - sparse_categorical_accuracy: 0.3409 - val_loss: 1.3337 - val_sparse_categorical_accuracy: 0.3288\n",
      "Epoch 64/100\n",
      "1364/1364 [==============================] - 30s 22ms/step - loss: 1.3184 - sparse_categorical_accuracy: 0.3409 - val_loss: 1.3264 - val_sparse_categorical_accuracy: 0.3415\n",
      "Epoch 65/100\n",
      "1364/1364 [==============================] - 30s 22ms/step - loss: 1.3195 - sparse_categorical_accuracy: 0.3373 - val_loss: 1.3299 - val_sparse_categorical_accuracy: 0.3372\n",
      "Epoch 66/100\n",
      "1364/1364 [==============================] - 29s 22ms/step - loss: 1.3187 - sparse_categorical_accuracy: 0.3369 - val_loss: 1.3288 - val_sparse_categorical_accuracy: 0.3393\n",
      "Epoch 67/100\n",
      "1364/1364 [==============================] - 29s 21ms/step - loss: 1.3182 - sparse_categorical_accuracy: 0.3395 - val_loss: 1.3288 - val_sparse_categorical_accuracy: 0.3362\n",
      "Epoch 68/100\n",
      "1364/1364 [==============================] - 29s 21ms/step - loss: 1.3169 - sparse_categorical_accuracy: 0.3419 - val_loss: 1.3254 - val_sparse_categorical_accuracy: 0.3412\n",
      "Epoch 69/100\n",
      "1364/1364 [==============================] - 29s 22ms/step - loss: 1.3179 - sparse_categorical_accuracy: 0.3409 - val_loss: 1.3331 - val_sparse_categorical_accuracy: 0.3336\n",
      "Epoch 70/100\n",
      "1364/1364 [==============================] - 31s 23ms/step - loss: 1.3164 - sparse_categorical_accuracy: 0.3395 - val_loss: 1.3290 - val_sparse_categorical_accuracy: 0.3416\n",
      "Epoch 71/100\n",
      "1364/1364 [==============================] - 30s 22ms/step - loss: 1.3162 - sparse_categorical_accuracy: 0.3428 - val_loss: 1.3349 - val_sparse_categorical_accuracy: 0.3277\n",
      "Epoch 72/100\n",
      "1364/1364 [==============================] - 30s 22ms/step - loss: 1.3166 - sparse_categorical_accuracy: 0.3415 - val_loss: 1.3352 - val_sparse_categorical_accuracy: 0.3339\n",
      "Epoch 73/100\n",
      "1364/1364 [==============================] - 29s 21ms/step - loss: 1.3158 - sparse_categorical_accuracy: 0.3430 - val_loss: 1.3311 - val_sparse_categorical_accuracy: 0.3374\n",
      "Epoch 74/100\n",
      "1364/1364 [==============================] - 29s 21ms/step - loss: 1.3168 - sparse_categorical_accuracy: 0.3391 - val_loss: 1.3271 - val_sparse_categorical_accuracy: 0.3361\n",
      "Epoch 75/100\n",
      "1364/1364 [==============================] - 29s 21ms/step - loss: 1.3165 - sparse_categorical_accuracy: 0.3408 - val_loss: 1.3301 - val_sparse_categorical_accuracy: 0.3394\n",
      "Epoch 76/100\n",
      "1364/1364 [==============================] - 30s 22ms/step - loss: 1.3167 - sparse_categorical_accuracy: 0.3386 - val_loss: 1.3291 - val_sparse_categorical_accuracy: 0.3351\n",
      "Epoch 77/100\n",
      "1364/1364 [==============================] - 29s 22ms/step - loss: 1.3174 - sparse_categorical_accuracy: 0.3404 - val_loss: 1.3306 - val_sparse_categorical_accuracy: 0.3344\n",
      "Epoch 78/100\n",
      "1364/1364 [==============================] - 31s 23ms/step - loss: 1.3151 - sparse_categorical_accuracy: 0.3389 - val_loss: 1.3281 - val_sparse_categorical_accuracy: 0.3340\n",
      "Epoch 79/100\n",
      "1364/1364 [==============================] - 29s 22ms/step - loss: 1.3139 - sparse_categorical_accuracy: 0.3415 - val_loss: 1.3289 - val_sparse_categorical_accuracy: 0.3338\n",
      "Epoch 80/100\n",
      "1364/1364 [==============================] - 30s 22ms/step - loss: 1.3137 - sparse_categorical_accuracy: 0.3417 - val_loss: 1.3298 - val_sparse_categorical_accuracy: 0.3337\n",
      "Epoch 81/100\n",
      "1364/1364 [==============================] - 30s 22ms/step - loss: 1.3129 - sparse_categorical_accuracy: 0.3430 - val_loss: 1.3292 - val_sparse_categorical_accuracy: 0.3352\n",
      "Epoch 82/100\n",
      "1364/1364 [==============================] - 29s 21ms/step - loss: 1.3153 - sparse_categorical_accuracy: 0.3399 - val_loss: 1.3280 - val_sparse_categorical_accuracy: 0.3395\n",
      "Epoch 83/100\n",
      "1364/1364 [==============================] - 29s 21ms/step - loss: 1.3139 - sparse_categorical_accuracy: 0.3436 - val_loss: 1.3284 - val_sparse_categorical_accuracy: 0.3327\n",
      "Epoch 84/100\n",
      "1364/1364 [==============================] - 29s 21ms/step - loss: 1.3134 - sparse_categorical_accuracy: 0.3421 - val_loss: 1.3295 - val_sparse_categorical_accuracy: 0.3368\n",
      "Epoch 85/100\n",
      "1364/1364 [==============================] - 29s 22ms/step - loss: 1.3100 - sparse_categorical_accuracy: 0.3456 - val_loss: 1.3237 - val_sparse_categorical_accuracy: 0.3348\n",
      "Epoch 86/100\n",
      "1364/1364 [==============================] - 29s 21ms/step - loss: 1.3134 - sparse_categorical_accuracy: 0.3433 - val_loss: 1.3312 - val_sparse_categorical_accuracy: 0.3304\n",
      "Epoch 87/100\n",
      "1364/1364 [==============================] - 30s 22ms/step - loss: 1.3103 - sparse_categorical_accuracy: 0.3470 - val_loss: 1.3246 - val_sparse_categorical_accuracy: 0.3368\n",
      "Epoch 88/100\n",
      "1364/1364 [==============================] - 29s 22ms/step - loss: 1.3131 - sparse_categorical_accuracy: 0.3452 - val_loss: 1.3256 - val_sparse_categorical_accuracy: 0.3388\n",
      "Epoch 89/100\n"
     ]
    },
    {
     "name": "stdout",
     "output_type": "stream",
     "text": [
      "1364/1364 [==============================] - 30s 22ms/step - loss: 1.3119 - sparse_categorical_accuracy: 0.3445 - val_loss: 1.3300 - val_sparse_categorical_accuracy: 0.3310\n",
      "Epoch 90/100\n",
      "1364/1364 [==============================] - 30s 22ms/step - loss: 1.3133 - sparse_categorical_accuracy: 0.3454 - val_loss: 1.3309 - val_sparse_categorical_accuracy: 0.3367\n",
      "Epoch 91/100\n",
      "1364/1364 [==============================] - 29s 21ms/step - loss: 1.3121 - sparse_categorical_accuracy: 0.3440 - val_loss: 1.3280 - val_sparse_categorical_accuracy: 0.3374\n",
      "Epoch 92/100\n",
      "1364/1364 [==============================] - 29s 21ms/step - loss: 1.3110 - sparse_categorical_accuracy: 0.3470 - val_loss: 1.3299 - val_sparse_categorical_accuracy: 0.3402\n",
      "Epoch 93/100\n",
      "1364/1364 [==============================] - 29s 22ms/step - loss: 1.3128 - sparse_categorical_accuracy: 0.3443 - val_loss: 1.3311 - val_sparse_categorical_accuracy: 0.3317\n",
      "Epoch 94/100\n",
      "1364/1364 [==============================] - 30s 22ms/step - loss: 1.3121 - sparse_categorical_accuracy: 0.3443 - val_loss: 1.3336 - val_sparse_categorical_accuracy: 0.3302\n",
      "Epoch 95/100\n",
      "1364/1364 [==============================] - 31s 22ms/step - loss: 1.3116 - sparse_categorical_accuracy: 0.3426 - val_loss: 1.3296 - val_sparse_categorical_accuracy: 0.3367\n",
      "Epoch 96/100\n",
      "1364/1364 [==============================] - 30s 22ms/step - loss: 1.3120 - sparse_categorical_accuracy: 0.3454 - val_loss: 1.3319 - val_sparse_categorical_accuracy: 0.3305\n",
      "Epoch 97/100\n",
      "1364/1364 [==============================] - 30s 22ms/step - loss: 1.3108 - sparse_categorical_accuracy: 0.3447 - val_loss: 1.3274 - val_sparse_categorical_accuracy: 0.3348\n",
      "Epoch 98/100\n",
      "1364/1364 [==============================] - 30s 22ms/step - loss: 1.3122 - sparse_categorical_accuracy: 0.3442 - val_loss: 1.3282 - val_sparse_categorical_accuracy: 0.3316\n",
      "Epoch 99/100\n",
      "1364/1364 [==============================] - 29s 21ms/step - loss: 1.3115 - sparse_categorical_accuracy: 0.3431 - val_loss: 1.3303 - val_sparse_categorical_accuracy: 0.3328\n",
      "Epoch 100/100\n",
      "1364/1364 [==============================] - 29s 22ms/step - loss: 1.3104 - sparse_categorical_accuracy: 0.3458 - val_loss: 1.3296 - val_sparse_categorical_accuracy: 0.3356\n"
     ]
    }
   ],
   "source": [
    "train = model.fit(train_X, train_y, epochs=100, validation_split=0.2)\n"
   ]
  },
  {
   "cell_type": "code",
   "execution_count": 15,
   "id": "a6acfdd8",
   "metadata": {},
   "outputs": [
    {
     "name": "stdout",
     "output_type": "stream",
     "text": [
      "427/427 [==============================] - 3s 6ms/step - loss: 1.3317 - sparse_categorical_accuracy: 0.3359\n"
     ]
    },
    {
     "data": {
      "text/plain": [
       "[1.331670880317688, 0.33587563037872314]"
      ]
     },
     "execution_count": 15,
     "metadata": {},
     "output_type": "execute_result"
    }
   ],
   "source": [
    "model.evaluate(test_X, test_y)"
   ]
  },
  {
   "cell_type": "code",
   "execution_count": 16,
   "id": "a15a8464",
   "metadata": {},
   "outputs": [
    {
     "data": {
      "image/png": "[encoded data removed]",
      "text/plain": [
       "<Figure size 432x288 with 1 Axes>"
      ]
     },
     "metadata": {
      "needs_background": "light"
     },
     "output_type": "display_data"
    }
   ],
   "source": [
    "plt.plot(train.history['sparse_categorical_accuracy'])\n",
    "plt.plot(train.history['val_sparse_categorical_accuracy'])\n",
    "plt.title('Model accuracy')\n",
    "plt.ylabel('Accuracy')\n",
    "plt.xlabel('Epoch')\n",
    "plt.legend(['train', 'validation'], loc='upper left')\n",
    "plt.show()"
   ]
  },
  {
   "cell_type": "code",
   "execution_count": 17,
   "id": "8d77d361",
   "metadata": {
    "scrolled": true
   },
   "outputs": [
    {
     "name": "stdout",
     "output_type": "stream",
     "text": [
      "Epoch 1/50\n",
      "1364/1364 [==============================] - 32s 24ms/step - loss: 1.3099 - sparse_categorical_accuracy: 0.3443 - val_loss: 1.3254 - val_sparse_categorical_accuracy: 0.3361\n",
      "Epoch 2/50\n",
      "1364/1364 [==============================] - 28s 21ms/step - loss: 1.3121 - sparse_categorical_accuracy: 0.3458 - val_loss: 1.3276 - val_sparse_categorical_accuracy: 0.3345\n",
      "Epoch 3/50\n",
      "1364/1364 [==============================] - 29s 21ms/step - loss: 1.3083 - sparse_categorical_accuracy: 0.3457 - val_loss: 1.3308 - val_sparse_categorical_accuracy: 0.3329\n",
      "Epoch 4/50\n",
      "1364/1364 [==============================] - 28s 21ms/step - loss: 1.3087 - sparse_categorical_accuracy: 0.3445 - val_loss: 1.3312 - val_sparse_categorical_accuracy: 0.3284\n",
      "Epoch 5/50\n",
      "1364/1364 [==============================] - 28s 20ms/step - loss: 1.3085 - sparse_categorical_accuracy: 0.3448 - val_loss: 1.3258 - val_sparse_categorical_accuracy: 0.3348\n",
      "Epoch 6/50\n",
      "1364/1364 [==============================] - 28s 21ms/step - loss: 1.3105 - sparse_categorical_accuracy: 0.3460 - val_loss: 1.3260 - val_sparse_categorical_accuracy: 0.3354\n",
      "Epoch 7/50\n",
      "1364/1364 [==============================] - 28s 20ms/step - loss: 1.3108 - sparse_categorical_accuracy: 0.3463 - val_loss: 1.3278 - val_sparse_categorical_accuracy: 0.3358\n",
      "Epoch 8/50\n",
      "1364/1364 [==============================] - 28s 21ms/step - loss: 1.3063 - sparse_categorical_accuracy: 0.3489 - val_loss: 1.3254 - val_sparse_categorical_accuracy: 0.3325\n",
      "Epoch 9/50\n",
      "1364/1364 [==============================] - 28s 21ms/step - loss: 1.3082 - sparse_categorical_accuracy: 0.3488 - val_loss: 1.3270 - val_sparse_categorical_accuracy: 0.3405\n",
      "Epoch 10/50\n",
      "1364/1364 [==============================] - 28s 21ms/step - loss: 1.3103 - sparse_categorical_accuracy: 0.3486 - val_loss: 1.3280 - val_sparse_categorical_accuracy: 0.3328\n",
      "Epoch 11/50\n",
      "1364/1364 [==============================] - 28s 21ms/step - loss: 1.3100 - sparse_categorical_accuracy: 0.3483 - val_loss: 1.3259 - val_sparse_categorical_accuracy: 0.3382\n",
      "Epoch 12/50\n",
      "1364/1364 [==============================] - 28s 21ms/step - loss: 1.3096 - sparse_categorical_accuracy: 0.3456 - val_loss: 1.3277 - val_sparse_categorical_accuracy: 0.3360\n",
      "Epoch 13/50\n",
      "1364/1364 [==============================] - 29s 21ms/step - loss: 1.3088 - sparse_categorical_accuracy: 0.3501 - val_loss: 1.3308 - val_sparse_categorical_accuracy: 0.3331\n",
      "Epoch 14/50\n",
      "1364/1364 [==============================] - 28s 21ms/step - loss: 1.3076 - sparse_categorical_accuracy: 0.3476 - val_loss: 1.3266 - val_sparse_categorical_accuracy: 0.3367\n",
      "Epoch 15/50\n",
      "1364/1364 [==============================] - 28s 21ms/step - loss: 1.3069 - sparse_categorical_accuracy: 0.3482 - val_loss: 1.3250 - val_sparse_categorical_accuracy: 0.3367\n",
      "Epoch 16/50\n",
      "1364/1364 [==============================] - 28s 21ms/step - loss: 1.3087 - sparse_categorical_accuracy: 0.3458 - val_loss: 1.3289 - val_sparse_categorical_accuracy: 0.3373\n",
      "Epoch 17/50\n",
      "1364/1364 [==============================] - 29s 21ms/step - loss: 1.3072 - sparse_categorical_accuracy: 0.3524 - val_loss: 1.3309 - val_sparse_categorical_accuracy: 0.3385\n",
      "Epoch 18/50\n",
      "1364/1364 [==============================] - 28s 21ms/step - loss: 1.3079 - sparse_categorical_accuracy: 0.3488 - val_loss: 1.3277 - val_sparse_categorical_accuracy: 0.3334\n",
      "Epoch 19/50\n",
      "1364/1364 [==============================] - 28s 21ms/step - loss: 1.3061 - sparse_categorical_accuracy: 0.3499 - val_loss: 1.3271 - val_sparse_categorical_accuracy: 0.3351\n",
      "Epoch 20/50\n",
      "1364/1364 [==============================] - 29s 21ms/step - loss: 1.3078 - sparse_categorical_accuracy: 0.3492 - val_loss: 1.3320 - val_sparse_categorical_accuracy: 0.3339\n",
      "Epoch 21/50\n",
      "1364/1364 [==============================] - 29s 21ms/step - loss: 1.3063 - sparse_categorical_accuracy: 0.3449 - val_loss: 1.3307 - val_sparse_categorical_accuracy: 0.3303\n",
      "Epoch 22/50\n",
      "1364/1364 [==============================] - 28s 21ms/step - loss: 1.3066 - sparse_categorical_accuracy: 0.3485 - val_loss: 1.3306 - val_sparse_categorical_accuracy: 0.3280\n",
      "Epoch 23/50\n",
      "1364/1364 [==============================] - 28s 21ms/step - loss: 1.3070 - sparse_categorical_accuracy: 0.3463 - val_loss: 1.3307 - val_sparse_categorical_accuracy: 0.3319\n",
      "Epoch 24/50\n",
      "1364/1364 [==============================] - 28s 21ms/step - loss: 1.3079 - sparse_categorical_accuracy: 0.3467 - val_loss: 1.3296 - val_sparse_categorical_accuracy: 0.3398\n",
      "Epoch 25/50\n",
      "1364/1364 [==============================] - 28s 21ms/step - loss: 1.3055 - sparse_categorical_accuracy: 0.3484 - val_loss: 1.3317 - val_sparse_categorical_accuracy: 0.3337\n",
      "Epoch 26/50\n",
      "1364/1364 [==============================] - 28s 21ms/step - loss: 1.3058 - sparse_categorical_accuracy: 0.3485 - val_loss: 1.3297 - val_sparse_categorical_accuracy: 0.3355\n",
      "Epoch 27/50\n",
      "1364/1364 [==============================] - 29s 21ms/step - loss: 1.3085 - sparse_categorical_accuracy: 0.3460 - val_loss: 1.3280 - val_sparse_categorical_accuracy: 0.3303\n",
      "Epoch 28/50\n",
      "1364/1364 [==============================] - 29s 21ms/step - loss: 1.3057 - sparse_categorical_accuracy: 0.3484 - val_loss: 1.3308 - val_sparse_categorical_accuracy: 0.3404\n",
      "Epoch 29/50\n",
      "1364/1364 [==============================] - 29s 21ms/step - loss: 1.3058 - sparse_categorical_accuracy: 0.3499 - val_loss: 1.3294 - val_sparse_categorical_accuracy: 0.3338\n",
      "Epoch 30/50\n",
      "1364/1364 [==============================] - 29s 21ms/step - loss: 1.3049 - sparse_categorical_accuracy: 0.3501 - val_loss: 1.3273 - val_sparse_categorical_accuracy: 0.3378\n",
      "Epoch 31/50\n",
      "1364/1364 [==============================] - 29s 21ms/step - loss: 1.3066 - sparse_categorical_accuracy: 0.3485 - val_loss: 1.3279 - val_sparse_categorical_accuracy: 0.3374\n",
      "Epoch 32/50\n",
      "1364/1364 [==============================] - 29s 21ms/step - loss: 1.3057 - sparse_categorical_accuracy: 0.3472 - val_loss: 1.3305 - val_sparse_categorical_accuracy: 0.3398\n",
      "Epoch 33/50\n",
      "1364/1364 [==============================] - 29s 21ms/step - loss: 1.3059 - sparse_categorical_accuracy: 0.3452 - val_loss: 1.3263 - val_sparse_categorical_accuracy: 0.3376\n",
      "Epoch 34/50\n",
      "1364/1364 [==============================] - 29s 21ms/step - loss: 1.3051 - sparse_categorical_accuracy: 0.3522 - val_loss: 1.3285 - val_sparse_categorical_accuracy: 0.3309\n",
      "Epoch 35/50\n",
      "1364/1364 [==============================] - 29s 21ms/step - loss: 1.3061 - sparse_categorical_accuracy: 0.3464 - val_loss: 1.3300 - val_sparse_categorical_accuracy: 0.3346\n",
      "Epoch 36/50\n",
      "1364/1364 [==============================] - 28s 21ms/step - loss: 1.3038 - sparse_categorical_accuracy: 0.3479 - val_loss: 1.3296 - val_sparse_categorical_accuracy: 0.3351\n",
      "Epoch 37/50\n",
      "1364/1364 [==============================] - 28s 21ms/step - loss: 1.3041 - sparse_categorical_accuracy: 0.3513 - val_loss: 1.3321 - val_sparse_categorical_accuracy: 0.3299\n",
      "Epoch 38/50\n",
      "1364/1364 [==============================] - 28s 21ms/step - loss: 1.3036 - sparse_categorical_accuracy: 0.3464 - val_loss: 1.3281 - val_sparse_categorical_accuracy: 0.3420\n",
      "Epoch 39/50\n",
      "1364/1364 [==============================] - 28s 21ms/step - loss: 1.3053 - sparse_categorical_accuracy: 0.3491 - val_loss: 1.3299 - val_sparse_categorical_accuracy: 0.3387\n",
      "Epoch 40/50\n",
      "1364/1364 [==============================] - 28s 21ms/step - loss: 1.3039 - sparse_categorical_accuracy: 0.3521 - val_loss: 1.3300 - val_sparse_categorical_accuracy: 0.3344\n",
      "Epoch 41/50\n",
      "1364/1364 [==============================] - 28s 21ms/step - loss: 1.3016 - sparse_categorical_accuracy: 0.3494 - val_loss: 1.3277 - val_sparse_categorical_accuracy: 0.3357\n",
      "Epoch 42/50\n",
      "1364/1364 [==============================] - 28s 21ms/step - loss: 1.3039 - sparse_categorical_accuracy: 0.3497 - val_loss: 1.3278 - val_sparse_categorical_accuracy: 0.3377\n",
      "Epoch 43/50\n",
      "1364/1364 [==============================] - 28s 21ms/step - loss: 1.3024 - sparse_categorical_accuracy: 0.3494 - val_loss: 1.3279 - val_sparse_categorical_accuracy: 0.3408\n",
      "Epoch 44/50\n",
      "1364/1364 [==============================] - 28s 21ms/step - loss: 1.3034 - sparse_categorical_accuracy: 0.3466 - val_loss: 1.3321 - val_sparse_categorical_accuracy: 0.3349\n",
      "Epoch 45/50\n"
     ]
    },
    {
     "name": "stdout",
     "output_type": "stream",
     "text": [
      "1364/1364 [==============================] - 28s 21ms/step - loss: 1.3033 - sparse_categorical_accuracy: 0.3509 - val_loss: 1.3291 - val_sparse_categorical_accuracy: 0.3368\n",
      "Epoch 46/50\n",
      "1364/1364 [==============================] - 28s 21ms/step - loss: 1.3036 - sparse_categorical_accuracy: 0.3495 - val_loss: 1.3255 - val_sparse_categorical_accuracy: 0.3393\n",
      "Epoch 47/50\n",
      "1364/1364 [==============================] - 28s 21ms/step - loss: 1.3030 - sparse_categorical_accuracy: 0.3485 - val_loss: 1.3291 - val_sparse_categorical_accuracy: 0.3324\n",
      "Epoch 48/50\n",
      "1364/1364 [==============================] - 28s 21ms/step - loss: 1.3033 - sparse_categorical_accuracy: 0.3526 - val_loss: 1.3303 - val_sparse_categorical_accuracy: 0.3331\n",
      "Epoch 49/50\n",
      "1364/1364 [==============================] - 29s 21ms/step - loss: 1.3041 - sparse_categorical_accuracy: 0.3470 - val_loss: 1.3304 - val_sparse_categorical_accuracy: 0.3337\n",
      "Epoch 50/50\n",
      "1364/1364 [==============================] - 29s 21ms/step - loss: 1.3006 - sparse_categorical_accuracy: 0.3523 - val_loss: 1.3284 - val_sparse_categorical_accuracy: 0.3405\n"
     ]
    }
   ],
   "source": [
    "train = model.fit(train_X, train_y, epochs=50, validation_split=0.2)\n"
   ]
  },
  {
   "cell_type": "code",
   "execution_count": 18,
   "id": "c6e9ef45",
   "metadata": {},
   "outputs": [
    {
     "data": {
      "image/png": "[encoded data removed]",
      "text/plain": [
       "<Figure size 432x288 with 1 Axes>"
      ]
     },
     "metadata": {
      "needs_background": "light"
     },
     "output_type": "display_data"
    }
   ],
   "source": [
    "plt.plot(train.history['sparse_categorical_accuracy'])\n",
    "plt.plot(train.history['val_sparse_categorical_accuracy'])\n",
    "plt.title('Model accuracy')\n",
    "plt.ylabel('Accuracy')\n",
    "plt.xlabel('Epoch')\n",
    "plt.legend(['train', 'validation'], loc='upper left')\n",
    "plt.show()"
   ]
  },
  {
   "cell_type": "code",
   "execution_count": 19,
   "id": "2004f2ad",
   "metadata": {},
   "outputs": [
    {
     "name": "stdout",
     "output_type": "stream",
     "text": [
      "427/427 [==============================] - 3s 6ms/step - loss: 1.3303 - sparse_categorical_accuracy: 0.3335\n"
     ]
    },
    {
     "data": {
      "text/plain": [
       "[1.3302863836288452, 0.33345556259155273]"
      ]
     },
     "execution_count": 19,
     "metadata": {},
     "output_type": "execute_result"
    }
   ],
   "source": [
    "model.evaluate(test_X, test_y)"
   ]
  },
  {
   "cell_type": "code",
   "execution_count": null,
   "id": "261b2222",
   "metadata": {},
   "outputs": [],
   "source": []
  }
 ],
 "metadata": {
  "kernelspec": {
   "display_name": "Python 3",
   "language": "python",
   "name": "python3"
  },
  "language_info": {
   "codemirror_mode": {
    "name": "ipython",
    "version": 3
   },
   "file_extension": ".py",
   "mimetype": "text/x-python",
   "name": "python",
   "nbconvert_exporter": "python",
   "pygments_lexer": "ipython3",
   "version": "3.8.8"
  }
 },
 "nbformat": 4,
 "nbformat_minor": 5
}
