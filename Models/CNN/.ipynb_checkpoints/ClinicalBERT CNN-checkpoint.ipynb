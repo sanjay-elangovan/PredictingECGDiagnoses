{
 "cells": [
  {
   "cell_type": "code",
   "execution_count": 1,
   "id": "2667e604",
   "metadata": {},
   "outputs": [],
   "source": [
    "import tensorflow as tf\n",
    "from tensorflow.keras.layers import Dense, Flatten, Conv3D, Conv2D, MaxPooling3D, MaxPooling2D\n",
    "import numpy as np\n",
    "import matplotlib.pyplot as plt\n",
    "import pickle\n",
    "import numpy as np\n",
    "from tensorflow import keras\n",
    "from sklearn.model_selection import train_test_split\n"
   ]
  },
  {
   "cell_type": "markdown",
   "id": "54cf6ce6",
   "metadata": {},
   "source": [
    "## Load ClinicalBERT Embeddings"
   ]
  },
  {
   "cell_type": "markdown",
   "id": "75cd1954",
   "metadata": {},
   "source": [
    "### Load in ClinicalBERT Embeddings"
   ]
  },
  {
   "cell_type": "code",
   "execution_count": 2,
   "id": "2fc6b7e3",
   "metadata": {},
   "outputs": [],
   "source": [
    "embeddings = np.load('/home/sanjaycollege15/PredictingDiagnoses/Data/ekg_denoised_ClinicalBERT_embeddings_30k.npy')\n",
    "labels = np.load('/home/sanjaycollege15/PredictingDiagnoses/Data/ekg_denoised_ClinicalBERT_labels_30k.npy')\n"
   ]
  },
  {
   "cell_type": "markdown",
   "id": "7c7e3b63",
   "metadata": {},
   "source": [
    "### Train/Test Split"
   ]
  },
  {
   "cell_type": "code",
   "execution_count": 3,
   "id": "5f87426d",
   "metadata": {},
   "outputs": [],
   "source": [
    "train_X, test_X, train_y, test_y = train_test_split(embeddings, labels, test_size=0.20, random_state=42, stratify=labels)\n",
    "del embeddings\n",
    "del labels\n"
   ]
  },
  {
   "cell_type": "markdown",
   "id": "46eb552a",
   "metadata": {},
   "source": [
    "## CNN Model (Same as from class)"
   ]
  },
  {
   "cell_type": "code",
   "execution_count": 18,
   "id": "b9eb011d",
   "metadata": {},
   "outputs": [],
   "source": [
    "# Specify model hyperparameters.\n",
    "embed_dim = 5\n",
    "num_filters = [2, 10, 20]\n",
    "kernel_sizes = [3, 4, 5]\n",
    "dense_layer_dims = [10, 4]\n",
    "dropout_rate = 0.7\n",
    "num_classes = 4"
   ]
  },
  {
   "cell_type": "code",
   "execution_count": 19,
   "id": "b9b06561",
   "metadata": {},
   "outputs": [],
   "source": [
    "inputs = tf.keras.layers.Input(shape=(264,768))\n",
    "conv_layers_for_all_kernel_sizes = []\n",
    "for kernel_size, filters in zip(kernel_sizes, num_filters):\n",
    "    conv_layer = keras.layers.Conv1D(filters=filters, kernel_size=kernel_size, activation='relu')(inputs)\n",
    "    conv_layer = keras.layers.GlobalMaxPooling1D()(conv_layer)\n",
    "    conv_layers_for_all_kernel_sizes.append(conv_layer)\n",
    "\n",
    "h = keras.layers.concatenate(conv_layers_for_all_kernel_sizes, axis=1)\n",
    "\n",
    "h = keras.layers.Dropout(rate=dropout_rate)(h)\n",
    "\n",
    "for i in dense_layer_dims:\n",
    "    h=keras.layers.Dense(i, activation='relu')(h)\n",
    "\n",
    "prediction = keras.layers.Dense(num_classes, activation='softmax')(h)\n",
    "\n",
    "model = keras.Model(inputs=inputs, outputs=prediction)\n",
    "model.compile(optimizer='adam',\n",
    "              loss='sparse_categorical_crossentropy', \n",
    "              metrics=['sparse_categorical_accuracy'])"
   ]
  },
  {
   "cell_type": "code",
   "execution_count": 12,
   "id": "fc023a02",
   "metadata": {},
   "outputs": [
    {
     "name": "stdout",
     "output_type": "stream",
     "text": [
      "Model: \"model_1\"\n",
      "__________________________________________________________________________________________________\n",
      " Layer (type)                   Output Shape         Param #     Connected to                     \n",
      "==================================================================================================\n",
      " input_2 (InputLayer)           [(None, 264, 768)]   0           []                               \n",
      "                                                                                                  \n",
      " conv1d_3 (Conv1D)              (None, 262, 2)       4610        ['input_2[0][0]']                \n",
      "                                                                                                  \n",
      " conv1d_4 (Conv1D)              (None, 261, 10)      30730       ['input_2[0][0]']                \n",
      "                                                                                                  \n",
      " conv1d_5 (Conv1D)              (None, 260, 20)      76820       ['input_2[0][0]']                \n",
      "                                                                                                  \n",
      " global_max_pooling1d_3 (Global  (None, 2)           0           ['conv1d_3[0][0]']               \n",
      " MaxPooling1D)                                                                                    \n",
      "                                                                                                  \n",
      " global_max_pooling1d_4 (Global  (None, 10)          0           ['conv1d_4[0][0]']               \n",
      " MaxPooling1D)                                                                                    \n",
      "                                                                                                  \n",
      " global_max_pooling1d_5 (Global  (None, 20)          0           ['conv1d_5[0][0]']               \n",
      " MaxPooling1D)                                                                                    \n",
      "                                                                                                  \n",
      " concatenate_1 (Concatenate)    (None, 32)           0           ['global_max_pooling1d_3[0][0]', \n",
      "                                                                  'global_max_pooling1d_4[0][0]', \n",
      "                                                                  'global_max_pooling1d_5[0][0]'] \n",
      "                                                                                                  \n",
      " dropout_1 (Dropout)            (None, 32)           0           ['concatenate_1[0][0]']          \n",
      "                                                                                                  \n",
      " dense_3 (Dense)                (None, 10)           330         ['dropout_1[0][0]']              \n",
      "                                                                                                  \n",
      " dense_4 (Dense)                (None, 4)            44          ['dense_3[0][0]']                \n",
      "                                                                                                  \n",
      " dense_5 (Dense)                (None, 4)            20          ['dense_4[0][0]']                \n",
      "                                                                                                  \n",
      "==================================================================================================\n",
      "Total params: 112,554\n",
      "Trainable params: 112,554\n",
      "Non-trainable params: 0\n",
      "__________________________________________________________________________________________________\n"
     ]
    }
   ],
   "source": [
    "model.summary()"
   ]
  },
  {
   "cell_type": "code",
   "execution_count": 14,
   "id": "1f8472bd",
   "metadata": {
    "scrolled": true
   },
   "outputs": [
    {
     "name": "stdout",
     "output_type": "stream",
     "text": [
      "Epoch 1/10\n",
      "600/600 [==============================] - 53s 86ms/step - loss: 1.3964 - sparse_categorical_accuracy: 0.2533 - val_loss: 1.3833 - val_sparse_categorical_accuracy: 0.2900\n",
      "Epoch 2/10\n",
      "600/600 [==============================] - 45s 75ms/step - loss: 1.3845 - sparse_categorical_accuracy: 0.2638 - val_loss: 1.3839 - val_sparse_categorical_accuracy: 0.2808\n",
      "Epoch 3/10\n",
      "600/600 [==============================] - 45s 74ms/step - loss: 1.3810 - sparse_categorical_accuracy: 0.2769 - val_loss: 1.3821 - val_sparse_categorical_accuracy: 0.2644\n",
      "Epoch 4/10\n",
      "600/600 [==============================] - 45s 75ms/step - loss: 1.3773 - sparse_categorical_accuracy: 0.2781 - val_loss: 1.3780 - val_sparse_categorical_accuracy: 0.2890\n",
      "Epoch 5/10\n",
      "600/600 [==============================] - 44s 74ms/step - loss: 1.3756 - sparse_categorical_accuracy: 0.2845 - val_loss: 1.3755 - val_sparse_categorical_accuracy: 0.2910\n",
      "Epoch 6/10\n",
      "600/600 [==============================] - 44s 74ms/step - loss: 1.3752 - sparse_categorical_accuracy: 0.2849 - val_loss: 1.3753 - val_sparse_categorical_accuracy: 0.3050\n",
      "Epoch 7/10\n",
      "600/600 [==============================] - 44s 74ms/step - loss: 1.3721 - sparse_categorical_accuracy: 0.2955 - val_loss: 1.3749 - val_sparse_categorical_accuracy: 0.3098\n",
      "Epoch 8/10\n",
      "600/600 [==============================] - 45s 75ms/step - loss: 1.3721 - sparse_categorical_accuracy: 0.2911 - val_loss: 1.3715 - val_sparse_categorical_accuracy: 0.3127\n",
      "Epoch 9/10\n",
      "600/600 [==============================] - 45s 75ms/step - loss: 1.3719 - sparse_categorical_accuracy: 0.2911 - val_loss: 1.3693 - val_sparse_categorical_accuracy: 0.3302\n",
      "Epoch 10/10\n",
      "600/600 [==============================] - 44s 74ms/step - loss: 1.3702 - sparse_categorical_accuracy: 0.2919 - val_loss: 1.3751 - val_sparse_categorical_accuracy: 0.3121\n"
     ]
    }
   ],
   "source": [
    "train = model.fit(train_X, train_y, epochs=10, validation_split=0.2)\n"
   ]
  },
  {
   "cell_type": "code",
   "execution_count": 15,
   "id": "a6acfdd8",
   "metadata": {},
   "outputs": [
    {
     "name": "stdout",
     "output_type": "stream",
     "text": [
      "188/188 [==============================] - 3s 14ms/step - loss: 1.3756 - sparse_categorical_accuracy: 0.2987\n"
     ]
    },
    {
     "data": {
      "text/plain": [
       "[1.3755830526351929, 0.29866665601730347]"
      ]
     },
     "execution_count": 15,
     "metadata": {},
     "output_type": "execute_result"
    }
   ],
   "source": [
    "model.evaluate(test_X, test_y)"
   ]
  },
  {
   "cell_type": "code",
   "execution_count": 17,
   "id": "a15a8464",
   "metadata": {},
   "outputs": [
    {
     "data": {
      "image/png": "[encoded data removed]",
      "text/plain": [
       "<Figure size 432x288 with 1 Axes>"
      ]
     },
     "metadata": {
      "needs_background": "light"
     },
     "output_type": "display_data"
    }
   ],
   "source": [
    "plt.plot(train.history['sparse_categorical_accuracy'])\n",
    "plt.plot(train.history['val_sparse_categorical_accuracy'])\n",
    "plt.title('Model accuracy')\n",
    "plt.ylabel('Accuracy')\n",
    "plt.xlabel('Epoch')\n",
    "plt.legend(['train', 'validation'], loc='upper left')\n",
    "plt.show()"
   ]
  },
  {
   "cell_type": "markdown",
   "id": "a67edf63",
   "metadata": {},
   "source": [
    "---"
   ]
  },
  {
   "cell_type": "code",
   "execution_count": 4,
   "id": "6fae2522",
   "metadata": {},
   "outputs": [],
   "source": [
    "# Specify model hyperparameters.\n",
    "embed_dim = 5\n",
    "num_filters = [2, 5]\n",
    "kernel_sizes = [3, 4]\n",
    "dense_layer_dims = [10, 4]\n",
    "dropout_rate = 0.7\n",
    "num_classes = 4"
   ]
  },
  {
   "cell_type": "code",
   "execution_count": 5,
   "id": "b265f80a",
   "metadata": {},
   "outputs": [],
   "source": [
    "inputs = tf.keras.layers.Input(shape=(264,768))\n",
    "conv_layers_for_all_kernel_sizes = []\n",
    "for kernel_size, filters in zip(kernel_sizes, num_filters):\n",
    "    conv_layer = keras.layers.Conv1D(filters=filters, kernel_size=kernel_size, activation='relu')(inputs)\n",
    "    conv_layer = keras.layers.GlobalMaxPooling1D()(conv_layer)\n",
    "    conv_layers_for_all_kernel_sizes.append(conv_layer)\n",
    "\n",
    "h = keras.layers.concatenate(conv_layers_for_all_kernel_sizes, axis=1)\n",
    "\n",
    "h = keras.layers.Dropout(rate=dropout_rate)(h)\n",
    "\n",
    "for i in dense_layer_dims:\n",
    "    h=keras.layers.Dense(i, activation='relu')(h)\n",
    "\n",
    "prediction = keras.layers.Dense(num_classes, activation='softmax')(h)\n",
    "\n",
    "model = keras.Model(inputs=inputs, outputs=prediction)\n",
    "model.compile(optimizer='adam',\n",
    "              loss='sparse_categorical_crossentropy', \n",
    "              metrics=['sparse_categorical_accuracy'])"
   ]
  },
  {
   "cell_type": "code",
   "execution_count": 6,
   "id": "3302cdb6",
   "metadata": {},
   "outputs": [
    {
     "name": "stdout",
     "output_type": "stream",
     "text": [
      "Model: \"model\"\n",
      "__________________________________________________________________________________________________\n",
      " Layer (type)                   Output Shape         Param #     Connected to                     \n",
      "==================================================================================================\n",
      " input_1 (InputLayer)           [(None, 264, 768)]   0           []                               \n",
      "                                                                                                  \n",
      " conv1d (Conv1D)                (None, 262, 2)       4610        ['input_1[0][0]']                \n",
      "                                                                                                  \n",
      " conv1d_1 (Conv1D)              (None, 261, 5)       15365       ['input_1[0][0]']                \n",
      "                                                                                                  \n",
      " global_max_pooling1d (GlobalMa  (None, 2)           0           ['conv1d[0][0]']                 \n",
      " xPooling1D)                                                                                      \n",
      "                                                                                                  \n",
      " global_max_pooling1d_1 (Global  (None, 5)           0           ['conv1d_1[0][0]']               \n",
      " MaxPooling1D)                                                                                    \n",
      "                                                                                                  \n",
      " concatenate (Concatenate)      (None, 7)            0           ['global_max_pooling1d[0][0]',   \n",
      "                                                                  'global_max_pooling1d_1[0][0]'] \n",
      "                                                                                                  \n",
      " dropout (Dropout)              (None, 7)            0           ['concatenate[0][0]']            \n",
      "                                                                                                  \n",
      " dense (Dense)                  (None, 10)           80          ['dropout[0][0]']                \n",
      "                                                                                                  \n",
      " dense_1 (Dense)                (None, 4)            44          ['dense[0][0]']                  \n",
      "                                                                                                  \n",
      " dense_2 (Dense)                (None, 4)            20          ['dense_1[0][0]']                \n",
      "                                                                                                  \n",
      "==================================================================================================\n",
      "Total params: 20,119\n",
      "Trainable params: 20,119\n",
      "Non-trainable params: 0\n",
      "__________________________________________________________________________________________________\n"
     ]
    }
   ],
   "source": [
    "model.summary()"
   ]
  },
  {
   "cell_type": "code",
   "execution_count": 7,
   "id": "3975b6ec",
   "metadata": {
    "scrolled": true
   },
   "outputs": [
    {
     "name": "stdout",
     "output_type": "stream",
     "text": [
      "Epoch 1/20\n",
      "600/600 [==============================] - 29s 45ms/step - loss: 1.3880 - sparse_categorical_accuracy: 0.2486 - val_loss: 1.3864 - val_sparse_categorical_accuracy: 0.2479\n",
      "Epoch 2/20\n",
      "600/600 [==============================] - 22s 36ms/step - loss: 1.3864 - sparse_categorical_accuracy: 0.2469 - val_loss: 1.3864 - val_sparse_categorical_accuracy: 0.2477\n",
      "Epoch 3/20\n",
      "600/600 [==============================] - 22s 36ms/step - loss: 1.3863 - sparse_categorical_accuracy: 0.2467 - val_loss: 1.3866 - val_sparse_categorical_accuracy: 0.2477\n",
      "Epoch 4/20\n",
      "600/600 [==============================] - 22s 37ms/step - loss: 1.3864 - sparse_categorical_accuracy: 0.2457 - val_loss: 1.3866 - val_sparse_categorical_accuracy: 0.2477\n",
      "Epoch 5/20\n",
      "600/600 [==============================] - 22s 37ms/step - loss: 1.3864 - sparse_categorical_accuracy: 0.2489 - val_loss: 1.3864 - val_sparse_categorical_accuracy: 0.2477\n",
      "Epoch 6/20\n",
      "600/600 [==============================] - 22s 36ms/step - loss: 1.3864 - sparse_categorical_accuracy: 0.2496 - val_loss: 1.3864 - val_sparse_categorical_accuracy: 0.2479\n",
      "Epoch 7/20\n",
      "600/600 [==============================] - 25s 42ms/step - loss: 1.3863 - sparse_categorical_accuracy: 0.2513 - val_loss: 1.3865 - val_sparse_categorical_accuracy: 0.2483\n",
      "Epoch 8/20\n",
      "600/600 [==============================] - 22s 37ms/step - loss: 1.3864 - sparse_categorical_accuracy: 0.2473 - val_loss: 1.3866 - val_sparse_categorical_accuracy: 0.2483\n",
      "Epoch 9/20\n",
      "600/600 [==============================] - 23s 38ms/step - loss: 1.3864 - sparse_categorical_accuracy: 0.2433 - val_loss: 1.3866 - val_sparse_categorical_accuracy: 0.2477\n",
      "Epoch 10/20\n",
      "600/600 [==============================] - 23s 38ms/step - loss: 1.3864 - sparse_categorical_accuracy: 0.2490 - val_loss: 1.3868 - val_sparse_categorical_accuracy: 0.2483\n",
      "Epoch 11/20\n",
      "600/600 [==============================] - 22s 37ms/step - loss: 1.3864 - sparse_categorical_accuracy: 0.2477 - val_loss: 1.3865 - val_sparse_categorical_accuracy: 0.2479\n",
      "Epoch 12/20\n",
      "600/600 [==============================] - 22s 37ms/step - loss: 1.3864 - sparse_categorical_accuracy: 0.2501 - val_loss: 1.3864 - val_sparse_categorical_accuracy: 0.2477\n",
      "Epoch 13/20\n",
      "600/600 [==============================] - 22s 36ms/step - loss: 1.3864 - sparse_categorical_accuracy: 0.2485 - val_loss: 1.3865 - val_sparse_categorical_accuracy: 0.2483\n",
      "Epoch 14/20\n",
      "600/600 [==============================] - 22s 36ms/step - loss: 1.3864 - sparse_categorical_accuracy: 0.2482 - val_loss: 1.3864 - val_sparse_categorical_accuracy: 0.2479\n",
      "Epoch 15/20\n",
      "600/600 [==============================] - 22s 36ms/step - loss: 1.3863 - sparse_categorical_accuracy: 0.2427 - val_loss: 1.3868 - val_sparse_categorical_accuracy: 0.2477\n",
      "Epoch 16/20\n",
      "600/600 [==============================] - 22s 36ms/step - loss: 1.3864 - sparse_categorical_accuracy: 0.2505 - val_loss: 1.3866 - val_sparse_categorical_accuracy: 0.2483\n",
      "Epoch 17/20\n",
      "600/600 [==============================] - 22s 36ms/step - loss: 1.3863 - sparse_categorical_accuracy: 0.2489 - val_loss: 1.3864 - val_sparse_categorical_accuracy: 0.2477\n",
      "Epoch 18/20\n",
      "600/600 [==============================] - 22s 36ms/step - loss: 1.3864 - sparse_categorical_accuracy: 0.2497 - val_loss: 1.3865 - val_sparse_categorical_accuracy: 0.2483\n",
      "Epoch 19/20\n",
      "600/600 [==============================] - 22s 37ms/step - loss: 1.3864 - sparse_categorical_accuracy: 0.2443 - val_loss: 1.3865 - val_sparse_categorical_accuracy: 0.2483\n",
      "Epoch 20/20\n",
      "600/600 [==============================] - 22s 36ms/step - loss: 1.3864 - sparse_categorical_accuracy: 0.2474 - val_loss: 1.3865 - val_sparse_categorical_accuracy: 0.2483\n"
     ]
    }
   ],
   "source": [
    "train = model.fit(train_X, train_y, epochs=20, validation_split=0.2)\n"
   ]
  },
  {
   "cell_type": "code",
   "execution_count": 8,
   "id": "9486f25b",
   "metadata": {},
   "outputs": [
    {
     "name": "stdout",
     "output_type": "stream",
     "text": [
      "188/188 [==============================] - 2s 10ms/step - loss: 1.3863 - sparse_categorical_accuracy: 0.2508\n"
     ]
    },
    {
     "data": {
      "text/plain": [
       "[1.3862996101379395, 0.25083333253860474]"
      ]
     },
     "execution_count": 8,
     "metadata": {},
     "output_type": "execute_result"
    }
   ],
   "source": [
    "model.evaluate(test_X, test_y)\n"
   ]
  },
  {
   "cell_type": "code",
   "execution_count": 9,
   "id": "f7703eac",
   "metadata": {},
   "outputs": [
    {
     "data": {
      "image/png": "[encoded data removed]",
      "text/plain": [
       "<Figure size 432x288 with 1 Axes>"
      ]
     },
     "metadata": {
      "needs_background": "light"
     },
     "output_type": "display_data"
    }
   ],
   "source": [
    "plt.plot(train.history['sparse_categorical_accuracy'])\n",
    "plt.plot(train.history['val_sparse_categorical_accuracy'])\n",
    "plt.title('Model accuracy')\n",
    "plt.ylabel('Accuracy')\n",
    "plt.xlabel('Epoch')\n",
    "plt.legend(['train', 'validation'], loc='upper left')\n",
    "plt.show()"
   ]
  },
  {
   "cell_type": "code",
   "execution_count": 10,
   "id": "dee66374",
   "metadata": {},
   "outputs": [
    {
     "name": "stdout",
     "output_type": "stream",
     "text": [
      "Highest model accuracy is 24.83% which occurs at 6 epochs.\n"
     ]
    }
   ],
   "source": [
    "print(f\"Highest model accuracy is {round(max(train.history['val_sparse_categorical_accuracy'])*100,2)}% \\\n",
    "which occurs at {train.history['val_sparse_categorical_accuracy'].index(max(train.history['val_sparse_categorical_accuracy']))} \\\n",
    "epochs.\")\n",
    "     "
   ]
  },
  {
   "cell_type": "code",
   "execution_count": 12,
   "id": "15c0959f",
   "metadata": {},
   "outputs": [],
   "source": [
    "del model"
   ]
  },
  {
   "cell_type": "markdown",
   "id": "317046b0",
   "metadata": {},
   "source": [
    "---"
   ]
  },
  {
   "cell_type": "code",
   "execution_count": 11,
   "id": "dd170f0d",
   "metadata": {},
   "outputs": [],
   "source": [
    "# Specify model hyperparameters.\n",
    "embed_dim = 5\n",
    "num_filters = [10, 20]\n",
    "kernel_sizes = [10, 20]\n",
    "dense_layer_dims = [10, 4]\n",
    "dropout_rate = 0.7\n",
    "num_classes = 4"
   ]
  },
  {
   "cell_type": "code",
   "execution_count": 13,
   "id": "33d12984",
   "metadata": {},
   "outputs": [],
   "source": [
    "inputs = tf.keras.layers.Input(shape=(264,768))\n",
    "conv_layers_for_all_kernel_sizes = []\n",
    "for kernel_size, filters in zip(kernel_sizes, num_filters):\n",
    "    conv_layer = keras.layers.Conv1D(filters=filters, kernel_size=kernel_size, activation='relu')(inputs)\n",
    "    conv_layer = keras.layers.GlobalMaxPooling1D()(conv_layer)\n",
    "    conv_layers_for_all_kernel_sizes.append(conv_layer)\n",
    "\n",
    "h = keras.layers.concatenate(conv_layers_for_all_kernel_sizes, axis=1)\n",
    "\n",
    "h = keras.layers.Dropout(rate=dropout_rate)(h)\n",
    "\n",
    "for i in dense_layer_dims:\n",
    "    h=keras.layers.Dense(i, activation='relu')(h)\n",
    "\n",
    "prediction = keras.layers.Dense(num_classes, activation='softmax')(h)\n",
    "\n",
    "model = keras.Model(inputs=inputs, outputs=prediction)\n",
    "model.compile(optimizer='adam',\n",
    "              loss='sparse_categorical_crossentropy', \n",
    "              metrics=['sparse_categorical_accuracy'])"
   ]
  },
  {
   "cell_type": "code",
   "execution_count": 14,
   "id": "4b098451",
   "metadata": {
    "scrolled": true
   },
   "outputs": [
    {
     "name": "stdout",
     "output_type": "stream",
     "text": [
      "Epoch 1/20\n",
      "600/600 [==============================] - 97s 162ms/step - loss: 1.3906 - sparse_categorical_accuracy: 0.2418 - val_loss: 1.3864 - val_sparse_categorical_accuracy: 0.2483\n",
      "Epoch 2/20\n",
      "600/600 [==============================] - 92s 153ms/step - loss: 1.3864 - sparse_categorical_accuracy: 0.2502 - val_loss: 1.3865 - val_sparse_categorical_accuracy: 0.2483\n",
      "Epoch 3/20\n",
      "600/600 [==============================] - 92s 153ms/step - loss: 1.3868 - sparse_categorical_accuracy: 0.2522 - val_loss: 1.3864 - val_sparse_categorical_accuracy: 0.2483\n",
      "Epoch 4/20\n",
      "600/600 [==============================] - 93s 155ms/step - loss: 1.3864 - sparse_categorical_accuracy: 0.2511 - val_loss: 1.3865 - val_sparse_categorical_accuracy: 0.2479\n",
      "Epoch 5/20\n",
      "600/600 [==============================] - 92s 153ms/step - loss: 1.3864 - sparse_categorical_accuracy: 0.2485 - val_loss: 1.3865 - val_sparse_categorical_accuracy: 0.2483\n",
      "Epoch 6/20\n",
      "600/600 [==============================] - 91s 152ms/step - loss: 1.3863 - sparse_categorical_accuracy: 0.2528 - val_loss: 1.3865 - val_sparse_categorical_accuracy: 0.2479\n",
      "Epoch 7/20\n",
      "600/600 [==============================] - 92s 153ms/step - loss: 1.3864 - sparse_categorical_accuracy: 0.2504 - val_loss: 1.3865 - val_sparse_categorical_accuracy: 0.2477\n",
      "Epoch 8/20\n",
      "600/600 [==============================] - 92s 154ms/step - loss: 1.3864 - sparse_categorical_accuracy: 0.2476 - val_loss: 1.3865 - val_sparse_categorical_accuracy: 0.2479\n",
      "Epoch 9/20\n",
      "600/600 [==============================] - 92s 153ms/step - loss: 1.3864 - sparse_categorical_accuracy: 0.2463 - val_loss: 1.3866 - val_sparse_categorical_accuracy: 0.2483\n",
      "Epoch 10/20\n",
      "600/600 [==============================] - 92s 153ms/step - loss: 1.3863 - sparse_categorical_accuracy: 0.2507 - val_loss: 1.3867 - val_sparse_categorical_accuracy: 0.2477\n",
      "Epoch 11/20\n",
      "600/600 [==============================] - 91s 152ms/step - loss: 1.3864 - sparse_categorical_accuracy: 0.2455 - val_loss: 1.3865 - val_sparse_categorical_accuracy: 0.2477\n",
      "Epoch 12/20\n",
      "600/600 [==============================] - 92s 153ms/step - loss: 1.3865 - sparse_categorical_accuracy: 0.2514 - val_loss: 1.3867 - val_sparse_categorical_accuracy: 0.2479\n",
      "Epoch 13/20\n",
      "600/600 [==============================] - 92s 154ms/step - loss: 1.3863 - sparse_categorical_accuracy: 0.2527 - val_loss: 1.3865 - val_sparse_categorical_accuracy: 0.2477\n",
      "Epoch 14/20\n",
      "600/600 [==============================] - 91s 152ms/step - loss: 1.3864 - sparse_categorical_accuracy: 0.2493 - val_loss: 1.3865 - val_sparse_categorical_accuracy: 0.2483\n",
      "Epoch 15/20\n",
      "600/600 [==============================] - 92s 153ms/step - loss: 1.3864 - sparse_categorical_accuracy: 0.2494 - val_loss: 1.3866 - val_sparse_categorical_accuracy: 0.2477\n",
      "Epoch 16/20\n",
      "600/600 [==============================] - 92s 153ms/step - loss: 1.3863 - sparse_categorical_accuracy: 0.2510 - val_loss: 1.3866 - val_sparse_categorical_accuracy: 0.2479\n",
      "Epoch 17/20\n",
      "600/600 [==============================] - 92s 153ms/step - loss: 1.3864 - sparse_categorical_accuracy: 0.2486 - val_loss: 1.3865 - val_sparse_categorical_accuracy: 0.2479\n",
      "Epoch 18/20\n",
      "600/600 [==============================] - 92s 153ms/step - loss: 1.3863 - sparse_categorical_accuracy: 0.2466 - val_loss: 1.3864 - val_sparse_categorical_accuracy: 0.2479\n",
      "Epoch 19/20\n",
      "600/600 [==============================] - 92s 153ms/step - loss: 1.3864 - sparse_categorical_accuracy: 0.2495 - val_loss: 1.3865 - val_sparse_categorical_accuracy: 0.2477\n",
      "Epoch 20/20\n",
      "600/600 [==============================] - 92s 154ms/step - loss: 1.3863 - sparse_categorical_accuracy: 0.2502 - val_loss: 1.3864 - val_sparse_categorical_accuracy: 0.2483\n"
     ]
    }
   ],
   "source": [
    "train = model.fit(train_X, train_y, epochs=20, validation_split=0.2)\n"
   ]
  },
  {
   "cell_type": "code",
   "execution_count": 15,
   "id": "86c802a9",
   "metadata": {},
   "outputs": [
    {
     "name": "stdout",
     "output_type": "stream",
     "text": [
      "Highest model accuracy is 24.83% which occurs at 0 epochs.\n"
     ]
    }
   ],
   "source": [
    "print(f\"Highest model accuracy is {round(max(train.history['val_sparse_categorical_accuracy'])*100,2)}% \\\n",
    "which occurs at {train.history['val_sparse_categorical_accuracy'].index(max(train.history['val_sparse_categorical_accuracy']))} \\\n",
    "epochs.\")\n",
    "     "
   ]
  },
  {
   "cell_type": "code",
   "execution_count": 16,
   "id": "c09148a5",
   "metadata": {},
   "outputs": [
    {
     "name": "stdout",
     "output_type": "stream",
     "text": [
      "188/188 [==============================] - 5s 28ms/step - loss: 1.3863 - sparse_categorical_accuracy: 0.2508\n"
     ]
    },
    {
     "data": {
      "text/plain": [
       "[1.3863047361373901, 0.25083333253860474]"
      ]
     },
     "execution_count": 16,
     "metadata": {},
     "output_type": "execute_result"
    }
   ],
   "source": [
    "model.evaluate(test_X, test_y)\n"
   ]
  },
  {
   "cell_type": "code",
   "execution_count": 17,
   "id": "f6fb8d61",
   "metadata": {},
   "outputs": [],
   "source": [
    "del model"
   ]
  },
  {
   "cell_type": "markdown",
   "id": "5bac6de1",
   "metadata": {},
   "source": [
    "---"
   ]
  },
  {
   "cell_type": "code",
   "execution_count": 4,
   "id": "3817617f",
   "metadata": {},
   "outputs": [],
   "source": [
    "# Specify model hyperparameters.\n",
    "embed_dim = 5\n",
    "num_filters = [2, 3, 4]\n",
    "kernel_sizes = [3, 4, 5]\n",
    "dense_layer_dims = [10, 4]\n",
    "dropout_rate = 0.7\n",
    "num_classes = 4"
   ]
  },
  {
   "cell_type": "code",
   "execution_count": 5,
   "id": "c3fe753d",
   "metadata": {},
   "outputs": [],
   "source": [
    "inputs = tf.keras.layers.Input(shape=(264,768))\n",
    "conv_layers_for_all_kernel_sizes = []\n",
    "for kernel_size, filters in zip(kernel_sizes, num_filters):\n",
    "    conv_layer = keras.layers.Conv1D(filters=filters, kernel_size=kernel_size, activation='relu')(inputs)\n",
    "    conv_layer = keras.layers.GlobalMaxPooling1D()(conv_layer)\n",
    "    conv_layers_for_all_kernel_sizes.append(conv_layer)\n",
    "\n",
    "h = keras.layers.concatenate(conv_layers_for_all_kernel_sizes, axis=1)\n",
    "\n",
    "h = keras.layers.Dropout(rate=dropout_rate)(h)\n",
    "\n",
    "for i in dense_layer_dims:\n",
    "    h=keras.layers.Dense(i, activation='relu')(h)\n",
    "\n",
    "prediction = keras.layers.Dense(num_classes, activation='softmax')(h)\n",
    "\n",
    "model = keras.Model(inputs=inputs, outputs=prediction)\n",
    "model.compile(optimizer='adam',\n",
    "              loss='sparse_categorical_crossentropy', \n",
    "              metrics=['sparse_categorical_accuracy'])"
   ]
  },
  {
   "cell_type": "code",
   "execution_count": 6,
   "id": "9c1f8f5f",
   "metadata": {
    "scrolled": true
   },
   "outputs": [
    {
     "name": "stdout",
     "output_type": "stream",
     "text": [
      "Epoch 1/20\n",
      "600/600 [==============================] - 39s 61ms/step - loss: 1.3893 - sparse_categorical_accuracy: 0.2505 - val_loss: 1.3865 - val_sparse_categorical_accuracy: 0.2475\n",
      "Epoch 2/20\n",
      "600/600 [==============================] - 32s 54ms/step - loss: 1.3864 - sparse_categorical_accuracy: 0.2516 - val_loss: 1.3866 - val_sparse_categorical_accuracy: 0.2483\n",
      "Epoch 3/20\n",
      "600/600 [==============================] - 31s 51ms/step - loss: 1.3864 - sparse_categorical_accuracy: 0.2478 - val_loss: 1.3865 - val_sparse_categorical_accuracy: 0.2483\n",
      "Epoch 4/20\n",
      "600/600 [==============================] - 31s 51ms/step - loss: 1.3863 - sparse_categorical_accuracy: 0.2517 - val_loss: 1.3865 - val_sparse_categorical_accuracy: 0.2479\n",
      "Epoch 5/20\n",
      "600/600 [==============================] - 31s 51ms/step - loss: 1.3864 - sparse_categorical_accuracy: 0.2454 - val_loss: 1.3865 - val_sparse_categorical_accuracy: 0.2479\n",
      "Epoch 6/20\n",
      "600/600 [==============================] - 31s 51ms/step - loss: 1.3863 - sparse_categorical_accuracy: 0.2491 - val_loss: 1.3864 - val_sparse_categorical_accuracy: 0.2475\n",
      "Epoch 7/20\n",
      "600/600 [==============================] - 31s 51ms/step - loss: 1.3864 - sparse_categorical_accuracy: 0.2470 - val_loss: 1.3865 - val_sparse_categorical_accuracy: 0.2483\n",
      "Epoch 8/20\n",
      "600/600 [==============================] - 31s 51ms/step - loss: 1.3864 - sparse_categorical_accuracy: 0.2484 - val_loss: 1.3865 - val_sparse_categorical_accuracy: 0.2479\n",
      "Epoch 9/20\n",
      "600/600 [==============================] - 31s 51ms/step - loss: 1.3864 - sparse_categorical_accuracy: 0.2518 - val_loss: 1.3865 - val_sparse_categorical_accuracy: 0.2477\n",
      "Epoch 10/20\n",
      "600/600 [==============================] - 31s 51ms/step - loss: 1.3863 - sparse_categorical_accuracy: 0.2497 - val_loss: 1.3866 - val_sparse_categorical_accuracy: 0.2483\n",
      "Epoch 11/20\n",
      "600/600 [==============================] - 31s 51ms/step - loss: 1.3864 - sparse_categorical_accuracy: 0.2445 - val_loss: 1.3865 - val_sparse_categorical_accuracy: 0.2479\n",
      "Epoch 12/20\n",
      "600/600 [==============================] - 31s 51ms/step - loss: 1.3863 - sparse_categorical_accuracy: 0.2477 - val_loss: 1.3866 - val_sparse_categorical_accuracy: 0.2483\n",
      "Epoch 13/20\n",
      "600/600 [==============================] - 31s 51ms/step - loss: 1.3864 - sparse_categorical_accuracy: 0.2479 - val_loss: 1.3866 - val_sparse_categorical_accuracy: 0.2477\n",
      "Epoch 14/20\n",
      "600/600 [==============================] - 31s 52ms/step - loss: 1.3864 - sparse_categorical_accuracy: 0.2478 - val_loss: 1.3864 - val_sparse_categorical_accuracy: 0.2479\n",
      "Epoch 15/20\n",
      "600/600 [==============================] - 31s 52ms/step - loss: 1.3863 - sparse_categorical_accuracy: 0.2516 - val_loss: 1.3864 - val_sparse_categorical_accuracy: 0.2479\n",
      "Epoch 16/20\n",
      "600/600 [==============================] - 31s 52ms/step - loss: 1.3864 - sparse_categorical_accuracy: 0.2471 - val_loss: 1.3864 - val_sparse_categorical_accuracy: 0.2479\n",
      "Epoch 17/20\n",
      "600/600 [==============================] - 31s 51ms/step - loss: 1.3864 - sparse_categorical_accuracy: 0.2519 - val_loss: 1.3866 - val_sparse_categorical_accuracy: 0.2479\n",
      "Epoch 18/20\n",
      "600/600 [==============================] - 31s 52ms/step - loss: 1.3863 - sparse_categorical_accuracy: 0.2486 - val_loss: 1.3864 - val_sparse_categorical_accuracy: 0.2477\n",
      "Epoch 19/20\n",
      "600/600 [==============================] - 31s 52ms/step - loss: 1.3864 - sparse_categorical_accuracy: 0.2481 - val_loss: 1.3866 - val_sparse_categorical_accuracy: 0.2477\n",
      "Epoch 20/20\n",
      "600/600 [==============================] - 31s 52ms/step - loss: 1.3864 - sparse_categorical_accuracy: 0.2483 - val_loss: 1.3866 - val_sparse_categorical_accuracy: 0.2479\n"
     ]
    }
   ],
   "source": [
    "train = model.fit(train_X, train_y, epochs=20, validation_split=0.2)\n"
   ]
  },
  {
   "cell_type": "code",
   "execution_count": 7,
   "id": "0ee5243a",
   "metadata": {},
   "outputs": [
    {
     "data": {
      "image/png": "[encoded data removed]",
      "text/plain": [
       "<Figure size 432x288 with 1 Axes>"
      ]
     },
     "metadata": {
      "needs_background": "light"
     },
     "output_type": "display_data"
    }
   ],
   "source": [
    "plt.plot(train.history['sparse_categorical_accuracy'])\n",
    "plt.plot(train.history['val_sparse_categorical_accuracy'])\n",
    "plt.title('Model accuracy')\n",
    "plt.ylabel('Accuracy')\n",
    "plt.xlabel('Epoch')\n",
    "plt.legend(['train', 'validation'], loc='upper left')\n",
    "plt.show()"
   ]
  },
  {
   "cell_type": "code",
   "execution_count": 8,
   "id": "624e6779",
   "metadata": {},
   "outputs": [
    {
     "name": "stdout",
     "output_type": "stream",
     "text": [
      "Highest model accuracy is 24.83% which occurs at 1 epochs.\n"
     ]
    }
   ],
   "source": [
    "print(f\"Highest model accuracy is {round(max(train.history['val_sparse_categorical_accuracy'])*100,2)}% \\\n",
    "which occurs at {train.history['val_sparse_categorical_accuracy'].index(max(train.history['val_sparse_categorical_accuracy']))} \\\n",
    "epochs.\")\n",
    "     "
   ]
  },
  {
   "cell_type": "code",
   "execution_count": 9,
   "id": "47ec6846",
   "metadata": {},
   "outputs": [
    {
     "name": "stdout",
     "output_type": "stream",
     "text": [
      "188/188 [==============================] - 3s 14ms/step - loss: 1.3863 - sparse_categorical_accuracy: 0.2508\n"
     ]
    },
    {
     "data": {
      "text/plain": [
       "[1.386325716972351, 0.25083333253860474]"
      ]
     },
     "execution_count": 9,
     "metadata": {},
     "output_type": "execute_result"
    }
   ],
   "source": [
    "model.evaluate(test_X, test_y)\n"
   ]
  },
  {
   "cell_type": "code",
   "execution_count": null,
   "id": "47033d55",
   "metadata": {},
   "outputs": [],
   "source": []
  }
 ],
 "metadata": {
  "kernelspec": {
   "display_name": "Python 3",
   "language": "python",
   "name": "python3"
  },
  "language_info": {
   "codemirror_mode": {
    "name": "ipython",
    "version": 3
   },
   "file_extension": ".py",
   "mimetype": "text/x-python",
   "name": "python",
   "nbconvert_exporter": "python",
   "pygments_lexer": "ipython3",
   "version": "3.8.8"
  }
 },
 "nbformat": 4,
 "nbformat_minor": 5
}
