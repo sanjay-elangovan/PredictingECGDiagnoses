{
 "cells": [
  {
   "cell_type": "markdown",
   "id": "d07e651a",
   "metadata": {},
   "source": [
    "## Loading Data"
   ]
  },
  {
   "cell_type": "code",
   "execution_count": 14,
   "id": "7a3a7766",
   "metadata": {},
   "outputs": [],
   "source": [
    "from keras.models import Sequential\n",
    "from keras.layers import Dense\n",
    "import pickle\n",
    "import pandas as pd\n",
    "import numpy as np\n",
    "import tensorflow as tf"
   ]
  },
  {
   "cell_type": "markdown",
   "id": "6e81bc4d",
   "metadata": {},
   "source": [
    "### Spacy Embeddings"
   ]
  },
  {
   "cell_type": "code",
   "execution_count": 15,
   "id": "55a1f159",
   "metadata": {},
   "outputs": [],
   "source": [
    "ekg_denoised = pd.read_pickle('/home/sanjaycollege15/PredictingDiagnoses/Data/ekg_denoised_spacy.pkl')\n",
    "ekg_denoised = ekg_denoised.sample(frac=1)\n"
   ]
  },
  {
   "cell_type": "code",
   "execution_count": 16,
   "id": "a614c456",
   "metadata": {},
   "outputs": [
    {
     "data": {
      "text/html": [
       "<div>\n",
       "<style scoped>\n",
       "    .dataframe tbody tr th:only-of-type {\n",
       "        vertical-align: middle;\n",
       "    }\n",
       "\n",
       "    .dataframe tbody tr th {\n",
       "        vertical-align: top;\n",
       "    }\n",
       "\n",
       "    .dataframe thead th {\n",
       "        text-align: right;\n",
       "    }\n",
       "</style>\n",
       "<table border=\"1\" class=\"dataframe\">\n",
       "  <thead>\n",
       "    <tr style=\"text-align: right;\">\n",
       "      <th></th>\n",
       "      <th>ICD9_CODE</th>\n",
       "      <th>spacy_embeddings</th>\n",
       "    </tr>\n",
       "  </thead>\n",
       "  <tbody>\n",
       "    <tr>\n",
       "      <th>2250</th>\n",
       "      <td>1</td>\n",
       "      <td>[0.023880688, 0.25040564, -0.16215535, 0.10344...</td>\n",
       "    </tr>\n",
       "    <tr>\n",
       "      <th>163</th>\n",
       "      <td>0</td>\n",
       "      <td>[-0.07352894, 0.28335434, -0.17457177, 0.13968...</td>\n",
       "    </tr>\n",
       "    <tr>\n",
       "      <th>4856</th>\n",
       "      <td>2</td>\n",
       "      <td>[-0.06881923, 0.24400608, -0.113694854, -0.013...</td>\n",
       "    </tr>\n",
       "    <tr>\n",
       "      <th>2572</th>\n",
       "      <td>1</td>\n",
       "      <td>[0.09704422, 0.2438737, -0.13140379, -0.010834...</td>\n",
       "    </tr>\n",
       "    <tr>\n",
       "      <th>3381</th>\n",
       "      <td>2</td>\n",
       "      <td>[-0.04621725, 0.16742638, -0.1968456, -0.02769...</td>\n",
       "    </tr>\n",
       "  </tbody>\n",
       "</table>\n",
       "</div>"
      ],
      "text/plain": [
       "      ICD9_CODE                                   spacy_embeddings\n",
       "2250          1  [0.023880688, 0.25040564, -0.16215535, 0.10344...\n",
       "163           0  [-0.07352894, 0.28335434, -0.17457177, 0.13968...\n",
       "4856          2  [-0.06881923, 0.24400608, -0.113694854, -0.013...\n",
       "2572          1  [0.09704422, 0.2438737, -0.13140379, -0.010834...\n",
       "3381          2  [-0.04621725, 0.16742638, -0.1968456, -0.02769..."
      ]
     },
     "execution_count": 16,
     "metadata": {},
     "output_type": "execute_result"
    }
   ],
   "source": [
    "ekg_denoised.head()"
   ]
  },
  {
   "cell_type": "code",
   "execution_count": 17,
   "id": "621d88e9",
   "metadata": {},
   "outputs": [
    {
     "data": {
      "text/plain": [
       "(300,)"
      ]
     },
     "execution_count": 17,
     "metadata": {},
     "output_type": "execute_result"
    }
   ],
   "source": [
    "ekg_denoised['spacy_embeddings'][4603].shape"
   ]
  },
  {
   "cell_type": "markdown",
   "id": "7f6b9142",
   "metadata": {},
   "source": [
    "### Train/Dev/Test/Split"
   ]
  },
  {
   "cell_type": "code",
   "execution_count": 18,
   "id": "9db78f38",
   "metadata": {},
   "outputs": [],
   "source": [
    "X = ekg_denoised['spacy_embeddings']\n",
    "y = ekg_denoised['ICD9_CODE']"
   ]
  },
  {
   "cell_type": "code",
   "execution_count": 19,
   "id": "15cb40cf",
   "metadata": {},
   "outputs": [],
   "source": [
    "train_X, validate_X, test_X = np.split(X.sample(frac=1), \n",
    "                                       [int(.6*len(X)), \n",
    "                                        int(.8*len(X))])\n",
    "\n",
    "train_y, validate_y, test_y = np.split(y.sample(frac=1), \n",
    "                                       [int(.6*len(y)), \n",
    "                                        int(.8*len(y))])"
   ]
  },
  {
   "cell_type": "code",
   "execution_count": 20,
   "id": "429b1635",
   "metadata": {},
   "outputs": [],
   "source": [
    "train_X = np.array(train_X)\n",
    "train_y = np.array(train_y)"
   ]
  },
  {
   "cell_type": "code",
   "execution_count": 47,
   "id": "c0b0dace",
   "metadata": {},
   "outputs": [],
   "source": [
    "new_train_X = []\n",
    "for i in train_X:\n",
    "    new_train_X.append(list(i))\n",
    "train_X = np.array(new_train_X)\n",
    "    \n",
    "new_validate_X = []\n",
    "for i in validate_X:\n",
    "    new_validate_X.append(list(i))\n",
    "validate_X = np.array(new_validate_X)\n",
    "    \n",
    "new_test_X = []\n",
    "for i in test_X:\n",
    "    new_test_X.append(list(i))\n",
    "test_X = np.array(new_test_X)"
   ]
  },
  {
   "cell_type": "markdown",
   "id": "b49b7ea4",
   "metadata": {},
   "source": [
    "## Define Keras Model"
   ]
  },
  {
   "cell_type": "code",
   "execution_count": 45,
   "id": "20100077",
   "metadata": {},
   "outputs": [],
   "source": [
    "inputs = tf.keras.layers.Input(shape=(300,))\n",
    "hidden_1_out = tf.keras.layers.Dense(30, activation='relu')(inputs)\n",
    "hidden_2_out = tf.keras.layers.Dense(10, activation='relu')(hidden_1_out)\n",
    "classification_out = tf.keras.layers.Dense(5, activation='relu')(hidden_2_out)\n",
    "\n",
    "model_functional = tf.keras.models.Model(inputs=inputs, outputs = classification_out)\n",
    "model_functional.compile(loss='SparseCategoricalCrossentropy', optimizer='adam', metrics=['accuracy'])"
   ]
  },
  {
   "cell_type": "code",
   "execution_count": 55,
   "id": "91064fe8",
   "metadata": {},
   "outputs": [
    {
     "data": {
      "image/png": "[encoded data removed]",
      "text/plain": [
       "<IPython.core.display.Image object>"
      ]
     },
     "execution_count": 55,
     "metadata": {},
     "output_type": "execute_result"
    }
   ],
   "source": [
    "tf.keras.utils.plot_model(model_functional, \"my_first_model_with_shape_info.png\", show_shapes=True)\n"
   ]
  },
  {
   "cell_type": "code",
   "execution_count": 46,
   "id": "4f5d1c35",
   "metadata": {
    "scrolled": true
   },
   "outputs": [
    {
     "name": "stdout",
     "output_type": "stream",
     "text": [
      "Epoch 1/15\n",
      "393/393 [==============================] - 39s 1ms/step - loss: 4.8140 - accuracy: 0.2367\n",
      "Epoch 2/15\n",
      "393/393 [==============================] - 1s 1ms/step - loss: 4.5688 - accuracy: 0.2538\n",
      "Epoch 3/15\n",
      "393/393 [==============================] - 1s 1ms/step - loss: 4.5652 - accuracy: 0.2428\n",
      "Epoch 4/15\n",
      "393/393 [==============================] - 1s 1ms/step - loss: 4.5845 - accuracy: 0.2497\n",
      "Epoch 5/15\n",
      "393/393 [==============================] - 1s 1ms/step - loss: 4.4129 - accuracy: 0.2448\n",
      "Epoch 6/15\n",
      "393/393 [==============================] - 1s 1ms/step - loss: 4.3905 - accuracy: 0.2479\n",
      "Epoch 7/15\n",
      "393/393 [==============================] - 1s 1ms/step - loss: 4.6634 - accuracy: 0.2589\n",
      "Epoch 8/15\n",
      "393/393 [==============================] - 1s 1ms/step - loss: 4.1794 - accuracy: 0.2604\n",
      "Epoch 9/15\n",
      "393/393 [==============================] - 1s 1ms/step - loss: 1.6452 - accuracy: 0.2515\n",
      "Epoch 10/15\n",
      "393/393 [==============================] - 1s 1ms/step - loss: 1.6295 - accuracy: 0.2507\n",
      "Epoch 11/15\n",
      "393/393 [==============================] - 1s 1ms/step - loss: 1.6222 - accuracy: 0.2502\n",
      "Epoch 12/15\n",
      "393/393 [==============================] - 1s 1ms/step - loss: 1.6192 - accuracy: 0.2499\n",
      "Epoch 13/15\n",
      "393/393 [==============================] - 1s 1ms/step - loss: 1.6185 - accuracy: 0.2499\n",
      "Epoch 14/15\n",
      "393/393 [==============================] - 1s 1ms/step - loss: 1.6166 - accuracy: 0.2494\n",
      "Epoch 15/15\n",
      "393/393 [==============================] - 1s 1ms/step - loss: 1.6189 - accuracy: 0.2499\n"
     ]
    },
    {
     "data": {
      "text/plain": [
       "<keras.callbacks.History at 0x7f4a226c3160>"
      ]
     },
     "execution_count": 46,
     "metadata": {},
     "output_type": "execute_result"
    }
   ],
   "source": [
    "model_functional.fit(train_X, train_y, epochs=15, batch_size=10)\n"
   ]
  },
  {
   "cell_type": "code",
   "execution_count": 56,
   "id": "ef6d3463",
   "metadata": {},
   "outputs": [
    {
     "name": "stdout",
     "output_type": "stream",
     "text": [
      "41/41 [==============================] - 0s 1ms/step - loss: 1.6094 - accuracy: 0.2554\n"
     ]
    },
    {
     "data": {
      "text/plain": [
       "[1.6094369888305664, 0.2553516924381256]"
      ]
     },
     "execution_count": 56,
     "metadata": {},
     "output_type": "execute_result"
    }
   ],
   "source": [
    "model_functional.evaluate(test_X, test_y)"
   ]
  },
  {
   "cell_type": "code",
   "execution_count": null,
   "id": "3101807a",
   "metadata": {},
   "outputs": [],
   "source": []
  }
 ],
 "metadata": {
  "kernelspec": {
   "display_name": "Python 3",
   "language": "python",
   "name": "python3"
  },
  "language_info": {
   "codemirror_mode": {
    "name": "ipython",
    "version": 3
   },
   "file_extension": ".py",
   "mimetype": "text/x-python",
   "name": "python",
   "nbconvert_exporter": "python",
   "pygments_lexer": "ipython3",
   "version": "3.8.8"
  }
 },
 "nbformat": 4,
 "nbformat_minor": 5
}
