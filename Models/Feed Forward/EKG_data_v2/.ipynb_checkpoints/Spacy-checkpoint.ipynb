{
 "cells": [
  {
   "cell_type": "markdown",
   "id": "e1788b01",
   "metadata": {},
   "source": [
    "## Imports"
   ]
  },
  {
   "cell_type": "code",
   "execution_count": 1,
   "id": "7a3a7766",
   "metadata": {},
   "outputs": [],
   "source": [
    "from keras.models import Sequential\n",
    "from keras.layers import Dense, Dropout\n",
    "import pickle\n",
    "import pandas as pd\n",
    "import numpy as np\n",
    "import tensorflow as tf"
   ]
  },
  {
   "cell_type": "markdown",
   "id": "d07e651a",
   "metadata": {},
   "source": [
    "## Data"
   ]
  },
  {
   "cell_type": "markdown",
   "id": "6e81bc4d",
   "metadata": {},
   "source": [
    "### Spacy Embeddings"
   ]
  },
  {
   "cell_type": "code",
   "execution_count": 2,
   "id": "55a1f159",
   "metadata": {},
   "outputs": [],
   "source": [
    "ekg_denoised = pd.read_pickle('/home/sanjaycollege15/PredictingDiagnoses/Data/ekg_denoised_spacy_v2.pkl')\n",
    "ekg_denoised = ekg_denoised.sample(frac=1)\n"
   ]
  },
  {
   "cell_type": "code",
   "execution_count": 3,
   "id": "a614c456",
   "metadata": {},
   "outputs": [
    {
     "data": {
      "text/html": [
       "<div>\n",
       "<style scoped>\n",
       "    .dataframe tbody tr th:only-of-type {\n",
       "        vertical-align: middle;\n",
       "    }\n",
       "\n",
       "    .dataframe tbody tr th {\n",
       "        vertical-align: top;\n",
       "    }\n",
       "\n",
       "    .dataframe thead th {\n",
       "        text-align: right;\n",
       "    }\n",
       "</style>\n",
       "<table border=\"1\" class=\"dataframe\">\n",
       "  <thead>\n",
       "    <tr style=\"text-align: right;\">\n",
       "      <th></th>\n",
       "      <th>ICD9_CODE</th>\n",
       "      <th>spacy_embeddings</th>\n",
       "    </tr>\n",
       "  </thead>\n",
       "  <tbody>\n",
       "    <tr>\n",
       "      <th>61195</th>\n",
       "      <td>2</td>\n",
       "      <td>[-0.10770822, 0.26172403, -0.24137318, -0.0139...</td>\n",
       "    </tr>\n",
       "    <tr>\n",
       "      <th>29270</th>\n",
       "      <td>0</td>\n",
       "      <td>[-0.1274955, 0.23725922, -0.20597686, 0.052719...</td>\n",
       "    </tr>\n",
       "    <tr>\n",
       "      <th>50788</th>\n",
       "      <td>1</td>\n",
       "      <td>[-0.0047168722, 0.28862834, -0.19175448, -0.01...</td>\n",
       "    </tr>\n",
       "    <tr>\n",
       "      <th>17462</th>\n",
       "      <td>0</td>\n",
       "      <td>[-0.08162924, 0.22849707, -0.11829656, -0.0803...</td>\n",
       "    </tr>\n",
       "    <tr>\n",
       "      <th>21732</th>\n",
       "      <td>0</td>\n",
       "      <td>[-0.03556302, 0.26150537, -0.22756626, 0.06201...</td>\n",
       "    </tr>\n",
       "  </tbody>\n",
       "</table>\n",
       "</div>"
      ],
      "text/plain": [
       "       ICD9_CODE                                   spacy_embeddings\n",
       "61195          2  [-0.10770822, 0.26172403, -0.24137318, -0.0139...\n",
       "29270          0  [-0.1274955, 0.23725922, -0.20597686, 0.052719...\n",
       "50788          1  [-0.0047168722, 0.28862834, -0.19175448, -0.01...\n",
       "17462          0  [-0.08162924, 0.22849707, -0.11829656, -0.0803...\n",
       "21732          0  [-0.03556302, 0.26150537, -0.22756626, 0.06201..."
      ]
     },
     "execution_count": 3,
     "metadata": {},
     "output_type": "execute_result"
    }
   ],
   "source": [
    "ekg_denoised.head()"
   ]
  },
  {
   "cell_type": "markdown",
   "id": "7f6b9142",
   "metadata": {},
   "source": [
    "### Train/Dev/Test/Split"
   ]
  },
  {
   "cell_type": "code",
   "execution_count": 5,
   "id": "1e1301d7",
   "metadata": {},
   "outputs": [],
   "source": [
    "X = ekg_denoised['spacy_embeddings']\n",
    "y = ekg_denoised['ICD9_CODE']"
   ]
  },
  {
   "cell_type": "code",
   "execution_count": 6,
   "id": "15cb40cf",
   "metadata": {},
   "outputs": [],
   "source": [
    "train_X, validate_X, test_X = np.split(X.sample(frac=1), \n",
    "                                       [int(.6*len(X)), \n",
    "                                        int(.8*len(X))])\n",
    "\n",
    "train_y, validate_y, test_y = np.split(y.sample(frac=1), \n",
    "                                       [int(.6*len(y)), \n",
    "                                        int(.8*len(y))])"
   ]
  },
  {
   "cell_type": "code",
   "execution_count": 7,
   "id": "429b1635",
   "metadata": {},
   "outputs": [],
   "source": [
    "train_X = np.array(train_X)\n",
    "train_y = np.array(train_y)"
   ]
  },
  {
   "cell_type": "code",
   "execution_count": 8,
   "id": "c0b0dace",
   "metadata": {},
   "outputs": [],
   "source": [
    "new_train_X = []\n",
    "for i in train_X:\n",
    "    new_train_X.append(list(i))\n",
    "train_X = np.array(new_train_X)\n",
    "    \n",
    "new_validate_X = []\n",
    "for i in validate_X:\n",
    "    new_validate_X.append(list(i))\n",
    "validate_X = np.array(new_validate_X)\n",
    "    \n",
    "new_test_X = []\n",
    "for i in test_X:\n",
    "    new_test_X.append(list(i))\n",
    "test_X = np.array(new_test_X)"
   ]
  },
  {
   "cell_type": "code",
   "execution_count": 9,
   "id": "f6e8b71a",
   "metadata": {
    "scrolled": true
   },
   "outputs": [
    {
     "data": {
      "text/plain": [
       "(40908, 300)"
      ]
     },
     "execution_count": 9,
     "metadata": {},
     "output_type": "execute_result"
    }
   ],
   "source": [
    "train_X.shape"
   ]
  },
  {
   "cell_type": "code",
   "execution_count": 10,
   "id": "88676365",
   "metadata": {},
   "outputs": [
    {
     "data": {
      "text/plain": [
       "(13636, 300)"
      ]
     },
     "execution_count": 10,
     "metadata": {},
     "output_type": "execute_result"
    }
   ],
   "source": [
    "validate_X.shape"
   ]
  },
  {
   "cell_type": "code",
   "execution_count": 11,
   "id": "fe9cea6b",
   "metadata": {},
   "outputs": [
    {
     "data": {
      "text/plain": [
       "(13636, 300)"
      ]
     },
     "execution_count": 11,
     "metadata": {},
     "output_type": "execute_result"
    }
   ],
   "source": [
    "test_X.shape"
   ]
  },
  {
   "cell_type": "markdown",
   "id": "b49b7ea4",
   "metadata": {},
   "source": [
    "## Model"
   ]
  },
  {
   "cell_type": "code",
   "execution_count": 49,
   "id": "20100077",
   "metadata": {},
   "outputs": [],
   "source": [
    "inputs = tf.keras.layers.Input(shape=(300,), name='inputs')\n",
    "hidden_1_out = tf.keras.layers.Dense(200, activation='relu', name='dense_1')(inputs)\n",
    "dropout = tf.keras.layers.Dropout(0.2, name = 'droput')(hidden_1_out)\n",
    "hidden_2_out = tf.keras.layers.Dense(100, activation='relu', name='dense2')(dropout)\n",
    "classification_out = tf.keras.layers.Dense(4, activation='softmax', name='output')(hidden_2_out)\n",
    "\n",
    "model_functional = tf.keras.models.Model(inputs=inputs, outputs = classification_out)\n",
    "model_functional.compile(loss='SparseCategoricalCrossentropy', optimizer='adam', metrics=['accuracy'])"
   ]
  },
  {
   "cell_type": "code",
   "execution_count": 50,
   "id": "91064fe8",
   "metadata": {},
   "outputs": [
    {
     "data": {
      "image/png": "[encoded data removed]",
      "text/plain": [
       "<IPython.core.display.Image object>"
      ]
     },
     "execution_count": 50,
     "metadata": {},
     "output_type": "execute_result"
    }
   ],
   "source": [
    "tf.keras.utils.plot_model(model_functional, \"spacey_embeddings.png\", show_shapes=True)\n"
   ]
  },
  {
   "cell_type": "code",
   "execution_count": 51,
   "id": "4f5d1c35",
   "metadata": {
    "scrolled": true
   },
   "outputs": [
    {
     "name": "stdout",
     "output_type": "stream",
     "text": [
      "Epoch 1/10\n",
      "80/80 [==============================] - 1s 5ms/step - loss: 1.3889 - accuracy: 0.2492\n",
      "Epoch 2/10\n",
      "80/80 [==============================] - 0s 5ms/step - loss: 1.3867 - accuracy: 0.2529\n",
      "Epoch 3/10\n",
      "80/80 [==============================] - 0s 5ms/step - loss: 1.3864 - accuracy: 0.2545\n",
      "Epoch 4/10\n",
      "80/80 [==============================] - 0s 5ms/step - loss: 1.3859 - accuracy: 0.2590\n",
      "Epoch 5/10\n",
      "80/80 [==============================] - 0s 5ms/step - loss: 1.3852 - accuracy: 0.2622\n",
      "Epoch 6/10\n",
      "80/80 [==============================] - 0s 5ms/step - loss: 1.3851 - accuracy: 0.2607\n",
      "Epoch 7/10\n",
      "80/80 [==============================] - 0s 5ms/step - loss: 1.3843 - accuracy: 0.2657\n",
      "Epoch 8/10\n",
      "80/80 [==============================] - 0s 5ms/step - loss: 1.3838 - accuracy: 0.2627\n",
      "Epoch 9/10\n",
      "80/80 [==============================] - 0s 5ms/step - loss: 1.3836 - accuracy: 0.2691\n",
      "Epoch 10/10\n",
      "80/80 [==============================] - 0s 5ms/step - loss: 1.3830 - accuracy: 0.2725\n"
     ]
    },
    {
     "data": {
      "text/plain": [
       "<keras.callbacks.History at 0x7fcc14724cd0>"
      ]
     },
     "execution_count": 51,
     "metadata": {},
     "output_type": "execute_result"
    }
   ],
   "source": [
    "model_functional.fit(train_X, train_y, epochs=10, batch_size=512)\n"
   ]
  },
  {
   "cell_type": "code",
   "execution_count": 52,
   "id": "ef6d3463",
   "metadata": {},
   "outputs": [
    {
     "name": "stdout",
     "output_type": "stream",
     "text": [
      "427/427 [==============================] - 1s 1ms/step - loss: 1.3890 - accuracy: 0.2486\n"
     ]
    },
    {
     "data": {
      "text/plain": [
       "[1.3890208005905151, 0.2486066222190857]"
      ]
     },
     "execution_count": 52,
     "metadata": {},
     "output_type": "execute_result"
    }
   ],
   "source": [
    "model_functional.evaluate(validate_X, validate_y)"
   ]
  },
  {
   "cell_type": "markdown",
   "id": "a9a44509",
   "metadata": {},
   "source": [
    "No learning! Random chance would label 25% of values accurately. Averaging during the embedding stage is likely causing it to lose information"
   ]
  }
 ],
 "metadata": {
  "kernelspec": {
   "display_name": "Python 3",
   "language": "python",
   "name": "python3"
  },
  "language_info": {
   "codemirror_mode": {
    "name": "ipython",
    "version": 3
   },
   "file_extension": ".py",
   "mimetype": "text/x-python",
   "name": "python",
   "nbconvert_exporter": "python",
   "pygments_lexer": "ipython3",
   "version": "3.8.8"
  }
 },
 "nbformat": 4,
 "nbformat_minor": 5
}
