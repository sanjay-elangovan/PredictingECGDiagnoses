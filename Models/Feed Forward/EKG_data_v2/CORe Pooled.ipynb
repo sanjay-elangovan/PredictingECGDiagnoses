{
 "cells": [
  {
   "cell_type": "markdown",
   "id": "bbfaa1b4",
   "metadata": {},
   "source": [
    "## Imports"
   ]
  },
  {
   "cell_type": "code",
   "execution_count": 2,
   "id": "7a3a7766",
   "metadata": {},
   "outputs": [],
   "source": [
    "from keras.layers import Dense\n",
    "from tensorflow.keras import regularizers\n",
    "import pickle\n",
    "import pandas as pd\n",
    "import numpy as np\n",
    "import tensorflow as tf\n",
    "from sklearn.model_selection import train_test_split\n",
    "import scipy.sparse \n",
    "from matplotlib import pyplot as plt\n",
    "\n",
    "\n",
    "from transformers import AutoTokenizer, AutoModel, pipeline\n",
    "import tensorflow_hub as hub\n",
    "import torch\n",
    "\n",
    "import pandas as pd\n",
    "import numpy as np \n",
    "import pickle\n",
    " "
   ]
  },
  {
   "cell_type": "markdown",
   "id": "d07e651a",
   "metadata": {},
   "source": [
    "## Loading Data"
   ]
  },
  {
   "cell_type": "markdown",
   "id": "6e81bc4d",
   "metadata": {},
   "source": [
    "### ClinicalBERT Pooled Embeddings"
   ]
  },
  {
   "cell_type": "code",
   "execution_count": 2,
   "id": "55a1f159",
   "metadata": {},
   "outputs": [],
   "source": [
    "embeddings = np.load('/home/sanjaycollege15/PredictingDiagnoses/Data/ekg_denoised_CORe_pooled_embeddings_68k.npy')\n",
    "labels = np.load('/home/sanjaycollege15/PredictingDiagnoses/Data/ekg_denoised_CORe_pooled_labels_68k.npy')\n"
   ]
  },
  {
   "cell_type": "code",
   "execution_count": 3,
   "id": "a614c456",
   "metadata": {
    "scrolled": true
   },
   "outputs": [],
   "source": [
    "train_X, test_X, train_y, test_y = train_test_split(embeddings, labels, test_size=0.20, random_state=42, stratify=labels)\n",
    "del embeddings\n",
    "del labels"
   ]
  },
  {
   "cell_type": "code",
   "execution_count": 4,
   "id": "f09bdf1b",
   "metadata": {},
   "outputs": [
    {
     "data": {
      "text/plain": [
       "(54200, 768)"
      ]
     },
     "execution_count": 4,
     "metadata": {},
     "output_type": "execute_result"
    }
   ],
   "source": [
    "train_X.shape"
   ]
  },
  {
   "cell_type": "code",
   "execution_count": 5,
   "id": "4348bef6",
   "metadata": {},
   "outputs": [
    {
     "data": {
      "text/plain": [
       "(13550, 768)"
      ]
     },
     "execution_count": 5,
     "metadata": {},
     "output_type": "execute_result"
    }
   ],
   "source": [
    "test_X.shape"
   ]
  },
  {
   "cell_type": "markdown",
   "id": "b49b7ea4",
   "metadata": {},
   "source": [
    "## Define Keras Model"
   ]
  },
  {
   "cell_type": "code",
   "execution_count": 3,
   "id": "e5333fb0",
   "metadata": {
    "scrolled": true
   },
   "outputs": [
    {
     "name": "stderr",
     "output_type": "stream",
     "text": [
      "Some weights of the model checkpoint at emilyalsentzer/Bio_ClinicalBERT were not used when initializing BertModel: ['cls.seq_relationship.weight', 'cls.predictions.transform.LayerNorm.bias', 'cls.predictions.bias', 'cls.predictions.decoder.weight', 'cls.seq_relationship.bias', 'cls.predictions.transform.LayerNorm.weight', 'cls.predictions.transform.dense.bias', 'cls.predictions.transform.dense.weight']\n",
      "- This IS expected if you are initializing BertModel from the checkpoint of a model trained on another task or with another architecture (e.g. initializing a BertForSequenceClassification model from a BertForPreTraining model).\n",
      "- This IS NOT expected if you are initializing BertModel from the checkpoint of a model that you expect to be exactly identical (initializing a BertForSequenceClassification model from a BertForSequenceClassification model).\n"
     ]
    }
   ],
   "source": [
    "tokenizer = AutoTokenizer.from_pretrained(\"emilyalsentzer/Bio_ClinicalBERT\", model_max_length=264)\n",
    "model = AutoModel.from_pretrained(\"emilyalsentzer/Bio_ClinicalBERT\")\n"
   ]
  },
  {
   "cell_type": "markdown",
   "id": "010a5e8c",
   "metadata": {},
   "source": [
    "---"
   ]
  },
  {
   "cell_type": "code",
   "execution_count": 6,
   "id": "9adcaa07",
   "metadata": {},
   "outputs": [],
   "source": [
    "inputs = tf.keras.layers.Input(shape=(train_X.shape[1],))\n",
    "classification_out = tf.keras.layers.Dense(4, activation='softmax')(inputs)\n",
    "\n",
    "model_functional = tf.keras.models.Model(inputs=inputs, outputs = classification_out)\n",
    "model_functional.compile(loss='SparseCategoricalCrossentropy', \n",
    "                         optimizer='adam', \n",
    "                         metrics=['sparse_categorical_accuracy'])\n"
   ]
  },
  {
   "cell_type": "code",
   "execution_count": 7,
   "id": "91064fe8",
   "metadata": {
    "scrolled": true
   },
   "outputs": [
    {
     "data": {
      "image/png": "[encoded data removed]",
      "text/plain": [
       "<IPython.core.display.Image object>"
      ]
     },
     "execution_count": 7,
     "metadata": {},
     "output_type": "execute_result"
    }
   ],
   "source": [
    "tf.keras.utils.plot_model(model_functional, show_shapes = True)\n"
   ]
  },
  {
   "cell_type": "code",
   "execution_count": 8,
   "id": "4f5d1c35",
   "metadata": {
    "scrolled": true
   },
   "outputs": [
    {
     "name": "stdout",
     "output_type": "stream",
     "text": [
      "Epoch 1/50\n",
      "1355/1355 [==============================] - 3s 2ms/step - loss: 1.4159 - sparse_categorical_accuracy: 0.2477 - val_loss: 1.4192 - val_sparse_categorical_accuracy: 0.2486\n",
      "Epoch 2/50\n",
      "1355/1355 [==============================] - 2s 2ms/step - loss: 1.4144 - sparse_categorical_accuracy: 0.2473 - val_loss: 1.4598 - val_sparse_categorical_accuracy: 0.2512\n",
      "Epoch 3/50\n",
      "1355/1355 [==============================] - 2s 2ms/step - loss: 1.4110 - sparse_categorical_accuracy: 0.2542 - val_loss: 1.4260 - val_sparse_categorical_accuracy: 0.2538\n",
      "Epoch 4/50\n",
      "1355/1355 [==============================] - 2s 2ms/step - loss: 1.4124 - sparse_categorical_accuracy: 0.2500 - val_loss: 1.4070 - val_sparse_categorical_accuracy: 0.2444\n",
      "Epoch 5/50\n",
      "1355/1355 [==============================] - 2s 2ms/step - loss: 1.4112 - sparse_categorical_accuracy: 0.2545 - val_loss: 1.4106 - val_sparse_categorical_accuracy: 0.2459\n",
      "Epoch 6/50\n",
      "1355/1355 [==============================] - 2s 2ms/step - loss: 1.4125 - sparse_categorical_accuracy: 0.2536 - val_loss: 1.4005 - val_sparse_categorical_accuracy: 0.2544\n",
      "Epoch 7/50\n",
      "1355/1355 [==============================] - 2s 2ms/step - loss: 1.4101 - sparse_categorical_accuracy: 0.2504 - val_loss: 1.4202 - val_sparse_categorical_accuracy: 0.2504\n",
      "Epoch 8/50\n",
      "1355/1355 [==============================] - 2s 2ms/step - loss: 1.4099 - sparse_categorical_accuracy: 0.2585 - val_loss: 1.4358 - val_sparse_categorical_accuracy: 0.2470\n",
      "Epoch 9/50\n",
      "1355/1355 [==============================] - 2s 2ms/step - loss: 1.4084 - sparse_categorical_accuracy: 0.2540 - val_loss: 1.4283 - val_sparse_categorical_accuracy: 0.2502\n",
      "Epoch 10/50\n",
      "1355/1355 [==============================] - 2s 2ms/step - loss: 1.4089 - sparse_categorical_accuracy: 0.2559 - val_loss: 1.4096 - val_sparse_categorical_accuracy: 0.2468\n",
      "Epoch 11/50\n",
      "1355/1355 [==============================] - 2s 2ms/step - loss: 1.4097 - sparse_categorical_accuracy: 0.2546 - val_loss: 1.3945 - val_sparse_categorical_accuracy: 0.2518\n",
      "Epoch 12/50\n",
      "1355/1355 [==============================] - 2s 2ms/step - loss: 1.4109 - sparse_categorical_accuracy: 0.2537 - val_loss: 1.5018 - val_sparse_categorical_accuracy: 0.2482\n",
      "Epoch 13/50\n",
      "1355/1355 [==============================] - 2s 2ms/step - loss: 1.4101 - sparse_categorical_accuracy: 0.2564 - val_loss: 1.4008 - val_sparse_categorical_accuracy: 0.2540\n",
      "Epoch 14/50\n",
      "1355/1355 [==============================] - 2s 1ms/step - loss: 1.4096 - sparse_categorical_accuracy: 0.2565 - val_loss: 1.4426 - val_sparse_categorical_accuracy: 0.2500\n",
      "Epoch 15/50\n",
      "1355/1355 [==============================] - 2s 2ms/step - loss: 1.4100 - sparse_categorical_accuracy: 0.2584 - val_loss: 1.4074 - val_sparse_categorical_accuracy: 0.2530\n",
      "Epoch 16/50\n",
      "1355/1355 [==============================] - 2s 2ms/step - loss: 1.4121 - sparse_categorical_accuracy: 0.2572 - val_loss: 1.3954 - val_sparse_categorical_accuracy: 0.2461\n",
      "Epoch 17/50\n",
      "1355/1355 [==============================] - 2s 2ms/step - loss: 1.4069 - sparse_categorical_accuracy: 0.2575 - val_loss: 1.4141 - val_sparse_categorical_accuracy: 0.2429\n",
      "Epoch 18/50\n",
      "1355/1355 [==============================] - 2s 2ms/step - loss: 1.4087 - sparse_categorical_accuracy: 0.2565 - val_loss: 1.4104 - val_sparse_categorical_accuracy: 0.2499\n",
      "Epoch 19/50\n",
      "1355/1355 [==============================] - 2s 2ms/step - loss: 1.4068 - sparse_categorical_accuracy: 0.2591 - val_loss: 1.3989 - val_sparse_categorical_accuracy: 0.2522\n",
      "Epoch 20/50\n",
      "1355/1355 [==============================] - 2s 2ms/step - loss: 1.4076 - sparse_categorical_accuracy: 0.2588 - val_loss: 1.4089 - val_sparse_categorical_accuracy: 0.2475\n",
      "Epoch 21/50\n",
      "1355/1355 [==============================] - 2s 2ms/step - loss: 1.4081 - sparse_categorical_accuracy: 0.2576 - val_loss: 1.4095 - val_sparse_categorical_accuracy: 0.2550\n",
      "Epoch 22/50\n",
      "1355/1355 [==============================] - 2s 2ms/step - loss: 1.4092 - sparse_categorical_accuracy: 0.2573 - val_loss: 1.3977 - val_sparse_categorical_accuracy: 0.2487\n",
      "Epoch 23/50\n",
      "1355/1355 [==============================] - 2s 2ms/step - loss: 1.4080 - sparse_categorical_accuracy: 0.2548 - val_loss: 1.4382 - val_sparse_categorical_accuracy: 0.2453\n",
      "Epoch 24/50\n",
      "1355/1355 [==============================] - 2s 2ms/step - loss: 1.4095 - sparse_categorical_accuracy: 0.2593 - val_loss: 1.4045 - val_sparse_categorical_accuracy: 0.2463\n",
      "Epoch 25/50\n",
      "1355/1355 [==============================] - 2s 2ms/step - loss: 1.4083 - sparse_categorical_accuracy: 0.2634 - val_loss: 1.4251 - val_sparse_categorical_accuracy: 0.2538\n",
      "Epoch 26/50\n",
      "1355/1355 [==============================] - 2s 2ms/step - loss: 1.4071 - sparse_categorical_accuracy: 0.2593 - val_loss: 1.4281 - val_sparse_categorical_accuracy: 0.2542\n",
      "Epoch 27/50\n",
      "1355/1355 [==============================] - 2s 2ms/step - loss: 1.4053 - sparse_categorical_accuracy: 0.2653 - val_loss: 1.4182 - val_sparse_categorical_accuracy: 0.2553\n",
      "Epoch 28/50\n",
      "1355/1355 [==============================] - 2s 2ms/step - loss: 1.4107 - sparse_categorical_accuracy: 0.2605 - val_loss: 1.4188 - val_sparse_categorical_accuracy: 0.2523\n",
      "Epoch 29/50\n",
      "1355/1355 [==============================] - 2s 2ms/step - loss: 1.4098 - sparse_categorical_accuracy: 0.2617 - val_loss: 1.3958 - val_sparse_categorical_accuracy: 0.2482\n",
      "Epoch 30/50\n",
      "1355/1355 [==============================] - 2s 2ms/step - loss: 1.4091 - sparse_categorical_accuracy: 0.2644 - val_loss: 1.3937 - val_sparse_categorical_accuracy: 0.2526\n",
      "Epoch 31/50\n",
      "1355/1355 [==============================] - 2s 1ms/step - loss: 1.4079 - sparse_categorical_accuracy: 0.2588 - val_loss: 1.4046 - val_sparse_categorical_accuracy: 0.2446\n",
      "Epoch 32/50\n",
      "1355/1355 [==============================] - 2s 1ms/step - loss: 1.4087 - sparse_categorical_accuracy: 0.2600 - val_loss: 1.4005 - val_sparse_categorical_accuracy: 0.2498\n",
      "Epoch 33/50\n",
      "1355/1355 [==============================] - 2s 2ms/step - loss: 1.4091 - sparse_categorical_accuracy: 0.2617 - val_loss: 1.3992 - val_sparse_categorical_accuracy: 0.2518\n",
      "Epoch 34/50\n",
      "1355/1355 [==============================] - 2s 2ms/step - loss: 1.4084 - sparse_categorical_accuracy: 0.2595 - val_loss: 1.4676 - val_sparse_categorical_accuracy: 0.2437\n",
      "Epoch 35/50\n",
      "1355/1355 [==============================] - 2s 1ms/step - loss: 1.4056 - sparse_categorical_accuracy: 0.2610 - val_loss: 1.4117 - val_sparse_categorical_accuracy: 0.2463\n",
      "Epoch 36/50\n",
      "1355/1355 [==============================] - 2s 2ms/step - loss: 1.4057 - sparse_categorical_accuracy: 0.2627 - val_loss: 1.4165 - val_sparse_categorical_accuracy: 0.2475\n",
      "Epoch 37/50\n",
      "1355/1355 [==============================] - 2s 2ms/step - loss: 1.4057 - sparse_categorical_accuracy: 0.2648 - val_loss: 1.4007 - val_sparse_categorical_accuracy: 0.2533\n",
      "Epoch 38/50\n",
      "1355/1355 [==============================] - 2s 2ms/step - loss: 1.4097 - sparse_categorical_accuracy: 0.2584 - val_loss: 1.4161 - val_sparse_categorical_accuracy: 0.2496\n",
      "Epoch 39/50\n",
      "1355/1355 [==============================] - 2s 2ms/step - loss: 1.4079 - sparse_categorical_accuracy: 0.2633 - val_loss: 1.4390 - val_sparse_categorical_accuracy: 0.2479\n",
      "Epoch 40/50\n",
      "1355/1355 [==============================] - 2s 2ms/step - loss: 1.4088 - sparse_categorical_accuracy: 0.2612 - val_loss: 1.3968 - val_sparse_categorical_accuracy: 0.2542\n",
      "Epoch 41/50\n",
      "1355/1355 [==============================] - 2s 2ms/step - loss: 1.4093 - sparse_categorical_accuracy: 0.2608 - val_loss: 1.4422 - val_sparse_categorical_accuracy: 0.2470\n",
      "Epoch 42/50\n",
      "1355/1355 [==============================] - 2s 2ms/step - loss: 1.4080 - sparse_categorical_accuracy: 0.2617 - val_loss: 1.4631 - val_sparse_categorical_accuracy: 0.2498\n",
      "Epoch 43/50\n",
      "1355/1355 [==============================] - 2s 2ms/step - loss: 1.4065 - sparse_categorical_accuracy: 0.2637 - val_loss: 1.4104 - val_sparse_categorical_accuracy: 0.2522\n",
      "Epoch 44/50\n",
      "1355/1355 [==============================] - 2s 2ms/step - loss: 1.4099 - sparse_categorical_accuracy: 0.2630 - val_loss: 1.4270 - val_sparse_categorical_accuracy: 0.2540\n",
      "Epoch 45/50\n",
      "1355/1355 [==============================] - 2s 2ms/step - loss: 1.4067 - sparse_categorical_accuracy: 0.2629 - val_loss: 1.4364 - val_sparse_categorical_accuracy: 0.2557\n"
     ]
    },
    {
     "name": "stdout",
     "output_type": "stream",
     "text": [
      "Epoch 46/50\n",
      "1355/1355 [==============================] - 2s 1ms/step - loss: 1.4067 - sparse_categorical_accuracy: 0.2606 - val_loss: 1.4157 - val_sparse_categorical_accuracy: 0.2499\n",
      "Epoch 47/50\n",
      "1355/1355 [==============================] - 2s 2ms/step - loss: 1.4061 - sparse_categorical_accuracy: 0.2644 - val_loss: 1.4172 - val_sparse_categorical_accuracy: 0.2477\n",
      "Epoch 48/50\n",
      "1355/1355 [==============================] - 2s 2ms/step - loss: 1.4096 - sparse_categorical_accuracy: 0.2594 - val_loss: 1.4501 - val_sparse_categorical_accuracy: 0.2487\n",
      "Epoch 49/50\n",
      "1355/1355 [==============================] - 2s 2ms/step - loss: 1.4073 - sparse_categorical_accuracy: 0.2632 - val_loss: 1.4435 - val_sparse_categorical_accuracy: 0.2475\n",
      "Epoch 50/50\n",
      "1355/1355 [==============================] - 2s 2ms/step - loss: 1.4060 - sparse_categorical_accuracy: 0.2663 - val_loss: 1.4386 - val_sparse_categorical_accuracy: 0.2473\n"
     ]
    }
   ],
   "source": [
    "train = model_functional.fit(train_X, train_y, epochs=50, validation_split=0.2)\n"
   ]
  },
  {
   "cell_type": "code",
   "execution_count": 9,
   "id": "ef6d3463",
   "metadata": {},
   "outputs": [
    {
     "name": "stdout",
     "output_type": "stream",
     "text": [
      "424/424 [==============================] - 0s 952us/step - loss: 1.4370 - sparse_categorical_accuracy: 0.2503\n"
     ]
    }
   ],
   "source": [
    "test = model_functional.evaluate(test_X, test_y)\n"
   ]
  },
  {
   "cell_type": "code",
   "execution_count": 10,
   "id": "4c0af8e9",
   "metadata": {},
   "outputs": [
    {
     "data": {
      "image/png": "[encoded data removed]",
      "text/plain": [
       "<Figure size 432x288 with 1 Axes>"
      ]
     },
     "metadata": {
      "needs_background": "light"
     },
     "output_type": "display_data"
    }
   ],
   "source": [
    "plt.plot(train.history['sparse_categorical_accuracy'])\n",
    "plt.plot(train.history['val_sparse_categorical_accuracy'])\n",
    "plt.title('Model accuracy')\n",
    "plt.ylabel('Accuracy')\n",
    "plt.xlabel('Epoch')\n",
    "plt.legend(['train', 'validation'], loc='upper left')\n",
    "plt.show()"
   ]
  },
  {
   "cell_type": "markdown",
   "id": "a9a44509",
   "metadata": {},
   "source": [
    "Hardly any learning at all, very unstable. Might need to increase learning rate."
   ]
  },
  {
   "cell_type": "markdown",
   "id": "b89365ea",
   "metadata": {},
   "source": [
    "---"
   ]
  },
  {
   "cell_type": "code",
   "execution_count": 8,
   "id": "1619a245",
   "metadata": {
    "scrolled": true
   },
   "outputs": [
    {
     "name": "stdout",
     "output_type": "stream",
     "text": [
      "Epoch 1/25\n",
      "1355/1355 [==============================] - 3s 2ms/step - loss: 1.4151 - sparse_categorical_accuracy: 0.2494 - val_loss: 1.4105 - val_sparse_categorical_accuracy: 0.2479\n",
      "Epoch 2/25\n",
      "1355/1355 [==============================] - 2s 2ms/step - loss: 1.4116 - sparse_categorical_accuracy: 0.2534 - val_loss: 1.3961 - val_sparse_categorical_accuracy: 0.2505\n",
      "Epoch 3/25\n",
      "1355/1355 [==============================] - 2s 2ms/step - loss: 1.4131 - sparse_categorical_accuracy: 0.2499 - val_loss: 1.4245 - val_sparse_categorical_accuracy: 0.2539\n",
      "Epoch 4/25\n",
      "1355/1355 [==============================] - 2s 2ms/step - loss: 1.4102 - sparse_categorical_accuracy: 0.2518 - val_loss: 1.3933 - val_sparse_categorical_accuracy: 0.2530\n",
      "Epoch 5/25\n",
      "1355/1355 [==============================] - 2s 2ms/step - loss: 1.4155 - sparse_categorical_accuracy: 0.2529 - val_loss: 1.3995 - val_sparse_categorical_accuracy: 0.2534\n",
      "Epoch 6/25\n",
      "1355/1355 [==============================] - 2s 2ms/step - loss: 1.4103 - sparse_categorical_accuracy: 0.2561 - val_loss: 1.4077 - val_sparse_categorical_accuracy: 0.2517\n",
      "Epoch 7/25\n",
      "1355/1355 [==============================] - 2s 2ms/step - loss: 1.4086 - sparse_categorical_accuracy: 0.2536 - val_loss: 1.3930 - val_sparse_categorical_accuracy: 0.2489\n",
      "Epoch 8/25\n",
      "1355/1355 [==============================] - 2s 2ms/step - loss: 1.4097 - sparse_categorical_accuracy: 0.2545 - val_loss: 1.3907 - val_sparse_categorical_accuracy: 0.2405\n",
      "Epoch 9/25\n",
      "1355/1355 [==============================] - 2s 2ms/step - loss: 1.4108 - sparse_categorical_accuracy: 0.2544 - val_loss: 1.4197 - val_sparse_categorical_accuracy: 0.2496\n",
      "Epoch 10/25\n",
      "1355/1355 [==============================] - 2s 2ms/step - loss: 1.4113 - sparse_categorical_accuracy: 0.2566 - val_loss: 1.4042 - val_sparse_categorical_accuracy: 0.2458\n",
      "Epoch 11/25\n",
      "1355/1355 [==============================] - 2s 2ms/step - loss: 1.4136 - sparse_categorical_accuracy: 0.2558 - val_loss: 1.4183 - val_sparse_categorical_accuracy: 0.2565\n",
      "Epoch 12/25\n",
      "1355/1355 [==============================] - 2s 2ms/step - loss: 1.4080 - sparse_categorical_accuracy: 0.2585 - val_loss: 1.4025 - val_sparse_categorical_accuracy: 0.2467\n",
      "Epoch 13/25\n",
      "1355/1355 [==============================] - 2s 2ms/step - loss: 1.4103 - sparse_categorical_accuracy: 0.2584 - val_loss: 1.4421 - val_sparse_categorical_accuracy: 0.2465\n",
      "Epoch 14/25\n",
      "1355/1355 [==============================] - 2s 2ms/step - loss: 1.4079 - sparse_categorical_accuracy: 0.2561 - val_loss: 1.4151 - val_sparse_categorical_accuracy: 0.2499\n",
      "Epoch 15/25\n",
      "1355/1355 [==============================] - 2s 2ms/step - loss: 1.4107 - sparse_categorical_accuracy: 0.2595 - val_loss: 1.4285 - val_sparse_categorical_accuracy: 0.2478\n",
      "Epoch 16/25\n",
      "1355/1355 [==============================] - 2s 2ms/step - loss: 1.4075 - sparse_categorical_accuracy: 0.2609 - val_loss: 1.4158 - val_sparse_categorical_accuracy: 0.2502\n",
      "Epoch 17/25\n",
      "1355/1355 [==============================] - 2s 2ms/step - loss: 1.4127 - sparse_categorical_accuracy: 0.2593 - val_loss: 1.3981 - val_sparse_categorical_accuracy: 0.2494\n",
      "Epoch 18/25\n",
      "1355/1355 [==============================] - 2s 2ms/step - loss: 1.4089 - sparse_categorical_accuracy: 0.2575 - val_loss: 1.4636 - val_sparse_categorical_accuracy: 0.2485\n",
      "Epoch 19/25\n",
      "1355/1355 [==============================] - 2s 2ms/step - loss: 1.4106 - sparse_categorical_accuracy: 0.2596 - val_loss: 1.4060 - val_sparse_categorical_accuracy: 0.2523\n",
      "Epoch 20/25\n",
      "1355/1355 [==============================] - 2s 1ms/step - loss: 1.4086 - sparse_categorical_accuracy: 0.2608 - val_loss: 1.4029 - val_sparse_categorical_accuracy: 0.2557\n",
      "Epoch 21/25\n",
      "1355/1355 [==============================] - 2s 1ms/step - loss: 1.4109 - sparse_categorical_accuracy: 0.2595 - val_loss: 1.4261 - val_sparse_categorical_accuracy: 0.2465\n",
      "Epoch 22/25\n",
      "1355/1355 [==============================] - 2s 2ms/step - loss: 1.4088 - sparse_categorical_accuracy: 0.2577 - val_loss: 1.4097 - val_sparse_categorical_accuracy: 0.2487\n",
      "Epoch 23/25\n",
      "1355/1355 [==============================] - 2s 2ms/step - loss: 1.4089 - sparse_categorical_accuracy: 0.2605 - val_loss: 1.4280 - val_sparse_categorical_accuracy: 0.2464\n",
      "Epoch 24/25\n",
      "1355/1355 [==============================] - 2s 1ms/step - loss: 1.4114 - sparse_categorical_accuracy: 0.2578 - val_loss: 1.4242 - val_sparse_categorical_accuracy: 0.2505\n",
      "Epoch 25/25\n",
      "1355/1355 [==============================] - 2s 1ms/step - loss: 1.4062 - sparse_categorical_accuracy: 0.2599 - val_loss: 1.3937 - val_sparse_categorical_accuracy: 0.2506\n"
     ]
    }
   ],
   "source": [
    "train = model_functional.fit(train_X, train_y, epochs=25, validation_split=0.2)\n"
   ]
  },
  {
   "cell_type": "code",
   "execution_count": 52,
   "id": "74b6e5f8",
   "metadata": {},
   "outputs": [],
   "source": [
    "test = model_functional.predict(test_X[0:20])"
   ]
  },
  {
   "cell_type": "code",
   "execution_count": 53,
   "id": "b0f2075a",
   "metadata": {},
   "outputs": [
    {
     "data": {
      "text/plain": [
       "array([3, 3, 0, 3, 3, 3, 3, 0, 0, 3, 3, 0, 0, 3, 3, 3, 3, 3, 1, 3])"
      ]
     },
     "execution_count": 53,
     "metadata": {},
     "output_type": "execute_result"
    }
   ],
   "source": [
    "np.argmax(test, axis=1)"
   ]
  },
  {
   "cell_type": "code",
   "execution_count": 55,
   "id": "96f0f195",
   "metadata": {},
   "outputs": [
    {
     "data": {
      "text/plain": [
       "array([1, 3, 0, 2, 1, 1, 1, 0, 0, 1, 0, 1, 3, 2, 1, 2, 2, 1, 2, 2])"
      ]
     },
     "execution_count": 55,
     "metadata": {},
     "output_type": "execute_result"
    }
   ],
   "source": [
    "test_y[0:20]"
   ]
  }
 ],
 "metadata": {
  "kernelspec": {
   "display_name": "Python 3",
   "language": "python",
   "name": "python3"
  },
  "language_info": {
   "codemirror_mode": {
    "name": "ipython",
    "version": 3
   },
   "file_extension": ".py",
   "mimetype": "text/x-python",
   "name": "python",
   "nbconvert_exporter": "python",
   "pygments_lexer": "ipython3",
   "version": "3.8.8"
  }
 },
 "nbformat": 4,
 "nbformat_minor": 5
}
