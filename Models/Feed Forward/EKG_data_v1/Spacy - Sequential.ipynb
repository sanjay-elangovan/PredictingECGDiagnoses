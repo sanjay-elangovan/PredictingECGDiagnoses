{
 "cells": [
  {
   "cell_type": "markdown",
   "id": "e1788b01",
   "metadata": {},
   "source": [
    "## Imports"
   ]
  },
  {
   "cell_type": "code",
   "execution_count": 1,
   "id": "7a3a7766",
   "metadata": {},
   "outputs": [],
   "source": [
    "from keras.models import Sequential\n",
    "from keras.layers import Dense\n",
    "import pickle\n",
    "import pandas as pd\n",
    "import numpy as np\n",
    "import tensorflow as tf"
   ]
  },
  {
   "cell_type": "markdown",
   "id": "d07e651a",
   "metadata": {},
   "source": [
    "## Data"
   ]
  },
  {
   "cell_type": "markdown",
   "id": "6e81bc4d",
   "metadata": {},
   "source": [
    "### Spacy Embeddings"
   ]
  },
  {
   "cell_type": "code",
   "execution_count": null,
   "id": "4748c5b2",
   "metadata": {},
   "outputs": [],
   "source": [
    "X = ekg_denoised['spacy_embeddings']\n",
    "y = ekg_denoised['ICD9_CODE']"
   ]
  },
  {
   "cell_type": "code",
   "execution_count": 2,
   "id": "55a1f159",
   "metadata": {},
   "outputs": [],
   "source": [
    "ekg_denoised = pd.read_pickle('/home/sanjaycollege15/PredictingDiagnoses/Data/ekg_denoised_spacy.pkl')\n",
    "ekg_denoised = ekg_denoised.sample(frac=1)\n"
   ]
  },
  {
   "cell_type": "code",
   "execution_count": 3,
   "id": "a614c456",
   "metadata": {},
   "outputs": [
    {
     "data": {
      "text/html": [
       "<div>\n",
       "<style scoped>\n",
       "    .dataframe tbody tr th:only-of-type {\n",
       "        vertical-align: middle;\n",
       "    }\n",
       "\n",
       "    .dataframe tbody tr th {\n",
       "        vertical-align: top;\n",
       "    }\n",
       "\n",
       "    .dataframe thead th {\n",
       "        text-align: right;\n",
       "    }\n",
       "</style>\n",
       "<table border=\"1\" class=\"dataframe\">\n",
       "  <thead>\n",
       "    <tr style=\"text-align: right;\">\n",
       "      <th></th>\n",
       "      <th>ICD9_CODE</th>\n",
       "      <th>spacy_embeddings</th>\n",
       "    </tr>\n",
       "  </thead>\n",
       "  <tbody>\n",
       "    <tr>\n",
       "      <th>4367</th>\n",
       "      <td>2</td>\n",
       "      <td>[-0.04045854, 0.2300158, -0.17636456, -0.04894...</td>\n",
       "    </tr>\n",
       "    <tr>\n",
       "      <th>1992</th>\n",
       "      <td>1</td>\n",
       "      <td>[0.003988932, 0.19777873, -0.13590734, -0.0158...</td>\n",
       "    </tr>\n",
       "    <tr>\n",
       "      <th>2914</th>\n",
       "      <td>1</td>\n",
       "      <td>[-0.060594335, 0.24765909, -0.08178727, -0.046...</td>\n",
       "    </tr>\n",
       "    <tr>\n",
       "      <th>3199</th>\n",
       "      <td>1</td>\n",
       "      <td>[-0.13439086, 0.25095052, -0.07766353, -0.0083...</td>\n",
       "    </tr>\n",
       "    <tr>\n",
       "      <th>2714</th>\n",
       "      <td>1</td>\n",
       "      <td>[0.07055457, 0.26197386, -0.15005292, 0.006193...</td>\n",
       "    </tr>\n",
       "  </tbody>\n",
       "</table>\n",
       "</div>"
      ],
      "text/plain": [
       "      ICD9_CODE                                   spacy_embeddings\n",
       "4367          2  [-0.04045854, 0.2300158, -0.17636456, -0.04894...\n",
       "1992          1  [0.003988932, 0.19777873, -0.13590734, -0.0158...\n",
       "2914          1  [-0.060594335, 0.24765909, -0.08178727, -0.046...\n",
       "3199          1  [-0.13439086, 0.25095052, -0.07766353, -0.0083...\n",
       "2714          1  [0.07055457, 0.26197386, -0.15005292, 0.006193..."
      ]
     },
     "execution_count": 3,
     "metadata": {},
     "output_type": "execute_result"
    }
   ],
   "source": [
    "ekg_denoised.head()"
   ]
  },
  {
   "cell_type": "code",
   "execution_count": 4,
   "id": "621d88e9",
   "metadata": {},
   "outputs": [
    {
     "data": {
      "text/plain": [
       "(300,)"
      ]
     },
     "execution_count": 4,
     "metadata": {},
     "output_type": "execute_result"
    }
   ],
   "source": [
    "ekg_denoised['spacy_embeddings'][4603].shape"
   ]
  },
  {
   "cell_type": "markdown",
   "id": "7f6b9142",
   "metadata": {},
   "source": [
    "### Train/Dev/Test/Split"
   ]
  },
  {
   "cell_type": "code",
   "execution_count": 6,
   "id": "15cb40cf",
   "metadata": {},
   "outputs": [],
   "source": [
    "train_X, validate_X, test_X = np.split(X.sample(frac=1), \n",
    "                                       [int(.6*len(X)), \n",
    "                                        int(.8*len(X))])\n",
    "\n",
    "train_y, validate_y, test_y = np.split(y.sample(frac=1), \n",
    "                                       [int(.6*len(y)), \n",
    "                                        int(.8*len(y))])"
   ]
  },
  {
   "cell_type": "code",
   "execution_count": 7,
   "id": "429b1635",
   "metadata": {},
   "outputs": [],
   "source": [
    "train_X = np.array(train_X)\n",
    "train_y = np.array(train_y)"
   ]
  },
  {
   "cell_type": "code",
   "execution_count": 8,
   "id": "c0b0dace",
   "metadata": {},
   "outputs": [],
   "source": [
    "new_train_X = []\n",
    "for i in train_X:\n",
    "    new_train_X.append(list(i))\n",
    "train_X = np.array(new_train_X)\n",
    "    \n",
    "new_validate_X = []\n",
    "for i in validate_X:\n",
    "    new_validate_X.append(list(i))\n",
    "validate_X = np.array(new_validate_X)\n",
    "    \n",
    "new_test_X = []\n",
    "for i in test_X:\n",
    "    new_test_X.append(list(i))\n",
    "test_X = np.array(new_test_X)"
   ]
  },
  {
   "cell_type": "markdown",
   "id": "b49b7ea4",
   "metadata": {},
   "source": [
    "## Model"
   ]
  },
  {
   "cell_type": "code",
   "execution_count": 9,
   "id": "20100077",
   "metadata": {},
   "outputs": [],
   "source": [
    "inputs = tf.keras.layers.Input(shape=(300,))\n",
    "hidden_1_out = tf.keras.layers.Dense(150, activation='relu')(inputs)\n",
    "classification_out = tf.keras.layers.Dense(4, activation='relu')(hidden_1_out)\n",
    "\n",
    "model_functional = tf.keras.models.Model(inputs=inputs, outputs = classification_out)\n",
    "model_functional.compile(loss='SparseCategoricalCrossentropy', optimizer='adam', metrics=['accuracy'])"
   ]
  },
  {
   "cell_type": "code",
   "execution_count": 10,
   "id": "91064fe8",
   "metadata": {},
   "outputs": [
    {
     "data": {
      "image/png": "[encoded data removed]",
      "text/plain": [
       "<IPython.core.display.Image object>"
      ]
     },
     "execution_count": 10,
     "metadata": {},
     "output_type": "execute_result"
    }
   ],
   "source": [
    "tf.keras.utils.plot_model(model_functional, \"my_first_model_with_shape_info.png\", show_shapes=True)\n"
   ]
  },
  {
   "cell_type": "code",
   "execution_count": 11,
   "id": "4f5d1c35",
   "metadata": {
    "scrolled": true
   },
   "outputs": [
    {
     "name": "stdout",
     "output_type": "stream",
     "text": [
      "Epoch 1/15\n",
      "40/40 [==============================] - 1s 2ms/step - loss: 5.0093 - accuracy: 0.2471\n",
      "Epoch 2/15\n",
      "40/40 [==============================] - 0s 2ms/step - loss: 4.8343 - accuracy: 0.2555\n",
      "Epoch 3/15\n",
      "40/40 [==============================] - 0s 2ms/step - loss: 4.7973 - accuracy: 0.2668\n",
      "Epoch 4/15\n",
      "40/40 [==============================] - 0s 2ms/step - loss: 4.9111 - accuracy: 0.2650\n",
      "Epoch 5/15\n",
      "40/40 [==============================] - 0s 2ms/step - loss: 5.0630 - accuracy: 0.2461\n",
      "Epoch 6/15\n",
      "40/40 [==============================] - 0s 2ms/step - loss: 5.0730 - accuracy: 0.2461\n",
      "Epoch 7/15\n",
      "40/40 [==============================] - 0s 2ms/step - loss: 5.0585 - accuracy: 0.2461\n",
      "Epoch 8/15\n",
      "40/40 [==============================] - 0s 2ms/step - loss: 4.9982 - accuracy: 0.2548\n",
      "Epoch 9/15\n",
      "40/40 [==============================] - 0s 2ms/step - loss: 4.8853 - accuracy: 0.2538\n",
      "Epoch 10/15\n",
      "40/40 [==============================] - 0s 2ms/step - loss: 4.8181 - accuracy: 0.2652\n",
      "Epoch 11/15\n",
      "40/40 [==============================] - 0s 2ms/step - loss: 5.0945 - accuracy: 0.2520\n",
      "Epoch 12/15\n",
      "40/40 [==============================] - 0s 2ms/step - loss: 5.0799 - accuracy: 0.2464\n",
      "Epoch 13/15\n",
      "40/40 [==============================] - 0s 2ms/step - loss: 5.0778 - accuracy: 0.2461\n",
      "Epoch 14/15\n",
      "40/40 [==============================] - 0s 2ms/step - loss: 5.0766 - accuracy: 0.2461\n",
      "Epoch 15/15\n",
      "40/40 [==============================] - 0s 2ms/step - loss: 5.0759 - accuracy: 0.2461\n"
     ]
    },
    {
     "data": {
      "text/plain": [
       "<keras.callbacks.History at 0x7f01860afcd0>"
      ]
     },
     "execution_count": 11,
     "metadata": {},
     "output_type": "execute_result"
    }
   ],
   "source": [
    "model_functional.fit(train_X, train_y, epochs=15, batch_size=100)\n"
   ]
  },
  {
   "cell_type": "code",
   "execution_count": 12,
   "id": "ef6d3463",
   "metadata": {},
   "outputs": [
    {
     "name": "stdout",
     "output_type": "stream",
     "text": [
      "41/41 [==============================] - 0s 1ms/step - loss: 4.9234 - accuracy: 0.2622\n"
     ]
    },
    {
     "data": {
      "text/plain": [
       "[4.923435211181641, 0.2622324228286743]"
      ]
     },
     "execution_count": 12,
     "metadata": {},
     "output_type": "execute_result"
    }
   ],
   "source": [
    "model_functional.evaluate(test_X, test_y)"
   ]
  },
  {
   "cell_type": "markdown",
   "id": "a9a44509",
   "metadata": {},
   "source": [
    "No learning! Random chance would label 25% of values accurately. Averaging during the embedding stage is likely causing it to lose information"
   ]
  },
  {
   "cell_type": "code",
   "execution_count": null,
   "id": "da0a343a",
   "metadata": {},
   "outputs": [],
   "source": []
  }
 ],
 "metadata": {
  "kernelspec": {
   "display_name": "Python 3",
   "language": "python",
   "name": "python3"
  },
  "language_info": {
   "codemirror_mode": {
    "name": "ipython",
    "version": 3
   },
   "file_extension": ".py",
   "mimetype": "text/x-python",
   "name": "python",
   "nbconvert_exporter": "python",
   "pygments_lexer": "ipython3",
   "version": "3.8.8"
  }
 },
 "nbformat": 4,
 "nbformat_minor": 5
}
