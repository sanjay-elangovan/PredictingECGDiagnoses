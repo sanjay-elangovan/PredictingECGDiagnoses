{
 "cells": [
  {
   "cell_type": "markdown",
   "id": "bbfaa1b4",
   "metadata": {},
   "source": [
    "## Imports"
   ]
  },
  {
   "cell_type": "code",
   "execution_count": 12,
   "id": "7a3a7766",
   "metadata": {},
   "outputs": [],
   "source": [
    "from keras.models import Sequential\n",
    "from keras.layers import Dense\n",
    "import pickle\n",
    "import pandas as pd\n",
    "import numpy as np\n",
    "import tensorflow as tf\n",
    "from sklearn.model_selection import train_test_split\n",
    "import scipy.sparse "
   ]
  },
  {
   "cell_type": "markdown",
   "id": "d07e651a",
   "metadata": {},
   "source": [
    "## Loading Data"
   ]
  },
  {
   "cell_type": "markdown",
   "id": "6e81bc4d",
   "metadata": {},
   "source": [
    "### tf-idf Embeddings"
   ]
  },
  {
   "cell_type": "code",
   "execution_count": 18,
   "id": "55a1f159",
   "metadata": {},
   "outputs": [],
   "source": [
    "tfidf_embeddings_train = scipy.sparse.load_npz('/home/sanjaycollege15/PredictingDiagnoses/Data/tfidf_embeddings_train.npz')\n",
    "tfidf_labels_train = np.load('/home/sanjaycollege15/PredictingDiagnoses/Data/tfidf_labels_train.npy', allow_pickle = True)\n",
    "tfidf_embeddings_test = scipy.sparse.load_npz('/home/sanjaycollege15/PredictingDiagnoses/Data/tfidf_embeddings_test.npz')\n",
    "tfidf_labels_test = np.load('/home/sanjaycollege15/PredictingDiagnoses/Data/tfidf_labels_test.npy', allow_pickle = True)\n"
   ]
  },
  {
   "cell_type": "code",
   "execution_count": 19,
   "id": "a614c456",
   "metadata": {
    "scrolled": true
   },
   "outputs": [
    {
     "data": {
      "text/plain": [
       "<5228x1577 sparse matrix of type '<class 'numpy.float16'>'\n",
       "\twith 127213 stored elements in Compressed Sparse Row format>"
      ]
     },
     "execution_count": 19,
     "metadata": {},
     "output_type": "execute_result"
    }
   ],
   "source": [
    "tfidf_embeddings_train"
   ]
  },
  {
   "cell_type": "code",
   "execution_count": 20,
   "id": "f09bdf1b",
   "metadata": {},
   "outputs": [
    {
     "data": {
      "text/plain": [
       "<1308x1577 sparse matrix of type '<class 'numpy.float16'>'\n",
       "\twith 31886 stored elements in Compressed Sparse Row format>"
      ]
     },
     "execution_count": 20,
     "metadata": {},
     "output_type": "execute_result"
    }
   ],
   "source": [
    "tfidf_embeddings_test"
   ]
  },
  {
   "cell_type": "markdown",
   "id": "b49b7ea4",
   "metadata": {},
   "source": [
    "## Define Keras Model"
   ]
  },
  {
   "cell_type": "code",
   "execution_count": 21,
   "id": "20100077",
   "metadata": {},
   "outputs": [],
   "source": [
    "inputs = tf.keras.layers.Input(shape=(tfidf_embeddings_train[0].shape[1],))\n",
    "hidden_1_out = tf.keras.layers.Dense(300, activation='relu')(inputs)\n",
    "classification_out = tf.keras.layers.Dense(4, activation='relu')(hidden_1_out)\n",
    "\n",
    "model_functional = tf.keras.models.Model(inputs=inputs, outputs = classification_out)\n",
    "model_functional.compile(loss='SparseCategoricalCrossentropy', optimizer='adam', metrics=['accuracy'])"
   ]
  },
  {
   "cell_type": "code",
   "execution_count": 22,
   "id": "91064fe8",
   "metadata": {},
   "outputs": [
    {
     "data": {
      "image/png": "[encoded data removed]",
      "text/plain": [
       "<IPython.core.display.Image object>"
      ]
     },
     "execution_count": 22,
     "metadata": {},
     "output_type": "execute_result"
    }
   ],
   "source": [
    "tf.keras.utils.plot_model(model_functional, show_shapes = True)\n"
   ]
  },
  {
   "cell_type": "code",
   "execution_count": 24,
   "id": "4f5d1c35",
   "metadata": {
    "scrolled": true
   },
   "outputs": [
    {
     "name": "stdout",
     "output_type": "stream",
     "text": [
      "Epoch 1/8\n"
     ]
    },
    {
     "name": "stderr",
     "output_type": "stream",
     "text": [
      "/home/sanjaycollege15/anaconda3/lib/python3.8/site-packages/tensorflow/python/framework/indexed_slices.py:448: UserWarning: Converting sparse IndexedSlices(IndexedSlices(indices=Tensor(\"gradient_tape/model/dense/embedding_lookup_sparse/Reshape_1:0\", shape=(None,), dtype=int32), values=Tensor(\"gradient_tape/model/dense/embedding_lookup_sparse/Reshape:0\", shape=(None, 300), dtype=float32), dense_shape=Tensor(\"gradient_tape/model/dense/embedding_lookup_sparse/Cast:0\", shape=(2,), dtype=int32))) to a dense Tensor of unknown shape. This may consume a large amount of memory.\n",
      "  warnings.warn(\n"
     ]
    },
    {
     "name": "stdout",
     "output_type": "stream",
     "text": [
      "523/523 [==============================] - 4s 6ms/step - loss: 1.5009 - accuracy: 0.2490\n",
      "Epoch 2/8\n",
      "523/523 [==============================] - 3s 6ms/step - loss: 1.3855 - accuracy: 0.2504\n",
      "Epoch 3/8\n",
      "523/523 [==============================] - 3s 6ms/step - loss: 1.3855 - accuracy: 0.2504\n",
      "Epoch 4/8\n",
      "523/523 [==============================] - 3s 6ms/step - loss: 1.3855 - accuracy: 0.2504\n",
      "Epoch 5/8\n",
      "523/523 [==============================] - 3s 6ms/step - loss: 1.3855 - accuracy: 0.2504\n",
      "Epoch 6/8\n",
      "523/523 [==============================] - 3s 6ms/step - loss: 1.3855 - accuracy: 0.2504\n",
      "Epoch 7/8\n",
      "523/523 [==============================] - 3s 6ms/step - loss: 1.3855 - accuracy: 0.2504\n",
      "Epoch 8/8\n",
      "523/523 [==============================] - 3s 6ms/step - loss: 1.3855 - accuracy: 0.2504\n"
     ]
    },
    {
     "data": {
      "text/plain": [
       "<keras.callbacks.History at 0x7fa242661700>"
      ]
     },
     "execution_count": 24,
     "metadata": {},
     "output_type": "execute_result"
    }
   ],
   "source": [
    "model_functional.fit(tfidf_embeddings_train, tfidf_labels_train, epochs=8, batch_size=10)\n"
   ]
  },
  {
   "cell_type": "code",
   "execution_count": 25,
   "id": "ef6d3463",
   "metadata": {},
   "outputs": [
    {
     "name": "stdout",
     "output_type": "stream",
     "text": [
      "41/41 [==============================] - 0s 2ms/step - loss: 1.3863 - accuracy: 0.2508\n"
     ]
    },
    {
     "data": {
      "text/plain": [
       "[1.3862950801849365, 0.25076451897621155]"
      ]
     },
     "execution_count": 25,
     "metadata": {},
     "output_type": "execute_result"
    }
   ],
   "source": [
    "model_functional.evaluate(tfidf_embeddings_test, tfidf_labels_test)\n"
   ]
  },
  {
   "cell_type": "markdown",
   "id": "a9a44509",
   "metadata": {},
   "source": [
    "No learning! Averaging is likely causing it to lose a lot of information"
   ]
  }
 ],
 "metadata": {
  "kernelspec": {
   "display_name": "Python 3",
   "language": "python",
   "name": "python3"
  },
  "language_info": {
   "codemirror_mode": {
    "name": "ipython",
    "version": 3
   },
   "file_extension": ".py",
   "mimetype": "text/x-python",
   "name": "python",
   "nbconvert_exporter": "python",
   "pygments_lexer": "ipython3",
   "version": "3.8.8"
  }
 },
 "nbformat": 4,
 "nbformat_minor": 5
}
