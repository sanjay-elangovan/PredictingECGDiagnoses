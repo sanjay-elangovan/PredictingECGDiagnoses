{
 "cells": [
  {
   "cell_type": "markdown",
   "id": "e1788b01",
   "metadata": {},
   "source": [
    "## Imports"
   ]
  },
  {
   "cell_type": "code",
   "execution_count": 2,
   "id": "7a3a7766",
   "metadata": {},
   "outputs": [],
   "source": [
    "from keras.models import Sequential\n",
    "from keras.layers import Dense, Dropout\n",
    "import pickle\n",
    "import pandas as pd\n",
    "import numpy as np\n",
    "import tensorflow as tf"
   ]
  },
  {
   "cell_type": "markdown",
   "id": "d07e651a",
   "metadata": {},
   "source": [
    "## Data"
   ]
  },
  {
   "cell_type": "markdown",
   "id": "6e81bc4d",
   "metadata": {},
   "source": [
    "### Spacy Embeddings"
   ]
  },
  {
   "cell_type": "code",
   "execution_count": 3,
   "id": "55a1f159",
   "metadata": {},
   "outputs": [],
   "source": [
    "ekg_denoised = pd.read_pickle('/home/sanjaycollege15/PredictingDiagnoses/Data/ekg_denoised_spacy_v2.pkl')\n",
    "ekg_denoised = ekg_denoised.sample(frac=1)\n"
   ]
  },
  {
   "cell_type": "code",
   "execution_count": 4,
   "id": "a614c456",
   "metadata": {},
   "outputs": [
    {
     "data": {
      "text/html": [
       "<div>\n",
       "<style scoped>\n",
       "    .dataframe tbody tr th:only-of-type {\n",
       "        vertical-align: middle;\n",
       "    }\n",
       "\n",
       "    .dataframe tbody tr th {\n",
       "        vertical-align: top;\n",
       "    }\n",
       "\n",
       "    .dataframe thead th {\n",
       "        text-align: right;\n",
       "    }\n",
       "</style>\n",
       "<table border=\"1\" class=\"dataframe\">\n",
       "  <thead>\n",
       "    <tr style=\"text-align: right;\">\n",
       "      <th></th>\n",
       "      <th>ICD9_CODE</th>\n",
       "      <th>spacy_embeddings</th>\n",
       "    </tr>\n",
       "  </thead>\n",
       "  <tbody>\n",
       "    <tr>\n",
       "      <th>130</th>\n",
       "      <td>3</td>\n",
       "      <td>[-0.13766885, 0.30783904, -0.13310608, -0.0156...</td>\n",
       "    </tr>\n",
       "    <tr>\n",
       "      <th>7586</th>\n",
       "      <td>3</td>\n",
       "      <td>[-0.023196926, 0.20862503, -0.17041668, -0.001...</td>\n",
       "    </tr>\n",
       "    <tr>\n",
       "      <th>17514</th>\n",
       "      <td>0</td>\n",
       "      <td>[-0.0032668572, 0.204065, -0.24022284, -0.1239...</td>\n",
       "    </tr>\n",
       "    <tr>\n",
       "      <th>24103</th>\n",
       "      <td>0</td>\n",
       "      <td>[0.10161864, 0.21258743, -0.11795857, -0.00331...</td>\n",
       "    </tr>\n",
       "    <tr>\n",
       "      <th>1324</th>\n",
       "      <td>3</td>\n",
       "      <td>[-0.13505583, 0.30865985, -0.1632402, 0.155783...</td>\n",
       "    </tr>\n",
       "  </tbody>\n",
       "</table>\n",
       "</div>"
      ],
      "text/plain": [
       "       ICD9_CODE                                   spacy_embeddings\n",
       "130            3  [-0.13766885, 0.30783904, -0.13310608, -0.0156...\n",
       "7586           3  [-0.023196926, 0.20862503, -0.17041668, -0.001...\n",
       "17514          0  [-0.0032668572, 0.204065, -0.24022284, -0.1239...\n",
       "24103          0  [0.10161864, 0.21258743, -0.11795857, -0.00331...\n",
       "1324           3  [-0.13505583, 0.30865985, -0.1632402, 0.155783..."
      ]
     },
     "execution_count": 4,
     "metadata": {},
     "output_type": "execute_result"
    }
   ],
   "source": [
    "ekg_denoised.head()"
   ]
  },
  {
   "cell_type": "code",
   "execution_count": 5,
   "id": "621d88e9",
   "metadata": {},
   "outputs": [
    {
     "data": {
      "text/plain": [
       "(300,)"
      ]
     },
     "execution_count": 5,
     "metadata": {},
     "output_type": "execute_result"
    }
   ],
   "source": [
    "ekg_denoised['spacy_embeddings'][4603].shape"
   ]
  },
  {
   "cell_type": "markdown",
   "id": "7f6b9142",
   "metadata": {},
   "source": [
    "### Train/Dev/Test/Split"
   ]
  },
  {
   "cell_type": "code",
   "execution_count": 6,
   "id": "1e1301d7",
   "metadata": {},
   "outputs": [],
   "source": [
    "X = ekg_denoised['spacy_embeddings']\n",
    "y = ekg_denoised['ICD9_CODE']"
   ]
  },
  {
   "cell_type": "code",
   "execution_count": 7,
   "id": "15cb40cf",
   "metadata": {},
   "outputs": [],
   "source": [
    "train_X, validate_X, test_X = np.split(X.sample(frac=1), \n",
    "                                       [int(.6*len(X)), \n",
    "                                        int(.8*len(X))])\n",
    "\n",
    "train_y, validate_y, test_y = np.split(y.sample(frac=1), \n",
    "                                       [int(.6*len(y)), \n",
    "                                        int(.8*len(y))])"
   ]
  },
  {
   "cell_type": "code",
   "execution_count": 8,
   "id": "429b1635",
   "metadata": {},
   "outputs": [],
   "source": [
    "train_X = np.array(train_X)\n",
    "train_y = np.array(train_y)"
   ]
  },
  {
   "cell_type": "code",
   "execution_count": 9,
   "id": "c0b0dace",
   "metadata": {},
   "outputs": [],
   "source": [
    "new_train_X = []\n",
    "for i in train_X:\n",
    "    new_train_X.append(list(i))\n",
    "train_X = np.array(new_train_X)\n",
    "    \n",
    "new_validate_X = []\n",
    "for i in validate_X:\n",
    "    new_validate_X.append(list(i))\n",
    "validate_X = np.array(new_validate_X)\n",
    "    \n",
    "new_test_X = []\n",
    "for i in test_X:\n",
    "    new_test_X.append(list(i))\n",
    "test_X = np.array(new_test_X)"
   ]
  },
  {
   "cell_type": "markdown",
   "id": "b49b7ea4",
   "metadata": {},
   "source": [
    "## Model"
   ]
  },
  {
   "cell_type": "code",
   "execution_count": 14,
   "id": "20100077",
   "metadata": {},
   "outputs": [],
   "source": [
    "inputs = tf.keras.layers.Input(shape=(300,))\n",
    "hidden_1_out = tf.keras.layers.Dense(200, activation='relu')(inputs)\n",
    "dropout = tf.keras.layers.Dropout(0.5)(hidden_1_out)\n",
    "hidden_2_out = tf.keras.layers.Dense(50, activation='relu')(dropout)\n",
    "classification_out = tf.keras.layers.Dense(4, activation='softmax')(hidden_2_out)\n",
    "\n",
    "model_functional = tf.keras.models.Model(inputs=inputs, outputs = classification_out)\n",
    "model_functional.compile(loss='SparseCategoricalCrossentropy', optimizer='adam', metrics=['accuracy'])"
   ]
  },
  {
   "cell_type": "code",
   "execution_count": 15,
   "id": "91064fe8",
   "metadata": {},
   "outputs": [
    {
     "data": {
      "image/png": "[encoded data removed]",
      "text/plain": [
       "<IPython.core.display.Image object>"
      ]
     },
     "execution_count": 15,
     "metadata": {},
     "output_type": "execute_result"
    }
   ],
   "source": [
    "tf.keras.utils.plot_model(model_functional, \"spacey_embeddings.png\", show_shapes=True)\n"
   ]
  },
  {
   "cell_type": "code",
   "execution_count": 16,
   "id": "4f5d1c35",
   "metadata": {
    "scrolled": true
   },
   "outputs": [
    {
     "name": "stdout",
     "output_type": "stream",
     "text": [
      "Epoch 1/50\n",
      "80/80 [==============================] - 1s 5ms/step - loss: 1.3889 - accuracy: 0.2496\n",
      "Epoch 2/50\n",
      "80/80 [==============================] - 0s 4ms/step - loss: 1.3871 - accuracy: 0.2493\n",
      "Epoch 3/50\n",
      "80/80 [==============================] - 0s 4ms/step - loss: 1.3868 - accuracy: 0.2508\n",
      "Epoch 4/50\n",
      "80/80 [==============================] - 0s 5ms/step - loss: 1.3866 - accuracy: 0.2505\n",
      "Epoch 5/50\n",
      "80/80 [==============================] - 0s 5ms/step - loss: 1.3865 - accuracy: 0.2522\n",
      "Epoch 6/50\n",
      "80/80 [==============================] - 0s 4ms/step - loss: 1.3864 - accuracy: 0.2517\n",
      "Epoch 7/50\n",
      "80/80 [==============================] - 0s 4ms/step - loss: 1.3863 - accuracy: 0.2521\n",
      "Epoch 8/50\n",
      "80/80 [==============================] - 0s 4ms/step - loss: 1.3863 - accuracy: 0.2551\n",
      "Epoch 9/50\n",
      "80/80 [==============================] - 0s 4ms/step - loss: 1.3861 - accuracy: 0.2512\n",
      "Epoch 10/50\n",
      "80/80 [==============================] - 0s 4ms/step - loss: 1.3862 - accuracy: 0.2515\n",
      "Epoch 11/50\n",
      "80/80 [==============================] - 0s 4ms/step - loss: 1.3859 - accuracy: 0.2555\n",
      "Epoch 12/50\n",
      "80/80 [==============================] - 0s 4ms/step - loss: 1.3861 - accuracy: 0.2540\n",
      "Epoch 13/50\n",
      "80/80 [==============================] - 0s 5ms/step - loss: 1.3860 - accuracy: 0.2511\n",
      "Epoch 14/50\n",
      "80/80 [==============================] - 0s 4ms/step - loss: 1.3856 - accuracy: 0.2568\n",
      "Epoch 15/50\n",
      "80/80 [==============================] - 0s 4ms/step - loss: 1.3857 - accuracy: 0.2553\n",
      "Epoch 16/50\n",
      "80/80 [==============================] - 0s 4ms/step - loss: 1.3856 - accuracy: 0.2574\n",
      "Epoch 17/50\n",
      "80/80 [==============================] - 0s 5ms/step - loss: 1.3855 - accuracy: 0.2568\n",
      "Epoch 18/50\n",
      "80/80 [==============================] - 0s 4ms/step - loss: 1.3852 - accuracy: 0.2567\n",
      "Epoch 19/50\n",
      "80/80 [==============================] - 0s 4ms/step - loss: 1.3851 - accuracy: 0.2601\n",
      "Epoch 20/50\n",
      "80/80 [==============================] - 0s 4ms/step - loss: 1.3855 - accuracy: 0.2569\n",
      "Epoch 21/50\n",
      "80/80 [==============================] - 0s 4ms/step - loss: 1.3849 - accuracy: 0.2585\n",
      "Epoch 22/50\n",
      "80/80 [==============================] - 0s 4ms/step - loss: 1.3850 - accuracy: 0.2593\n",
      "Epoch 23/50\n",
      "80/80 [==============================] - 0s 5ms/step - loss: 1.3850 - accuracy: 0.2596\n",
      "Epoch 24/50\n",
      "80/80 [==============================] - 0s 4ms/step - loss: 1.3844 - accuracy: 0.2622\n",
      "Epoch 25/50\n",
      "80/80 [==============================] - 0s 5ms/step - loss: 1.3842 - accuracy: 0.2628\n",
      "Epoch 26/50\n",
      "80/80 [==============================] - 0s 4ms/step - loss: 1.3835 - accuracy: 0.2656\n",
      "Epoch 27/50\n",
      "80/80 [==============================] - 0s 4ms/step - loss: 1.3838 - accuracy: 0.2630\n",
      "Epoch 28/50\n",
      "80/80 [==============================] - 0s 5ms/step - loss: 1.3836 - accuracy: 0.2630\n",
      "Epoch 29/50\n",
      "80/80 [==============================] - 0s 4ms/step - loss: 1.3836 - accuracy: 0.2639\n",
      "Epoch 30/50\n",
      "80/80 [==============================] - 0s 4ms/step - loss: 1.3829 - accuracy: 0.2669\n",
      "Epoch 31/50\n",
      "80/80 [==============================] - 0s 4ms/step - loss: 1.3832 - accuracy: 0.2687\n",
      "Epoch 32/50\n",
      "80/80 [==============================] - 0s 5ms/step - loss: 1.3829 - accuracy: 0.2643\n",
      "Epoch 33/50\n",
      "80/80 [==============================] - 0s 5ms/step - loss: 1.3816 - accuracy: 0.2704\n",
      "Epoch 34/50\n",
      "80/80 [==============================] - 0s 4ms/step - loss: 1.3828 - accuracy: 0.2647\n",
      "Epoch 35/50\n",
      "80/80 [==============================] - 0s 4ms/step - loss: 1.3823 - accuracy: 0.2665\n",
      "Epoch 36/50\n",
      "80/80 [==============================] - 0s 4ms/step - loss: 1.3820 - accuracy: 0.2668\n",
      "Epoch 37/50\n",
      "80/80 [==============================] - 0s 5ms/step - loss: 1.3807 - accuracy: 0.2692\n",
      "Epoch 38/50\n",
      "80/80 [==============================] - 0s 5ms/step - loss: 1.3809 - accuracy: 0.2753\n",
      "Epoch 39/50\n",
      "80/80 [==============================] - 0s 5ms/step - loss: 1.3807 - accuracy: 0.2717\n",
      "Epoch 40/50\n",
      "80/80 [==============================] - 0s 4ms/step - loss: 1.3806 - accuracy: 0.2753\n",
      "Epoch 41/50\n",
      "80/80 [==============================] - 0s 4ms/step - loss: 1.3802 - accuracy: 0.2753\n",
      "Epoch 42/50\n",
      "80/80 [==============================] - 0s 4ms/step - loss: 1.3793 - accuracy: 0.2764\n",
      "Epoch 43/50\n",
      "80/80 [==============================] - 0s 4ms/step - loss: 1.3794 - accuracy: 0.2731\n",
      "Epoch 44/50\n",
      "80/80 [==============================] - 0s 4ms/step - loss: 1.3785 - accuracy: 0.2772\n",
      "Epoch 45/50\n",
      "80/80 [==============================] - 0s 4ms/step - loss: 1.3782 - accuracy: 0.2764\n",
      "Epoch 46/50\n",
      "80/80 [==============================] - 0s 4ms/step - loss: 1.3772 - accuracy: 0.2794\n",
      "Epoch 47/50\n",
      "80/80 [==============================] - 0s 4ms/step - loss: 1.3770 - accuracy: 0.2796\n",
      "Epoch 48/50\n",
      "80/80 [==============================] - 0s 4ms/step - loss: 1.3767 - accuracy: 0.2827\n",
      "Epoch 49/50\n",
      "80/80 [==============================] - 0s 4ms/step - loss: 1.3759 - accuracy: 0.2838\n",
      "Epoch 50/50\n",
      "80/80 [==============================] - 0s 4ms/step - loss: 1.3755 - accuracy: 0.2839\n"
     ]
    },
    {
     "data": {
      "text/plain": [
       "<keras.callbacks.History at 0x7fd8c52f1490>"
      ]
     },
     "execution_count": 16,
     "metadata": {},
     "output_type": "execute_result"
    }
   ],
   "source": [
    "model_functional.fit(train_X, train_y, epochs=50, batch_size=512)\n"
   ]
  },
  {
   "cell_type": "code",
   "execution_count": 17,
   "id": "ef6d3463",
   "metadata": {},
   "outputs": [
    {
     "name": "stdout",
     "output_type": "stream",
     "text": [
      "427/427 [==============================] - 1s 1ms/step - loss: 1.3934 - accuracy: 0.2537\n"
     ]
    },
    {
     "data": {
      "text/plain": [
       "[1.3934035301208496, 0.2537401020526886]"
      ]
     },
     "execution_count": 17,
     "metadata": {},
     "output_type": "execute_result"
    }
   ],
   "source": [
    "model_functional.evaluate(test_X, test_y)"
   ]
  },
  {
   "cell_type": "markdown",
   "id": "a9a44509",
   "metadata": {},
   "source": [
    "No learning! Random chance would label 25% of values accurately. Averaging during the embedding stage is likely causing it to lose information"
   ]
  },
  {
   "cell_type": "code",
   "execution_count": null,
   "id": "da0a343a",
   "metadata": {},
   "outputs": [],
   "source": []
  }
 ],
 "metadata": {
  "kernelspec": {
   "display_name": "Python 3",
   "language": "python",
   "name": "python3"
  },
  "language_info": {
   "codemirror_mode": {
    "name": "ipython",
    "version": 3
   },
   "file_extension": ".py",
   "mimetype": "text/x-python",
   "name": "python",
   "nbconvert_exporter": "python",
   "pygments_lexer": "ipython3",
   "version": "3.8.8"
  }
 },
 "nbformat": 4,
 "nbformat_minor": 5
}
