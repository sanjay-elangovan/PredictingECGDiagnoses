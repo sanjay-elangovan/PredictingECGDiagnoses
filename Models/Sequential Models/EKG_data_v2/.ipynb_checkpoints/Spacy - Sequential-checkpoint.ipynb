{
 "cells": [
  {
   "cell_type": "markdown",
   "id": "e1788b01",
   "metadata": {},
   "source": [
    "## Imports"
   ]
  },
  {
   "cell_type": "code",
   "execution_count": 42,
   "id": "7a3a7766",
   "metadata": {},
   "outputs": [],
   "source": [
    "from keras.models import Sequential\n",
    "from keras.layers import Dense, Dropout\n",
    "import pickle\n",
    "import pandas as pd\n",
    "import numpy as np\n",
    "import tensorflow as tf"
   ]
  },
  {
   "cell_type": "markdown",
   "id": "d07e651a",
   "metadata": {},
   "source": [
    "## Data"
   ]
  },
  {
   "cell_type": "markdown",
   "id": "6e81bc4d",
   "metadata": {},
   "source": [
    "### Spacy Embeddings"
   ]
  },
  {
   "cell_type": "code",
   "execution_count": 2,
   "id": "55a1f159",
   "metadata": {},
   "outputs": [],
   "source": [
    "ekg_denoised = pd.read_pickle('/home/sanjaycollege15/PredictingDiagnoses/Data/ekg_denoised_spacy_v2.pkl')\n",
    "ekg_denoised = ekg_denoised.sample(frac=1)\n"
   ]
  },
  {
   "cell_type": "code",
   "execution_count": 3,
   "id": "a614c456",
   "metadata": {},
   "outputs": [
    {
     "data": {
      "text/html": [
       "<div>\n",
       "<style scoped>\n",
       "    .dataframe tbody tr th:only-of-type {\n",
       "        vertical-align: middle;\n",
       "    }\n",
       "\n",
       "    .dataframe tbody tr th {\n",
       "        vertical-align: top;\n",
       "    }\n",
       "\n",
       "    .dataframe thead th {\n",
       "        text-align: right;\n",
       "    }\n",
       "</style>\n",
       "<table border=\"1\" class=\"dataframe\">\n",
       "  <thead>\n",
       "    <tr style=\"text-align: right;\">\n",
       "      <th></th>\n",
       "      <th>ICD9_CODE</th>\n",
       "      <th>spacy_embeddings</th>\n",
       "    </tr>\n",
       "  </thead>\n",
       "  <tbody>\n",
       "    <tr>\n",
       "      <th>11356</th>\n",
       "      <td>3</td>\n",
       "      <td>[-0.074575454, 0.23725317, -0.1332263, -0.0540...</td>\n",
       "    </tr>\n",
       "    <tr>\n",
       "      <th>41320</th>\n",
       "      <td>1</td>\n",
       "      <td>[-0.14187907, 0.34571514, -0.15100838, 0.04721...</td>\n",
       "    </tr>\n",
       "    <tr>\n",
       "      <th>48225</th>\n",
       "      <td>1</td>\n",
       "      <td>[-0.11297254, 0.23553081, -0.20390782, 0.03601...</td>\n",
       "    </tr>\n",
       "    <tr>\n",
       "      <th>33101</th>\n",
       "      <td>0</td>\n",
       "      <td>[0.0019578233, 0.1748325, -0.10949114, -0.0075...</td>\n",
       "    </tr>\n",
       "    <tr>\n",
       "      <th>15259</th>\n",
       "      <td>3</td>\n",
       "      <td>[-0.03690597, 0.23022051, -0.17319469, -0.0521...</td>\n",
       "    </tr>\n",
       "  </tbody>\n",
       "</table>\n",
       "</div>"
      ],
      "text/plain": [
       "       ICD9_CODE                                   spacy_embeddings\n",
       "11356          3  [-0.074575454, 0.23725317, -0.1332263, -0.0540...\n",
       "41320          1  [-0.14187907, 0.34571514, -0.15100838, 0.04721...\n",
       "48225          1  [-0.11297254, 0.23553081, -0.20390782, 0.03601...\n",
       "33101          0  [0.0019578233, 0.1748325, -0.10949114, -0.0075...\n",
       "15259          3  [-0.03690597, 0.23022051, -0.17319469, -0.0521..."
      ]
     },
     "execution_count": 3,
     "metadata": {},
     "output_type": "execute_result"
    }
   ],
   "source": [
    "ekg_denoised.head()"
   ]
  },
  {
   "cell_type": "code",
   "execution_count": 4,
   "id": "621d88e9",
   "metadata": {},
   "outputs": [
    {
     "data": {
      "text/plain": [
       "(300,)"
      ]
     },
     "execution_count": 4,
     "metadata": {},
     "output_type": "execute_result"
    }
   ],
   "source": [
    "ekg_denoised['spacy_embeddings'][4603].shape"
   ]
  },
  {
   "cell_type": "markdown",
   "id": "7f6b9142",
   "metadata": {},
   "source": [
    "### Train/Dev/Test/Split"
   ]
  },
  {
   "cell_type": "code",
   "execution_count": 5,
   "id": "1e1301d7",
   "metadata": {},
   "outputs": [],
   "source": [
    "X = ekg_denoised['spacy_embeddings']\n",
    "y = ekg_denoised['ICD9_CODE']"
   ]
  },
  {
   "cell_type": "code",
   "execution_count": 6,
   "id": "15cb40cf",
   "metadata": {},
   "outputs": [],
   "source": [
    "train_X, validate_X, test_X = np.split(X.sample(frac=1), \n",
    "                                       [int(.6*len(X)), \n",
    "                                        int(.8*len(X))])\n",
    "\n",
    "train_y, validate_y, test_y = np.split(y.sample(frac=1), \n",
    "                                       [int(.6*len(y)), \n",
    "                                        int(.8*len(y))])"
   ]
  },
  {
   "cell_type": "code",
   "execution_count": 7,
   "id": "429b1635",
   "metadata": {},
   "outputs": [],
   "source": [
    "train_X = np.array(train_X)\n",
    "train_y = np.array(train_y)"
   ]
  },
  {
   "cell_type": "code",
   "execution_count": 8,
   "id": "c0b0dace",
   "metadata": {},
   "outputs": [],
   "source": [
    "new_train_X = []\n",
    "for i in train_X:\n",
    "    new_train_X.append(list(i))\n",
    "train_X = np.array(new_train_X)\n",
    "    \n",
    "new_validate_X = []\n",
    "for i in validate_X:\n",
    "    new_validate_X.append(list(i))\n",
    "validate_X = np.array(new_validate_X)\n",
    "    \n",
    "new_test_X = []\n",
    "for i in test_X:\n",
    "    new_test_X.append(list(i))\n",
    "test_X = np.array(new_test_X)"
   ]
  },
  {
   "cell_type": "markdown",
   "id": "b49b7ea4",
   "metadata": {},
   "source": [
    "## Model"
   ]
  },
  {
   "cell_type": "code",
   "execution_count": 43,
   "id": "20100077",
   "metadata": {},
   "outputs": [],
   "source": [
    "inputs = tf.keras.layers.Input(shape=(300,))\n",
    "hidden_1_out = tf.keras.layers.Dense(200, activation='relu')(inputs)\n",
    "dropout = tf.keras.layers.Dropout(0.2)(hidden_1_out)\n",
    "hidden_2_out = tf.keras.layers.Dense(100, activation='relu')(dropout)\n",
    "classification_out = tf.keras.layers.Dense(4, activation='softmax')(hidden_2_out)\n",
    "\n",
    "model_functional = tf.keras.models.Model(inputs=inputs, outputs = classification_out)\n",
    "model_functional.compile(loss='SparseCategoricalCrossentropy', optimizer='adam', metrics=['accuracy'])"
   ]
  },
  {
   "cell_type": "code",
   "execution_count": 44,
   "id": "91064fe8",
   "metadata": {},
   "outputs": [
    {
     "data": {
      "image/png": "[encoded data removed]",
      "text/plain": [
       "<IPython.core.display.Image object>"
      ]
     },
     "execution_count": 44,
     "metadata": {},
     "output_type": "execute_result"
    }
   ],
   "source": [
    "tf.keras.utils.plot_model(model_functional, \"spacey_embeddings.png\", show_shapes=True)\n"
   ]
  },
  {
   "cell_type": "code",
   "execution_count": 45,
   "id": "4f5d1c35",
   "metadata": {
    "scrolled": true
   },
   "outputs": [
    {
     "name": "stdout",
     "output_type": "stream",
     "text": [
      "Epoch 1/15\n",
      "80/80 [==============================] - 1s 4ms/step - loss: 1.3881 - accuracy: 0.2544\n",
      "Epoch 2/15\n",
      "80/80 [==============================] - 0s 4ms/step - loss: 1.3867 - accuracy: 0.2542\n",
      "Epoch 3/15\n",
      "80/80 [==============================] - 0s 4ms/step - loss: 1.3866 - accuracy: 0.2550\n",
      "Epoch 4/15\n",
      "80/80 [==============================] - 0s 4ms/step - loss: 1.3861 - accuracy: 0.2593\n",
      "Epoch 5/15\n",
      "80/80 [==============================] - 0s 4ms/step - loss: 1.3860 - accuracy: 0.2550\n",
      "Epoch 6/15\n",
      "80/80 [==============================] - 0s 4ms/step - loss: 1.3854 - accuracy: 0.2619\n",
      "Epoch 7/15\n",
      "80/80 [==============================] - 0s 4ms/step - loss: 1.3852 - accuracy: 0.2618\n",
      "Epoch 8/15\n",
      "80/80 [==============================] - 0s 4ms/step - loss: 1.3849 - accuracy: 0.2647\n",
      "Epoch 9/15\n",
      "80/80 [==============================] - 0s 4ms/step - loss: 1.3842 - accuracy: 0.2693\n",
      "Epoch 10/15\n",
      "80/80 [==============================] - 0s 4ms/step - loss: 1.3837 - accuracy: 0.2671\n",
      "Epoch 11/15\n",
      "80/80 [==============================] - 0s 4ms/step - loss: 1.3832 - accuracy: 0.2681\n",
      "Epoch 12/15\n",
      "80/80 [==============================] - 0s 4ms/step - loss: 1.3828 - accuracy: 0.2734\n",
      "Epoch 13/15\n",
      "80/80 [==============================] - 0s 4ms/step - loss: 1.3819 - accuracy: 0.2739\n",
      "Epoch 14/15\n",
      "80/80 [==============================] - 0s 4ms/step - loss: 1.3823 - accuracy: 0.2720\n",
      "Epoch 15/15\n",
      "80/80 [==============================] - 0s 4ms/step - loss: 1.3801 - accuracy: 0.2762\n"
     ]
    },
    {
     "data": {
      "text/plain": [
       "<keras.callbacks.History at 0x7f53dda92130>"
      ]
     },
     "execution_count": 45,
     "metadata": {},
     "output_type": "execute_result"
    }
   ],
   "source": [
    "model_functional.fit(train_X, train_y, epochs=15, batch_size=512)\n"
   ]
  },
  {
   "cell_type": "code",
   "execution_count": 46,
   "id": "ef6d3463",
   "metadata": {},
   "outputs": [
    {
     "name": "stdout",
     "output_type": "stream",
     "text": [
      "427/427 [==============================] - 1s 1ms/step - loss: 1.3901 - accuracy: 0.2537\n"
     ]
    },
    {
     "data": {
      "text/plain": [
       "[1.390063762664795, 0.2537401020526886]"
      ]
     },
     "execution_count": 46,
     "metadata": {},
     "output_type": "execute_result"
    }
   ],
   "source": [
    "model_functional.evaluate(test_X, test_y)"
   ]
  },
  {
   "cell_type": "markdown",
   "id": "a9a44509",
   "metadata": {},
   "source": [
    "No learning! Random chance would label 25% of values accurately. Averaging during the embedding stage is likely causing it to lose information"
   ]
  },
  {
   "cell_type": "code",
   "execution_count": null,
   "id": "da0a343a",
   "metadata": {},
   "outputs": [],
   "source": []
  }
 ],
 "metadata": {
  "kernelspec": {
   "display_name": "Python 3",
   "language": "python",
   "name": "python3"
  },
  "language_info": {
   "codemirror_mode": {
    "name": "ipython",
    "version": 3
   },
   "file_extension": ".py",
   "mimetype": "text/x-python",
   "name": "python",
   "nbconvert_exporter": "python",
   "pygments_lexer": "ipython3",
   "version": "3.8.8"
  }
 },
 "nbformat": 4,
 "nbformat_minor": 5
}
