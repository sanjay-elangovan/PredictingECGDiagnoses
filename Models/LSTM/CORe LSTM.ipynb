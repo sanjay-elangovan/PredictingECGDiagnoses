{
 "cells": [
  {
   "cell_type": "code",
   "execution_count": 1,
   "id": "c15019b4",
   "metadata": {},
   "outputs": [],
   "source": [
    "from keras.models import Sequential\n",
    "from keras.layers import Dense, SimpleRNN, LSTM, Dropout\n",
    "import pickle\n",
    "import pandas as pd\n",
    "import numpy as np\n",
    "from sklearn.model_selection import train_test_split\n",
    "import tensorflow as tf\n",
    "import matplotlib.pyplot as plt\n"
   ]
  },
  {
   "cell_type": "markdown",
   "id": "420b5f74",
   "metadata": {},
   "source": [
    "## CORe Embeddings"
   ]
  },
  {
   "cell_type": "code",
   "execution_count": 2,
   "id": "6613a7b6",
   "metadata": {},
   "outputs": [],
   "source": [
    "embeddings = np.load('/home/sanjaycollege15/PredictingDiagnoses/Data/ekg_denoised_CORe_embeddings_30k.npy')\n",
    "labels = np.load('/home/sanjaycollege15/PredictingDiagnoses/Data/ekg_denoised_CORe_labels_30k.npy')\n"
   ]
  },
  {
   "cell_type": "markdown",
   "id": "77cd83a7",
   "metadata": {},
   "source": [
    "### Train/Dev/Test/Split"
   ]
  },
  {
   "cell_type": "code",
   "execution_count": 3,
   "id": "713e5c5f",
   "metadata": {},
   "outputs": [],
   "source": [
    "train_X, test_X, train_y, test_y = train_test_split(embeddings, labels, test_size=0.20, random_state=42)\n",
    "del embeddings\n",
    "del labels"
   ]
  },
  {
   "cell_type": "code",
   "execution_count": 4,
   "id": "78c299e6",
   "metadata": {},
   "outputs": [
    {
     "data": {
      "text/plain": [
       "(24000, 264, 768)"
      ]
     },
     "execution_count": 4,
     "metadata": {},
     "output_type": "execute_result"
    }
   ],
   "source": [
    "train_X.shape"
   ]
  },
  {
   "cell_type": "code",
   "execution_count": 5,
   "id": "48455e00",
   "metadata": {},
   "outputs": [
    {
     "data": {
      "text/plain": [
       "(6000, 264, 768)"
      ]
     },
     "execution_count": 5,
     "metadata": {},
     "output_type": "execute_result"
    }
   ],
   "source": [
    "test_X.shape"
   ]
  },
  {
   "cell_type": "markdown",
   "id": "cf07a54a",
   "metadata": {},
   "source": [
    "## LSTM Models"
   ]
  },
  {
   "cell_type": "markdown",
   "id": "a3170c0c",
   "metadata": {},
   "source": [
    "### 128 neurons"
   ]
  },
  {
   "cell_type": "code",
   "execution_count": 7,
   "id": "341444c4",
   "metadata": {},
   "outputs": [],
   "source": [
    "inputs = tf.keras.layers.Input(shape=(264,768))\n",
    "LSTM = tf.keras.layers.LSTM(128)(inputs)\n",
    "classification_out = tf.keras.layers.Dense(4, activation='softmax')(LSTM)\n",
    "\n",
    "model = tf.keras.models.Model(inputs=inputs, outputs=classification_out)\n",
    "model.compile(loss=tf.keras.losses.SparseCategoricalCrossentropy(), \n",
    "              optimizer='adam', \n",
    "              metrics=['sparse_categorical_accuracy'])"
   ]
  },
  {
   "cell_type": "code",
   "execution_count": 8,
   "id": "ee225732",
   "metadata": {},
   "outputs": [
    {
     "name": "stdout",
     "output_type": "stream",
     "text": [
      "Model: \"model\"\n",
      "_________________________________________________________________\n",
      " Layer (type)                Output Shape              Param #   \n",
      "=================================================================\n",
      " input_1 (InputLayer)        [(None, 264, 768)]        0         \n",
      "                                                                 \n",
      " lstm (LSTM)                 (None, 128)               459264    \n",
      "                                                                 \n",
      " dense (Dense)               (None, 4)                 516       \n",
      "                                                                 \n",
      "=================================================================\n",
      "Total params: 459,780\n",
      "Trainable params: 459,780\n",
      "Non-trainable params: 0\n",
      "_________________________________________________________________\n"
     ]
    }
   ],
   "source": [
    "model.summary()"
   ]
  },
  {
   "cell_type": "code",
   "execution_count": 9,
   "id": "b0ea0cdc",
   "metadata": {
    "scrolled": true
   },
   "outputs": [
    {
     "name": "stdout",
     "output_type": "stream",
     "text": [
      "Epoch 1/20\n",
      "38/38 [==============================] - 62s 2s/step - loss: 1.3974 - sparse_categorical_accuracy: 0.2795 - val_loss: 1.3754 - val_sparse_categorical_accuracy: 0.2915\n",
      "Epoch 2/20\n",
      "38/38 [==============================] - 50s 1s/step - loss: 1.3568 - sparse_categorical_accuracy: 0.3202 - val_loss: 1.3665 - val_sparse_categorical_accuracy: 0.3054\n",
      "Epoch 3/20\n",
      "38/38 [==============================] - 50s 1s/step - loss: 1.3424 - sparse_categorical_accuracy: 0.3368 - val_loss: 1.3596 - val_sparse_categorical_accuracy: 0.3117\n",
      "Epoch 4/20\n",
      "38/38 [==============================] - 49s 1s/step - loss: 1.3291 - sparse_categorical_accuracy: 0.3473 - val_loss: 1.3618 - val_sparse_categorical_accuracy: 0.3331\n",
      "Epoch 5/20\n",
      "38/38 [==============================] - 48s 1s/step - loss: 1.3196 - sparse_categorical_accuracy: 0.3601 - val_loss: 1.3693 - val_sparse_categorical_accuracy: 0.3183\n",
      "Epoch 6/20\n",
      "38/38 [==============================] - 48s 1s/step - loss: 1.3097 - sparse_categorical_accuracy: 0.3698 - val_loss: 1.3544 - val_sparse_categorical_accuracy: 0.3275\n",
      "Epoch 7/20\n",
      "38/38 [==============================] - 49s 1s/step - loss: 1.3021 - sparse_categorical_accuracy: 0.3774 - val_loss: 1.3536 - val_sparse_categorical_accuracy: 0.3356\n",
      "Epoch 8/20\n",
      "38/38 [==============================] - 48s 1s/step - loss: 1.2922 - sparse_categorical_accuracy: 0.3836 - val_loss: 1.3477 - val_sparse_categorical_accuracy: 0.3460\n",
      "Epoch 9/20\n",
      "38/38 [==============================] - 48s 1s/step - loss: 1.2785 - sparse_categorical_accuracy: 0.3956 - val_loss: 1.3513 - val_sparse_categorical_accuracy: 0.3450\n",
      "Epoch 10/20\n",
      "38/38 [==============================] - 49s 1s/step - loss: 1.2626 - sparse_categorical_accuracy: 0.4122 - val_loss: 1.3527 - val_sparse_categorical_accuracy: 0.3469\n",
      "Epoch 11/20\n",
      "38/38 [==============================] - 48s 1s/step - loss: 1.2462 - sparse_categorical_accuracy: 0.4248 - val_loss: 1.3665 - val_sparse_categorical_accuracy: 0.3379\n",
      "Epoch 12/20\n",
      "38/38 [==============================] - 48s 1s/step - loss: 1.2250 - sparse_categorical_accuracy: 0.4385 - val_loss: 1.3603 - val_sparse_categorical_accuracy: 0.3438\n",
      "Epoch 13/20\n",
      "38/38 [==============================] - 48s 1s/step - loss: 1.2057 - sparse_categorical_accuracy: 0.4531 - val_loss: 1.3657 - val_sparse_categorical_accuracy: 0.3477\n",
      "Epoch 14/20\n",
      "38/38 [==============================] - 49s 1s/step - loss: 1.1801 - sparse_categorical_accuracy: 0.4723 - val_loss: 1.3884 - val_sparse_categorical_accuracy: 0.3296\n",
      "Epoch 15/20\n",
      "38/38 [==============================] - 48s 1s/step - loss: 1.1648 - sparse_categorical_accuracy: 0.4822 - val_loss: 1.3746 - val_sparse_categorical_accuracy: 0.3504\n",
      "Epoch 16/20\n",
      "38/38 [==============================] - 48s 1s/step - loss: 1.1409 - sparse_categorical_accuracy: 0.4979 - val_loss: 1.4136 - val_sparse_categorical_accuracy: 0.3396\n",
      "Epoch 17/20\n",
      "38/38 [==============================] - 48s 1s/step - loss: 1.1201 - sparse_categorical_accuracy: 0.5081 - val_loss: 1.4244 - val_sparse_categorical_accuracy: 0.3371\n",
      "Epoch 18/20\n",
      "38/38 [==============================] - 47s 1s/step - loss: 1.0856 - sparse_categorical_accuracy: 0.5319 - val_loss: 1.4821 - val_sparse_categorical_accuracy: 0.3296\n",
      "Epoch 19/20\n",
      "38/38 [==============================] - 48s 1s/step - loss: 1.0526 - sparse_categorical_accuracy: 0.5492 - val_loss: 1.4584 - val_sparse_categorical_accuracy: 0.3338\n",
      "Epoch 20/20\n",
      "38/38 [==============================] - 48s 1s/step - loss: 1.0135 - sparse_categorical_accuracy: 0.5660 - val_loss: 1.4931 - val_sparse_categorical_accuracy: 0.3256\n"
     ]
    }
   ],
   "source": [
    "train = model.fit(train_X, train_y, epochs=20, batch_size=512, validation_split=0.2)\n"
   ]
  },
  {
   "cell_type": "code",
   "execution_count": 10,
   "id": "f62ef5e1",
   "metadata": {},
   "outputs": [
    {
     "name": "stdout",
     "output_type": "stream",
     "text": [
      "188/188 [==============================] - 21s 109ms/step - loss: 1.4802 - sparse_categorical_accuracy: 0.3237\n"
     ]
    },
    {
     "data": {
      "text/plain": [
       "[1.4801760911941528, 0.32366666197776794]"
      ]
     },
     "execution_count": 10,
     "metadata": {},
     "output_type": "execute_result"
    }
   ],
   "source": [
    "model.evaluate(test_X, test_y)"
   ]
  },
  {
   "cell_type": "code",
   "execution_count": 12,
   "id": "60d7d9b6",
   "metadata": {},
   "outputs": [
    {
     "data": {
      "image/png": "[encoded data removed]",
      "text/plain": [
       "<Figure size 432x288 with 1 Axes>"
      ]
     },
     "metadata": {
      "needs_background": "light"
     },
     "output_type": "display_data"
    }
   ],
   "source": [
    "plt.plot(train.history['sparse_categorical_accuracy'])\n",
    "plt.plot(train.history['val_sparse_categorical_accuracy'])\n",
    "plt.title('Model accuracy')\n",
    "plt.ylabel('Accuracy')\n",
    "plt.xlabel('Epoch')\n",
    "plt.legend(['train', 'validation'], loc='upper left')\n",
    "plt.show()"
   ]
  },
  {
   "cell_type": "code",
   "execution_count": 14,
   "id": "5b4db7b9",
   "metadata": {},
   "outputs": [
    {
     "name": "stdout",
     "output_type": "stream",
     "text": [
      "Highest model accuracy is 35.04% which occurs at 14 epochs.\n"
     ]
    }
   ],
   "source": [
    "print(f\"Highest model accuracy is {round(max(train.history['val_sparse_categorical_accuracy'])*100,2)}% \\\n",
    "which occurs at {train.history['val_sparse_categorical_accuracy'].index(max(train.history['val_sparse_categorical_accuracy']))} \\\n",
    "epochs.\")\n",
    "     "
   ]
  },
  {
   "cell_type": "markdown",
   "id": "9ac34d6e",
   "metadata": {},
   "source": [
    "---"
   ]
  },
  {
   "cell_type": "markdown",
   "id": "1a828fdb",
   "metadata": {},
   "source": [
    "### 32 neurons, batch_size = 32"
   ]
  },
  {
   "cell_type": "code",
   "execution_count": 6,
   "id": "503d81cc",
   "metadata": {},
   "outputs": [],
   "source": [
    "inputs = tf.keras.layers.Input(shape=(264,768))\n",
    "LSTM = tf.keras.layers.LSTM(32)(inputs)\n",
    "classification_out = tf.keras.layers.Dense(4, activation='softmax')(LSTM)\n",
    "\n",
    "model = tf.keras.models.Model(inputs=inputs, outputs=classification_out)\n",
    "model.compile(loss=tf.keras.losses.SparseCategoricalCrossentropy(), \n",
    "              optimizer='adam', \n",
    "              metrics=['sparse_categorical_accuracy'])"
   ]
  },
  {
   "cell_type": "code",
   "execution_count": 7,
   "id": "bcaa05d6",
   "metadata": {
    "scrolled": true
   },
   "outputs": [
    {
     "name": "stdout",
     "output_type": "stream",
     "text": [
      "Epoch 1/20\n",
      "600/600 [==============================] - 77s 125ms/step - loss: 1.3791 - sparse_categorical_accuracy: 0.2872 - val_loss: 1.3810 - val_sparse_categorical_accuracy: 0.2715\n",
      "Epoch 2/20\n",
      "600/600 [==============================] - 67s 112ms/step - loss: 1.3508 - sparse_categorical_accuracy: 0.3248 - val_loss: 1.3452 - val_sparse_categorical_accuracy: 0.3313\n",
      "Epoch 3/20\n",
      "600/600 [==============================] - 67s 112ms/step - loss: 1.3275 - sparse_categorical_accuracy: 0.3506 - val_loss: 1.3350 - val_sparse_categorical_accuracy: 0.3442\n",
      "Epoch 4/20\n",
      "600/600 [==============================] - 67s 112ms/step - loss: 1.3140 - sparse_categorical_accuracy: 0.3641 - val_loss: 1.3255 - val_sparse_categorical_accuracy: 0.3548\n",
      "Epoch 5/20\n",
      "600/600 [==============================] - 68s 114ms/step - loss: 1.3046 - sparse_categorical_accuracy: 0.3728 - val_loss: 1.3224 - val_sparse_categorical_accuracy: 0.3567\n",
      "Epoch 6/20\n",
      "600/600 [==============================] - 77s 128ms/step - loss: 1.2967 - sparse_categorical_accuracy: 0.3819 - val_loss: 1.3254 - val_sparse_categorical_accuracy: 0.3575\n",
      "Epoch 7/20\n",
      "600/600 [==============================] - 70s 117ms/step - loss: 1.2868 - sparse_categorical_accuracy: 0.3922 - val_loss: 1.3404 - val_sparse_categorical_accuracy: 0.3313\n",
      "Epoch 8/20\n",
      "600/600 [==============================] - 70s 117ms/step - loss: 1.2782 - sparse_categorical_accuracy: 0.3994 - val_loss: 1.3364 - val_sparse_categorical_accuracy: 0.3483\n",
      "Epoch 9/20\n",
      "600/600 [==============================] - 70s 117ms/step - loss: 1.2667 - sparse_categorical_accuracy: 0.4085 - val_loss: 1.3342 - val_sparse_categorical_accuracy: 0.3519\n",
      "Epoch 10/20\n",
      "600/600 [==============================] - 72s 119ms/step - loss: 1.2543 - sparse_categorical_accuracy: 0.4180 - val_loss: 1.3464 - val_sparse_categorical_accuracy: 0.3506\n",
      "Epoch 11/20\n",
      "600/600 [==============================] - 71s 118ms/step - loss: 1.2408 - sparse_categorical_accuracy: 0.4286 - val_loss: 1.3549 - val_sparse_categorical_accuracy: 0.3477\n",
      "Epoch 12/20\n",
      "600/600 [==============================] - 73s 121ms/step - loss: 1.2287 - sparse_categorical_accuracy: 0.4352 - val_loss: 1.3439 - val_sparse_categorical_accuracy: 0.3556\n",
      "Epoch 13/20\n",
      "600/600 [==============================] - 74s 124ms/step - loss: 1.2125 - sparse_categorical_accuracy: 0.4478 - val_loss: 1.3571 - val_sparse_categorical_accuracy: 0.3392\n",
      "Epoch 14/20\n",
      "600/600 [==============================] - 72s 120ms/step - loss: 1.1952 - sparse_categorical_accuracy: 0.4596 - val_loss: 1.3634 - val_sparse_categorical_accuracy: 0.3492\n",
      "Epoch 15/20\n",
      "600/600 [==============================] - 72s 120ms/step - loss: 1.1774 - sparse_categorical_accuracy: 0.4708 - val_loss: 1.3735 - val_sparse_categorical_accuracy: 0.3487\n",
      "Epoch 16/20\n",
      "600/600 [==============================] - 77s 128ms/step - loss: 1.1585 - sparse_categorical_accuracy: 0.4861 - val_loss: 1.4061 - val_sparse_categorical_accuracy: 0.3338\n",
      "Epoch 17/20\n",
      "600/600 [==============================] - 74s 124ms/step - loss: 1.1429 - sparse_categorical_accuracy: 0.4944 - val_loss: 1.4112 - val_sparse_categorical_accuracy: 0.3390\n",
      "Epoch 18/20\n",
      "600/600 [==============================] - 74s 124ms/step - loss: 1.1243 - sparse_categorical_accuracy: 0.5044 - val_loss: 1.4109 - val_sparse_categorical_accuracy: 0.3413\n",
      "Epoch 19/20\n",
      "600/600 [==============================] - 77s 129ms/step - loss: 1.1070 - sparse_categorical_accuracy: 0.5116 - val_loss: 1.4426 - val_sparse_categorical_accuracy: 0.3438\n",
      "Epoch 20/20\n",
      "600/600 [==============================] - 72s 120ms/step - loss: 1.0857 - sparse_categorical_accuracy: 0.5253 - val_loss: 1.4386 - val_sparse_categorical_accuracy: 0.3304\n"
     ]
    }
   ],
   "source": [
    "train = model.fit(train_X, train_y, epochs=20, validation_split=0.2)\n"
   ]
  },
  {
   "cell_type": "code",
   "execution_count": 9,
   "id": "d7ec003b",
   "metadata": {},
   "outputs": [
    {
     "data": {
      "image/png": "[encoded data removed]",
      "text/plain": [
       "<Figure size 432x288 with 1 Axes>"
      ]
     },
     "metadata": {
      "needs_background": "light"
     },
     "output_type": "display_data"
    }
   ],
   "source": [
    "plt.plot(train.history['sparse_categorical_accuracy'])\n",
    "plt.plot(train.history['val_sparse_categorical_accuracy'])\n",
    "plt.title('Model accuracy')\n",
    "plt.ylabel('Accuracy')\n",
    "plt.xlabel('Epoch')\n",
    "plt.legend(['train', 'validation'], loc='upper left')\n",
    "plt.show()"
   ]
  },
  {
   "cell_type": "code",
   "execution_count": 10,
   "id": "04f1fa6a",
   "metadata": {},
   "outputs": [
    {
     "name": "stdout",
     "output_type": "stream",
     "text": [
      "Highest model accuracy is 35.75% which occurs at 5 epochs.\n"
     ]
    }
   ],
   "source": [
    "print(f\"Highest model accuracy is {round(max(train.history['val_sparse_categorical_accuracy'])*100,2)}% \\\n",
    "which occurs at {train.history['val_sparse_categorical_accuracy'].index(max(train.history['val_sparse_categorical_accuracy']))} \\\n",
    "epochs.\")\n",
    "     "
   ]
  },
  {
   "cell_type": "markdown",
   "id": "ad613934",
   "metadata": {},
   "source": [
    "Ends up being just ~ as accurate as the model with 128 neurons. Still overfitting, but slightly less than the original."
   ]
  },
  {
   "cell_type": "markdown",
   "id": "aacce2f4",
   "metadata": {},
   "source": [
    "---"
   ]
  },
  {
   "cell_type": "markdown",
   "id": "3b2a8c38",
   "metadata": {},
   "source": [
    "### 10 neurons"
   ]
  },
  {
   "cell_type": "code",
   "execution_count": 12,
   "id": "5bcb193f",
   "metadata": {},
   "outputs": [],
   "source": [
    "inputs = tf.keras.layers.Input(shape=(264,768))\n",
    "LSTM = tf.keras.layers.LSTM(5)(inputs)\n",
    "classification_out = tf.keras.layers.Dense(4, activation='softmax')(LSTM)\n",
    "\n",
    "model = tf.keras.models.Model(inputs=inputs, outputs=classification_out)\n",
    "model.compile(loss=tf.keras.losses.SparseCategoricalCrossentropy(), \n",
    "              optimizer='adam', \n",
    "              metrics=['sparse_categorical_accuracy'])"
   ]
  },
  {
   "cell_type": "code",
   "execution_count": 13,
   "id": "98883f1e",
   "metadata": {
    "scrolled": true
   },
   "outputs": [
    {
     "name": "stdout",
     "output_type": "stream",
     "text": [
      "Epoch 1/15\n",
      "600/600 [==============================] - 61s 100ms/step - loss: 1.3851 - sparse_categorical_accuracy: 0.2698 - val_loss: 1.3815 - val_sparse_categorical_accuracy: 0.2829\n",
      "Epoch 2/15\n",
      "600/600 [==============================] - 48s 79ms/step - loss: 1.3754 - sparse_categorical_accuracy: 0.2922 - val_loss: 1.3717 - val_sparse_categorical_accuracy: 0.2979\n",
      "Epoch 3/15\n",
      "600/600 [==============================] - 47s 78ms/step - loss: 1.3606 - sparse_categorical_accuracy: 0.3158 - val_loss: 1.3650 - val_sparse_categorical_accuracy: 0.3102\n",
      "Epoch 4/15\n",
      "600/600 [==============================] - 47s 78ms/step - loss: 1.3511 - sparse_categorical_accuracy: 0.3277 - val_loss: 1.3623 - val_sparse_categorical_accuracy: 0.3125\n",
      "Epoch 5/15\n",
      "600/600 [==============================] - 47s 78ms/step - loss: 1.3420 - sparse_categorical_accuracy: 0.3393 - val_loss: 1.3584 - val_sparse_categorical_accuracy: 0.3154\n",
      "Epoch 6/15\n",
      "600/600 [==============================] - 50s 83ms/step - loss: 1.3374 - sparse_categorical_accuracy: 0.3473 - val_loss: 1.3624 - val_sparse_categorical_accuracy: 0.3173\n",
      "Epoch 7/15\n",
      "600/600 [==============================] - 46s 77ms/step - loss: 1.3285 - sparse_categorical_accuracy: 0.3558 - val_loss: 1.3546 - val_sparse_categorical_accuracy: 0.3260\n",
      "Epoch 8/15\n",
      "600/600 [==============================] - 47s 79ms/step - loss: 1.3215 - sparse_categorical_accuracy: 0.3622 - val_loss: 1.3633 - val_sparse_categorical_accuracy: 0.3244\n",
      "Epoch 9/15\n",
      "600/600 [==============================] - 47s 79ms/step - loss: 1.3151 - sparse_categorical_accuracy: 0.3661 - val_loss: 1.3549 - val_sparse_categorical_accuracy: 0.3221\n",
      "Epoch 10/15\n",
      "600/600 [==============================] - 48s 80ms/step - loss: 1.3070 - sparse_categorical_accuracy: 0.3769 - val_loss: 1.3799 - val_sparse_categorical_accuracy: 0.3150\n",
      "Epoch 11/15\n",
      "600/600 [==============================] - 48s 80ms/step - loss: 1.3017 - sparse_categorical_accuracy: 0.3803 - val_loss: 1.3578 - val_sparse_categorical_accuracy: 0.3315\n",
      "Epoch 12/15\n",
      "600/600 [==============================] - 49s 82ms/step - loss: 1.2941 - sparse_categorical_accuracy: 0.3849 - val_loss: 1.3465 - val_sparse_categorical_accuracy: 0.3435\n",
      "Epoch 13/15\n",
      "600/600 [==============================] - 47s 79ms/step - loss: 1.2830 - sparse_categorical_accuracy: 0.3939 - val_loss: 1.3444 - val_sparse_categorical_accuracy: 0.3423\n",
      "Epoch 14/15\n",
      "600/600 [==============================] - 47s 79ms/step - loss: 1.2744 - sparse_categorical_accuracy: 0.3998 - val_loss: 1.3452 - val_sparse_categorical_accuracy: 0.3410\n",
      "Epoch 15/15\n",
      "600/600 [==============================] - 47s 79ms/step - loss: 1.2663 - sparse_categorical_accuracy: 0.4052 - val_loss: 1.3630 - val_sparse_categorical_accuracy: 0.3450\n"
     ]
    }
   ],
   "source": [
    "train = model.fit(train_X, train_y, epochs=15, validation_split=0.2)"
   ]
  },
  {
   "cell_type": "code",
   "execution_count": 14,
   "id": "32e8f30d",
   "metadata": {},
   "outputs": [
    {
     "data": {
      "image/png": "[encoded data removed]",
      "text/plain": [
       "<Figure size 432x288 with 1 Axes>"
      ]
     },
     "metadata": {
      "needs_background": "light"
     },
     "output_type": "display_data"
    }
   ],
   "source": [
    "plt.plot(train.history['sparse_categorical_accuracy'])\n",
    "plt.plot(train.history['val_sparse_categorical_accuracy'])\n",
    "plt.title('Model accuracy')\n",
    "plt.ylabel('Accuracy')\n",
    "plt.xlabel('Epoch')\n",
    "plt.legend(['train', 'validation'], loc='upper left')\n",
    "plt.show()"
   ]
  },
  {
   "cell_type": "markdown",
   "id": "1dd07ee4",
   "metadata": {},
   "source": [
    "### Multiple LSTM layers stacked on top of one another"
   ]
  },
  {
   "cell_type": "code",
   "execution_count": 2,
   "id": "7126fe8f",
   "metadata": {},
   "outputs": [],
   "source": [
    "inputs = tf.keras.layers.Input(shape=(264,768))\n",
    "LSTM1 = tf.keras.layers.LSTM(20, return_sequences=True)(inputs)\n",
    "LSTM2 = tf.keras.layers.LSTM(20)(LSTM1)\n",
    "classification_out = tf.keras.layers.Dense(4, activation='softmax')(LSTM2)\n",
    "\n",
    "model = tf.keras.models.Model(inputs=inputs, outputs=classification_out)\n",
    "model.compile(loss=tf.keras.losses.SparseCategoricalCrossentropy(), \n",
    "              optimizer='adam', \n",
    "              metrics=['sparse_categorical_accuracy'])"
   ]
  },
  {
   "cell_type": "code",
   "execution_count": 3,
   "id": "fa008aeb",
   "metadata": {},
   "outputs": [
    {
     "name": "stdout",
     "output_type": "stream",
     "text": [
      "Model: \"model\"\n",
      "_________________________________________________________________\n",
      " Layer (type)                Output Shape              Param #   \n",
      "=================================================================\n",
      " input_1 (InputLayer)        [(None, 264, 768)]        0         \n",
      "                                                                 \n",
      " lstm (LSTM)                 (None, 264, 20)           63120     \n",
      "                                                                 \n",
      " lstm_1 (LSTM)               (None, 20)                3280      \n",
      "                                                                 \n",
      " dense (Dense)               (None, 4)                 84        \n",
      "                                                                 \n",
      "=================================================================\n",
      "Total params: 66,484\n",
      "Trainable params: 66,484\n",
      "Non-trainable params: 0\n",
      "_________________________________________________________________\n"
     ]
    }
   ],
   "source": [
    "model.summary()"
   ]
  },
  {
   "cell_type": "code",
   "execution_count": 7,
   "id": "4254704a",
   "metadata": {},
   "outputs": [
    {
     "name": "stdout",
     "output_type": "stream",
     "text": [
      "Epoch 1/15\n",
      "600/600 [==============================] - 123s 199ms/step - loss: 1.3724 - sparse_categorical_accuracy: 0.2973 - val_loss: 1.3656 - val_sparse_categorical_accuracy: 0.3073\n",
      "Epoch 2/15\n",
      "600/600 [==============================] - 106s 176ms/step - loss: 1.3537 - sparse_categorical_accuracy: 0.3232 - val_loss: 1.3542 - val_sparse_categorical_accuracy: 0.3329\n",
      "Epoch 3/15\n",
      "600/600 [==============================] - 112s 186ms/step - loss: 1.3435 - sparse_categorical_accuracy: 0.3301 - val_loss: 1.3584 - val_sparse_categorical_accuracy: 0.3333\n",
      "Epoch 4/15\n",
      "600/600 [==============================] - 104s 174ms/step - loss: 1.3263 - sparse_categorical_accuracy: 0.3488 - val_loss: 1.3316 - val_sparse_categorical_accuracy: 0.3585\n",
      "Epoch 5/15\n",
      "600/600 [==============================] - 107s 179ms/step - loss: 1.3142 - sparse_categorical_accuracy: 0.3602 - val_loss: 1.3263 - val_sparse_categorical_accuracy: 0.3510\n",
      "Epoch 6/15\n",
      "600/600 [==============================] - 106s 176ms/step - loss: 1.3051 - sparse_categorical_accuracy: 0.3669 - val_loss: 1.3251 - val_sparse_categorical_accuracy: 0.3510\n",
      "Epoch 7/15\n",
      "600/600 [==============================] - 106s 177ms/step - loss: 1.2984 - sparse_categorical_accuracy: 0.3743 - val_loss: 1.3254 - val_sparse_categorical_accuracy: 0.3529\n",
      "Epoch 8/15\n",
      "600/600 [==============================] - 109s 181ms/step - loss: 1.2885 - sparse_categorical_accuracy: 0.3827 - val_loss: 1.3300 - val_sparse_categorical_accuracy: 0.3573\n",
      "Epoch 9/15\n",
      "600/600 [==============================] - 108s 180ms/step - loss: 1.2814 - sparse_categorical_accuracy: 0.3925 - val_loss: 1.3297 - val_sparse_categorical_accuracy: 0.3454\n",
      "Epoch 10/15\n",
      "600/600 [==============================] - 108s 180ms/step - loss: 1.2712 - sparse_categorical_accuracy: 0.3971 - val_loss: 1.3290 - val_sparse_categorical_accuracy: 0.3521\n",
      "Epoch 11/15\n",
      "600/600 [==============================] - 108s 181ms/step - loss: 1.2621 - sparse_categorical_accuracy: 0.4023 - val_loss: 1.3385 - val_sparse_categorical_accuracy: 0.3546\n",
      "Epoch 12/15\n",
      "600/600 [==============================] - 108s 179ms/step - loss: 1.2508 - sparse_categorical_accuracy: 0.4116 - val_loss: 1.3410 - val_sparse_categorical_accuracy: 0.3483\n",
      "Epoch 13/15\n",
      "600/600 [==============================] - 109s 181ms/step - loss: 1.2402 - sparse_categorical_accuracy: 0.4226 - val_loss: 1.3678 - val_sparse_categorical_accuracy: 0.3338\n",
      "Epoch 14/15\n",
      "600/600 [==============================] - 112s 186ms/step - loss: 1.2314 - sparse_categorical_accuracy: 0.4274 - val_loss: 1.3499 - val_sparse_categorical_accuracy: 0.3531\n",
      "Epoch 15/15\n",
      "600/600 [==============================] - 110s 184ms/step - loss: 1.2180 - sparse_categorical_accuracy: 0.4376 - val_loss: 1.3745 - val_sparse_categorical_accuracy: 0.3446\n"
     ]
    }
   ],
   "source": [
    "train = model.fit(train_X, train_y, epochs=15, validation_split=0.2)"
   ]
  },
  {
   "cell_type": "code",
   "execution_count": 8,
   "id": "9e1fd623",
   "metadata": {},
   "outputs": [
    {
     "data": {
      "image/png": "[encoded data removed]",
      "text/plain": [
       "<Figure size 432x288 with 1 Axes>"
      ]
     },
     "metadata": {
      "needs_background": "light"
     },
     "output_type": "display_data"
    }
   ],
   "source": [
    "plt.plot(train.history['sparse_categorical_accuracy'])\n",
    "plt.plot(train.history['val_sparse_categorical_accuracy'])\n",
    "plt.title('Model accuracy')\n",
    "plt.ylabel('Accuracy')\n",
    "plt.xlabel('Epoch')\n",
    "plt.legend(['train', 'validation'], loc='upper left')\n",
    "plt.show()"
   ]
  },
  {
   "cell_type": "code",
   "execution_count": 9,
   "id": "fe0c2010",
   "metadata": {},
   "outputs": [
    {
     "name": "stdout",
     "output_type": "stream",
     "text": [
      "Highest model accuracy is 35.85% which occurs at 3 epochs.\n"
     ]
    }
   ],
   "source": [
    "print(f\"Highest model accuracy is {round(max(train.history['val_sparse_categorical_accuracy'])*100,2)}% \\\n",
    "which occurs at {train.history['val_sparse_categorical_accuracy'].index(max(train.history['val_sparse_categorical_accuracy']))} \\\n",
    "epochs.\")\n",
    "     "
   ]
  },
  {
   "cell_type": "code",
   "execution_count": null,
   "id": "36cf35ad",
   "metadata": {},
   "outputs": [],
   "source": []
  }
 ],
 "metadata": {
  "kernelspec": {
   "display_name": "Python 3",
   "language": "python",
   "name": "python3"
  },
  "language_info": {
   "codemirror_mode": {
    "name": "ipython",
    "version": 3
   },
   "file_extension": ".py",
   "mimetype": "text/x-python",
   "name": "python",
   "nbconvert_exporter": "python",
   "pygments_lexer": "ipython3",
   "version": "3.8.8"
  }
 },
 "nbformat": 4,
 "nbformat_minor": 5
}
