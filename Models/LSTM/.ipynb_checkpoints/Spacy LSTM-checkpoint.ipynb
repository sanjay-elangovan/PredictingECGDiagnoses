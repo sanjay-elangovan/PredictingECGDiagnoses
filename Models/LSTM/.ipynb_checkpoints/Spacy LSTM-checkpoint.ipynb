{
 "cells": [
  {
   "cell_type": "code",
   "execution_count": 1,
   "id": "c15019b4",
   "metadata": {},
   "outputs": [],
   "source": [
    "from keras.models import Sequential\n",
    "from keras.layers import Dense, SimpleRNN, LSTM, Dropout\n",
    "import pickle\n",
    "import pandas as pd\n",
    "import numpy as np\n",
    "from sklearn.model_selection import train_test_split\n",
    "import tensorflow as tf\n",
    "import matplotlib.pyplot as plt\n"
   ]
  },
  {
   "cell_type": "markdown",
   "id": "420b5f74",
   "metadata": {},
   "source": [
    "## Spacy Embeddings"
   ]
  },
  {
   "cell_type": "code",
   "execution_count": 2,
   "id": "6613a7b6",
   "metadata": {},
   "outputs": [],
   "source": [
    "embeddings = np.load('/home/sanjaycollege15/PredictingDiagnoses/Data/ekg_denoised_spacy_RNN_embeddings_v2.npy')\n",
    "labels = np.load('/home/sanjaycollege15/PredictingDiagnoses/Data/ekg_denoised_spacy_RNN_values_v2.npy')"
   ]
  },
  {
   "cell_type": "markdown",
   "id": "77cd83a7",
   "metadata": {},
   "source": [
    "### Train/Dev/Test/Split"
   ]
  },
  {
   "cell_type": "code",
   "execution_count": 3,
   "id": "713e5c5f",
   "metadata": {},
   "outputs": [],
   "source": [
    "train_X, test_X, train_y, test_y = train_test_split(embeddings, labels, test_size=0.20, random_state=42)\n",
    "del embeddings\n",
    "del labels"
   ]
  },
  {
   "cell_type": "code",
   "execution_count": 4,
   "id": "78c299e6",
   "metadata": {},
   "outputs": [
    {
     "data": {
      "text/plain": [
       "(54544, 202, 300)"
      ]
     },
     "execution_count": 4,
     "metadata": {},
     "output_type": "execute_result"
    }
   ],
   "source": [
    "train_X.shape"
   ]
  },
  {
   "cell_type": "code",
   "execution_count": 5,
   "id": "48455e00",
   "metadata": {},
   "outputs": [
    {
     "data": {
      "text/plain": [
       "(13636, 202, 300)"
      ]
     },
     "execution_count": 5,
     "metadata": {},
     "output_type": "execute_result"
    }
   ],
   "source": [
    "test_X.shape"
   ]
  },
  {
   "cell_type": "markdown",
   "id": "cf07a54a",
   "metadata": {},
   "source": [
    "## LSTM Models"
   ]
  },
  {
   "cell_type": "markdown",
   "id": "a3170c0c",
   "metadata": {},
   "source": [
    "### Stacked LSTMs (Best model from CORe experiments)"
   ]
  },
  {
   "cell_type": "code",
   "execution_count": 6,
   "id": "341444c4",
   "metadata": {},
   "outputs": [],
   "source": [
    "inputs = tf.keras.layers.Input(shape=(202,300))\n",
    "LSTM1 = tf.keras.layers.LSTM(20, return_sequences=True)(inputs)\n",
    "LSTM2 = tf.keras.layers.LSTM(20)(LSTM1)\n",
    "classification_out = tf.keras.layers.Dense(4, activation='softmax')(LSTM2)\n",
    "\n",
    "model = tf.keras.models.Model(inputs=inputs, outputs=classification_out)\n",
    "model.compile(loss=tf.keras.losses.SparseCategoricalCrossentropy(), \n",
    "              optimizer='adam', \n",
    "              metrics=['sparse_categorical_accuracy'])"
   ]
  },
  {
   "cell_type": "code",
   "execution_count": 7,
   "id": "ee225732",
   "metadata": {},
   "outputs": [
    {
     "name": "stdout",
     "output_type": "stream",
     "text": [
      "Model: \"model\"\n",
      "_________________________________________________________________\n",
      " Layer (type)                Output Shape              Param #   \n",
      "=================================================================\n",
      " input_1 (InputLayer)        [(None, 202, 300)]        0         \n",
      "                                                                 \n",
      " lstm (LSTM)                 (None, 202, 20)           25680     \n",
      "                                                                 \n",
      " lstm_1 (LSTM)               (None, 20)                3280      \n",
      "                                                                 \n",
      " dense (Dense)               (None, 4)                 84        \n",
      "                                                                 \n",
      "=================================================================\n",
      "Total params: 29,044\n",
      "Trainable params: 29,044\n",
      "Non-trainable params: 0\n",
      "_________________________________________________________________\n"
     ]
    }
   ],
   "source": [
    "model.summary()"
   ]
  },
  {
   "cell_type": "code",
   "execution_count": 10,
   "id": "b0ea0cdc",
   "metadata": {
    "scrolled": true
   },
   "outputs": [
    {
     "name": "stdout",
     "output_type": "stream",
     "text": [
      "Epoch 1/5\n",
      "1364/1364 [==============================] - 228s 167ms/step - loss: 1.3864 - sparse_categorical_accuracy: 0.2525 - val_loss: 1.3865 - val_sparse_categorical_accuracy: 0.2482\n",
      "Epoch 2/5\n",
      "1364/1364 [==============================] - 222s 163ms/step - loss: 1.3864 - sparse_categorical_accuracy: 0.2527 - val_loss: 1.3865 - val_sparse_categorical_accuracy: 0.2481\n",
      "Epoch 3/5\n",
      "1364/1364 [==============================] - 226s 166ms/step - loss: 1.3864 - sparse_categorical_accuracy: 0.2477 - val_loss: 1.3864 - val_sparse_categorical_accuracy: 0.2510\n",
      "Epoch 4/5\n",
      "1364/1364 [==============================] - 220s 161ms/step - loss: 1.3864 - sparse_categorical_accuracy: 0.2502 - val_loss: 1.3864 - val_sparse_categorical_accuracy: 0.2510\n",
      "Epoch 5/5\n",
      "1364/1364 [==============================] - 223s 163ms/step - loss: 1.3864 - sparse_categorical_accuracy: 0.2509 - val_loss: 1.3863 - val_sparse_categorical_accuracy: 0.2536\n"
     ]
    }
   ],
   "source": [
    "train = model.fit(train_X, train_y, epochs=5, validation_split=0.2)\n"
   ]
  },
  {
   "cell_type": "code",
   "execution_count": 11,
   "id": "f62ef5e1",
   "metadata": {},
   "outputs": [
    {
     "name": "stdout",
     "output_type": "stream",
     "text": [
      "427/427 [==============================] - 16s 36ms/step - loss: 1.3863 - sparse_categorical_accuracy: 0.2512\n"
     ]
    },
    {
     "data": {
      "text/plain": [
       "[1.386324405670166, 0.25117337703704834]"
      ]
     },
     "execution_count": 11,
     "metadata": {},
     "output_type": "execute_result"
    }
   ],
   "source": [
    "model.evaluate(test_X, test_y)"
   ]
  },
  {
   "cell_type": "code",
   "execution_count": 12,
   "id": "60d7d9b6",
   "metadata": {},
   "outputs": [
    {
     "data": {
      "image/png": "[encoded data removed]",
      "text/plain": [
       "<Figure size 432x288 with 1 Axes>"
      ]
     },
     "metadata": {
      "needs_background": "light"
     },
     "output_type": "display_data"
    }
   ],
   "source": [
    "plt.plot(train.history['sparse_categorical_accuracy'])\n",
    "plt.plot(train.history['val_sparse_categorical_accuracy'])\n",
    "plt.title('Model accuracy')\n",
    "plt.ylabel('Accuracy')\n",
    "plt.xlabel('Epoch')\n",
    "plt.legend(['train', 'validation'], loc='upper left')\n",
    "plt.show()"
   ]
  },
  {
   "cell_type": "markdown",
   "id": "56c14430",
   "metadata": {},
   "source": [
    "---"
   ]
  }
 ],
 "metadata": {
  "kernelspec": {
   "display_name": "Python 3",
   "language": "python",
   "name": "python3"
  },
  "language_info": {
   "codemirror_mode": {
    "name": "ipython",
    "version": 3
   },
   "file_extension": ".py",
   "mimetype": "text/x-python",
   "name": "python",
   "nbconvert_exporter": "python",
   "pygments_lexer": "ipython3",
   "version": "3.8.8"
  }
 },
 "nbformat": 4,
 "nbformat_minor": 5
}
