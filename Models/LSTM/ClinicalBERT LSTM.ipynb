{
 "cells": [
  {
   "cell_type": "code",
   "execution_count": 1,
   "id": "c15019b4",
   "metadata": {},
   "outputs": [],
   "source": [
    "from keras.models import Sequential\n",
    "from keras.layers import Dense, SimpleRNN, LSTM, Dropout\n",
    "import pickle\n",
    "import pandas as pd\n",
    "import numpy as np\n",
    "from sklearn.model_selection import train_test_split\n",
    "import tensorflow as tf\n",
    "import matplotlib.pyplot as plt\n"
   ]
  },
  {
   "cell_type": "markdown",
   "id": "420b5f74",
   "metadata": {},
   "source": [
    "## ClinicalBERT Embeddings"
   ]
  },
  {
   "cell_type": "code",
   "execution_count": 2,
   "id": "6613a7b6",
   "metadata": {},
   "outputs": [],
   "source": [
    "embeddings = np.load('/home/sanjaycollege15/PredictingDiagnoses/Data/ekg_denoised_ClinicalBERT_embeddings_30k.npy')\n",
    "labels = np.load('/home/sanjaycollege15/PredictingDiagnoses/Data/ekg_denoised_ClinicalBERT_labels_30k.npy')\n"
   ]
  },
  {
   "cell_type": "markdown",
   "id": "77cd83a7",
   "metadata": {},
   "source": [
    "### Train/Dev/Test/Split"
   ]
  },
  {
   "cell_type": "code",
   "execution_count": 3,
   "id": "713e5c5f",
   "metadata": {},
   "outputs": [],
   "source": [
    "train_X, test_X, train_y, test_y = train_test_split(embeddings, labels, test_size=0.20, random_state=42)\n",
    "del embeddings\n",
    "del labels"
   ]
  },
  {
   "cell_type": "code",
   "execution_count": 4,
   "id": "78c299e6",
   "metadata": {},
   "outputs": [
    {
     "data": {
      "text/plain": [
       "(24000, 264, 768)"
      ]
     },
     "execution_count": 4,
     "metadata": {},
     "output_type": "execute_result"
    }
   ],
   "source": [
    "train_X.shape"
   ]
  },
  {
   "cell_type": "code",
   "execution_count": 5,
   "id": "48455e00",
   "metadata": {},
   "outputs": [
    {
     "data": {
      "text/plain": [
       "(6000, 264, 768)"
      ]
     },
     "execution_count": 5,
     "metadata": {},
     "output_type": "execute_result"
    }
   ],
   "source": [
    "test_X.shape"
   ]
  },
  {
   "cell_type": "markdown",
   "id": "cf07a54a",
   "metadata": {},
   "source": [
    "## LSTM Models"
   ]
  },
  {
   "cell_type": "markdown",
   "id": "a3170c0c",
   "metadata": {},
   "source": [
    "### Stacked LSTMs (Best model from CORe experiments)"
   ]
  },
  {
   "cell_type": "code",
   "execution_count": 6,
   "id": "341444c4",
   "metadata": {},
   "outputs": [],
   "source": [
    "inputs = tf.keras.layers.Input(shape=(264,768))\n",
    "LSTM1 = tf.keras.layers.LSTM(20, return_sequences=True)(inputs)\n",
    "LSTM2 = tf.keras.layers.LSTM(20)(LSTM1)\n",
    "classification_out = tf.keras.layers.Dense(4, activation='softmax')(LSTM2)\n",
    "\n",
    "model = tf.keras.models.Model(inputs=inputs, outputs=classification_out)\n",
    "model.compile(loss=tf.keras.losses.SparseCategoricalCrossentropy(), \n",
    "              optimizer='adam', \n",
    "              metrics=['sparse_categorical_accuracy'])"
   ]
  },
  {
   "cell_type": "code",
   "execution_count": 7,
   "id": "ee225732",
   "metadata": {},
   "outputs": [
    {
     "name": "stdout",
     "output_type": "stream",
     "text": [
      "Model: \"model\"\n",
      "_________________________________________________________________\n",
      " Layer (type)                Output Shape              Param #   \n",
      "=================================================================\n",
      " input_1 (InputLayer)        [(None, 264, 768)]        0         \n",
      "                                                                 \n",
      " lstm (LSTM)                 (None, 264, 20)           63120     \n",
      "                                                                 \n",
      " lstm_1 (LSTM)               (None, 20)                3280      \n",
      "                                                                 \n",
      " dense (Dense)               (None, 4)                 84        \n",
      "                                                                 \n",
      "=================================================================\n",
      "Total params: 66,484\n",
      "Trainable params: 66,484\n",
      "Non-trainable params: 0\n",
      "_________________________________________________________________\n"
     ]
    }
   ],
   "source": [
    "model.summary()"
   ]
  },
  {
   "cell_type": "code",
   "execution_count": 8,
   "id": "b0ea0cdc",
   "metadata": {
    "scrolled": true
   },
   "outputs": [
    {
     "name": "stdout",
     "output_type": "stream",
     "text": [
      "Epoch 1/4\n",
      "600/600 [==============================] - 124s 200ms/step - loss: 1.3658 - sparse_categorical_accuracy: 0.3086 - val_loss: 1.3501 - val_sparse_categorical_accuracy: 0.3354\n",
      "Epoch 2/4\n",
      "600/600 [==============================] - 100s 167ms/step - loss: 1.3322 - sparse_categorical_accuracy: 0.3416 - val_loss: 1.3409 - val_sparse_categorical_accuracy: 0.3458\n",
      "Epoch 3/4\n",
      "600/600 [==============================] - 102s 171ms/step - loss: 1.3136 - sparse_categorical_accuracy: 0.3587 - val_loss: 1.3235 - val_sparse_categorical_accuracy: 0.3469\n",
      "Epoch 4/4\n",
      "600/600 [==============================] - 101s 169ms/step - loss: 1.3039 - sparse_categorical_accuracy: 0.3701 - val_loss: 1.3249 - val_sparse_categorical_accuracy: 0.3569\n"
     ]
    }
   ],
   "source": [
    "train = model.fit(train_X, train_y, epochs=7, validation_split=0.2)\n"
   ]
  },
  {
   "cell_type": "code",
   "execution_count": 9,
   "id": "f62ef5e1",
   "metadata": {},
   "outputs": [
    {
     "name": "stdout",
     "output_type": "stream",
     "text": [
      "188/188 [==============================] - 11s 54ms/step - loss: 1.3169 - sparse_categorical_accuracy: 0.3480\n"
     ]
    },
    {
     "data": {
      "text/plain": [
       "[1.316868782043457, 0.3479999899864197]"
      ]
     },
     "execution_count": 9,
     "metadata": {},
     "output_type": "execute_result"
    }
   ],
   "source": [
    "model.evaluate(test_X, test_y)"
   ]
  },
  {
   "cell_type": "code",
   "execution_count": 10,
   "id": "60d7d9b6",
   "metadata": {},
   "outputs": [
    {
     "data": {
      "image/png": "[encoded data removed]",
      "text/plain": [
       "<Figure size 432x288 with 1 Axes>"
      ]
     },
     "metadata": {
      "needs_background": "light"
     },
     "output_type": "display_data"
    }
   ],
   "source": [
    "plt.plot(train.history['sparse_categorical_accuracy'])\n",
    "plt.plot(train.history['val_sparse_categorical_accuracy'])\n",
    "plt.title('Model accuracy')\n",
    "plt.ylabel('Accuracy')\n",
    "plt.xlabel('Epoch')\n",
    "plt.legend(['train', 'validation'], loc='upper left')\n",
    "plt.show()"
   ]
  },
  {
   "cell_type": "markdown",
   "id": "4bb60937",
   "metadata": {},
   "source": [
    "---"
   ]
  },
  {
   "cell_type": "code",
   "execution_count": 6,
   "id": "25509247",
   "metadata": {},
   "outputs": [],
   "source": [
    "inputs = tf.keras.layers.Input(shape=(264,768))\n",
    "LSTM1 = tf.keras.layers.LSTM(20, return_sequences=True)(inputs)\n",
    "LSTM2 = tf.keras.layers.LSTM(20)(LSTM1)\n",
    "classification_out = tf.keras.layers.Dense(4, activation='softmax')(LSTM2)\n",
    "\n",
    "model = tf.keras.models.Model(inputs=inputs, outputs=classification_out)\n",
    "model.compile(loss=tf.keras.losses.SparseCategoricalCrossentropy(), \n",
    "              optimizer='adam', \n",
    "              metrics=['sparse_categorical_accuracy'])"
   ]
  },
  {
   "cell_type": "code",
   "execution_count": 7,
   "id": "8b28b57b",
   "metadata": {},
   "outputs": [
    {
     "name": "stdout",
     "output_type": "stream",
     "text": [
      "Epoch 1/10\n",
      "600/600 [==============================] - 114s 184ms/step - loss: 1.3679 - sparse_categorical_accuracy: 0.3024 - val_loss: 1.3557 - val_sparse_categorical_accuracy: 0.3300\n",
      "Epoch 2/10\n",
      "600/600 [==============================] - 107s 178ms/step - loss: 1.3407 - sparse_categorical_accuracy: 0.3345 - val_loss: 1.3340 - val_sparse_categorical_accuracy: 0.3535\n",
      "Epoch 3/10\n",
      "600/600 [==============================] - 102s 169ms/step - loss: 1.3189 - sparse_categorical_accuracy: 0.3565 - val_loss: 1.3287 - val_sparse_categorical_accuracy: 0.3390\n",
      "Epoch 4/10\n",
      "600/600 [==============================] - 101s 169ms/step - loss: 1.3089 - sparse_categorical_accuracy: 0.3597 - val_loss: 1.3203 - val_sparse_categorical_accuracy: 0.3577\n",
      "Epoch 5/10\n",
      "600/600 [==============================] - 101s 169ms/step - loss: 1.2989 - sparse_categorical_accuracy: 0.3734 - val_loss: 1.3189 - val_sparse_categorical_accuracy: 0.3702\n",
      "Epoch 6/10\n",
      "600/600 [==============================] - 105s 174ms/step - loss: 1.2873 - sparse_categorical_accuracy: 0.3869 - val_loss: 1.3189 - val_sparse_categorical_accuracy: 0.3646\n",
      "Epoch 7/10\n",
      "600/600 [==============================] - 105s 176ms/step - loss: 1.2787 - sparse_categorical_accuracy: 0.3943 - val_loss: 1.3219 - val_sparse_categorical_accuracy: 0.3673\n",
      "Epoch 8/10\n",
      "600/600 [==============================] - 102s 170ms/step - loss: 1.2659 - sparse_categorical_accuracy: 0.4030 - val_loss: 1.3263 - val_sparse_categorical_accuracy: 0.3725\n",
      "Epoch 9/10\n",
      "600/600 [==============================] - 105s 176ms/step - loss: 1.2499 - sparse_categorical_accuracy: 0.4161 - val_loss: 1.3356 - val_sparse_categorical_accuracy: 0.3640\n",
      "Epoch 10/10\n",
      "600/600 [==============================] - 101s 168ms/step - loss: 1.2324 - sparse_categorical_accuracy: 0.4296 - val_loss: 1.3383 - val_sparse_categorical_accuracy: 0.3648\n"
     ]
    }
   ],
   "source": [
    "train = model.fit(train_X, train_y, epochs=10, validation_split=0.2)\n"
   ]
  },
  {
   "cell_type": "code",
   "execution_count": 8,
   "id": "7666e451",
   "metadata": {},
   "outputs": [
    {
     "name": "stdout",
     "output_type": "stream",
     "text": [
      "188/188 [==============================] - 11s 55ms/step - loss: 1.3431 - sparse_categorical_accuracy: 0.3522\n"
     ]
    },
    {
     "data": {
      "text/plain": [
       "[1.3431475162506104, 0.35216665267944336]"
      ]
     },
     "execution_count": 8,
     "metadata": {},
     "output_type": "execute_result"
    }
   ],
   "source": [
    "model.evaluate(test_X, test_y)"
   ]
  },
  {
   "cell_type": "code",
   "execution_count": 9,
   "id": "f1541bca",
   "metadata": {},
   "outputs": [
    {
     "data": {
      "image/png": "[encoded data removed]",
      "text/plain": [
       "<Figure size 432x288 with 1 Axes>"
      ]
     },
     "metadata": {
      "needs_background": "light"
     },
     "output_type": "display_data"
    }
   ],
   "source": [
    "plt.plot(train.history['sparse_categorical_accuracy'])\n",
    "plt.plot(train.history['val_sparse_categorical_accuracy'])\n",
    "plt.title('Model accuracy')\n",
    "plt.ylabel('Accuracy')\n",
    "plt.xlabel('Epoch')\n",
    "plt.legend(['train', 'validation'], loc='upper left')\n",
    "plt.show()"
   ]
  }
 ],
 "metadata": {
  "kernelspec": {
   "display_name": "Python 3",
   "language": "python",
   "name": "python3"
  },
  "language_info": {
   "codemirror_mode": {
    "name": "ipython",
    "version": 3
   },
   "file_extension": ".py",
   "mimetype": "text/x-python",
   "name": "python",
   "nbconvert_exporter": "python",
   "pygments_lexer": "ipython3",
   "version": "3.8.8"
  }
 },
 "nbformat": 4,
 "nbformat_minor": 5
}
