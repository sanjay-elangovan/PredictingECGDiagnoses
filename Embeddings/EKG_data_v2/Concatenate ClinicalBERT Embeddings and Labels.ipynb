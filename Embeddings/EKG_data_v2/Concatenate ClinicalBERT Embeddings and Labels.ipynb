{
 "cells": [
  {
   "cell_type": "code",
   "execution_count": 1,
   "id": "cfffc114",
   "metadata": {},
   "outputs": [],
   "source": [
    "import numpy as np"
   ]
  },
  {
   "cell_type": "markdown",
   "id": "449cf7c8",
   "metadata": {},
   "source": [
    "### Load Embeddings"
   ]
  },
  {
   "cell_type": "code",
   "execution_count": 2,
   "id": "82209b2d",
   "metadata": {},
   "outputs": [],
   "source": [
    "embeddings1 = np.load('/home/sanjaycollege15/PredictingDiagnoses/Data/ekg_denoised_ClinicalBERT_embeddings_22k.npy')\n",
    "labels1 = np.load('/home/sanjaycollege15/PredictingDiagnoses/Data/ekg_denoised_ClinicalBERT_labels_22k.npy')\n",
    "\n",
    "embeddings2 = np.load('/home/sanjaycollege15/PredictingDiagnoses/Data/ekg_denoised_ClinicalBERT_embeddings_train_pt4.npy')\n",
    "labels2 = np.load('/home/sanjaycollege15/PredictingDiagnoses/Data/ekg_denoised_ClinicalBERT_labels_train_pt4.npy')\n",
    "\n"
   ]
  },
  {
   "cell_type": "markdown",
   "id": "2308e037",
   "metadata": {},
   "source": [
    "### Concatenate"
   ]
  },
  {
   "cell_type": "code",
   "execution_count": 3,
   "id": "15b472fe",
   "metadata": {},
   "outputs": [],
   "source": [
    "combined_embeddings = np.concatenate((embeddings1, embeddings2), axis=0)\n",
    "combined_labels = np.concatenate((labels1, labels2), axis=0)"
   ]
  },
  {
   "cell_type": "code",
   "execution_count": 4,
   "id": "3df41fe9",
   "metadata": {},
   "outputs": [],
   "source": [
    "del embeddings1\n",
    "del embeddings2\n",
    "del labels1\n",
    "del labels2"
   ]
  },
  {
   "cell_type": "code",
   "execution_count": 5,
   "id": "9134829a",
   "metadata": {},
   "outputs": [],
   "source": [
    "np.save('/home/sanjaycollege15/PredictingDiagnoses/Data/ekg_denoised_ClinicalBERT_embeddings_30k',\n",
    "        combined_embeddings,\n",
    "        allow_pickle=True)\n",
    "    \n",
    "np.save('/home/sanjaycollege15/PredictingDiagnoses/Data/ekg_denoised_ClinicalBERT_labels_30k',\n",
    "        combined_labels,\n",
    "        allow_pickle=True)\n"
   ]
  },
  {
   "cell_type": "code",
   "execution_count": null,
   "id": "49c158ed",
   "metadata": {},
   "outputs": [],
   "source": []
  }
 ],
 "metadata": {
  "kernelspec": {
   "display_name": "Python 3",
   "language": "python",
   "name": "python3"
  },
  "language_info": {
   "codemirror_mode": {
    "name": "ipython",
    "version": 3
   },
   "file_extension": ".py",
   "mimetype": "text/x-python",
   "name": "python",
   "nbconvert_exporter": "python",
   "pygments_lexer": "ipython3",
   "version": "3.8.8"
  }
 },
 "nbformat": 4,
 "nbformat_minor": 5
}
