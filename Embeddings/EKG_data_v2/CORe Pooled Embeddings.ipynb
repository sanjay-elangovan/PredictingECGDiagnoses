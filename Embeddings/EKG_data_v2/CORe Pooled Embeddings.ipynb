{
 "cells": [
  {
   "cell_type": "code",
   "execution_count": 1,
   "id": "8083b5ee",
   "metadata": {},
   "outputs": [],
   "source": [
    "from transformers import AutoTokenizer, AutoModel, pipeline\n",
    "import tensorflow_hub as hub\n",
    "import torch\n",
    "\n",
    "import pandas as pd\n",
    "import numpy as np \n",
    "import pickle"
   ]
  },
  {
   "cell_type": "markdown",
   "id": "55e52b90",
   "metadata": {},
   "source": [
    "## Loading Data"
   ]
  },
  {
   "cell_type": "code",
   "execution_count": 2,
   "id": "d3e136a3",
   "metadata": {},
   "outputs": [],
   "source": [
    "ekg_denoised = pd.read_pickle('/home/sanjaycollege15/PredictingDiagnoses/Data/ekg_denoised_v2.pkl')\n",
    "ekg_denoised = ekg_denoised.sample(frac=1, random_state=10)\n"
   ]
  },
  {
   "cell_type": "markdown",
   "id": "abad0177",
   "metadata": {},
   "source": [
    "## Initializing Model"
   ]
  },
  {
   "cell_type": "code",
   "execution_count": 3,
   "id": "44f56681",
   "metadata": {},
   "outputs": [],
   "source": [
    "tokenizer = AutoTokenizer.from_pretrained(\"bvanaken/CORe-clinical-outcome-biobert-v1\", model_max_length=264)\n",
    "model = AutoModel.from_pretrained(\"bvanaken/CORe-clinical-outcome-biobert-v1\")"
   ]
  },
  {
   "cell_type": "markdown",
   "id": "eebbeecc",
   "metadata": {},
   "source": [
    "## Looping through data to generate embeddings"
   ]
  },
  {
   "cell_type": "code",
   "execution_count": 4,
   "id": "d534b5b1",
   "metadata": {},
   "outputs": [],
   "source": [
    "for i in range(0,len(ekg_denoised)//250):\n",
    "    min_value = 250*i\n",
    "    max_value = min_value + 250\n",
    "    \n",
    "    input_tokens = tokenizer(ekg_denoised.TEXT[min_value:max_value].tolist(),\n",
    "                             padding = 'max_length',\n",
    "                             truncation=True,\n",
    "                             return_tensors='pt'\n",
    "                            )\n",
    "    \n",
    "    pooled_model_outputs = model(**input_tokens)[1]\n",
    "    inputs = pooled_model_outputs.detach().numpy()\n",
    "    \n",
    "    np.save('/home/sanjaycollege15/PredictingDiagnoses/Data/CORe_Pooled/pt' + str(i), \n",
    "            inputs,\n",
    "            allow_pickle=True)\n",
    "    \n",
    "    del input_tokens\n",
    "    del pooled_model_outputs\n",
    "    del inputs\n",
    "    "
   ]
  },
  {
   "cell_type": "markdown",
   "id": "0778e44a",
   "metadata": {},
   "source": [
    "## Combine Embeddings, Create Labels"
   ]
  },
  {
   "cell_type": "code",
   "execution_count": 5,
   "id": "b22341f9",
   "metadata": {},
   "outputs": [],
   "source": [
    "embeddings1 = np.load('/home/sanjaycollege15/PredictingDiagnoses/Data/CORe_Pooled/pt0.npy')\n",
    "embeddings2 = np.load('/home/sanjaycollege15/PredictingDiagnoses/Data/CORe_Pooled/pt1.npy')\n",
    "\n",
    "combined_embeddings = np.concatenate((embeddings1, embeddings2), axis=0)\n",
    "\n",
    "for i in range (3,272):\n",
    "    temp_embeddings = np.load('/home/sanjaycollege15/PredictingDiagnoses/Data/CORe_Pooled/pt' + str(i) + '.npy')\n",
    "    combined_embeddings = np.concatenate((combined_embeddings, temp_embeddings), axis = 0)\n"
   ]
  },
  {
   "cell_type": "code",
   "execution_count": 6,
   "id": "03dca9fa",
   "metadata": {},
   "outputs": [],
   "source": [
    "labels = np.array(ekg_denoised['ICD9_CODE'][:250*(len(ekg_denoised)//250-1)])\n"
   ]
  },
  {
   "cell_type": "markdown",
   "id": "7eb4c9cf",
   "metadata": {},
   "source": [
    "## Save off embeddings and labels"
   ]
  },
  {
   "cell_type": "code",
   "execution_count": 7,
   "id": "f5355c0f",
   "metadata": {},
   "outputs": [],
   "source": [
    "np.save('/home/sanjaycollege15/PredictingDiagnoses/Data/ekg_denoised_CORe_pooled_embeddings_68k',\n",
    "        combined_embeddings,\n",
    "        allow_pickle=True)\n",
    "\n",
    "np.save('/home/sanjaycollege15/PredictingDiagnoses/Data/ekg_denoised_CORe_pooled_labels_68k',\n",
    "        labels,\n",
    "        allow_pickle=True)\n"
   ]
  }
 ],
 "metadata": {
  "kernelspec": {
   "display_name": "Python 3",
   "language": "python",
   "name": "python3"
  },
  "language_info": {
   "codemirror_mode": {
    "name": "ipython",
    "version": 3
   },
   "file_extension": ".py",
   "mimetype": "text/x-python",
   "name": "python",
   "nbconvert_exporter": "python",
   "pygments_lexer": "ipython3",
   "version": "3.8.8"
  }
 },
 "nbformat": 4,
 "nbformat_minor": 5
}
