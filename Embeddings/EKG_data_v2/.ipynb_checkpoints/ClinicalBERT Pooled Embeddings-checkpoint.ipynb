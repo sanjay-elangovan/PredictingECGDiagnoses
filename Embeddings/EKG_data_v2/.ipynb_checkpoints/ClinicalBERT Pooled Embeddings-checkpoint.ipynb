{
 "cells": [
  {
   "cell_type": "code",
   "execution_count": 1,
   "id": "8083b5ee",
   "metadata": {},
   "outputs": [],
   "source": [
    "from transformers import AutoTokenizer, AutoModel, pipeline\n",
    "import tensorflow_hub as hub\n",
    "import torch\n",
    "\n",
    "import pandas as pd\n",
    "import numpy as np \n",
    "import pickle"
   ]
  },
  {
   "cell_type": "markdown",
   "id": "55e52b90",
   "metadata": {},
   "source": [
    "## Loading Data"
   ]
  },
  {
   "cell_type": "code",
   "execution_count": 2,
   "id": "d3e136a3",
   "metadata": {},
   "outputs": [],
   "source": [
    "ekg_denoised = pd.read_pickle('/home/sanjaycollege15/PredictingDiagnoses/Data/ekg_denoised_v2.pkl')\n",
    "ekg_denoised = ekg_denoised.sample(frac=1, random_state=10)\n"
   ]
  },
  {
   "cell_type": "markdown",
   "id": "abad0177",
   "metadata": {},
   "source": [
    "## Initializing Model"
   ]
  },
  {
   "cell_type": "code",
   "execution_count": 3,
   "id": "44f56681",
   "metadata": {
    "scrolled": false
   },
   "outputs": [
    {
     "name": "stderr",
     "output_type": "stream",
     "text": [
      "Some weights of the model checkpoint at emilyalsentzer/Bio_ClinicalBERT were not used when initializing BertModel: ['cls.predictions.bias', 'cls.predictions.transform.LayerNorm.bias', 'cls.seq_relationship.bias', 'cls.predictions.decoder.weight', 'cls.predictions.transform.dense.weight', 'cls.predictions.transform.dense.bias', 'cls.predictions.transform.LayerNorm.weight', 'cls.seq_relationship.weight']\n",
      "- This IS expected if you are initializing BertModel from the checkpoint of a model trained on another task or with another architecture (e.g. initializing a BertForSequenceClassification model from a BertForPreTraining model).\n",
      "- This IS NOT expected if you are initializing BertModel from the checkpoint of a model that you expect to be exactly identical (initializing a BertForSequenceClassification model from a BertForSequenceClassification model).\n"
     ]
    }
   ],
   "source": [
    "tokenizer = AutoTokenizer.from_pretrained(\"emilyalsentzer/Bio_ClinicalBERT\", model_max_length=264)\n",
    "model = AutoModel.from_pretrained(\"emilyalsentzer/Bio_ClinicalBERT\")\n"
   ]
  },
  {
   "cell_type": "markdown",
   "id": "eebbeecc",
   "metadata": {},
   "source": [
    "## Looping through data to generate embeddings"
   ]
  },
  {
   "cell_type": "code",
   "execution_count": 4,
   "id": "d534b5b1",
   "metadata": {},
   "outputs": [],
   "source": [
    "for i in range(0,len(ekg_denoised)//250):\n",
    "    min_value = 250*i\n",
    "    max_value = min_value + 250\n",
    "    \n",
    "    input_tokens = tokenizer(ekg_denoised.TEXT[min_value:max_value].tolist(),\n",
    "                             padding = 'max_length',\n",
    "                             truncation=True,\n",
    "                             return_tensors='pt'\n",
    "                            )\n",
    "    \n",
    "    pooled_model_outputs = model(**input_tokens)[1]\n",
    "    inputs = pooled_model_outputs.detach().numpy()\n",
    "    \n",
    "    np.save('/home/sanjaycollege15/PredictingDiagnoses/Data/ClinicalBERT_Pooled/pt' + str(i), \n",
    "            inputs,\n",
    "            allow_pickle=True)\n",
    "    \n",
    "    del input_tokens\n",
    "    del pooled_model_outputs\n",
    "    del inputs\n",
    "    "
   ]
  },
  {
   "cell_type": "markdown",
   "id": "0778e44a",
   "metadata": {},
   "source": [
    "## Combine Embeddings, Create Labels"
   ]
  },
  {
   "cell_type": "code",
   "execution_count": null,
   "id": "b22341f9",
   "metadata": {},
   "outputs": [],
   "source": [
    "embeddings1 = np.load('/home/sanjaycollege15/PredictingDiagnoses/Data/ClinicalBERT_Pooled/pt0.npy')\n",
    "embeddings2 = np.load('/home/sanjaycollege15/PredictingDiagnoses/Data/ClinicalBERT_Pooled/pt1.npy')\n",
    "\n",
    "combined_embeddings = np.concatenate((embeddings1, embeddings2), axis=0)\n",
    "\n",
    "for i in range (3,272):\n",
    "    temp_embeddings = np.load('/home/sanjaycollege15/PredictingDiagnoses/Data/ClinicalBERT_Pooled/pt' + str(i) + '.npy')\n",
    "    combined_embeddings = np.concatenate((combined_embeddings, temp_embeddings), axis = 0)\n"
   ]
  },
  {
   "cell_type": "code",
   "execution_count": 9,
   "id": "03dca9fa",
   "metadata": {},
   "outputs": [],
   "source": [
    "labels = np.array(ekg_denoised['ICD9_CODE'][:250*(len(ekg_denoised)//250-1)])\n"
   ]
  },
  {
   "cell_type": "markdown",
   "id": "7eb4c9cf",
   "metadata": {},
   "source": [
    "## Save off embeddings and labels"
   ]
  },
  {
   "cell_type": "code",
   "execution_count": 13,
   "id": "f5355c0f",
   "metadata": {},
   "outputs": [],
   "source": [
    "np.save('/home/sanjaycollege15/PredictingDiagnoses/Data/ekg_denoised_ClinicalBERT_pooled_embeddings_68k',\n",
    "        combined_embeddings,\n",
    "        allow_pickle=True)\n",
    "\n",
    "np.save('/home/sanjaycollege15/PredictingDiagnoses/Data/ekg_denoised_ClinicalBERT_pooled_labels_68k',\n",
    "        labels,\n",
    "        allow_pickle=True)\n"
   ]
  },
  {
   "cell_type": "markdown",
   "id": "bc68b24e",
   "metadata": {},
   "source": [
    "---"
   ]
  },
  {
   "cell_type": "markdown",
   "id": "da7aa031",
   "metadata": {},
   "source": [
    "## PyTorch Implementation"
   ]
  },
  {
   "cell_type": "code",
   "execution_count": 13,
   "id": "3f790921",
   "metadata": {},
   "outputs": [],
   "source": [
    "import torch\n",
    "import torch.nn as nn\n",
    "import torch.nn.functional as F\n",
    "\n",
    "from torch.optim import Adam\n",
    "from tqdm import tqdm"
   ]
  },
  {
   "cell_type": "code",
   "execution_count": 14,
   "id": "e3357080",
   "metadata": {},
   "outputs": [],
   "source": [
    "input_tokens = tokenizer(ekg_denoised.TEXT[0:50].tolist(),\n",
    "                             padding = 'max_length',\n",
    "                             truncation=True,\n",
    "                             return_tensors='pt'\n",
    "                            )\n",
    "pooled_model_outputs = model(**input_tokens)[1]"
   ]
  },
  {
   "cell_type": "code",
   "execution_count": 15,
   "id": "cf723fdf",
   "metadata": {},
   "outputs": [],
   "source": [
    "labels = torch.tensor(ekg_denoised.ICD9_CODE[0:50].values)"
   ]
  },
  {
   "cell_type": "code",
   "execution_count": 27,
   "id": "ac48d763",
   "metadata": {},
   "outputs": [],
   "source": [
    "class Net(nn.Module):\n",
    "    def __init__(self):\n",
    "        super(Net, self).__init__()\n",
    "        self.fc1 = nn.Linear(768, 4)\n",
    "        self.dropout1 = nn.Dropout(0.25)\n",
    "        self.relu = nn.ReLU()\n",
    "        \n",
    "    def forward(self, x):\n",
    "        x = self.dropout1(x)\n",
    "        x = self.fc1(x)\n",
    "        x = self.relu(x)\n",
    "        \n",
    "        return x"
   ]
  },
  {
   "cell_type": "code",
   "execution_count": 33,
   "id": "1cb6833d",
   "metadata": {
    "scrolled": true
   },
   "outputs": [
    {
     "name": "stdout",
     "output_type": "stream",
     "text": [
      "tensor([0, 0, 0, 0, 0, 0, 0, 3, 0, 0, 3, 0, 3, 0, 0, 0, 3, 3, 0, 0, 0, 0, 0, 0,\n",
      "        3, 0, 0, 0, 0, 3, 0, 0, 0, 0, 0, 0, 0, 0, 3, 3, 3, 3, 0, 0, 0, 0, 0, 0,\n",
      "        0, 0])\n"
     ]
    }
   ],
   "source": [
    "my_nn = Net()\n",
    "result = my_nn(pooled_model_outputs)\n",
    "print(result.argmax(dim=1))"
   ]
  },
  {
   "cell_type": "code",
   "execution_count": null,
   "id": "98017d6c",
   "metadata": {},
   "outputs": [],
   "source": [
    "class Dataset(torch.utils.data.Dataset):\n",
    "    def __init__(self, df):\n",
    "        self.labels = labels\n",
    "        self.texts = "
   ]
  },
  {
   "cell_type": "code",
   "execution_count": null,
   "id": "f6f156de",
   "metadata": {},
   "outputs": [],
   "source": [
    "def train(model, train_data, learning_rate, epochs):\n",
    "    train = "
   ]
  },
  {
   "cell_type": "markdown",
   "id": "8d56094a",
   "metadata": {},
   "source": [
    "---"
   ]
  },
  {
   "cell_type": "code",
   "execution_count": 4,
   "id": "8857bf80",
   "metadata": {},
   "outputs": [],
   "source": [
    "ekg_denoised_limited = ekg_denoised[ekg_denoised.ICD9_CODE != 3]"
   ]
  },
  {
   "cell_type": "code",
   "execution_count": 5,
   "id": "7e1a3880",
   "metadata": {},
   "outputs": [],
   "source": [
    "input_tokens_limited = tokenizer(ekg_denoised_limited.TEXT[0:50].tolist(),\n",
    "                                 padding = 'max_length',\n",
    "                                 truncation=True,\n",
    "                                 return_tensors='pt'\n",
    "                                )\n",
    "pooled_model_outputs_limited = model(**input_tokens_limited)[1]"
   ]
  },
  {
   "cell_type": "code",
   "execution_count": 6,
   "id": "d562bda4",
   "metadata": {},
   "outputs": [],
   "source": [
    "labels_limited = torch.tensor(ekg_denoised_limited.ICD9_CODE[0:50].values)"
   ]
  },
  {
   "cell_type": "code",
   "execution_count": 11,
   "id": "65690774",
   "metadata": {},
   "outputs": [],
   "source": [
    "class LimitedNet(nn.Module):\n",
    "    def __init__(self):\n",
    "        super(LimitedNet, self).__init__()\n",
    "        self.fc1 = nn.Linear(768, 3)\n",
    "        self.relu = nn.ReLU()\n",
    "        \n",
    "    def forward(self, x):\n",
    "        x = self.fc1(x)\n",
    "        x = self.relu(x)\n",
    "        \n",
    "        return x"
   ]
  },
  {
   "cell_type": "code",
   "execution_count": 34,
   "id": "59477250",
   "metadata": {
    "scrolled": true
   },
   "outputs": [
    {
     "name": "stdout",
     "output_type": "stream",
     "text": [
      "tensor([2, 2, 2, 2, 2, 2, 2, 1, 2, 2, 2, 2, 2, 2, 2, 2, 2, 2, 2, 2, 2, 2, 2, 1,\n",
      "        1, 2, 2, 2, 2, 2, 2, 2, 2, 2, 2, 2, 2, 2, 2, 2, 2, 2, 2, 2, 2, 2, 2, 2,\n",
      "        2, 2])\n"
     ]
    }
   ],
   "source": [
    "my_limited_nn = LimitedNet()\n",
    "result_limited = my_limited_nn(pooled_model_outputs_limited)\n",
    "print(result_limited.argmax(dim=1))"
   ]
  },
  {
   "cell_type": "code",
   "execution_count": 10,
   "id": "bc78b483",
   "metadata": {},
   "outputs": [
    {
     "ename": "TypeError",
     "evalue": "train() takes from 1 to 2 positional arguments but 3 were given",
     "output_type": "error",
     "traceback": [
      "\u001b[0;31m---------------------------------------------------------------------------\u001b[0m",
      "\u001b[0;31mTypeError\u001b[0m                                 Traceback (most recent call last)",
      "\u001b[0;32m<ipython-input-10-f08c20b31c79>\u001b[0m in \u001b[0;36m<module>\u001b[0;34m\u001b[0m\n\u001b[0;32m----> 1\u001b[0;31m \u001b[0mtraining\u001b[0m \u001b[0;34m=\u001b[0m \u001b[0mmy_nn\u001b[0m\u001b[0;34m.\u001b[0m\u001b[0mtrain\u001b[0m\u001b[0;34m(\u001b[0m\u001b[0mpooled_model_outputs\u001b[0m\u001b[0;34m,\u001b[0m \u001b[0mlabels\u001b[0m\u001b[0;34m)\u001b[0m\u001b[0;34m\u001b[0m\u001b[0;34m\u001b[0m\u001b[0m\n\u001b[0m",
      "\u001b[0;31mTypeError\u001b[0m: train() takes from 1 to 2 positional arguments but 3 were given"
     ]
    }
   ],
   "source": [
    "training = my_nn.train(pooled_model_outputs_limited, labels_limited)"
   ]
  },
  {
   "cell_type": "code",
   "execution_count": null,
   "id": "a3cb372a",
   "metadata": {},
   "outputs": [],
   "source": []
  }
 ],
 "metadata": {
  "kernelspec": {
   "display_name": "Python 3",
   "language": "python",
   "name": "python3"
  },
  "language_info": {
   "codemirror_mode": {
    "name": "ipython",
    "version": 3
   },
   "file_extension": ".py",
   "mimetype": "text/x-python",
   "name": "python",
   "nbconvert_exporter": "python",
   "pygments_lexer": "ipython3",
   "version": "3.8.8"
  }
 },
 "nbformat": 4,
 "nbformat_minor": 5
}
