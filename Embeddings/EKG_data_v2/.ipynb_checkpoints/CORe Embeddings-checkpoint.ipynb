{
 "cells": [
  {
   "cell_type": "code",
   "execution_count": 1,
   "id": "c4b575e5",
   "metadata": {},
   "outputs": [],
   "source": [
    "from transformers import AutoTokenizer, AutoModel, pipeline\n",
    "import tensorflow_hub as hub\n",
    "\n",
    "import pandas as pd\n",
    "import numpy as np \n",
    "import pickle"
   ]
  },
  {
   "cell_type": "markdown",
   "id": "529a3d8b",
   "metadata": {},
   "source": [
    "## Read Data"
   ]
  },
  {
   "cell_type": "code",
   "execution_count": 2,
   "id": "1f370eb0",
   "metadata": {},
   "outputs": [],
   "source": [
    "ekg_denoised = pd.read_pickle('/home/sanjaycollege15/PredictingDiagnoses/Data/ekg_denoised_v2.pkl')\n",
    "ekg_denoised = ekg_denoised.sample(frac=1)"
   ]
  },
  {
   "cell_type": "code",
   "execution_count": 3,
   "id": "1110bdb4",
   "metadata": {},
   "outputs": [
    {
     "data": {
      "text/html": [
       "<div>\n",
       "<style scoped>\n",
       "    .dataframe tbody tr th:only-of-type {\n",
       "        vertical-align: middle;\n",
       "    }\n",
       "\n",
       "    .dataframe tbody tr th {\n",
       "        vertical-align: top;\n",
       "    }\n",
       "\n",
       "    .dataframe thead th {\n",
       "        text-align: right;\n",
       "    }\n",
       "</style>\n",
       "<table border=\"1\" class=\"dataframe\">\n",
       "  <thead>\n",
       "    <tr style=\"text-align: right;\">\n",
       "      <th></th>\n",
       "      <th>ICD9_CODE</th>\n",
       "      <th>TEXT</th>\n",
       "    </tr>\n",
       "  </thead>\n",
       "  <tbody>\n",
       "    <tr>\n",
       "      <th>4714</th>\n",
       "      <td>3</td>\n",
       "      <td>sinus tachycardia. probable left anterior fasc...</td>\n",
       "    </tr>\n",
       "    <tr>\n",
       "      <th>49655</th>\n",
       "      <td>1</td>\n",
       "      <td>sinus rhythm - borderline first degree a-v blo...</td>\n",
       "    </tr>\n",
       "    <tr>\n",
       "      <th>44662</th>\n",
       "      <td>1</td>\n",
       "      <td>sinus bradycardia. a-v conduction delay. frequ...</td>\n",
       "    </tr>\n",
       "    <tr>\n",
       "      <th>51213</th>\n",
       "      <td>2</td>\n",
       "      <td>sinus rhythm borderline first degree a-v delay...</td>\n",
       "    </tr>\n",
       "    <tr>\n",
       "      <th>58068</th>\n",
       "      <td>2</td>\n",
       "      <td>sinus bradycardia left atrial abnormality infe...</td>\n",
       "    </tr>\n",
       "  </tbody>\n",
       "</table>\n",
       "</div>"
      ],
      "text/plain": [
       "       ICD9_CODE                                               TEXT\n",
       "4714           3  sinus tachycardia. probable left anterior fasc...\n",
       "49655          1  sinus rhythm - borderline first degree a-v blo...\n",
       "44662          1  sinus bradycardia. a-v conduction delay. frequ...\n",
       "51213          2  sinus rhythm borderline first degree a-v delay...\n",
       "58068          2  sinus bradycardia left atrial abnormality infe..."
      ]
     },
     "execution_count": 3,
     "metadata": {},
     "output_type": "execute_result"
    }
   ],
   "source": [
    "ekg_denoised.head()"
   ]
  },
  {
   "cell_type": "markdown",
   "id": "58a4796f",
   "metadata": {},
   "source": [
    "## CORe"
   ]
  },
  {
   "cell_type": "markdown",
   "id": "0d299c46",
   "metadata": {},
   "source": [
    "### Set up Model Pipeline"
   ]
  },
  {
   "cell_type": "code",
   "execution_count": 4,
   "id": "1ca3b2aa",
   "metadata": {},
   "outputs": [],
   "source": [
    "ekg_denoised['length'] = ekg_denoised.TEXT.str.len()"
   ]
  },
  {
   "cell_type": "code",
   "execution_count": 5,
   "id": "4e65c27b",
   "metadata": {},
   "outputs": [
    {
     "data": {
      "text/plain": [
       "209.00457612202993"
      ]
     },
     "execution_count": 5,
     "metadata": {},
     "output_type": "execute_result"
    }
   ],
   "source": [
    "ekg_denoised['length'].mean()"
   ]
  },
  {
   "cell_type": "code",
   "execution_count": 6,
   "id": "48bc3b93",
   "metadata": {},
   "outputs": [
    {
     "data": {
      "text/plain": [
       "count    68180.000000\n",
       "mean       209.004576\n",
       "std        101.165786\n",
       "min          1.000000\n",
       "25%        134.000000\n",
       "50%        190.000000\n",
       "75%        264.000000\n",
       "max       1149.000000\n",
       "Name: length, dtype: float64"
      ]
     },
     "execution_count": 6,
     "metadata": {},
     "output_type": "execute_result"
    }
   ],
   "source": [
    "ekg_denoised['length'].describe()"
   ]
  },
  {
   "cell_type": "code",
   "execution_count": 7,
   "id": "d821f229",
   "metadata": {},
   "outputs": [],
   "source": [
    "tokenizer = AutoTokenizer.from_pretrained(\"bvanaken/CORe-clinical-outcome-biobert-v1\", model_max_length=264)\n",
    "model = AutoModel.from_pretrained(\"bvanaken/CORe-clinical-outcome-biobert-v1\")"
   ]
  },
  {
   "cell_type": "code",
   "execution_count": 22,
   "id": "ca92fa9e",
   "metadata": {},
   "outputs": [],
   "source": [
    "pipe = pipeline('feature-extraction', model=model, tokenizer=tokenizer)"
   ]
  },
  {
   "cell_type": "markdown",
   "id": "5bd6f321",
   "metadata": {},
   "source": [
    "### Embedding Train and Test "
   ]
  },
  {
   "cell_type": "markdown",
   "id": "a9f4f04a",
   "metadata": {},
   "source": [
    "#### Train"
   ]
  },
  {
   "cell_type": "code",
   "execution_count": 11,
   "id": "a18a7ed7",
   "metadata": {},
   "outputs": [],
   "source": [
    "features = pipe(ekg_denoised.TEXT[:5000].tolist(), \n",
    "                padding='max_length',\n",
    "                truncation=True\n",
    "               )"
   ]
  },
  {
   "cell_type": "code",
   "execution_count": 12,
   "id": "208e1d4e",
   "metadata": {},
   "outputs": [],
   "source": [
    "features_np = np.squeeze(features)\n",
    "del features"
   ]
  },
  {
   "cell_type": "code",
   "execution_count": 13,
   "id": "dd82c52d",
   "metadata": {},
   "outputs": [
    {
     "data": {
      "text/plain": [
       "(5000, 264, 768)"
      ]
     },
     "execution_count": 13,
     "metadata": {},
     "output_type": "execute_result"
    }
   ],
   "source": [
    "features_np.shape"
   ]
  },
  {
   "cell_type": "code",
   "execution_count": 14,
   "id": "71f1a0d7",
   "metadata": {},
   "outputs": [],
   "source": [
    "labels_np = np.array(ekg_denoised.ICD9_CODE[:5000])"
   ]
  },
  {
   "cell_type": "markdown",
   "id": "3892693a",
   "metadata": {},
   "source": [
    "#### Test"
   ]
  },
  {
   "cell_type": "code",
   "execution_count": 18,
   "id": "e4dd6236",
   "metadata": {},
   "outputs": [],
   "source": [
    "features_test = pipe(ekg_denoised.TEXT[5000:5500].tolist(), \n",
    "                padding='max_length'\n",
    "               )"
   ]
  },
  {
   "cell_type": "code",
   "execution_count": 19,
   "id": "c8abd999",
   "metadata": {},
   "outputs": [],
   "source": [
    "features_np_test = np.squeeze(features_test)\n",
    "del features_test"
   ]
  },
  {
   "cell_type": "code",
   "execution_count": 20,
   "id": "9770f81c",
   "metadata": {},
   "outputs": [],
   "source": [
    "labels_np_test = np.array(ekg_denoised.ICD9_CODE[5000:5500])"
   ]
  },
  {
   "cell_type": "markdown",
   "id": "529fc8ec",
   "metadata": {},
   "source": [
    "### Save off Outputs"
   ]
  },
  {
   "cell_type": "code",
   "execution_count": 26,
   "id": "02330bd4",
   "metadata": {},
   "outputs": [],
   "source": [
    "np.save('/home/sanjaycollege15/PredictingDiagnoses/Data/ekg_denoised_CORe_embeddings',\n",
    "        features_np,\n",
    "        allow_pickle=True)\n",
    "    \n",
    "np.save('/home/sanjaycollege15/PredictingDiagnoses/Data/ekg_denoised_CORe_labels',\n",
    "        labels_np,\n",
    "        allow_pickle=True)"
   ]
  },
  {
   "cell_type": "code",
   "execution_count": 30,
   "id": "37f50757",
   "metadata": {},
   "outputs": [],
   "source": [
    "np.save('/home/sanjaycollege15/PredictingDiagnoses/Data/ekg_denoised_CORe_test_embeddings',\n",
    "        features_np_test,\n",
    "        allow_pickle=True)\n",
    "    \n",
    "np.save('/home/sanjaycollege15/PredictingDiagnoses/Data/ekg_denoised_CORe_test_labels',\n",
    "        labels_np_test,\n",
    "        allow_pickle=True)"
   ]
  },
  {
   "cell_type": "code",
   "execution_count": 27,
   "id": "ba853486",
   "metadata": {},
   "outputs": [],
   "source": [
    "embeddings = np.load('/home/sanjaycollege15/PredictingDiagnoses/Data/ekg_denoised_CORe_embeddings.npy')\n",
    "labels = np.load('/home/sanjaycollege15/PredictingDiagnoses/Data/ekg_denoised_CORe_labels.npy')"
   ]
  }
 ],
 "metadata": {
  "kernelspec": {
   "display_name": "Python 3",
   "language": "python",
   "name": "python3"
  },
  "language_info": {
   "codemirror_mode": {
    "name": "ipython",
    "version": 3
   },
   "file_extension": ".py",
   "mimetype": "text/x-python",
   "name": "python",
   "nbconvert_exporter": "python",
   "pygments_lexer": "ipython3",
   "version": "3.8.8"
  }
 },
 "nbformat": 4,
 "nbformat_minor": 5
}
