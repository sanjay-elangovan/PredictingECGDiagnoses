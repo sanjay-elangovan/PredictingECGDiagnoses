{
 "cells": [
  {
   "cell_type": "code",
   "execution_count": 1,
   "id": "c4b575e5",
   "metadata": {},
   "outputs": [],
   "source": [
    "from transformers import AutoTokenizer, AutoModel, pipeline\n",
    "import tensorflow_hub as hub\n",
    "\n",
    "import pandas as pd\n",
    "import numpy as np \n",
    "import pickle"
   ]
  },
  {
   "cell_type": "markdown",
   "id": "529a3d8b",
   "metadata": {},
   "source": [
    "## Read Data"
   ]
  },
  {
   "cell_type": "code",
   "execution_count": 2,
   "id": "1f370eb0",
   "metadata": {},
   "outputs": [],
   "source": [
    "ekg_denoised = pd.read_pickle('/home/sanjaycollege15/PredictingDiagnoses/Data/ekg_denoised_v2.pkl')\n",
    "ekg_denoised = ekg_denoised.sample(frac=1, random_state=10)\n"
   ]
  },
  {
   "cell_type": "code",
   "execution_count": 4,
   "id": "1110bdb4",
   "metadata": {},
   "outputs": [
    {
     "data": {
      "text/html": [
       "<div>\n",
       "<style scoped>\n",
       "    .dataframe tbody tr th:only-of-type {\n",
       "        vertical-align: middle;\n",
       "    }\n",
       "\n",
       "    .dataframe tbody tr th {\n",
       "        vertical-align: top;\n",
       "    }\n",
       "\n",
       "    .dataframe thead th {\n",
       "        text-align: right;\n",
       "    }\n",
       "</style>\n",
       "<table border=\"1\" class=\"dataframe\">\n",
       "  <thead>\n",
       "    <tr style=\"text-align: right;\">\n",
       "      <th></th>\n",
       "      <th>ICD9_CODE</th>\n",
       "      <th>TEXT</th>\n",
       "    </tr>\n",
       "  </thead>\n",
       "  <tbody>\n",
       "    <tr>\n",
       "      <th>7423</th>\n",
       "      <td>3</td>\n",
       "      <td>sinus rhythm. the p-r interval is prolonged. t...</td>\n",
       "    </tr>\n",
       "    <tr>\n",
       "      <th>60592</th>\n",
       "      <td>2</td>\n",
       "      <td>sinus bradycardia. lead v3 was not obtained. c...</td>\n",
       "    </tr>\n",
       "    <tr>\n",
       "      <th>62820</th>\n",
       "      <td>2</td>\n",
       "      <td>sinus rhythm consider left atrial abnormality ...</td>\n",
       "    </tr>\n",
       "    <tr>\n",
       "      <th>38047</th>\n",
       "      <td>1</td>\n",
       "      <td>sinus rhythm with borderline first degree a-v ...</td>\n",
       "    </tr>\n",
       "    <tr>\n",
       "      <th>43024</th>\n",
       "      <td>1</td>\n",
       "      <td>sinus rhythm. non-specific lateral st-t wave a...</td>\n",
       "    </tr>\n",
       "  </tbody>\n",
       "</table>\n",
       "</div>"
      ],
      "text/plain": [
       "       ICD9_CODE                                               TEXT\n",
       "7423           3  sinus rhythm. the p-r interval is prolonged. t...\n",
       "60592          2  sinus bradycardia. lead v3 was not obtained. c...\n",
       "62820          2  sinus rhythm consider left atrial abnormality ...\n",
       "38047          1  sinus rhythm with borderline first degree a-v ...\n",
       "43024          1  sinus rhythm. non-specific lateral st-t wave a..."
      ]
     },
     "execution_count": 4,
     "metadata": {},
     "output_type": "execute_result"
    }
   ],
   "source": [
    "ekg_denoised.head()"
   ]
  },
  {
   "cell_type": "markdown",
   "id": "58a4796f",
   "metadata": {},
   "source": [
    "## ClinicalBERT"
   ]
  },
  {
   "cell_type": "markdown",
   "id": "0d299c46",
   "metadata": {},
   "source": [
    "### Set up Model Pipeline"
   ]
  },
  {
   "cell_type": "code",
   "execution_count": 5,
   "id": "1ca3b2aa",
   "metadata": {},
   "outputs": [],
   "source": [
    "ekg_denoised['length'] = ekg_denoised.TEXT.str.len()"
   ]
  },
  {
   "cell_type": "code",
   "execution_count": 6,
   "id": "4e65c27b",
   "metadata": {},
   "outputs": [
    {
     "data": {
      "text/plain": [
       "209.00457612202993"
      ]
     },
     "execution_count": 6,
     "metadata": {},
     "output_type": "execute_result"
    }
   ],
   "source": [
    "ekg_denoised['length'].mean()"
   ]
  },
  {
   "cell_type": "code",
   "execution_count": 7,
   "id": "48bc3b93",
   "metadata": {},
   "outputs": [
    {
     "data": {
      "text/plain": [
       "count    68180.000000\n",
       "mean       209.004576\n",
       "std        101.165786\n",
       "min          1.000000\n",
       "25%        134.000000\n",
       "50%        190.000000\n",
       "75%        264.000000\n",
       "max       1149.000000\n",
       "Name: length, dtype: float64"
      ]
     },
     "execution_count": 7,
     "metadata": {},
     "output_type": "execute_result"
    }
   ],
   "source": [
    "ekg_denoised['length'].describe()"
   ]
  },
  {
   "cell_type": "code",
   "execution_count": 5,
   "id": "d821f229",
   "metadata": {},
   "outputs": [
    {
     "name": "stderr",
     "output_type": "stream",
     "text": [
      "Some weights of the model checkpoint at emilyalsentzer/Bio_ClinicalBERT were not used when initializing BertModel: ['cls.seq_relationship.bias', 'cls.predictions.bias', 'cls.predictions.transform.LayerNorm.bias', 'cls.predictions.decoder.weight', 'cls.seq_relationship.weight', 'cls.predictions.transform.LayerNorm.weight', 'cls.predictions.transform.dense.weight', 'cls.predictions.transform.dense.bias']\n",
      "- This IS expected if you are initializing BertModel from the checkpoint of a model trained on another task or with another architecture (e.g. initializing a BertForSequenceClassification model from a BertForPreTraining model).\n",
      "- This IS NOT expected if you are initializing BertModel from the checkpoint of a model that you expect to be exactly identical (initializing a BertForSequenceClassification model from a BertForSequenceClassification model).\n"
     ]
    }
   ],
   "source": [
    "tokenizer = AutoTokenizer.from_pretrained(\"emilyalsentzer/Bio_ClinicalBERT\", model_max_length=264)\n",
    "model = AutoModel.from_pretrained(\"emilyalsentzer/Bio_ClinicalBERT\")\n"
   ]
  },
  {
   "cell_type": "code",
   "execution_count": 6,
   "id": "ca92fa9e",
   "metadata": {},
   "outputs": [],
   "source": [
    "pipe = pipeline('feature-extraction', model=model, tokenizer=tokenizer)"
   ]
  },
  {
   "cell_type": "markdown",
   "id": "5bd6f321",
   "metadata": {},
   "source": [
    "### Embedding Train and Test "
   ]
  },
  {
   "cell_type": "markdown",
   "id": "a9f4f04a",
   "metadata": {},
   "source": [
    "#### Train"
   ]
  },
  {
   "cell_type": "code",
   "execution_count": 7,
   "id": "a18a7ed7",
   "metadata": {},
   "outputs": [],
   "source": [
    "features = pipe(ekg_denoised.TEXT[15000:22500].tolist(), \n",
    "                padding='max_length',\n",
    "                truncation=True\n",
    "               )"
   ]
  },
  {
   "cell_type": "code",
   "execution_count": 8,
   "id": "208e1d4e",
   "metadata": {},
   "outputs": [],
   "source": [
    "features_np = np.squeeze(features)\n",
    "del features"
   ]
  },
  {
   "cell_type": "code",
   "execution_count": 9,
   "id": "dd82c52d",
   "metadata": {},
   "outputs": [
    {
     "data": {
      "text/plain": [
       "(7500, 264, 768)"
      ]
     },
     "execution_count": 9,
     "metadata": {},
     "output_type": "execute_result"
    }
   ],
   "source": [
    "features_np.shape"
   ]
  },
  {
   "cell_type": "code",
   "execution_count": 10,
   "id": "71f1a0d7",
   "metadata": {},
   "outputs": [],
   "source": [
    "labels_np = np.array(ekg_denoised.ICD9_CODE[15000:22500])"
   ]
  },
  {
   "cell_type": "markdown",
   "id": "3892693a",
   "metadata": {},
   "source": [
    "#### Test"
   ]
  },
  {
   "cell_type": "code",
   "execution_count": 18,
   "id": "e4dd6236",
   "metadata": {},
   "outputs": [],
   "source": [
    "features_test = pipe(ekg_denoised.TEXT[7500:15000].tolist(), \n",
    "                padding='max_length'\n",
    "               )"
   ]
  },
  {
   "cell_type": "code",
   "execution_count": 19,
   "id": "c8abd999",
   "metadata": {},
   "outputs": [],
   "source": [
    "features_np_test = np.squeeze(features_test)\n",
    "del features_test"
   ]
  },
  {
   "cell_type": "code",
   "execution_count": 20,
   "id": "9770f81c",
   "metadata": {},
   "outputs": [],
   "source": [
    "labels_np_test = np.array(ekg_denoised.ICD9_CODE[7500:15000])"
   ]
  },
  {
   "cell_type": "markdown",
   "id": "529fc8ec",
   "metadata": {},
   "source": [
    "### Save off Outputs"
   ]
  },
  {
   "cell_type": "code",
   "execution_count": 11,
   "id": "02330bd4",
   "metadata": {},
   "outputs": [],
   "source": [
    "np.save('/home/sanjaycollege15/PredictingDiagnoses/Data/ekg_denoised_ClinicalBERT_embeddings_10k_train_pt2',\n",
    "        features_np,\n",
    "        allow_pickle=True)\n",
    "    \n",
    "np.save('/home/sanjaycollege15/PredictingDiagnoses/Data/ekg_denoised_ClinicalBERT_labels_10k_train_pt2',\n",
    "        labels_np,\n",
    "        allow_pickle=True)"
   ]
  },
  {
   "cell_type": "code",
   "execution_count": 30,
   "id": "37f50757",
   "metadata": {},
   "outputs": [],
   "source": [
    "np.save('/home/sanjaycollege15/PredictingDiagnoses/Data/ekg_denoised_ClinicalBERT_embeddings_10k_test',\n",
    "        features_np_test,\n",
    "        allow_pickle=True)\n",
    "    \n",
    "np.save('/home/sanjaycollege15/PredictingDiagnoses/Data/ekg_denoised_ClinicalBERT_labels_10k_test',\n",
    "        labels_np_test,\n",
    "        allow_pickle=True)"
   ]
  },
  {
   "cell_type": "code",
   "execution_count": 27,
   "id": "ba853486",
   "metadata": {},
   "outputs": [],
   "source": [
    "embeddings = np.load('/home/sanjaycollege15/PredictingDiagnoses/Data/ekg_denoised_CORe_embeddings.npy')\n",
    "labels = np.load('/home/sanjaycollege15/PredictingDiagnoses/Data/ekg_denoised_CORe_labels.npy')"
   ]
  }
 ],
 "metadata": {
  "kernelspec": {
   "display_name": "Python 3",
   "language": "python",
   "name": "python3"
  },
  "language_info": {
   "codemirror_mode": {
    "name": "ipython",
    "version": 3
   },
   "file_extension": ".py",
   "mimetype": "text/x-python",
   "name": "python",
   "nbconvert_exporter": "python",
   "pygments_lexer": "ipython3",
   "version": "3.8.8"
  }
 },
 "nbformat": 4,
 "nbformat_minor": 5
}
