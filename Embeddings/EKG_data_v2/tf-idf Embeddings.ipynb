{
 "cells": [
  {
   "cell_type": "code",
   "execution_count": 1,
   "id": "dc5c28c0",
   "metadata": {},
   "outputs": [],
   "source": [
    "import numpy as np\n",
    "import pandas as pd\n",
    "import pickle\n",
    "from sklearn.feature_extraction.text import TfidfTransformer, CountVectorizer\n",
    "from sklearn.feature_extraction.text import TfidfVectorizer\n",
    "import scipy.sparse"
   ]
  },
  {
   "cell_type": "markdown",
   "id": "dc65f6e8",
   "metadata": {},
   "source": [
    "## Import Data"
   ]
  },
  {
   "cell_type": "code",
   "execution_count": 2,
   "id": "4a96e682",
   "metadata": {},
   "outputs": [],
   "source": [
    "ekg_denoised = pd.read_pickle('/home/sanjaycollege15/PredictingDiagnoses/Data/ekg_denoised_v3.pkl')\n",
    "ekg_denoised = ekg_denoised.sample(frac=1)"
   ]
  },
  {
   "cell_type": "code",
   "execution_count": 3,
   "id": "4a1d6d27",
   "metadata": {},
   "outputs": [
    {
     "data": {
      "text/html": [
       "<div>\n",
       "<style scoped>\n",
       "    .dataframe tbody tr th:only-of-type {\n",
       "        vertical-align: middle;\n",
       "    }\n",
       "\n",
       "    .dataframe tbody tr th {\n",
       "        vertical-align: top;\n",
       "    }\n",
       "\n",
       "    .dataframe thead th {\n",
       "        text-align: right;\n",
       "    }\n",
       "</style>\n",
       "<table border=\"1\" class=\"dataframe\">\n",
       "  <thead>\n",
       "    <tr style=\"text-align: right;\">\n",
       "      <th></th>\n",
       "      <th>ICD9_CODE</th>\n",
       "      <th>TEXT</th>\n",
       "    </tr>\n",
       "  </thead>\n",
       "  <tbody>\n",
       "    <tr>\n",
       "      <th>182241</th>\n",
       "      <td>2</td>\n",
       "      <td>sinus rhythm with atrial premature depolarizat...</td>\n",
       "    </tr>\n",
       "    <tr>\n",
       "      <th>207375</th>\n",
       "      <td>1</td>\n",
       "      <td>sinus tachycardia with a rate of 100-110 beats...</td>\n",
       "    </tr>\n",
       "    <tr>\n",
       "      <th>185379</th>\n",
       "      <td>2</td>\n",
       "      <td>sinus bradycardia. otherwise, tracing is withi...</td>\n",
       "    </tr>\n",
       "    <tr>\n",
       "      <th>208145</th>\n",
       "      <td>1</td>\n",
       "      <td>sinus tachycardia. possible left anterior fasc...</td>\n",
       "    </tr>\n",
       "    <tr>\n",
       "      <th>206194</th>\n",
       "      <td>1</td>\n",
       "      <td>artifact is present. sinus rhythm. the p-r int...</td>\n",
       "    </tr>\n",
       "  </tbody>\n",
       "</table>\n",
       "</div>"
      ],
      "text/plain": [
       "        ICD9_CODE                                               TEXT\n",
       "182241          2  sinus rhythm with atrial premature depolarizat...\n",
       "207375          1  sinus tachycardia with a rate of 100-110 beats...\n",
       "185379          2  sinus bradycardia. otherwise, tracing is withi...\n",
       "208145          1  sinus tachycardia. possible left anterior fasc...\n",
       "206194          1  artifact is present. sinus rhythm. the p-r int..."
      ]
     },
     "execution_count": 3,
     "metadata": {},
     "output_type": "execute_result"
    }
   ],
   "source": [
    "ekg_denoised.head()"
   ]
  },
  {
   "cell_type": "markdown",
   "id": "f5dbb23a",
   "metadata": {},
   "source": [
    "### Train/Test Set"
   ]
  },
  {
   "cell_type": "code",
   "execution_count": 4,
   "id": "43d7ae46",
   "metadata": {},
   "outputs": [],
   "source": [
    "train, test = np.split(ekg_denoised.sample(frac=1, random_state=42), \n",
    "                                 [int(.8*len(ekg_denoised))])"
   ]
  },
  {
   "cell_type": "markdown",
   "id": "741231cf",
   "metadata": {},
   "source": [
    "## TF-IDF"
   ]
  },
  {
   "cell_type": "markdown",
   "id": "c402ef4d",
   "metadata": {},
   "source": [
    "### Compute IDF Values"
   ]
  },
  {
   "cell_type": "code",
   "execution_count": 5,
   "id": "0bf5efad",
   "metadata": {},
   "outputs": [],
   "source": [
    "tfidf_vectorizer=TfidfVectorizer(use_idf=True) \n",
    "tfidf_vectors_train=tfidf_vectorizer.fit_transform(train['TEXT']).astype('float16')"
   ]
  },
  {
   "cell_type": "code",
   "execution_count": 6,
   "id": "7c40811e",
   "metadata": {},
   "outputs": [
    {
     "data": {
      "text/plain": [
       "<27868x3161 sparse matrix of type '<class 'numpy.float16'>'\n",
       "\twith 720187 stored elements in Compressed Sparse Row format>"
      ]
     },
     "execution_count": 6,
     "metadata": {},
     "output_type": "execute_result"
    }
   ],
   "source": [
    "tfidf_vectors_train"
   ]
  },
  {
   "cell_type": "markdown",
   "id": "6914a594",
   "metadata": {},
   "source": [
    "In 5228 documents, there are only 1569 unique words. Now we need to apply onto the test set."
   ]
  },
  {
   "cell_type": "code",
   "execution_count": 7,
   "id": "1df4d35d",
   "metadata": {},
   "outputs": [],
   "source": [
    "tfidf_vectors_test=tfidf_vectorizer.transform(test['TEXT']).astype('float16')"
   ]
  },
  {
   "cell_type": "code",
   "execution_count": 8,
   "id": "c5d404a6",
   "metadata": {},
   "outputs": [
    {
     "data": {
      "text/plain": [
       "(6967, 3161)"
      ]
     },
     "execution_count": 8,
     "metadata": {},
     "output_type": "execute_result"
    }
   ],
   "source": [
    "tfidf_vectors_test.shape"
   ]
  },
  {
   "cell_type": "markdown",
   "id": "6a766d7c",
   "metadata": {},
   "source": [
    "### Save tf-idf vectors into dataframe"
   ]
  },
  {
   "cell_type": "code",
   "execution_count": 9,
   "id": "1dcc8406",
   "metadata": {},
   "outputs": [],
   "source": [
    "tfidf_labels_train = np.array(train['ICD9_CODE'])\n",
    "tfidf_labels_test = np.array(test['ICD9_CODE'])"
   ]
  },
  {
   "cell_type": "code",
   "execution_count": 10,
   "id": "437fff26",
   "metadata": {},
   "outputs": [],
   "source": [
    "scipy.sparse.save_npz('/home/sanjaycollege15/PredictingDiagnoses/Data/tfidf_embeddings_train_v3', tfidf_vectors_train)\n",
    "np.save('/home/sanjaycollege15/PredictingDiagnoses/Data/tfidf_labels_train_v3', tfidf_labels_train)\n",
    "scipy.sparse.save_npz('/home/sanjaycollege15/PredictingDiagnoses/Data/tfidf_embeddings_test_v3', tfidf_vectors_test)\n",
    "np.save('/home/sanjaycollege15/PredictingDiagnoses/Data/tfidf_labels_test_v3', tfidf_labels_test)\n"
   ]
  },
  {
   "cell_type": "code",
   "execution_count": null,
   "id": "4c9d2c7b",
   "metadata": {},
   "outputs": [],
   "source": []
  }
 ],
 "metadata": {
  "kernelspec": {
   "display_name": "Python 3",
   "language": "python",
   "name": "python3"
  },
  "language_info": {
   "codemirror_mode": {
    "name": "ipython",
    "version": 3
   },
   "file_extension": ".py",
   "mimetype": "text/x-python",
   "name": "python",
   "nbconvert_exporter": "python",
   "pygments_lexer": "ipython3",
   "version": "3.8.8"
  }
 },
 "nbformat": 4,
 "nbformat_minor": 5
}
