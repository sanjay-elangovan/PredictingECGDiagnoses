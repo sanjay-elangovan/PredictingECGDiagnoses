{
 "cells": [
  {
   "cell_type": "code",
   "execution_count": 5,
   "id": "c4b575e5",
   "metadata": {},
   "outputs": [],
   "source": [
    "from transformers import AutoTokenizer, AutoModel, pipeline\n",
    "import tensorflow_hub as hub\n",
    "\n",
    "import pandas as pd\n",
    "import numpy as np \n",
    "import pickle"
   ]
  },
  {
   "cell_type": "markdown",
   "id": "529a3d8b",
   "metadata": {},
   "source": [
    "## Read Data"
   ]
  },
  {
   "cell_type": "code",
   "execution_count": 6,
   "id": "1f370eb0",
   "metadata": {},
   "outputs": [],
   "source": [
    "ekg_denoised = pd.read_pickle('/home/sanjaycollege15/PredictingDiagnoses/Data/ekg_denoised_v2.pkl')\n",
    "ekg_denoised = ekg_denoised.sample(frac=1)"
   ]
  },
  {
   "cell_type": "code",
   "execution_count": 7,
   "id": "1110bdb4",
   "metadata": {},
   "outputs": [
    {
     "data": {
      "text/html": [
       "<div>\n",
       "<style scoped>\n",
       "    .dataframe tbody tr th:only-of-type {\n",
       "        vertical-align: middle;\n",
       "    }\n",
       "\n",
       "    .dataframe tbody tr th {\n",
       "        vertical-align: top;\n",
       "    }\n",
       "\n",
       "    .dataframe thead th {\n",
       "        text-align: right;\n",
       "    }\n",
       "</style>\n",
       "<table border=\"1\" class=\"dataframe\">\n",
       "  <thead>\n",
       "    <tr style=\"text-align: right;\">\n",
       "      <th></th>\n",
       "      <th>ICD9_CODE</th>\n",
       "      <th>TEXT</th>\n",
       "    </tr>\n",
       "  </thead>\n",
       "  <tbody>\n",
       "    <tr>\n",
       "      <th>62581</th>\n",
       "      <td>2</td>\n",
       "      <td>sinus bradycardia. left anterior fascicular bl...</td>\n",
       "    </tr>\n",
       "    <tr>\n",
       "      <th>12643</th>\n",
       "      <td>3</td>\n",
       "      <td>baseline artifact. probable underlying sinus r...</td>\n",
       "    </tr>\n",
       "    <tr>\n",
       "      <th>19435</th>\n",
       "      <td>0</td>\n",
       "      <td>sinus rhythm lateral st-t changes are nonspeci...</td>\n",
       "    </tr>\n",
       "    <tr>\n",
       "      <th>51284</th>\n",
       "      <td>2</td>\n",
       "      <td>dual chamber pacemaker with occasional prematu...</td>\n",
       "    </tr>\n",
       "    <tr>\n",
       "      <th>36386</th>\n",
       "      <td>1</td>\n",
       "      <td>sinus tachycardia with atrial bigeminy. non-sp...</td>\n",
       "    </tr>\n",
       "  </tbody>\n",
       "</table>\n",
       "</div>"
      ],
      "text/plain": [
       "       ICD9_CODE                                               TEXT\n",
       "62581          2  sinus bradycardia. left anterior fascicular bl...\n",
       "12643          3  baseline artifact. probable underlying sinus r...\n",
       "19435          0  sinus rhythm lateral st-t changes are nonspeci...\n",
       "51284          2  dual chamber pacemaker with occasional prematu...\n",
       "36386          1  sinus tachycardia with atrial bigeminy. non-sp..."
      ]
     },
     "execution_count": 7,
     "metadata": {},
     "output_type": "execute_result"
    }
   ],
   "source": [
    "ekg_denoised.head()"
   ]
  },
  {
   "cell_type": "markdown",
   "id": "58a4796f",
   "metadata": {},
   "source": [
    "## BioClinicalBERT"
   ]
  },
  {
   "cell_type": "markdown",
   "id": "0d299c46",
   "metadata": {},
   "source": [
    "### Set up Model Pipeline"
   ]
  },
  {
   "cell_type": "code",
   "execution_count": 8,
   "id": "d821f229",
   "metadata": {},
   "outputs": [
    {
     "name": "stderr",
     "output_type": "stream",
     "text": [
      "Some weights of the model checkpoint at emilyalsentzer/Bio_ClinicalBERT were not used when initializing BertModel: ['cls.predictions.transform.LayerNorm.bias', 'cls.seq_relationship.bias', 'cls.predictions.transform.LayerNorm.weight', 'cls.predictions.transform.dense.weight', 'cls.predictions.bias', 'cls.seq_relationship.weight', 'cls.predictions.decoder.weight', 'cls.predictions.transform.dense.bias']\n",
      "- This IS expected if you are initializing BertModel from the checkpoint of a model trained on another task or with another architecture (e.g. initializing a BertForSequenceClassification model from a BertForPreTraining model).\n",
      "- This IS NOT expected if you are initializing BertModel from the checkpoint of a model that you expect to be exactly identical (initializing a BertForSequenceClassification model from a BertForSequenceClassification model).\n"
     ]
    }
   ],
   "source": [
    "tokenizer = AutoTokenizer.from_pretrained(\"emilyalsentzer/Bio_ClinicalBERT\", model_max_length=512)\n",
    "model = AutoModel.from_pretrained(\"emilyalsentzer/Bio_ClinicalBERT\")\n",
    "pipe = pipeline('feature-extraction', model=model, tokenizer=tokenizer)"
   ]
  },
  {
   "cell_type": "markdown",
   "id": "5bd6f321",
   "metadata": {},
   "source": [
    "### Batching in order to avoid memory issues"
   ]
  },
  {
   "cell_type": "code",
   "execution_count": 9,
   "id": "a18a7ed7",
   "metadata": {},
   "outputs": [],
   "source": [
    "features = pipe(['sinus rhythm. prolonged a-v conduction. left bundle-branch block. compared to the previous tracing of transmural inferior wall myocardial infarction was previously present if left bundle-branch block patterning is absent, although the patterning barely resembles left bundle-branch block. the current tracing has a wider qrs interval.',\n",
    "                 'sinus rhythm with first degree atrio-ventricular conduction delay. compared to the previous tracing no diagnostic change. tracing 4'\n",
    "                ], \n",
    "                padding='max_length'\n",
    "               )\n",
    "\n"
   ]
  },
  {
   "cell_type": "code",
   "execution_count": 5,
   "id": "3c0e1b15",
   "metadata": {},
   "outputs": [],
   "source": [
    "batched = np.array_split(ekg_denoised, 50)"
   ]
  },
  {
   "cell_type": "code",
   "execution_count": null,
   "id": "d304d2d8",
   "metadata": {},
   "outputs": [],
   "source": [
    "#for split_array in batched:\n",
    "#    text_list = list(split_array['TEXT'])\n",
    "#    features = pipe(text_list, padding='max_length')\n",
    "#    feature_arrays.append(np.squeeze(features))"
   ]
  },
  {
   "cell_type": "code",
   "execution_count": 7,
   "id": "067158ac",
   "metadata": {},
   "outputs": [],
   "source": [
    "feature_arrays = []\n",
    "text_list = list(batched[0]['TEXT'])\n",
    "features = pipe(text_list, padding='max_length')\n",
    "feature_arrays.append(np.squeeze(features))"
   ]
  },
  {
   "cell_type": "code",
   "execution_count": 11,
   "id": "10f156b1",
   "metadata": {},
   "outputs": [],
   "source": [
    "with open('/home/sanjaycollege15/PredictingDiagnoses/Data/clinicalBert_1.pkl', 'wb') as f:\n",
    "    pickle.dump(feature_arrays, f)"
   ]
  },
  {
   "cell_type": "markdown",
   "id": "9312e20f",
   "metadata": {},
   "source": [
    "Output embeddings are more than 25GB! This is too big, need to figure out a way to incorporate it into the model so that only the relevant embeddings are pulled."
   ]
  },
  {
   "cell_type": "code",
   "execution_count": null,
   "id": "4d476058",
   "metadata": {},
   "outputs": [],
   "source": []
  }
 ],
 "metadata": {
  "kernelspec": {
   "display_name": "Python 3",
   "language": "python",
   "name": "python3"
  },
  "language_info": {
   "codemirror_mode": {
    "name": "ipython",
    "version": 3
   },
   "file_extension": ".py",
   "mimetype": "text/x-python",
   "name": "python",
   "nbconvert_exporter": "python",
   "pygments_lexer": "ipython3",
   "version": "3.8.8"
  }
 },
 "nbformat": 4,
 "nbformat_minor": 5
}
