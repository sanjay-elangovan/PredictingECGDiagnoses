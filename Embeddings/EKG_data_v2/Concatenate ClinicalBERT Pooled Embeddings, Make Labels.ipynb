{
 "cells": [
  {
   "cell_type": "code",
   "execution_count": 3,
   "id": "cfffc114",
   "metadata": {},
   "outputs": [],
   "source": [
    "import numpy as np"
   ]
  },
  {
   "cell_type": "markdown",
   "id": "449cf7c8",
   "metadata": {},
   "source": [
    "### Load and Concatenate Embeddings"
   ]
  },
  {
   "cell_type": "code",
   "execution_count": 6,
   "id": "82209b2d",
   "metadata": {},
   "outputs": [],
   "source": [
    "embeddings1 = np.load('/home/sanjaycollege15/PredictingDiagnoses/Data/ClinicalBERT_Pooled/pt0.npy')\n",
    "embeddings2 = np.load('/home/sanjaycollege15/PredictingDiagnoses/Data/ClinicalBERT_Pooled/pt1.npy')\n",
    "\n",
    "combined_embeddings = np.concatenate((embeddings1, embeddings2), axis=0)\n",
    "\n",
    "for i in range (3,272):\n",
    "    temp_embeddings = np.load('/home/sanjaycollege15/PredictingDiagnoses/Data/ClinicalBERT_Pooled/pt' + str(i) + '.npy')\n",
    "    combined_embeddings = np.concatenate((combined_embeddings, temp_embeddings), axis = 0)\n",
    "    \n"
   ]
  },
  {
   "cell_type": "markdown",
   "id": "2308e037",
   "metadata": {},
   "source": [
    "### Concatenate"
   ]
  },
  {
   "cell_type": "code",
   "execution_count": 8,
   "id": "15b472fe",
   "metadata": {},
   "outputs": [
    {
     "data": {
      "text/plain": [
       "(67750, 768)"
      ]
     },
     "execution_count": 8,
     "metadata": {},
     "output_type": "execute_result"
    }
   ],
   "source": [
    "combined_embeddings.shape"
   ]
  },
  {
   "cell_type": "code",
   "execution_count": 10,
   "id": "9134829a",
   "metadata": {},
   "outputs": [],
   "source": [
    "np.save('/home/sanjaycollege15/PredictingDiagnoses/Data/ekg_denoised_ClinicalBERT_pooled_embeddings_68k',\n",
    "        combined_embeddings,\n",
    "        allow_pickle=True)\n"
   ]
  },
  {
   "cell_type": "code",
   "execution_count": null,
   "id": "5aa28313",
   "metadata": {},
   "outputs": [],
   "source": []
  }
 ],
 "metadata": {
  "kernelspec": {
   "display_name": "Python 3",
   "language": "python",
   "name": "python3"
  },
  "language_info": {
   "codemirror_mode": {
    "name": "ipython",
    "version": 3
   },
   "file_extension": ".py",
   "mimetype": "text/x-python",
   "name": "python",
   "nbconvert_exporter": "python",
   "pygments_lexer": "ipython3",
   "version": "3.8.8"
  }
 },
 "nbformat": 4,
 "nbformat_minor": 5
}
