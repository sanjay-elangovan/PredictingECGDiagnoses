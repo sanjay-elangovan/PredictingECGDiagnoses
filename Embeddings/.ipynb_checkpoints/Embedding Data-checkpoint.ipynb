{
 "cells": [
  {
   "cell_type": "markdown",
   "id": "96d3678a",
   "metadata": {},
   "source": [
    "## Imports"
   ]
  },
  {
   "cell_type": "code",
   "execution_count": 88,
   "id": "029749ad",
   "metadata": {},
   "outputs": [],
   "source": [
    "import pandas as pd\n",
    "import pickle\n",
    "import spacy\n",
    "import numpy as np\n",
    "from keras.preprocessing.text import Tokenizer\n",
    "from tensorflow.keras.preprocessing.sequence import pad_sequences\n",
    "import matplotlib as plt\n",
    "from matplotlib.pyplot import hist"
   ]
  },
  {
   "cell_type": "markdown",
   "id": "3fb40a73",
   "metadata": {},
   "source": [
    "## Loading Data"
   ]
  },
  {
   "cell_type": "code",
   "execution_count": 68,
   "id": "b58efabd",
   "metadata": {},
   "outputs": [],
   "source": [
    "ekg_denoised = pd.read_pickle('/home/sanjaycollege15/PredictingDiagnoses/Data/ekg_denoised.pkl')\n",
    "ekg_denoised = ekg_denoised.sample(frac=1)\n"
   ]
  },
  {
   "cell_type": "code",
   "execution_count": 69,
   "id": "7e93d0c8",
   "metadata": {},
   "outputs": [
    {
     "data": {
      "text/html": [
       "<div>\n",
       "<style scoped>\n",
       "    .dataframe tbody tr th:only-of-type {\n",
       "        vertical-align: middle;\n",
       "    }\n",
       "\n",
       "    .dataframe tbody tr th {\n",
       "        vertical-align: top;\n",
       "    }\n",
       "\n",
       "    .dataframe thead th {\n",
       "        text-align: right;\n",
       "    }\n",
       "</style>\n",
       "<table border=\"1\" class=\"dataframe\">\n",
       "  <thead>\n",
       "    <tr style=\"text-align: right;\">\n",
       "      <th></th>\n",
       "      <th>ICD9_CODE</th>\n",
       "      <th>TEXT</th>\n",
       "    </tr>\n",
       "  </thead>\n",
       "  <tbody>\n",
       "    <tr>\n",
       "      <th>5336</th>\n",
       "      <td>3</td>\n",
       "      <td>a-v sequential pacing since previous tracing, ...</td>\n",
       "    </tr>\n",
       "    <tr>\n",
       "      <th>831</th>\n",
       "      <td>0</td>\n",
       "      <td>baseline artifact. sinus tachycardia. since th...</td>\n",
       "    </tr>\n",
       "    <tr>\n",
       "      <th>2296</th>\n",
       "      <td>1</td>\n",
       "      <td>atrial fibrillation modest nonspecific low amp...</td>\n",
       "    </tr>\n",
       "    <tr>\n",
       "      <th>3807</th>\n",
       "      <td>2</td>\n",
       "      <td>sinus bradycardia. left axis deviation. consid...</td>\n",
       "    </tr>\n",
       "    <tr>\n",
       "      <th>628</th>\n",
       "      <td>0</td>\n",
       "      <td>sinus rhythm. left atrial abnormality. possibl...</td>\n",
       "    </tr>\n",
       "  </tbody>\n",
       "</table>\n",
       "</div>"
      ],
      "text/plain": [
       "      ICD9_CODE                                               TEXT\n",
       "5336          3  a-v sequential pacing since previous tracing, ...\n",
       "831           0  baseline artifact. sinus tachycardia. since th...\n",
       "2296          1  atrial fibrillation modest nonspecific low amp...\n",
       "3807          2  sinus bradycardia. left axis deviation. consid...\n",
       "628           0  sinus rhythm. left atrial abnormality. possibl..."
      ]
     },
     "execution_count": 69,
     "metadata": {},
     "output_type": "execute_result"
    }
   ],
   "source": [
    "ekg_denoised.head()"
   ]
  },
  {
   "cell_type": "markdown",
   "id": "c17ed188",
   "metadata": {},
   "source": [
    "## Padding"
   ]
  },
  {
   "cell_type": "code",
   "execution_count": 76,
   "id": "b67a4cab",
   "metadata": {},
   "outputs": [
    {
     "name": "stdout",
     "output_type": "stream",
     "text": [
      "Average sentence length: 201.8235924112607\n",
      "Max sentence length: 832\n",
      "Min sentence length: 0\n"
     ]
    }
   ],
   "source": [
    "lengths = []\n",
    "for i in ekg_denoised['TEXT']:\n",
    "    lengths.append(len(i))\n",
    "    \n",
    "print(f\"Average sentence length: {sum(lengths)/len(lengths)}\")\n",
    "print(f\"Max sentence length: {max(lengths)}\")\n",
    "print(f\"Min sentence length: {min(lengths)}\")"
   ]
  },
  {
   "cell_type": "markdown",
   "id": "7d415697",
   "metadata": {},
   "source": [
    "## Spacy"
   ]
  },
  {
   "cell_type": "markdown",
   "id": "06a5e6ce",
   "metadata": {},
   "source": [
    "#### Downloading and Loading Spacy Embeddings"
   ]
  },
  {
   "cell_type": "code",
   "execution_count": 1,
   "id": "62e18d47",
   "metadata": {
    "scrolled": true
   },
   "outputs": [
    {
     "name": "stdout",
     "output_type": "stream",
     "text": [
      "2021-11-17 00:38:48.868995: W tensorflow/stream_executor/platform/default/dso_loader.cc:64] Could not load dynamic library 'libcudart.so.11.0'; dlerror: libcudart.so.11.0: cannot open shared object file: No such file or directory\n",
      "2021-11-17 00:38:48.869188: I tensorflow/stream_executor/cuda/cudart_stub.cc:29] Ignore above cudart dlerror if you do not have a GPU set up on your machine.\n",
      "Collecting en-core-web-md==3.2.0\n",
      "  Downloading https://github.com/explosion/spacy-models/releases/download/en_core_web_md-3.2.0/en_core_web_md-3.2.0-py3-none-any.whl (45.7 MB)\n",
      "     |████████████████████████████████| 45.7 MB 64 kB/s             \n",
      "\u001b[?25hRequirement already satisfied: spacy<3.3.0,>=3.2.0 in /home/sanjaycollege15/anaconda3/lib/python3.8/site-packages (from en-core-web-md==3.2.0) (3.2.0)\n",
      "Requirement already satisfied: setuptools in /home/sanjaycollege15/anaconda3/lib/python3.8/site-packages (from spacy<3.3.0,>=3.2.0->en-core-web-md==3.2.0) (52.0.0.post20210125)\n",
      "Requirement already satisfied: wasabi<1.1.0,>=0.8.1 in /home/sanjaycollege15/anaconda3/lib/python3.8/site-packages (from spacy<3.3.0,>=3.2.0->en-core-web-md==3.2.0) (0.8.2)\n",
      "Requirement already satisfied: requests<3.0.0,>=2.13.0 in /home/sanjaycollege15/anaconda3/lib/python3.8/site-packages (from spacy<3.3.0,>=3.2.0->en-core-web-md==3.2.0) (2.25.1)\n",
      "Requirement already satisfied: blis<0.8.0,>=0.4.0 in /home/sanjaycollege15/anaconda3/lib/python3.8/site-packages (from spacy<3.3.0,>=3.2.0->en-core-web-md==3.2.0) (0.7.5)\n",
      "Requirement already satisfied: spacy-loggers<2.0.0,>=1.0.0 in /home/sanjaycollege15/anaconda3/lib/python3.8/site-packages (from spacy<3.3.0,>=3.2.0->en-core-web-md==3.2.0) (1.0.1)\n",
      "Requirement already satisfied: preshed<3.1.0,>=3.0.2 in /home/sanjaycollege15/anaconda3/lib/python3.8/site-packages (from spacy<3.3.0,>=3.2.0->en-core-web-md==3.2.0) (3.0.6)\n",
      "Requirement already satisfied: typer<0.5.0,>=0.3.0 in /home/sanjaycollege15/anaconda3/lib/python3.8/site-packages (from spacy<3.3.0,>=3.2.0->en-core-web-md==3.2.0) (0.4.0)\n",
      "Requirement already satisfied: pathy>=0.3.5 in /home/sanjaycollege15/anaconda3/lib/python3.8/site-packages (from spacy<3.3.0,>=3.2.0->en-core-web-md==3.2.0) (0.6.1)\n",
      "Requirement already satisfied: spacy-legacy<3.1.0,>=3.0.8 in /home/sanjaycollege15/anaconda3/lib/python3.8/site-packages (from spacy<3.3.0,>=3.2.0->en-core-web-md==3.2.0) (3.0.8)\n",
      "Requirement already satisfied: srsly<3.0.0,>=2.4.1 in /home/sanjaycollege15/anaconda3/lib/python3.8/site-packages (from spacy<3.3.0,>=3.2.0->en-core-web-md==3.2.0) (2.4.2)\n",
      "Requirement already satisfied: packaging>=20.0 in /home/sanjaycollege15/anaconda3/lib/python3.8/site-packages (from spacy<3.3.0,>=3.2.0->en-core-web-md==3.2.0) (20.9)\n",
      "Requirement already satisfied: langcodes<4.0.0,>=3.2.0 in /home/sanjaycollege15/anaconda3/lib/python3.8/site-packages (from spacy<3.3.0,>=3.2.0->en-core-web-md==3.2.0) (3.2.1)\n",
      "Requirement already satisfied: catalogue<2.1.0,>=2.0.6 in /home/sanjaycollege15/anaconda3/lib/python3.8/site-packages (from spacy<3.3.0,>=3.2.0->en-core-web-md==3.2.0) (2.0.6)\n",
      "Requirement already satisfied: numpy>=1.15.0 in /home/sanjaycollege15/anaconda3/lib/python3.8/site-packages (from spacy<3.3.0,>=3.2.0->en-core-web-md==3.2.0) (1.19.5)\n",
      "Requirement already satisfied: murmurhash<1.1.0,>=0.28.0 in /home/sanjaycollege15/anaconda3/lib/python3.8/site-packages (from spacy<3.3.0,>=3.2.0->en-core-web-md==3.2.0) (1.0.6)\n",
      "Requirement already satisfied: tqdm<5.0.0,>=4.38.0 in /home/sanjaycollege15/anaconda3/lib/python3.8/site-packages (from spacy<3.3.0,>=3.2.0->en-core-web-md==3.2.0) (4.59.0)\n",
      "Requirement already satisfied: thinc<8.1.0,>=8.0.12 in /home/sanjaycollege15/anaconda3/lib/python3.8/site-packages (from spacy<3.3.0,>=3.2.0->en-core-web-md==3.2.0) (8.0.13)\n",
      "Requirement already satisfied: jinja2 in /home/sanjaycollege15/anaconda3/lib/python3.8/site-packages (from spacy<3.3.0,>=3.2.0->en-core-web-md==3.2.0) (2.11.3)\n",
      "Requirement already satisfied: pydantic!=1.8,!=1.8.1,<1.9.0,>=1.7.4 in /home/sanjaycollege15/anaconda3/lib/python3.8/site-packages (from spacy<3.3.0,>=3.2.0->en-core-web-md==3.2.0) (1.8.2)\n",
      "Requirement already satisfied: cymem<2.1.0,>=2.0.2 in /home/sanjaycollege15/anaconda3/lib/python3.8/site-packages (from spacy<3.3.0,>=3.2.0->en-core-web-md==3.2.0) (2.0.6)\n",
      "Requirement already satisfied: pyparsing>=2.0.2 in /home/sanjaycollege15/anaconda3/lib/python3.8/site-packages (from packaging>=20.0->spacy<3.3.0,>=3.2.0->en-core-web-md==3.2.0) (2.4.7)\n",
      "Requirement already satisfied: smart-open<6.0.0,>=5.0.0 in /home/sanjaycollege15/anaconda3/lib/python3.8/site-packages (from pathy>=0.3.5->spacy<3.3.0,>=3.2.0->en-core-web-md==3.2.0) (5.2.1)\n",
      "Requirement already satisfied: typing-extensions>=3.7.4.3 in /home/sanjaycollege15/anaconda3/lib/python3.8/site-packages (from pydantic!=1.8,!=1.8.1,<1.9.0,>=1.7.4->spacy<3.3.0,>=3.2.0->en-core-web-md==3.2.0) (3.7.4.3)\n",
      "Requirement already satisfied: urllib3<1.27,>=1.21.1 in /home/sanjaycollege15/anaconda3/lib/python3.8/site-packages (from requests<3.0.0,>=2.13.0->spacy<3.3.0,>=3.2.0->en-core-web-md==3.2.0) (1.26.4)\n",
      "Requirement already satisfied: idna<3,>=2.5 in /home/sanjaycollege15/anaconda3/lib/python3.8/site-packages (from requests<3.0.0,>=2.13.0->spacy<3.3.0,>=3.2.0->en-core-web-md==3.2.0) (2.10)\n",
      "Requirement already satisfied: chardet<5,>=3.0.2 in /home/sanjaycollege15/anaconda3/lib/python3.8/site-packages (from requests<3.0.0,>=2.13.0->spacy<3.3.0,>=3.2.0->en-core-web-md==3.2.0) (4.0.0)\n",
      "Requirement already satisfied: certifi>=2017.4.17 in /home/sanjaycollege15/anaconda3/lib/python3.8/site-packages (from requests<3.0.0,>=2.13.0->spacy<3.3.0,>=3.2.0->en-core-web-md==3.2.0) (2020.12.5)\n",
      "Requirement already satisfied: click<9.0.0,>=7.1.1 in /home/sanjaycollege15/anaconda3/lib/python3.8/site-packages (from typer<0.5.0,>=0.3.0->spacy<3.3.0,>=3.2.0->en-core-web-md==3.2.0) (7.1.2)\n",
      "Requirement already satisfied: MarkupSafe>=0.23 in /home/sanjaycollege15/anaconda3/lib/python3.8/site-packages (from jinja2->spacy<3.3.0,>=3.2.0->en-core-web-md==3.2.0) (1.1.1)\n",
      "Installing collected packages: en-core-web-md\n",
      "Successfully installed en-core-web-md-3.2.0\n",
      "\u001b[38;5;2m✔ Download and installation successful\u001b[0m\n",
      "You can now load the package via spacy.load('en_core_web_md')\n"
     ]
    }
   ],
   "source": [
    "#!python -m spacy download en_core_web_md"
   ]
  },
  {
   "cell_type": "code",
   "execution_count": 70,
   "id": "08c204d6",
   "metadata": {},
   "outputs": [],
   "source": [
    "nlp = spacy.load('en_core_web_md')"
   ]
  },
  {
   "cell_type": "markdown",
   "id": "d0c2936a",
   "metadata": {},
   "source": [
    "#### Testing Spacy Embeddings"
   ]
  },
  {
   "cell_type": "code",
   "execution_count": 54,
   "id": "3c4a6a9f",
   "metadata": {
    "scrolled": true
   },
   "outputs": [
    {
     "name": "stdout",
     "output_type": "stream",
     "text": [
      "(300,)\n"
     ]
    },
    {
     "data": {
      "text/plain": [
       "array([-5.00825867e-02,  2.34442070e-01, -1.47236139e-01,  1.79825034e-02,\n",
       "       -3.41885015e-02, -5.65572195e-02,  9.41328239e-03, -4.99943532e-02,\n",
       "        1.39321953e-01,  1.65153766e+00, -1.48617715e-01,  2.31521294e-01,\n",
       "        8.35297704e-02,  1.76000714e-01,  1.16957293e-03, -5.54402284e-02,\n",
       "        1.99811742e-01,  1.40888703e+00, -9.33964252e-02, -5.83115034e-02,\n",
       "        3.43884304e-02,  3.40443780e-03, -2.34556273e-01, -1.05062291e-01,\n",
       "       -8.92671105e-03,  1.92777123e-02, -8.44067335e-03,  1.91751588e-02,\n",
       "        1.34894580e-01,  8.49958584e-02,  4.53957133e-02,  7.32796043e-02,\n",
       "       -1.18446406e-02, -1.36181086e-01,  7.27292076e-02,  1.67326778e-01,\n",
       "        1.02550071e-02,  8.56276304e-02,  6.58611134e-02, -6.31382093e-02,\n",
       "        2.15512812e-02, -7.76198581e-02,  7.92574957e-02, -2.48679277e-02,\n",
       "       -3.74911427e-02, -1.35982186e-01, -9.75067765e-02,  1.94221720e-01,\n",
       "       -1.74879972e-02,  3.41023579e-02, -1.35499965e-02, -3.56617868e-02,\n",
       "        9.32188630e-02, -7.04860166e-02,  1.48219138e-01,  6.97486475e-02,\n",
       "       -3.81742828e-02,  1.18517421e-01,  3.65521573e-02, -1.00052491e-01,\n",
       "       -4.49724197e-02,  1.49330497e-01, -5.25995381e-02,  1.36114955e-02,\n",
       "       -1.52425215e-01, -8.70543718e-02,  1.04291447e-01,  4.76358272e-02,\n",
       "        4.05021012e-03,  1.70907587e-01,  2.62294244e-02,  1.57531902e-01,\n",
       "        8.32186416e-02,  8.83196369e-02,  1.34884432e-01,  2.64522643e-03,\n",
       "        1.08879350e-01, -7.03635663e-02,  5.79375029e-02,  5.83325587e-02,\n",
       "       -5.75735327e-03, -6.83765784e-02, -1.62324622e-01, -1.92298573e-02,\n",
       "       -1.16744570e-01, -3.08501691e-01,  2.21492559e-01, -1.68158144e-01,\n",
       "        1.05069995e-01,  1.67268068e-01, -1.01463810e-01, -3.75282131e-02,\n",
       "       -6.89738169e-02,  1.05427846e-01,  6.53516501e-02, -2.35312060e-01,\n",
       "        2.18499154e-01,  5.95596433e-02, -9.51625481e-02, -1.56555861e-01,\n",
       "       -4.30216379e-02,  1.07507788e-01, -3.70776691e-02,  2.54991315e-02,\n",
       "        1.68300793e-01, -8.23660791e-01,  8.42063576e-02,  5.49215451e-02,\n",
       "        9.06273574e-02,  2.18223140e-01,  1.30950706e-02, -4.65929508e-04,\n",
       "        7.44379163e-02, -5.24789281e-02, -1.68227144e-02, -6.81482106e-02,\n",
       "        7.35034421e-02, -7.09700910e-03,  1.29999584e-02, -8.05942044e-02,\n",
       "       -1.00779263e-02, -1.20532895e-02, -1.34221211e-01,  2.37826314e-02,\n",
       "       -7.19088987e-02,  1.61771417e-01, -9.47212130e-02, -8.67856815e-02,\n",
       "        8.90297890e-02, -4.06564996e-02,  1.71815872e-01, -2.42956411e-02,\n",
       "       -7.56149963e-02,  8.87806416e-02,  6.20571412e-02,  1.02644287e-01,\n",
       "        3.56065035e-02,  1.03288136e-01, -4.55542793e-03, -6.23994991e-02,\n",
       "       -7.49207854e-01,  7.10365027e-02,  6.86154142e-02,  2.30928548e-02,\n",
       "        2.71430742e-02,  1.31223202e-01, -2.12726355e-01,  8.29026476e-02,\n",
       "       -2.35544983e-02, -6.93087503e-02,  9.75735411e-02, -5.42774312e-02,\n",
       "        1.38423190e-01,  1.05746575e-01, -1.66485429e-01, -6.94103688e-02,\n",
       "        2.64966432e-02,  5.47892116e-02,  1.81717306e-01, -1.22321352e-01,\n",
       "       -1.99236092e-03, -9.14672166e-02,  8.06428026e-03, -2.00661436e-01,\n",
       "       -1.88537136e-01,  3.29508856e-02, -3.06432843e-02,  1.09475758e-02,\n",
       "        2.03493573e-02, -8.13249350e-02, -3.38792875e-02, -7.41178617e-02,\n",
       "       -6.56966716e-02, -5.83952479e-02, -8.21571127e-02,  7.55355731e-02,\n",
       "        1.48953706e-01,  4.98819277e-02, -3.84662824e-04,  1.81716438e-02,\n",
       "       -1.78866148e-01, -6.46138936e-02, -3.89046408e-02,  1.37474075e-01,\n",
       "       -1.04849949e-03,  3.94961424e-02, -1.30924717e-01, -4.32575718e-02,\n",
       "        3.66762877e-02,  1.10067859e-01, -4.30379249e-02,  5.20867184e-02,\n",
       "       -2.95481440e-02,  9.35311541e-02,  1.06056586e-01,  5.27699329e-02,\n",
       "       -5.98731451e-02, -1.26734063e-01, -1.57494217e-01,  1.99889347e-01,\n",
       "       -8.22122842e-02, -9.92097780e-02, -1.08104214e-01,  8.75800774e-02,\n",
       "       -5.53757772e-02, -4.86634299e-02,  2.18971409e-02, -1.21527892e-02,\n",
       "        2.01502144e-02,  1.35420650e-01, -2.26701368e-02, -1.81878701e-01,\n",
       "        2.15187911e-02, -1.27311498e-01, -9.70664248e-02, -9.69925746e-02,\n",
       "        4.54488620e-02,  7.28205070e-02,  8.66821222e-03,  7.34072924e-02,\n",
       "        6.45401627e-02,  2.76108105e-02, -2.51604289e-01,  5.38527109e-02,\n",
       "        4.38963585e-02,  7.23591894e-02,  7.30840713e-02, -4.18185405e-02,\n",
       "        4.40234318e-02,  7.37886429e-02, -9.94172916e-02, -5.00747822e-02,\n",
       "        1.85382858e-01,  2.94164307e-02, -1.03711709e-01,  5.81318624e-02,\n",
       "        1.54501433e-02,  5.54375723e-02,  3.96475717e-02, -3.50596644e-02,\n",
       "       -8.93553570e-02,  9.72974375e-02,  9.55033675e-02,  1.53047487e-01,\n",
       "       -8.85749795e-03, -1.21059358e-01, -2.84915771e-02,  5.67390444e-03,\n",
       "       -1.29263207e-01,  4.31386158e-02,  1.41902789e-01,  5.75888976e-02,\n",
       "        1.36659993e-02,  1.45492330e-01, -8.29152092e-02,  2.01447040e-01,\n",
       "       -2.48172190e-02, -1.99696705e-01, -9.98528302e-03,  2.51315795e-02,\n",
       "       -5.39840758e-02,  6.30401298e-02,  5.53732179e-02,  3.26729938e-02,\n",
       "        3.76310619e-03, -1.30902290e-01,  8.80919211e-03,  1.25314277e-02,\n",
       "        4.81923431e-01,  8.95186514e-02,  2.03943565e-01,  8.57106373e-02,\n",
       "       -3.08383666e-02, -1.54859498e-01, -1.67260796e-01, -9.90032479e-02,\n",
       "       -4.64609042e-02,  1.08728580e-01, -1.50089353e-01,  2.49792859e-01,\n",
       "        1.05911717e-01, -2.76087821e-02,  4.57185730e-02, -1.02830701e-01,\n",
       "       -1.52396441e-01,  1.60911363e-02,  3.92114259e-02, -1.38218507e-01,\n",
       "        1.77816898e-01, -2.94894241e-02, -3.18236426e-02,  4.63517867e-02,\n",
       "       -6.22757785e-02, -1.96505580e-02,  8.53252783e-02,  9.70099587e-03,\n",
       "       -9.78009254e-02, -8.19392875e-02, -7.95623586e-02, -4.56734970e-02],\n",
       "      dtype=float32)"
      ]
     },
     "execution_count": 54,
     "metadata": {},
     "output_type": "execute_result"
    }
   ],
   "source": [
    "doc = nlp(\"sinus rhythm. compared to tracing 1 no diagnostic interim change. tracing 2\")\n",
    "print(doc.vector.shape)\n",
    "doc.vector"
   ]
  },
  {
   "cell_type": "markdown",
   "id": "330536f8",
   "metadata": {},
   "source": [
    "### Running Spacy on dataset"
   ]
  },
  {
   "cell_type": "code",
   "execution_count": 71,
   "id": "df4ac317",
   "metadata": {
    "scrolled": true
   },
   "outputs": [],
   "source": [
    "docs = list(nlp.pipe(ekg_denoised.TEXT))"
   ]
  },
  {
   "cell_type": "markdown",
   "id": "024f9b20",
   "metadata": {},
   "source": [
    "#### Making embeddings for feed forward neural network (300x1)"
   ]
  },
  {
   "cell_type": "code",
   "execution_count": 10,
   "id": "ab71585e",
   "metadata": {},
   "outputs": [],
   "source": [
    "spacy_embeddings = []\n",
    "for i in docs:\n",
    "    spacy_embeddings.append(i.vector)"
   ]
  },
  {
   "cell_type": "code",
   "execution_count": 11,
   "id": "14a32b9a",
   "metadata": {},
   "outputs": [],
   "source": [
    "ekg_denoised['spacy_embeddings'] = spacy_embeddings"
   ]
  },
  {
   "cell_type": "code",
   "execution_count": null,
   "id": "4776f5bd",
   "metadata": {},
   "outputs": [],
   "source": [
    "ekg_denoised.drop(columns='TEXT', inplace = True)"
   ]
  },
  {
   "cell_type": "code",
   "execution_count": 18,
   "id": "df844dd7",
   "metadata": {},
   "outputs": [
    {
     "data": {
      "text/plain": [
       "(300,)"
      ]
     },
     "execution_count": 18,
     "metadata": {},
     "output_type": "execute_result"
    }
   ],
   "source": [
    "ekg_denoised.spacy_embeddings[4404].shape"
   ]
  },
  {
   "cell_type": "code",
   "execution_count": 59,
   "id": "b0ff6a27",
   "metadata": {},
   "outputs": [],
   "source": [
    "ekg_denoised.to_pickle('/home/sanjaycollege15/PredictingDiagnoses/Data/ekg_denoised_spacy.pkl')\n"
   ]
  },
  {
   "cell_type": "code",
   "execution_count": 1,
   "id": "cf049ae8",
   "metadata": {},
   "outputs": [],
   "source": [
    "# Averaging could be losing a lot of information"
   ]
  },
  {
   "cell_type": "markdown",
   "id": "bc9d1e06",
   "metadata": {},
   "source": [
    "#### Making Embeddings for RNN (Samples x Num Words x 300)"
   ]
  },
  {
   "cell_type": "code",
   "execution_count": null,
   "id": "593e8573",
   "metadata": {},
   "outputs": [],
   "source": [
    "for doc in tokenizer.pipe(ekg_denoised[''])"
   ]
  },
  {
   "cell_type": "code",
   "execution_count": 57,
   "id": "02747961",
   "metadata": {},
   "outputs": [
    {
     "name": "stderr",
     "output_type": "stream",
     "text": [
      "<ipython-input-57-5a8c24199d5e>:8: VisibleDeprecationWarning: Creating an ndarray from ragged nested sequences (which is a list-or-tuple of lists-or-tuples-or ndarrays with different lengths or shapes) is deprecated. If you meant to do this, you must specify 'dtype=object' when creating the ndarray\n",
      "  doc_embeddings_np = np.array(doc_embeddings)\n"
     ]
    }
   ],
   "source": [
    "doc_embeddings = []\n",
    "for note in docs:\n",
    "    word_embeddings = []\n",
    "    for words in note:\n",
    "        word_embeddings.append(np.array(words.vector))\n",
    "    doc_embeddings.append(np.array(word_embeddings))\n",
    "    \n",
    "doc_embeddings_np = np.array(doc_embeddings)"
   ]
  },
  {
   "cell_type": "code",
   "execution_count": 86,
   "id": "2b9bc53a",
   "metadata": {},
   "outputs": [],
   "source": [
    "lengths = []\n",
    "for i in doc_embeddings_np:\n",
    "    lengths.append(len(i))"
   ]
  },
  {
   "cell_type": "code",
   "execution_count": 89,
   "id": "a964da2f",
   "metadata": {},
   "outputs": [
    {
     "data": {
      "text/plain": [
       "(array([ 303., 2286., 2124., 1063.,  494.,  182.,   58.,   16.,    5.,\n",
       "           5.]),\n",
       " array([  0. ,  13.9,  27.8,  41.7,  55.6,  69.5,  83.4,  97.3, 111.2,\n",
       "        125.1, 139. ]),\n",
       " <BarContainer object of 10 artists>)"
      ]
     },
     "execution_count": 89,
     "metadata": {},
     "output_type": "execute_result"
    },
    {
     "data": {
      "image/png": "[encoded data removed]",
      "text/plain": [
       "<Figure size 432x288 with 1 Axes>"
      ]
     },
     "metadata": {
      "needs_background": "light"
     },
     "output_type": "display_data"
    }
   ],
   "source": [
    "hist(lengths)"
   ]
  },
  {
   "cell_type": "markdown",
   "id": "95a7586d",
   "metadata": {},
   "source": [
    "Need to pad to make sure all vectors are the same length (max length of vectors)"
   ]
  },
  {
   "cell_type": "code",
   "execution_count": 91,
   "id": "e4fe749b",
   "metadata": {},
   "outputs": [
    {
     "data": {
      "text/plain": [
       "array([[-0.59056 ,  0.015101, -0.38253 , ..., -0.47205 ,  0.18283 ,\n",
       "        -0.095898],\n",
       "       [-0.46994 ,  0.32694 , -0.55999 , ...,  0.35904 ,  0.1866  ,\n",
       "        -0.43598 ],\n",
       "       [ 0.4809  ,  0.47481 , -0.25696 , ...,  0.2593  , -0.16764 ,\n",
       "        -0.16269 ],\n",
       "       ...,\n",
       "       [-0.14121 ,  0.034641, -0.443   , ..., -0.29866 ,  0.013515,\n",
       "         0.025409],\n",
       "       [-0.219   ,  0.30927 , -0.11087 , ..., -0.33372 , -0.055948,\n",
       "        -0.15883 ],\n",
       "       [ 0.24095 ,  0.42528 , -0.175   , ...,  0.29562 , -0.076305,\n",
       "         0.091093]], dtype=float32)"
      ]
     },
     "execution_count": 91,
     "metadata": {},
     "output_type": "execute_result"
    }
   ],
   "source": [
    "doc_embeddings_np[0]"
   ]
  },
  {
   "cell_type": "code",
   "execution_count": null,
   "id": "ec041b05",
   "metadata": {},
   "outputs": [],
   "source": [
    "numpy.save('/home/sanjaycollege15/PredictingDiagnoses/Data/ekg_denoised_spacy_RNN.pkl',\n",
    "           doc_embeddings_np,\n",
    "           allow_pickle=True)\n",
    "\n",
    "numpy.save\n"
   ]
  }
 ],
 "metadata": {
  "kernelspec": {
   "display_name": "Python 3",
   "language": "python",
   "name": "python3"
  },
  "language_info": {
   "codemirror_mode": {
    "name": "ipython",
    "version": 3
   },
   "file_extension": ".py",
   "mimetype": "text/x-python",
   "name": "python",
   "nbconvert_exporter": "python",
   "pygments_lexer": "ipython3",
   "version": "3.8.8"
  }
 },
 "nbformat": 4,
 "nbformat_minor": 5
}
